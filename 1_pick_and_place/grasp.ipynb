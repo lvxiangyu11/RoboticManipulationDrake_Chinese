{
 "cells": [
  {
   "cell_type": "markdown",
   "metadata": {
    "cell_id": "9841517bbf9648a0a7a48d8d3c2ae0ea",
    "colab_type": "text",
    "deepnote_cell_type": "markdown",
    "id": "EgiF12Hf1Dhs"
   },
   "source": [
    "This notebook provides examples to go along with the [textbook](http://manipulation.csail.mit.edu/pick.html).  I recommend having both windows open, side-by-side!"
   ]
  },
  {
   "cell_type": "code",
   "execution_count": 2,
   "metadata": {
    "cell_id": "7363799430b746bf97a936c03d562cc2",
    "colab": {},
    "colab_type": "code",
    "deepnote_cell_type": "code",
    "execution_context_id": "4eab90e3-5c04-44cb-a6a3-f7e2f517040f",
    "execution_millis": 455,
    "execution_start": 1757871880640,
    "id": "eeMrMI0-1Dhu",
    "source_hash": "b00c6472"
   },
   "outputs": [],
   "source": [
    "import numpy as np\n",
    "from pydrake.all import (\n",
    "    AddMultibodyPlantSceneGraph,\n",
    "    DiagramBuilder,\n",
    "    MeshcatVisualizer,\n",
    "    Parser,\n",
    "    RigidTransform,\n",
    "    RotationMatrix,\n",
    "    StartMeshcat,\n",
    ")\n",
    "\n",
    "from manipulation.scenarios import SetColor"
   ]
  },
  {
   "cell_type": "code",
   "execution_count": 3,
   "metadata": {
    "cell_id": "4c7a36cd4ff24d0880d034b2454caf90",
    "deepnote_cell_type": "code",
    "execution_context_id": "4eab90e3-5c04-44cb-a6a3-f7e2f517040f",
    "execution_millis": 63,
    "execution_start": 1757871881139,
    "source_hash": "6d42057f"
   },
   "outputs": [
    {
     "name": "stderr",
     "output_type": "stream",
     "text": [
      "INFO:drake:Meshcat listening for connections at http://localhost:7001\n"
     ]
    }
   ],
   "source": [
    "# Start the visualizer.\n",
    "meshcat = StartMeshcat()"
   ]
  },
  {
   "cell_type": "markdown",
   "metadata": {
    "cell_id": "83a4abc117c0478190e88c98f7d78e69",
    "colab_type": "text",
    "deepnote_cell_type": "markdown",
    "id": "DfwIMIJCSkx6"
   },
   "source": [
    "# Compute grasp and pregrasp poses\n",
    "\n",
    "Here is a simple example with a floating Schunk gripper and the foam brick.  It defines the grasp pose as described in the notes, and renders it to the 3D visualizer.\n",
    "\n",
    "**Check yourself**: Try changing the grasp pose to our pregrasp pose.  Do you like the numbers that I picked in the text?"
   ]
  },
  {
   "cell_type": "code",
   "execution_count": 4,
   "metadata": {
    "cell_id": "07fa091c436f4fddac7ce470146dcc25",
    "colab": {},
    "colab_type": "code",
    "deepnote_cell_type": "code",
    "execution_context_id": "4eab90e3-5c04-44cb-a6a3-f7e2f517040f",
    "execution_millis": 0,
    "execution_start": 1757871926340,
    "id": "QuFmomDOxoAR",
    "source_hash": "6cb884e0"
   },
   "outputs": [],
   "source": [
    "def grasp_poses_example():\n",
    "    builder = DiagramBuilder()\n",
    "\n",
    "    plant, scene_graph = AddMultibodyPlantSceneGraph(builder, time_step=0.0)\n",
    "    parser = Parser(plant, scene_graph)\n",
    "    parser.SetAutoRenaming(True)\n",
    "    grasp = parser.AddModelsFromUrl(\n",
    "        \"package://drake_models/wsg_50_description/sdf/schunk_wsg_50_no_tip.sdf\"\n",
    "    )[0]\n",
    "    pregrasp = parser.AddModelsFromUrl(\n",
    "        \"package://drake_models/wsg_50_description/sdf/schunk_wsg_50_no_tip.sdf\"\n",
    "    )[0]\n",
    "    brick = parser.AddModelsFromUrl(\n",
    "        \"package://drake_models/manipulation_station/061_foam_brick.sdf\"\n",
    "    )[0]\n",
    "    plant.Finalize()\n",
    "\n",
    "    B_O = plant.GetBodyByName(\"base_link\", brick)\n",
    "    B_Ggrasp = plant.GetBodyByName(\"body\", grasp)\n",
    "    B_Gpregrasp = plant.GetBodyByName(\"body\", pregrasp)\n",
    "\n",
    "    # Set the pregrasp to be green and slightly transparent.\n",
    "    inspector = scene_graph.model_inspector()\n",
    "    for body_index in plant.GetBodyIndices(pregrasp):\n",
    "        SetColor(\n",
    "            scene_graph,\n",
    "            [0, 0.6, 0, 0.5],\n",
    "            plant.get_source_id(),\n",
    "            inspector.GetGeometries(plant.GetBodyFrameIdOrThrow(body_index)),\n",
    "        )\n",
    "\n",
    "    meshcat.Delete()\n",
    "    meshcat.SetProperty(\"/Background\", \"visible\", False)\n",
    "    MeshcatVisualizer.AddToBuilder(builder, scene_graph, meshcat)\n",
    "\n",
    "    diagram = builder.Build()\n",
    "    context = diagram.CreateDefaultContext()\n",
    "    plant_context = plant.GetMyContextFromRoot(context)\n",
    "\n",
    "    # TODO(russt): Set a random pose of the object.\n",
    "\n",
    "    # Get the current object, O, pose\n",
    "    X_WO = plant.EvalBodyPoseInWorld(plant_context, B_O)\n",
    "\n",
    "    p_GgraspO = [0, 0.11, 0]\n",
    "    R_GgraspO = RotationMatrix.MakeXRotation(np.pi / 2.0).multiply(\n",
    "        RotationMatrix.MakeZRotation(np.pi / 2.0)\n",
    "    )\n",
    "    X_GgraspO = RigidTransform(R_GgraspO, p_GgraspO)\n",
    "    X_OGgrasp = X_GgraspO.inverse()\n",
    "    X_WGgrasp = X_WO.multiply(X_OGgrasp)\n",
    "\n",
    "    # pregrasp is negative y in the gripper frame (see the figure!).\n",
    "    X_GgraspGpregrasp = RigidTransform([0, -0.08, 0])\n",
    "    X_WGpregrasp = X_WGgrasp @ X_GgraspGpregrasp\n",
    "\n",
    "    plant.SetFreeBodyPose(plant_context, B_Ggrasp, X_WGgrasp)\n",
    "    # Open the fingers, too.\n",
    "    plant.GetJointByName(\"left_finger_sliding_joint\", grasp).set_translation(\n",
    "        plant_context, -0.054\n",
    "    )\n",
    "    plant.GetJointByName(\"right_finger_sliding_joint\", grasp).set_translation(\n",
    "        plant_context, 0.054\n",
    "    )\n",
    "\n",
    "    plant.SetFreeBodyPose(plant_context, B_Gpregrasp, X_WGpregrasp)\n",
    "    # Open the fingers, too.\n",
    "    plant.GetJointByName(\"left_finger_sliding_joint\", pregrasp).set_translation(\n",
    "        plant_context, -0.054\n",
    "    )\n",
    "    plant.GetJointByName(\"right_finger_sliding_joint\", pregrasp).set_translation(\n",
    "        plant_context, 0.054\n",
    "    )\n",
    "\n",
    "    diagram.ForcedPublish(context)\n",
    "\n",
    "\n",
    "grasp_poses_example()"
   ]
  },
  {
   "cell_type": "code",
   "execution_count": null,
   "metadata": {
    "cell_id": "3895c709dadf4d2dae634946dbaf5c48",
    "deepnote_cell_type": "code",
    "execution_context_id": "4eab90e3-5c04-44cb-a6a3-f7e2f517040f",
    "execution_millis": 0,
    "execution_start": 1757871888990,
    "source_hash": "b623e53d"
   },
   "outputs": [],
   "source": []
  }
 ],
 "metadata": {
  "deepnote_notebook_id": "d80d10f6e4494aabb679906b5c2c5a9c",
  "kernelspec": {
   "display_name": "drake",
   "language": "python",
   "name": "python3"
  },
  "language_info": {
   "codemirror_mode": {
    "name": "ipython",
    "version": 3
   },
   "file_extension": ".py",
   "mimetype": "text/x-python",
   "name": "python",
   "nbconvert_exporter": "python",
   "pygments_lexer": "ipython3",
   "version": "3.10.0"
  }
 },
 "nbformat": "4",
 "nbformat_minor": "0"
}
