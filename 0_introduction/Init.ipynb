{
 "cells": [
  {
   "cell_type": "code",
   "execution_count": 1,
   "metadata": {
    "cell_id": "85b59827366b4c5180f9dcf2e7a057d0",
    "deepnote_cell_type": "code",
    "execution_context_id": "77bbeb46-c5d0-4d10-8344-03bcc67ca3de",
    "execution_millis": 7016,
    "execution_start": 1757972928571,
    "source_hash": "5ce7f86"
   },
   "outputs": [
    {
     "name": "stderr",
     "output_type": "stream",
     "text": [
      "bash: line 2: cd: /work: No such file or directory\n"
     ]
    },
    {
     "name": "stdout",
     "output_type": "stream",
     "text": [
      "Looking in indexes: https://pypi.org/simple, https://drake-packages.csail.mit.edu/whl/nightly\n",
      "Requirement already satisfied: nbconvert in /home/lvxiangyu11/.local/lib/python3.10/site-packages (7.16.6)\n",
      "Requirement already satisfied: manipulation==2025.9.10 in /home/lvxiangyu11/miniconda3/envs/drake/lib/python3.10/site-packages (from -r ./requirements.txt (line 3)) (2025.9.10)\n",
      "Requirement already satisfied: drake>=1.41.0 in /home/lvxiangyu11/.local/lib/python3.10/site-packages (from manipulation==2025.9.10->-r ./requirements.txt (line 3)) (1.44.0)\n",
      "Requirement already satisfied: ipython>=7.8.0 in /home/lvxiangyu11/.local/lib/python3.10/site-packages (from manipulation==2025.9.10->-r ./requirements.txt (line 3)) (8.37.0)\n",
      "Requirement already satisfied: lxml>=4.9.2 in /home/lvxiangyu11/miniconda3/envs/drake/lib/python3.10/site-packages (from lxml[html-clean]>=4.9.2->manipulation==2025.9.10->-r ./requirements.txt (line 3)) (6.0.1)\n",
      "Requirement already satisfied: matplotlib>=3.7.0 in /home/lvxiangyu11/.local/lib/python3.10/site-packages (from manipulation==2025.9.10->-r ./requirements.txt (line 3)) (3.10.3)\n",
      "Requirement already satisfied: mpld3>=0.5.6 in /home/lvxiangyu11/miniconda3/envs/drake/lib/python3.10/site-packages (from manipulation==2025.9.10->-r ./requirements.txt (line 3)) (0.5.11)\n",
      "Requirement already satisfied: numpy<3.0.0,>=2.0.0 in /home/lvxiangyu11/miniconda3/envs/drake/lib/python3.10/site-packages (from manipulation==2025.9.10->-r ./requirements.txt (line 3)) (2.2.6)\n",
      "Requirement already satisfied: pyvirtualdisplay>=3.0 in /home/lvxiangyu11/miniconda3/envs/drake/lib/python3.10/site-packages (from manipulation==2025.9.10->-r ./requirements.txt (line 3)) (3.0)\n",
      "Requirement already satisfied: beautifulsoup4 in /home/lvxiangyu11/miniconda3/envs/drake/lib/python3.10/site-packages (from nbconvert) (4.13.5)\n",
      "Requirement already satisfied: bleach!=5.0.0 in /home/lvxiangyu11/.local/lib/python3.10/site-packages (from bleach[css]!=5.0.0->nbconvert) (6.2.0)\n",
      "Requirement already satisfied: defusedxml in /home/lvxiangyu11/.local/lib/python3.10/site-packages (from nbconvert) (0.7.1)\n",
      "Requirement already satisfied: jinja2>=3.0 in /home/lvxiangyu11/miniconda3/envs/drake/lib/python3.10/site-packages (from nbconvert) (3.1.6)\n",
      "Requirement already satisfied: jupyter-core>=4.7 in /home/lvxiangyu11/.local/lib/python3.10/site-packages (from nbconvert) (5.8.1)\n",
      "Requirement already satisfied: jupyterlab-pygments in /home/lvxiangyu11/.local/lib/python3.10/site-packages (from nbconvert) (0.3.0)\n",
      "Requirement already satisfied: markupsafe>=2.0 in /home/lvxiangyu11/miniconda3/envs/drake/lib/python3.10/site-packages (from nbconvert) (3.0.2)\n",
      "Requirement already satisfied: mistune<4,>=2.0.3 in /home/lvxiangyu11/.local/lib/python3.10/site-packages (from nbconvert) (3.1.4)\n",
      "Requirement already satisfied: nbclient>=0.5.0 in /home/lvxiangyu11/.local/lib/python3.10/site-packages (from nbconvert) (0.10.2)\n",
      "Requirement already satisfied: nbformat>=5.7 in /home/lvxiangyu11/.local/lib/python3.10/site-packages (from nbconvert) (5.10.4)\n",
      "Requirement already satisfied: packaging in /home/lvxiangyu11/.local/lib/python3.10/site-packages (from nbconvert) (25.0)\n",
      "Requirement already satisfied: pandocfilters>=1.4.1 in /home/lvxiangyu11/.local/lib/python3.10/site-packages (from nbconvert) (1.5.1)\n",
      "Requirement already satisfied: pygments>=2.4.1 in /home/lvxiangyu11/miniconda3/envs/drake/lib/python3.10/site-packages (from nbconvert) (2.19.2)\n",
      "Requirement already satisfied: traitlets>=5.1 in /home/lvxiangyu11/.local/lib/python3.10/site-packages (from nbconvert) (5.14.3)\n",
      "Requirement already satisfied: typing-extensions in /home/lvxiangyu11/.local/lib/python3.10/site-packages (from mistune<4,>=2.0.3->nbconvert) (4.15.0)\n",
      "Collecting webencodings (from bleach!=5.0.0->bleach[css]!=5.0.0->nbconvert)\n",
      "  Downloading webencodings-0.5.1-py2.py3-none-any.whl.metadata (2.1 kB)\n",
      "Requirement already satisfied: tinycss2<1.5,>=1.1.0 in /home/lvxiangyu11/.local/lib/python3.10/site-packages (from bleach[css]!=5.0.0->nbconvert) (1.4.0)\n",
      "Requirement already satisfied: Mosek==11.0.24 in /home/lvxiangyu11/.local/lib/python3.10/site-packages (from drake>=1.41.0->manipulation==2025.9.10->-r ./requirements.txt (line 3)) (11.0.24)\n",
      "Requirement already satisfied: pydot in /home/lvxiangyu11/.local/lib/python3.10/site-packages (from drake>=1.41.0->manipulation==2025.9.10->-r ./requirements.txt (line 3)) (4.0.1)\n",
      "Requirement already satisfied: PyYAML in /home/lvxiangyu11/.local/lib/python3.10/site-packages (from drake>=1.41.0->manipulation==2025.9.10->-r ./requirements.txt (line 3)) (6.0.2)\n",
      "Requirement already satisfied: decorator in /home/lvxiangyu11/miniconda3/envs/drake/lib/python3.10/site-packages (from ipython>=7.8.0->manipulation==2025.9.10->-r ./requirements.txt (line 3)) (5.2.1)\n",
      "Requirement already satisfied: exceptiongroup in /home/lvxiangyu11/.local/lib/python3.10/site-packages (from ipython>=7.8.0->manipulation==2025.9.10->-r ./requirements.txt (line 3)) (1.3.0)\n",
      "Requirement already satisfied: jedi>=0.16 in /home/lvxiangyu11/.local/lib/python3.10/site-packages (from ipython>=7.8.0->manipulation==2025.9.10->-r ./requirements.txt (line 3)) (0.19.2)\n",
      "Requirement already satisfied: matplotlib-inline in /home/lvxiangyu11/.local/lib/python3.10/site-packages (from ipython>=7.8.0->manipulation==2025.9.10->-r ./requirements.txt (line 3)) (0.1.7)\n",
      "Requirement already satisfied: pexpect>4.3 in /home/lvxiangyu11/.local/lib/python3.10/site-packages (from ipython>=7.8.0->manipulation==2025.9.10->-r ./requirements.txt (line 3)) (4.9.0)\n",
      "Requirement already satisfied: prompt_toolkit<3.1.0,>=3.0.41 in /home/lvxiangyu11/.local/lib/python3.10/site-packages (from ipython>=7.8.0->manipulation==2025.9.10->-r ./requirements.txt (line 3)) (3.0.52)\n",
      "Requirement already satisfied: stack_data in /home/lvxiangyu11/.local/lib/python3.10/site-packages (from ipython>=7.8.0->manipulation==2025.9.10->-r ./requirements.txt (line 3)) (0.6.3)\n",
      "Requirement already satisfied: wcwidth in /home/lvxiangyu11/.local/lib/python3.10/site-packages (from prompt_toolkit<3.1.0,>=3.0.41->ipython>=7.8.0->manipulation==2025.9.10->-r ./requirements.txt (line 3)) (0.2.13)\n",
      "Requirement already satisfied: parso<0.9.0,>=0.8.4 in /home/lvxiangyu11/.local/lib/python3.10/site-packages (from jedi>=0.16->ipython>=7.8.0->manipulation==2025.9.10->-r ./requirements.txt (line 3)) (0.8.5)\n",
      "Requirement already satisfied: platformdirs>=2.5 in /home/lvxiangyu11/.local/lib/python3.10/site-packages (from jupyter-core>=4.7->nbconvert) (4.4.0)\n",
      "Requirement already satisfied: lxml_html_clean in /home/lvxiangyu11/miniconda3/envs/drake/lib/python3.10/site-packages (from lxml[html-clean]>=4.9.2->manipulation==2025.9.10->-r ./requirements.txt (line 3)) (0.4.2)\n",
      "Requirement already satisfied: contourpy>=1.0.1 in /home/lvxiangyu11/.local/lib/python3.10/site-packages (from matplotlib>=3.7.0->manipulation==2025.9.10->-r ./requirements.txt (line 3)) (1.3.2)\n",
      "Requirement already satisfied: cycler>=0.10 in /home/lvxiangyu11/miniconda3/envs/drake/lib/python3.10/site-packages (from matplotlib>=3.7.0->manipulation==2025.9.10->-r ./requirements.txt (line 3)) (0.12.1)\n",
      "Requirement already satisfied: fonttools>=4.22.0 in /home/lvxiangyu11/miniconda3/envs/drake/lib/python3.10/site-packages (from matplotlib>=3.7.0->manipulation==2025.9.10->-r ./requirements.txt (line 3)) (4.59.2)\n",
      "Requirement already satisfied: kiwisolver>=1.3.1 in /home/lvxiangyu11/miniconda3/envs/drake/lib/python3.10/site-packages (from matplotlib>=3.7.0->manipulation==2025.9.10->-r ./requirements.txt (line 3)) (1.4.9)\n",
      "Requirement already satisfied: pillow>=8 in /home/lvxiangyu11/miniconda3/envs/drake/lib/python3.10/site-packages (from matplotlib>=3.7.0->manipulation==2025.9.10->-r ./requirements.txt (line 3)) (11.3.0)\n",
      "Requirement already satisfied: pyparsing>=2.3.1 in /home/lvxiangyu11/.local/lib/python3.10/site-packages (from matplotlib>=3.7.0->manipulation==2025.9.10->-r ./requirements.txt (line 3)) (3.2.3)\n",
      "Requirement already satisfied: python-dateutil>=2.7 in /home/lvxiangyu11/.local/lib/python3.10/site-packages (from matplotlib>=3.7.0->manipulation==2025.9.10->-r ./requirements.txt (line 3)) (2.9.0.post0)\n",
      "Requirement already satisfied: jupyter-client>=6.1.12 in /home/lvxiangyu11/.local/lib/python3.10/site-packages (from nbclient>=0.5.0->nbconvert) (8.6.3)\n",
      "Requirement already satisfied: pyzmq>=23.0 in /home/lvxiangyu11/.local/lib/python3.10/site-packages (from jupyter-client>=6.1.12->nbclient>=0.5.0->nbconvert) (27.0.2)\n",
      "Requirement already satisfied: tornado>=6.2 in /home/lvxiangyu11/.local/lib/python3.10/site-packages (from jupyter-client>=6.1.12->nbclient>=0.5.0->nbconvert) (6.5.2)\n",
      "Requirement already satisfied: fastjsonschema>=2.15 in /home/lvxiangyu11/.local/lib/python3.10/site-packages (from nbformat>=5.7->nbconvert) (2.21.2)\n",
      "Requirement already satisfied: jsonschema>=2.6 in /home/lvxiangyu11/.local/lib/python3.10/site-packages (from nbformat>=5.7->nbconvert) (4.25.1)\n",
      "Requirement already satisfied: attrs>=22.2.0 in /home/lvxiangyu11/.local/lib/python3.10/site-packages (from jsonschema>=2.6->nbformat>=5.7->nbconvert) (25.3.0)\n",
      "Requirement already satisfied: jsonschema-specifications>=2023.03.6 in /home/lvxiangyu11/.local/lib/python3.10/site-packages (from jsonschema>=2.6->nbformat>=5.7->nbconvert) (2025.4.1)\n",
      "Requirement already satisfied: referencing>=0.28.4 in /home/lvxiangyu11/.local/lib/python3.10/site-packages (from jsonschema>=2.6->nbformat>=5.7->nbconvert) (0.36.2)\n",
      "Requirement already satisfied: rpds-py>=0.7.1 in /home/lvxiangyu11/.local/lib/python3.10/site-packages (from jsonschema>=2.6->nbformat>=5.7->nbconvert) (0.27.1)\n",
      "Requirement already satisfied: ptyprocess>=0.5 in /home/lvxiangyu11/.local/lib/python3.10/site-packages (from pexpect>4.3->ipython>=7.8.0->manipulation==2025.9.10->-r ./requirements.txt (line 3)) (0.7.0)\n",
      "Requirement already satisfied: six>=1.5 in /home/lvxiangyu11/miniconda3/envs/drake/lib/python3.10/site-packages (from python-dateutil>=2.7->matplotlib>=3.7.0->manipulation==2025.9.10->-r ./requirements.txt (line 3)) (1.17.0)\n",
      "Requirement already satisfied: soupsieve>1.2 in /home/lvxiangyu11/miniconda3/envs/drake/lib/python3.10/site-packages (from beautifulsoup4->nbconvert) (2.8)\n",
      "Requirement already satisfied: executing>=1.2.0 in /home/lvxiangyu11/.local/lib/python3.10/site-packages (from stack_data->ipython>=7.8.0->manipulation==2025.9.10->-r ./requirements.txt (line 3)) (2.2.1)\n",
      "Requirement already satisfied: asttokens>=2.1.0 in /home/lvxiangyu11/.local/lib/python3.10/site-packages (from stack_data->ipython>=7.8.0->manipulation==2025.9.10->-r ./requirements.txt (line 3)) (3.0.0)\n",
      "Requirement already satisfied: pure-eval in /home/lvxiangyu11/.local/lib/python3.10/site-packages (from stack_data->ipython>=7.8.0->manipulation==2025.9.10->-r ./requirements.txt (line 3)) (0.2.3)\n",
      "Downloading webencodings-0.5.1-py2.py3-none-any.whl (11 kB)\n",
      "Installing collected packages: webencodings\n",
      "Successfully installed webencodings-0.5.1\n"
     ]
    }
   ],
   "source": [
    "%%bash\n",
    "# If your project has a 'requirements.txt' file, we'll install it here apart from blacklisted packages that interfere with Deepnote (see above).\n",
    "cd /work\n",
    "if test -f requirements.txt\n",
    "  then\n",
    "    sed -i '/jedi/d;/jupyter/d;' ./requirements.txt\n",
    "    # Deepnote's notebook 6.5.5 used to require pyzmq<25.0.0,\n",
    "    # but this seems to no longer be the case.\n",
    "    # Here we install nbconvert manually, see https://github.com/RussTedrake/manipulation/issues/481\n",
    "    pip install -r ./requirements.txt nbconvert\n",
    "  else echo \"There's no requirements.txt, so nothing to install. This is the case with most projects.\"\n",
    "fi"
   ]
  }
 ],
 "metadata": {
  "deepnote_notebook_id": "db35e61c5af14ef48782749fb2baa1b3",
  "kernelspec": {
   "display_name": "drake",
   "language": "python",
   "name": "python3"
  },
  "language_info": {
   "codemirror_mode": {
    "name": "ipython",
    "version": 3
   },
   "file_extension": ".py",
   "mimetype": "text/x-python",
   "name": "python",
   "nbconvert_exporter": "python",
   "pygments_lexer": "ipython3",
   "version": "3.10.0"
  }
 },
 "nbformat": "4",
 "nbformat_minor": "0"
}
