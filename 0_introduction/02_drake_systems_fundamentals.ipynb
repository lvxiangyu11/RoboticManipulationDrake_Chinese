{
 "cells": [
  {
   "cell_type": "markdown",
   "metadata": {
    "cell_id": "dfe81f10f38d474bbb6171f58cfa860c",
    "deepnote_cell_type": "markdown",
    "vscode": {
     "languageId": "raw"
    }
   },
   "source": [
    "# Drake 系统基础\n",
    "\n",
    "**学习目标：**\n",
    "1. 从零实现一个自定义 `LeafSystem`\n",
    "2. 理解 Drake 的模块图系统框架\n",
    "3. 自己构建和连接模块图\n",
    "4. 编写仿真代码\n",
    "5. 高效使用 Drake 文档和教程\n",
    "\n",
    "**你将实现的内容：** 你将从零实现一个倒立摆系统，并使用 Drake 内置的仿真工具对其进行仿真。\n",
    "\n",
    "---\n"
   ]
  },
  {
   "cell_type": "markdown",
   "metadata": {
    "cell_id": "4b6dd149e9b147ed883706f88db73aef",
    "deepnote_cell_type": "markdown",
    "vscode": {
     "languageId": "raw"
    }
   },
   "source": [
    "## 环境配置与导入\n",
    "\n",
    "首先导入 Drake 的相关功能。我们会在后续逐步介绍这些内容，所以现在不用担心它们的细节。"
   ]
  },
  {
   "cell_type": "code",
   "execution_count": 1,
   "metadata": {
    "cell_id": "94cce000eb0f49828e4b959ed4a50b90",
    "deepnote_cell_type": "code",
    "execution_context_id": "6f56f53d-c491-4d17-b3f8-ffd09ac57f61",
    "execution_millis": 2181,
    "execution_start": 1757972943460,
    "source_hash": "c249f8ed"
   },
   "outputs": [],
   "source": [
    "import matplotlib.pyplot as plt\n",
    "import numpy as np\n",
    "from pydrake.all import (\n",
    "    BasicVector,\n",
    "    ConstantVectorSource,\n",
    "    Context,\n",
    "    ContinuousState,\n",
    "    Diagram,\n",
    "    DiagramBuilder,\n",
    "    LeafSystem,\n",
    "    LogVectorOutput,\n",
    "    Simulator,\n",
    ")\n",
    "from pydrake.systems.drawing import plot_system_graphviz\n",
    "\n",
    "from manipulation.exercises.grader import Grader\n",
    "from manipulation.exercises.intro.test_intro_fundamentals import (\n",
    "    TestIntroFundamentalsPendulumImplementation,\n",
    "    TestIntroFundamentalsSimulationExercises,\n",
    ")"
   ]
  },
  {
   "cell_type": "markdown",
   "metadata": {
    "cell_id": "a2edc522c1f3444e8601bff5ff2484be",
    "deepnote_cell_type": "markdown",
    "vscode": {
     "languageId": "raw"
    }
   },
   "source": [
    "---\n",
    "\n",
    "## 第一部分：编写你自己的动力学系统\n",
    "\n",
    "Drake 通过**模块图（block diagram）**将复杂系统建模为由简单构件组成的系统。每个模块（`System`）：\n",
    "- 拥有**输入端口**（接收信号）\n",
    "- 拥有**输出端口**（发送信号）\n",
    "- 维护内部**状态**\n",
    "- 定义**动力学**（状态随时间的演化方式）\n",
    "\n",
    "一个 `System` 可以是一个简单的单一系统，也可以是由多个更小的子系统组成的集合，例如通过 `Diagram` 连接在一起（我们很快会详细学习）。现在我们只关注单个自定义系统，通常你会通过继承 Drake 的 `LeafSystem` 类来实现。在本部分中，你将用 `LeafSystem` 实现一个简单的物理系统（倒立摆）。在后续课程和项目中，你可能会用 `LeafSystem` 实现自定义控制器、估计器、传感器等！\n",
    "\n",
    "下图展示了一个由更小子系统组成的 `Diagram`：一个带有恒定输入源的倒立摆，其输出连接到日志记录系统。实际上，这就是我们将在本笔记本中从零搭建的 `Diagram`！\n",
    "\n",
    "<img src=\"https://raw.githubusercontent.com/RussTedrake/manipulation/refs/heads/master/book/figures/simple_inverted_pendulum_diagram.svg\" width=\"1000\">"
   ]
  },
  {
   "cell_type": "markdown",
   "metadata": {
    "cell_id": "6ae2e2fdb7504dae99cb7aae47176693",
    "deepnote_cell_type": "markdown"
   },
   "source": [
    "**参考资料：** 为了完成本笔记本中的任务，你将参考官方的 Drake 教程。现在不用全部阅读，我们在代码中会给出相关部分的提示。我们会用到的教程有：\n",
    "- [动力学系统教程（Dynamical Systems Tutorial）](https://github.com/RobotLocomotion/drake/blob/master/tutorials/dynamical_systems.ipynb)\n",
    "- [自定义叶子系统（Authoring Leaf Systems）](https://github.com/RobotLocomotion/drake/blob/7abd7dc1a95387490e2d5fa23fe938f57eddecfc/tutorials/authoring_leaf_systems.ipynb)\n",
    "\n",
    "如果你不确定某个函数的用法，可以查阅[官方 Drake 文档](https://drake.mit.edu/pydrake/index.html)。例如，`DeclareVectorInputPort` 及类似函数的文档可以在[此页面](https://drake.mit.edu/pydrake/pydrake.systems.framework.html)找到，我们是通过搜索 \"DeclareVectorInputPort\" 并用 cmd+F 定位到的。\n",
    "\n",
    "（**关于 Drake 文档的说明：** Drake 有两套文档：一套是 Python 的，[另一套是 C++ 的](https://drake.mit.edu/doxygen_cxx/index.html)。C++ 和 Python 的 API 是一致的，但 C++ 文档通常更详细、更易于导航，所以大多数 Drake 用户更喜欢查阅 C++ 文档。随着你对 Drake 越来越熟悉，也可以多参考 C++ 文档！）\n",
    "\n",
    "**你的任务：** 实现一个无摩擦的倒立摆作为自定义 `LeafSystem`\n",
    "系统的具体参数如下：\n",
    "- **状态：** $x = [\\theta, \\dot{\\theta}]$（角度和角速度）\n",
    "- **输入：** $u$（底座施加的力矩）\n",
    "- **动力学：** $\\ddot{\\theta} = -\\frac{g}{l}\\sin(\\theta) + \\frac{u}{ml^2}$\n",
    "- **输出：** $y = \\theta$（仅输出角度）"
   ]
  },
  {
   "cell_type": "code",
   "execution_count": null,
   "metadata": {
    "cell_id": "54acaca83ee14d8e8e475717ebd5e209",
    "deepnote_cell_type": "code",
    "execution_context_id": "6f56f53d-c491-4d17-b3f8-ffd09ac57f61",
    "execution_millis": 0,
    "execution_start": 1757972945690,
    "source_hash": "c6fafd30"
   },
   "outputs": [],
   "source": [
    "# TODO：实现你自己的倒立摆类\n",
    "\n",
    "\n",
    "class InvertedPendulum(LeafSystem):\n",
    "    def __init__(\n",
    "        self, mass: float = 1.0, length: float = 1.0, gravity: float = 9.81\n",
    "    ) -> None:\n",
    "        # 提示：参见动力学系统教程，\n",
    "        #       “Deriving from LeafSystem”小节\n",
    "        # TODO：调用父类构造函数\n",
    "        \n",
    "        # TODO：将物理参数保存为实例变量\n",
    "\n",
    "        # TODO：声明 [theta, theta_dot] 的连续状态\n",
    "        #       （注意我们不需要像教程那样用 state_index，\n",
    "        #        所以可以忽略返回值）\n",
    "\n",
    "        # 提示：参见自定义叶子系统教程，\n",
    "        #       “Vector-valued Ports”小节\n",
    "        # TODO：声明力矩输入端口\n",
    "        # TODO：将输入端口保存为实例变量，便于在 `DoCalcTimeDerivatives` 中访问\n",
    "\n",
    "        # TODO：声明只输出 theta（不输出 theta_dot）的输出端口\n",
    "\n",
    "        pass  # 实现后请移除此行\n",
    "\n",
    "    def DoCalcTimeDerivatives(\n",
    "        self, context: Context, derivatives: ContinuousState\n",
    "    ) -> None:\n",
    "        # 提示：参见动力学系统教程，\n",
    "        #       “Deriving from LeafSystem”小节\n",
    "        # TODO：从 context 获取当前状态（提取 theta 和 theta_dot）\n",
    "        # 提示：context.get_continuous_state_vector() 返回 VectorBase 对象，\n",
    "        #       可用索引方式获取 theta 和 theta_dot，\n",
    "        #       如 .GetAtIndex() 或 context.get_continuous_state_vector()[index]\n",
    "\n",
    "        # 提示：参见自定义叶子系统教程，\n",
    "        #       “Vector-valued Ports”小节\n",
    "        # TODO：通过评估输入端口获取输入力矩\n",
    "\n",
    "        # 提示：参见动力学系统教程，\n",
    "        #       “Deriving from LeafSystem”小节\n",
    "        # TODO：计算倒立摆动力学\n",
    "        # TODO：设置导数 [theta_dot, theta_ddot]\n",
    "\n",
    "        pass  # 实现后请移除此行\n",
    "\n",
    "    def OutputTheta(self, context: Context, output: BasicVector) -> None:\n",
    "        # 提示：参见自定义叶子系统教程，\n",
    "        #       “Vector-valued Ports”小节\n",
    "        # TODO：从 context 获取状态，并提取 theta（第一个元素）\n",
    "\n",
    "        # TODO：将输出端口设置为 theta\n",
    "\n",
    "        pass  # 实现后请移除此行"
   ]
  },
  {
   "cell_type": "markdown",
   "metadata": {
    "cell_id": "41b3c46fc2704ffc95ebdee8607e839c",
    "deepnote_cell_type": "markdown"
   },
   "source": [
    "**完成后，请务必运行下方的测试，确保一切如预期工作！**"
   ]
  },
  {
   "cell_type": "code",
   "execution_count": 3,
   "metadata": {
    "cell_id": "3e5bb6c5c9304becb7326a56c377384c",
    "deepnote_cell_type": "code",
    "execution_context_id": "6f56f53d-c491-4d17-b3f8-ffd09ac57f61",
    "execution_millis": 190,
    "execution_start": 1757972945750,
    "source_hash": "ede5e724"
   },
   "outputs": [
    {
     "name": "stdout",
     "output_type": "stream",
     "text": [
      "Total score is 0/30.\n",
      "\n",
      "Score for test_inverted_pendulum_structure (manipulation.exercises.intro.test_intro_fundamentals.TestIntroFundamentalsPendulumImplementation.test_inverted_pendulum_structure) is 0/10.\n",
      "- Test Failed: pydrake.systems.framework.LeafSystem.__init__() must be called when overriding __init__\n",
      "\n",
      "\n",
      "Score for test_pendulum_dynamics (manipulation.exercises.intro.test_intro_fundamentals.TestIntroFundamentalsPendulumImplementation.test_pendulum_dynamics) is 0/10.\n",
      "- Test Failed: pydrake.systems.framework.LeafSystem.__init__() must be called when overriding __init__\n",
      "\n",
      "\n",
      "Score for Test pendulum output computation is 0/10.\n",
      "- Test Failed: pydrake.systems.framework.LeafSystem.__init__() must be called when overriding __init__\n",
      "\n"
     ]
    }
   ],
   "source": [
    "Grader.grade_output(\n",
    "    [TestIntroFundamentalsPendulumImplementation], [locals()], \"results.json\"\n",
    ")\n",
    "Grader.print_test_results(\"results.json\")"
   ]
  },
  {
   "cell_type": "markdown",
   "metadata": {
    "cell_id": "b52639c0f89943b382e5acde6482efc4",
    "deepnote_cell_type": "markdown"
   },
   "source": [
    "### 系统 `Context`\n",
    "在上面的代码中，你可能注意到了 `context` 的用法。在 Drake 中，`context` 包含了你仿真和所有系统的全部动力学信息。\n",
    "\n",
    "请在继续前阅读以下教程部分：\n",
    "- [动力学系统教程](https://github.com/RobotLocomotion/drake/blob/master/tutorials/dynamical_systems.ipynb)：**System \"Context\"** 部分\n",
    "\n",
    "接下来，我们为我们的倒立摆创建一个默认 context，修改一下，并观察其内容！"
   ]
  },
  {
   "cell_type": "markdown",
   "metadata": {
    "cell_id": "904041b0f5ae4e5da34f6f4df37a76c9",
    "deepnote_cell_type": "markdown"
   },
   "source": [
    "对于这个简单系统，你会看到 context 只包含当前时间，以及我们为系统定义的两个状态。"
   ]
  },
  {
   "cell_type": "code",
   "execution_count": 4,
   "metadata": {
    "cell_id": "476d888a995347188eb3139732060ffd",
    "deepnote_cell_type": "code",
    "execution_context_id": "6f56f53d-c491-4d17-b3f8-ffd09ac57f61",
    "execution_millis": 0,
    "execution_start": 1757972945990,
    "source_hash": "fe1b1d53"
   },
   "outputs": [],
   "source": [
    "# TODO: Set the values for time and state to some reasonable values\n",
    "# time =\n",
    "# theta =\n",
    "# theta_dot =\n",
    "\n",
    "# TODO: Uncomment the following lines:\n",
    "# pendulum = InvertedPendulum()\n",
    "# pendulum_context = pendulum.CreateDefaultContext()\n",
    "# pendulum_context.get_mutable_continuous_state().SetFromVector([theta, theta_dot])\n",
    "# pendulum_context.SetTime(time)\n",
    "# print(pendulum_context)"
   ]
  },
  {
   "cell_type": "markdown",
   "metadata": {
    "cell_id": "f4353cdfd9f94015b780283feba5668b",
    "deepnote_cell_type": "markdown",
    "vscode": {
     "languageId": "raw"
    }
   },
   "source": [
    "--- \n",
    "## 第二部分：在 Diagram 中连接系统\n",
    "\n",
    "在本部分，你将通过连接多个 Drake `System`，创建一个完整的 `Diagram`，用于后续仿真：\n",
    "1. **InvertedPendulum** —— 你的动力学系统\n",
    "2. **ConstantVectorSource** —— 提供恒定力矩输入\n",
    "3. **LogVectorOutput** —— 记录输出数据\n",
    "\n",
    "**你的任务：** 构建一个用于倒立摆仿真的 `Diagram`，其中摆杆由恒定输入力矩驱动，并记录输出。\n",
    "\n",
    "**参考资料：** 本部分只需参考以下教程（我们会在代码中持续给出相关部分的提示）：\n",
    "- [动力学系统教程](https://github.com/RobotLocomotion/drake/blob/master/tutorials/dynamical_systems.ipynb)：**Simulation** 和 **Combinations of Systems: Diagram and DiagramBuilder** 部分"
   ]
  },
  {
   "cell_type": "code",
   "execution_count": null,
   "metadata": {
    "cell_id": "1ee394a118144e3192d939975649130c",
    "deepnote_cell_type": "code",
    "execution_context_id": "6f56f53d-c491-4d17-b3f8-ffd09ac57f61",
    "execution_millis": 0,
    "execution_start": 1757972946040,
    "source_hash": "2f99a277"
   },
   "outputs": [],
   "source": [
    "# TODO：实现模块图构建函数\n",
    "\n",
    "\n",
    "def build_pendulum_diagram(\n",
    "    input_torque: float = 0.0,\n",
    ") -> tuple[Diagram, InvertedPendulum, LogVectorOutput]:\n",
    "\n",
    "    # 提示：参见动力学系统教程，“Simulation”小节\n",
    "    # TODO：创建 DiagramBuilder\n",
    "\n",
    "    # TODO：将你的倒立摆系统添加到 builder\n",
    "\n",
    "    # TODO：添加恒定力矩源\n",
    "    # 提示：这部分教程中没有，代码已为你提供。\n",
    "    torque_source = ConstantVectorSource(np.array([input_torque]))\n",
    "\n",
    "    # TODO：添加数据记录系统\n",
    "\n",
    "    # TODO：连接各系统\n",
    "    # 提示：参见动力学系统教程，\n",
    "    #       “Combinations of Systems: Diagram and DiagramBuilder”小节\n",
    "    # 提示：恒定力矩源应连接到倒立摆的输入端口，\n",
    "    #       LogVectorOutput 已连接到倒立摆的输出端口。\n",
    "\n",
    "    # TODO：构建并返回最终的 diagram、系统和 logger\n",
    "\n",
    "    return None, None, None  # 实现后请移除此行\n",
    "\n",
    "\n",
    "# TODO：取消注释下方代码：\n",
    "# diagram, pendulum, logger = build_pendulum_diagram(input_torque=0.1)"
   ]
  },
  {
   "cell_type": "markdown",
   "metadata": {
    "cell_id": "4e81537af747414eaf8196b01a49c904",
    "deepnote_cell_type": "markdown",
    "vscode": {
     "languageId": "raw"
    }
   },
   "source": [
    "**接下来，我们将可视化这个模块图。**\n",
    "\n",
    "Drake 可以自动生成你的模块图的图形化表示，这对于理解系统连接和调试连线问题非常有帮助。\n",
    "\n",
    "运行下方代码可视化你的模块图："
   ]
  },
  {
   "cell_type": "code",
   "execution_count": 6,
   "metadata": {
    "cell_id": "2cec5258147641f8b83c6740551313b2",
    "deepnote_cell_type": "code",
    "execution_context_id": "6f56f53d-c491-4d17-b3f8-ffd09ac57f61",
    "execution_millis": 261,
    "execution_start": 1757972946090,
    "source_hash": "9935e892"
   },
   "outputs": [
    {
     "ename": "AttributeError",
     "evalue": "'NoneType' object has no attribute 'GetGraphvizString'",
     "output_type": "error",
     "traceback": [
      "\u001b[31m---------------------------------------------------------------------------\u001b[39m",
      "\u001b[31mAttributeError\u001b[39m                            Traceback (most recent call last)",
      "\u001b[36mCell\u001b[39m\u001b[36m \u001b[39m\u001b[32mIn[6]\u001b[39m\u001b[32m, line 2\u001b[39m\n\u001b[32m      1\u001b[39m diagram, pendulum, logger = build_pendulum_diagram(input_torque=\u001b[32m0.1\u001b[39m)\n\u001b[32m----> \u001b[39m\u001b[32m2\u001b[39m \u001b[43mplot_system_graphviz\u001b[49m\u001b[43m(\u001b[49m\u001b[43mdiagram\u001b[49m\u001b[43m)\u001b[49m\n",
      "\u001b[36mFile \u001b[39m\u001b[32m/usr/local/lib/python3.12/dist-packages/pydrake/systems/drawing.py:85\u001b[39m, in \u001b[36mplot_system_graphviz\u001b[39m\u001b[34m(system, **kwargs)\u001b[39m\n\u001b[32m     83\u001b[39m \u001b[38;5;28;01mdef\u001b[39;00m\u001b[38;5;250m \u001b[39m\u001b[34mplot_system_graphviz\u001b[39m(system, **kwargs):\n\u001b[32m     84\u001b[39m \u001b[38;5;250m    \u001b[39m\u001b[33;03m\"\"\"Renders a System's Graphviz representation in `matplotlib`.\"\"\"\u001b[39;00m\n\u001b[32m---> \u001b[39m\u001b[32m85\u001b[39m     \u001b[38;5;28;01mreturn\u001b[39;00m plot_graphviz(\u001b[43msystem\u001b[49m\u001b[43m.\u001b[49m\u001b[43mGetGraphvizString\u001b[49m(**kwargs))\n",
      "\u001b[31mAttributeError\u001b[39m: 'NoneType' object has no attribute 'GetGraphvizString'"
     ]
    }
   ],
   "source": [
    "diagram, pendulum, logger = build_pendulum_diagram(input_torque=0.1)\n",
    "plot_system_graphviz(diagram)"
   ]
  },
  {
   "cell_type": "markdown",
   "metadata": {
    "cell_id": "921fa69e411c43d19a1c65e0e18b1f47",
    "deepnote_cell_type": "markdown"
   },
   "source": [
    "可视化后，请务必观察模块图。连接关系和端口数量是否如你预期？\n",
    "\n",
    "我们也来看看 Diagram 的 context（注意它包含了之前的 pendulum context！）："
   ]
  },
  {
   "cell_type": "code",
   "execution_count": null,
   "metadata": {
    "cell_id": "473eb01eaaa842feb3484c88b19044b4",
    "deepnote_cell_type": "code",
    "deepnote_to_be_reexecuted": true,
    "execution_context_id": "e378a144-d93b-498b-8d5b-dea297a7d550",
    "execution_millis": 1,
    "execution_start": 1756174686845,
    "source_hash": "8998869b"
   },
   "outputs": [],
   "source": [
    "# TODO: Uncomment the following line:\n",
    "# diagram, pendulum, logger = build_pendulum_diagram(input_torque=0.1)\n",
    "\n",
    "# TODO: Create a context for the diagram\n",
    "\n",
    "# TODO: Print the context for the diagram"
   ]
  },
  {
   "cell_type": "markdown",
   "metadata": {
    "cell_id": "82b2a64bf6114c4482ebd0aecc2de8b6",
    "deepnote_cell_type": "markdown"
   },
   "source": [
    "**小贴士：** 这在教程中没有提到，但在后续课程和项目中会**非常**有用：\n",
    "\n",
    "如果你想从整个 diagram context 中获取某个具体系统的 context，可以用如下方法：\n",
    "\n",
    "`system.GetMyContextFromRoot(diagram_context)`。\n",
    "\n",
    "在下方尝试对倒立摆使用它，注意我们得到了之前打印的简单 pendulum context！\n"
   ]
  },
  {
   "cell_type": "code",
   "execution_count": null,
   "metadata": {
    "cell_id": "b88387157456490da7b6df22d8d246bd",
    "deepnote_cell_type": "code",
    "deepnote_to_be_reexecuted": true,
    "execution_context_id": "e378a144-d93b-498b-8d5b-dea297a7d550",
    "execution_millis": 1,
    "execution_start": 1756174686895,
    "source_hash": "d01ecd8e"
   },
   "outputs": [],
   "source": [
    "# TODO: Get the context of the pendulum from the diagram context\n",
    "\n",
    "# TODO: Print the pendulum context"
   ]
  },
  {
   "cell_type": "markdown",
   "metadata": {
    "cell_id": "6cd80e9a7ad84d669e3b4f8a9f3e957c",
    "deepnote_cell_type": "markdown",
    "vscode": {
     "languageId": "raw"
    }
   },
   "source": [
    "## 第三部分：仿真\n",
    "\n",
    "在本部分，我们将把所有内容整合起来，运行倒立摆系统的完整仿真。\n",
    "\n",
    "**你的任务：** 实现倒立摆系统的完整仿真。\n",
    "\n",
    "**参考资料：** 本部分只需参考以下教程（我们会在代码中持续给出相关部分的提示）：\n",
    "- [动力学系统教程](https://github.com/RobotLocomotion/drake/blob/master/tutorials/dynamical_systems.ipynb)：**Simulation** 部分"
   ]
  },
  {
   "cell_type": "code",
   "execution_count": null,
   "metadata": {
    "cell_id": "3cee7eee018b43a691ccc92c67f7b4b6",
    "deepnote_cell_type": "code",
    "deepnote_to_be_reexecuted": true,
    "execution_context_id": "e378a144-d93b-498b-8d5b-dea297a7d550",
    "execution_millis": 0,
    "execution_start": 1756174686945,
    "source_hash": "aedc5678"
   },
   "outputs": [],
   "source": [
    "# TODO：实现仿真函数\n",
    "\n",
    "\n",
    "def simulate_pendulum(\n",
    "    initial_state: np.ndarray, simulation_time: float = 5.0, torque: float = 0.0\n",
    ") -> tuple[np.ndarray, np.ndarray]:\n",
    "    # TODO：用你实现的函数构建模块图\n",
    "\n",
    "    # 提示：参见动力学系统教程，“Simulation”小节\n",
    "    # TODO：为 diagram 创建 context\n",
    "\n",
    "    # TODO：用 context 创建仿真器\n",
    "\n",
    "    # TODO：为倒立摆设置初始条件\n",
    "\n",
    "    # TODO：运行仿真到指定时间\n",
    "\n",
    "    # TODO：从 logger 提取记录数据\n",
    "\n",
    "    # TODO：返回日志中的时间和状态数据\n",
    "\n",
    "    return np.array([]), np.array([])  # 实现后请移除此行"
   ]
  },
  {
   "cell_type": "markdown",
   "metadata": {
    "cell_id": "f8a80e3f2cbe451b808f23c10ca3d23a",
    "deepnote_cell_type": "markdown"
   },
   "source": [
    "完成后，运行下方代码测试你的实现。我们会检查摆杆是否摆过竖直向下的平衡点，并进行可视化，让你直观感受仿真效果！"
   ]
  },
  {
   "cell_type": "code",
   "execution_count": null,
   "metadata": {
    "cell_id": "e25f4745ca124489b90ee42924942719",
    "deepnote_cell_type": "code",
    "deepnote_to_be_reexecuted": true,
    "execution_context_id": "e378a144-d93b-498b-8d5b-dea297a7d550",
    "execution_millis": 235,
    "execution_start": 1756174687005,
    "source_hash": "59023190"
   },
   "outputs": [],
   "source": [
    "# Test your implementation (you do not need to modify this code)\n",
    "initial_state = [0.5, 0.0]  # small angle, zero velocity\n",
    "times, outputs = simulate_pendulum(initial_state, simulation_time=10.0, torque=0.0)\n",
    "\n",
    "print(f\"Simulation complete! Recorded {len(times)} timesteps\")\n",
    "print(f\"Initial angle: {outputs[0, 0]:.4f} rad ({np.degrees(outputs[0, 0]):.1f}°)\")\n",
    "print(f\"Final angle: {outputs[0, -1]:.4f} rad ({np.degrees(outputs[0, -1]):.1f}°)\")\n",
    "\n",
    "# Check if pendulum swung past the equilibrium point\n",
    "min_angle = np.min(np.abs(outputs[0, :]))\n",
    "if np.isclose(min_angle, 0.0, atol=1e-3):\n",
    "    print(\"✅ Physics check PASSED - pendulum oscillated as expected\")\n",
    "else:\n",
    "    print(\"❌ Physics check FAILED - pendulum didn't swing properly\")\n",
    "\n",
    "print(\n",
    "    \"Let us plot the angle over time (notice how there is no friction, hence the pendulum swings indefinitely!):\"\n",
    ")\n",
    "# Plot the angle over time\n",
    "plt.figure(figsize=(10, 4))\n",
    "plt.plot(times, outputs[0, :], \"b-\", linewidth=2, label=\"θ (angle)\")\n",
    "plt.xlabel(\"Time (s)\")\n",
    "plt.ylabel(\"Angle (rad)\")\n",
    "plt.title(\"Inverted Pendulum Angle vs Time\")\n",
    "plt.grid(True, alpha=0.3)\n",
    "plt.legend()\n",
    "\n",
    "# Add degree labels on right y-axis\n",
    "ax2 = plt.gca().twinx()\n",
    "ax2.set_ylabel(\"Angle (degrees)\")\n",
    "ax2.set_ylim(np.degrees(plt.gca().get_ylim()[0]), np.degrees(plt.gca().get_ylim()[1]))\n",
    "\n",
    "plt.tight_layout()\n",
    "plt.show()"
   ]
  },
  {
   "cell_type": "markdown",
   "metadata": {
    "cell_id": "06fd3a80c95a4e9ca2c2678618e5f8e0",
    "deepnote_cell_type": "markdown",
    "vscode": {
     "languageId": "raw"
    }
   },
   "source": [
    "---\n",
    "\n",
    "# GRADESCOPE 验证\n",
    "\n",
    "**前提：** 你必须完成上方所有 TODO，以下验证练习才能正常运行！\n",
    "\n",
    "**说明：** 完成下方练习。将你的验证 key（保留 4 位小数的数值）复制粘贴到 Gradescope。\n",
    "\n"
   ]
  },
  {
   "cell_type": "markdown",
   "metadata": {
    "cell_id": "e8d52012d5b64525bc89dc0a7224d86f",
    "deepnote_cell_type": "markdown",
    "vscode": {
     "languageId": "raw"
    }
   },
   "source": [
    "## 验证 1：基础仿真\n",
    "\n",
    "**任务：** 用如下参数仿真倒立摆：\n",
    "- 初始状态：θ = 0.15 rad, θ̇ = 0.0 rad/s\n",
    "- 无外加力矩（torque = 0.0）\n",
    "- 仿真时间：2.5 秒\n",
    "\n",
    "**问题：** t = 2.5 秒时，θ 的数值是多少？（保留 4 位小数）\n"
   ]
  },
  {
   "cell_type": "code",
   "execution_count": null,
   "metadata": {
    "cell_id": "a422cd4f147c4f62806c2f44e006d53a",
    "deepnote_cell_type": "code",
    "deepnote_to_be_reexecuted": true,
    "execution_context_id": "e378a144-d93b-498b-8d5b-dea297a7d550",
    "execution_millis": 1,
    "execution_start": 1756174687295,
    "source_hash": "b4ec98bc"
   },
   "outputs": [],
   "source": [
    "# TODO：实现仿真练习"
   ]
  },
  {
   "cell_type": "markdown",
   "metadata": {
    "cell_id": "c9941540895f4050bdc49ebb73fb98de",
    "deepnote_cell_type": "markdown",
    "vscode": {
     "languageId": "raw"
    }
   },
   "source": [
    "## 验证 2：有外加力矩\n",
    "\n",
    "**任务：** 用如下参数仿真倒立摆：\n",
    "- 初始状态：θ = -0.1 rad, θ̇ = 0.2 rad/s\n",
    "- 恒定外加力矩：0.5 N⋅m\n",
    "- 仿真时间：1.8 秒\n",
    "\n",
    "**问题：** t = 1.8 秒时，θ 的数值是多少？（保留 4 位小数）\n"
   ]
  },
  {
   "cell_type": "code",
   "execution_count": null,
   "metadata": {
    "cell_id": "ee61972f08a44c34a613064cf1926e68",
    "deepnote_cell_type": "code",
    "deepnote_to_be_reexecuted": true,
    "execution_context_id": "e378a144-d93b-498b-8d5b-dea297a7d550",
    "execution_millis": 0,
    "execution_start": 1756174687345,
    "source_hash": "e8f4d71f"
   },
   "outputs": [],
   "source": [
    "# TODO：实现仿真练习"
   ]
  },
  {
   "cell_type": "markdown",
   "metadata": {
    "cell_id": "9499dd8fc5384421a9c810683ad3e0ff",
    "deepnote_cell_type": "markdown",
    "vscode": {
     "languageId": "raw"
    }
   },
   "source": [
    "---\n",
    "\n",
    "# 恭喜你！\n",
    "\n",
    "你已成功完成 **Drake 系统基础**！你学到了：\n",
    "\n",
    "1. **LeafSystem** 是大多数自定义 Drake 系统的基类\n",
    "2. **Context** 保存了仿真的状态、时间和参数\n",
    "3. **DiagramBuilder** 用于将系统连接成更大的组合体（`Diagram`）\n",
    "4. **Drake 文档**和**Drake 教程**是你最好的朋友——多加利用！\n",
    "\n",
    "**下一步：** 在 Notebook 2 中，你将用 `MultibodyPlant` 操作真实机器人，并创建自己的自定义资产！\n"
   ]
  }
 ],
 "metadata": {
  "deepnote_notebook_id": "c97db8946c984e17bc0374283d38ce37",
  "language_info": {
   "name": "python"
  }
 },
 "nbformat": "4",
 "nbformat_minor": "0"
}
