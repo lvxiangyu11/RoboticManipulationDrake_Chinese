{
 "cells": [
  {
   "cell_type": "markdown",
   "metadata": {
    "cell_id": "99a3bf40a4c04986b39e8a531c0420da",
    "deepnote_cell_type": "markdown",
    "vscode": {
     "languageId": "raw"
    }
   },
   "source": [
    "# 笔记本3：HardwareStation 与进阶场景\n",
    "\n",
    "在上一个笔记本中，我们用 `Parser`、`MultibodyPlant`、`SceneGraph` 和 `DiagramBuilder` 手动搭建了 Drake 机器人仿真。本节将介绍如何用 `HardwareStation` 系统和 `scenario.yaml` 文件，让这一过程在许多场景下变得更简单。\n",
    "\n",
    "**学习目标：**\n",
    "1. 理解 `HardwareStation`：这是一个 `System`，为常见机器人硬件（如机械臂、夹爪、相机等）提供便捷的高级配置与仿真接口。\n",
    "2. 熟悉 `scenario.yaml` 文件，实现声明式场景搭建\n",
    "3. 对比“手动”方式与 `HardwareStation` 的便捷性\n",
    "\n",
    "**你将实现的内容：** 用 `HardwareStation` 和场景文件搭建自定义操作场景，包含你在笔记本2中生成的姓名首字母资产！\n",
    "\n",
    "**参考资料：** 本笔记本基于教材 [第2.5章](https://manipulation.csail.mit.edu/robot.html#hardware_station) 的示例。该章节详细介绍了 `HardwareStation` 的原理和用法。请在做题前阅读该章节！\n",
    "\n",
    "---\n"
   ]
  },
  {
   "cell_type": "markdown",
   "metadata": {
    "cell_id": "8aa81ebf43f24ecfbd6a994cf54ffb8d",
    "deepnote_cell_type": "markdown",
    "vscode": {
     "languageId": "raw"
    }
   },
   "source": [
    "## 环境配置与导入\n",
    "\n",
    "让我们导入 HardwareStation 和场景文件所需的 Drake 功能。\n",
    "\n",
    "要搭建完整场景只需导入两个函数（稍后会详细解释）：\n",
    "- `MakeHardwareStation`\n",
    "- `LoadScenario`\n",
    "\n",
    "（注意：这两个函数及其它 `HardwareStation` 相关功能都在专为本课程开发的 `manipulation` 包中，而不是 Drake 官方包！）"
   ]
  },
  {
   "cell_type": "code",
   "execution_count": 1,
   "metadata": {
    "cell_id": "12076e15915d4d07aa8864d81947102f",
    "deepnote_cell_type": "code",
    "execution_context_id": "ddf6ee34-47fc-4603-96df-7f61fb706903",
    "execution_millis": 637,
    "execution_start": 1756479357351,
    "source_hash": "a3d3b92e"
   },
   "outputs": [
    {
     "ename": "ModuleNotFoundError",
     "evalue": "No module named 'gradescope_utils'",
     "output_type": "error",
     "traceback": [
      "\u001b[0;31m---------------------------------------------------------------------------\u001b[0m",
      "\u001b[0;31mModuleNotFoundError\u001b[0m                       Traceback (most recent call last)",
      "Cell \u001b[0;32mIn[1], line 12\u001b[0m\n\u001b[1;32m      3\u001b[0m \u001b[38;5;28;01mimport\u001b[39;00m\u001b[38;5;250m \u001b[39m\u001b[38;5;21;01mnumpy\u001b[39;00m\u001b[38;5;250m \u001b[39m\u001b[38;5;28;01mas\u001b[39;00m\u001b[38;5;250m \u001b[39m\u001b[38;5;21;01mnp\u001b[39;00m\n\u001b[1;32m      4\u001b[0m \u001b[38;5;28;01mfrom\u001b[39;00m\u001b[38;5;250m \u001b[39m\u001b[38;5;21;01mpydrake\u001b[39;00m\u001b[38;5;21;01m.\u001b[39;00m\u001b[38;5;21;01mall\u001b[39;00m\u001b[38;5;250m \u001b[39m\u001b[38;5;28;01mimport\u001b[39;00m (\n\u001b[1;32m      5\u001b[0m     Diagram,\n\u001b[1;32m      6\u001b[0m     DiagramBuilder,\n\u001b[0;32m   (...)\u001b[0m\n\u001b[1;32m      9\u001b[0m     StartMeshcat,\n\u001b[1;32m     10\u001b[0m )\n\u001b[0;32m---> 12\u001b[0m \u001b[38;5;28;01mfrom\u001b[39;00m\u001b[38;5;250m \u001b[39m\u001b[38;5;21;01mmanipulation\u001b[39;00m\u001b[38;5;21;01m.\u001b[39;00m\u001b[38;5;21;01mexercises\u001b[39;00m\u001b[38;5;21;01m.\u001b[39;00m\u001b[38;5;21;01mgrader\u001b[39;00m\u001b[38;5;250m \u001b[39m\u001b[38;5;28;01mimport\u001b[39;00m Grader\n\u001b[1;32m     13\u001b[0m \u001b[38;5;28;01mfrom\u001b[39;00m\u001b[38;5;250m \u001b[39m\u001b[38;5;21;01mmanipulation\u001b[39;00m\u001b[38;5;21;01m.\u001b[39;00m\u001b[38;5;21;01mexercises\u001b[39;00m\u001b[38;5;21;01m.\u001b[39;00m\u001b[38;5;21;01mintro\u001b[39;00m\u001b[38;5;21;01m.\u001b[39;00m\u001b[38;5;21;01mtest_hardwarestation_and_scenarios\u001b[39;00m\u001b[38;5;250m \u001b[39m\u001b[38;5;28;01mimport\u001b[39;00m (\n\u001b[1;32m     14\u001b[0m     TestHardwareStationBasic,\n\u001b[1;32m     15\u001b[0m     TestHardwareStationBimanual,\n\u001b[1;32m     16\u001b[0m     TestHardwareStationFullSystem,\n\u001b[1;32m     17\u001b[0m )\n\u001b[1;32m     18\u001b[0m \u001b[38;5;28;01mfrom\u001b[39;00m\u001b[38;5;250m \u001b[39m\u001b[38;5;21;01mmanipulation\u001b[39;00m\u001b[38;5;21;01m.\u001b[39;00m\u001b[38;5;21;01mletter_generation\u001b[39;00m\u001b[38;5;250m \u001b[39m\u001b[38;5;28;01mimport\u001b[39;00m create_sdf_asset_from_letter\n",
      "File \u001b[0;32m~/miniconda3/envs/drake/lib/python3.10/site-packages/manipulation/exercises/grader.py:7\u001b[0m\n\u001b[1;32m      4\u001b[0m \u001b[38;5;28;01mfrom\u001b[39;00m\u001b[38;5;250m \u001b[39m\u001b[38;5;21;01mrunpy\u001b[39;00m\u001b[38;5;250m \u001b[39m\u001b[38;5;28;01mimport\u001b[39;00m run_module\n\u001b[1;32m      6\u001b[0m \u001b[38;5;28;01mimport\u001b[39;00m\u001b[38;5;250m \u001b[39m\u001b[38;5;21;01mnbformat\u001b[39;00m\n\u001b[0;32m----> 7\u001b[0m \u001b[38;5;28;01mfrom\u001b[39;00m\u001b[38;5;250m \u001b[39m\u001b[38;5;21;01mgradescope_utils\u001b[39;00m\u001b[38;5;21;01m.\u001b[39;00m\u001b[38;5;21;01mautograder_utils\u001b[39;00m\u001b[38;5;21;01m.\u001b[39;00m\u001b[38;5;21;01mjson_test_runner\u001b[39;00m\u001b[38;5;250m \u001b[39m\u001b[38;5;28;01mimport\u001b[39;00m JSONTestRunner\n\u001b[1;32m      8\u001b[0m \u001b[38;5;28;01mfrom\u001b[39;00m\u001b[38;5;250m \u001b[39m\u001b[38;5;21;01mnbconvert\u001b[39;00m\u001b[38;5;250m \u001b[39m\u001b[38;5;28;01mimport\u001b[39;00m PythonExporter\n\u001b[1;32m     10\u001b[0m grader_throws \u001b[38;5;241m=\u001b[39m \u001b[38;5;28;01mFalse\u001b[39;00m\n",
      "\u001b[0;31mModuleNotFoundError\u001b[0m: No module named 'gradescope_utils'"
     ]
    }
   ],
   "source": [
    "from pathlib import Path\n",
    "\n",
    "import numpy as np\n",
    "from pydrake.all import (\n",
    "    Diagram,\n",
    "    DiagramBuilder,\n",
    "    RigidTransform,\n",
    "    Simulator,\n",
    "    StartMeshcat,\n",
    ")\n",
    "\n",
    "from manipulation.exercises.grader import Grader\n",
    "from manipulation.exercises.intro.test_hardwarestation_and_scenarios import (\n",
    "    TestHardwareStationBasic,\n",
    "    TestHardwareStationBimanual,\n",
    "    TestHardwareStationFullSystem,\n",
    ")\n",
    "from manipulation.letter_generation import create_sdf_asset_from_letter\n",
    "from manipulation.station import (\n",
    "    LoadScenario,\n",
    "    MakeHardwareStation,\n",
    "    RobotDiagram,\n",
    ")\n",
    "from manipulation.utils import RenderDiagram, running_as_notebook"
   ]
  },
  {
   "cell_type": "markdown",
   "metadata": {
    "cell_id": "fb90c526860e4db78f274322604ceda4",
    "deepnote_cell_type": "markdown",
    "vscode": {
     "languageId": "raw"
    }
   },
   "source": [
    "## Meshcat 可视化\n",
    "\n",
    "和往常一样，先启动 Meshcat 进行三维可视化！\n"
   ]
  },
  {
   "cell_type": "code",
   "execution_count": null,
   "metadata": {
    "cell_id": "55bf5bfffc2b4477960679981fb24967",
    "deepnote_cell_type": "code",
    "execution_context_id": "ddf6ee34-47fc-4603-96df-7f61fb706903",
    "execution_millis": 0,
    "execution_start": 1756479358041,
    "source_hash": "8229bdd1"
   },
   "outputs": [],
   "source": [
    "# 启动 meshcat 进行可视化\n",
    "meshcat = StartMeshcat()\n",
    "print(\"点击上方链接，在浏览器中打开 Meshcat！\")"
   ]
  },
  {
   "cell_type": "markdown",
   "metadata": {
    "cell_id": "886e5b63f2da4df0b3ea87386e1b6ee4",
    "deepnote_cell_type": "markdown",
    "vscode": {
     "languageId": "raw"
    }
   },
   "source": [
    "---\n",
    "\n",
    "## 第一部分：从手动搭建到 HardwareStation\n",
    "\n",
    "在笔记本2中，你手动搭建仿真流程：\n",
    "1. 创建 `DiagramBuilder`、`MultibodyPlant`、`SceneGraph`\n",
    "2. 添加 `Parser`，加载机器人，焊接坐标系\n",
    "3. 添加可视化、finalize、build...\n",
    "\n",
    "`MakeHardwareStation` 函数能帮你自动完成上述所有步骤！让我们看看区别。\n",
    "\n",
    "**你的任务：** 先用 `HardwareStation`（而不是手动方式）创建一个仅包含被动 IIWA14 的简单仿真，和上个笔记本类似。\n",
    "\n",
    "**核心概念：**\n",
    "- 用 YAML 格式的 scenario 指令描述场景\n",
    "- 用 `LoadScenario` 解析 YAML 字符串为 `scenario` 对象\n",
    "- 用 `MakeHardwareStation` 和 `scenario` 一步搭建完整场景\n",
    "\n",
    "**参考：** 推荐先阅读 [Bimanual Manipulation Example](https://deepnote.com/workspace/Manipulation-ac8201a1-470a-4c77-afd0-2cc45bc229ff/project/8f86172b-b597-4ceb-9bad-92d11ac7a6cc/notebook/bimanual-3df3abe2b1b949eb9daaf3748b16a218) 了解 scenario 指令和上述函数的用法。"
   ]
  },
  {
   "cell_type": "code",
   "execution_count": null,
   "metadata": {
    "cell_id": "2aff3f1297e94ad4960d3dc892a919e4",
    "deepnote_cell_type": "code",
    "execution_context_id": "ddf6ee34-47fc-4603-96df-7f61fb706903",
    "execution_millis": 1,
    "execution_start": 1756479358160,
    "source_hash": "4168dd9c"
   },
   "outputs": [],
   "source": [
    "# TODO：用 HardwareStation 创建一个简单的 IIWA14 仿真\n",
    "\n",
    "\n",
    "def create_IIWA14_with_hardware_station() -> Diagram:\n",
    "    # TODO：编写加载 IIWA14 机器人的简单 scenario 字符串。\n",
    "    #       记得把机器人焊接到世界坐标系！\n",
    "    # 提示：参考上方 Bimanual Manipulation Example，\n",
    "    #       重点看 `directives` 部分，示例中添加了两个 IIWA7。\n",
    "    #       - `name` 可自定义。\n",
    "    #       - 示例用的是 IIWA7，你可以用之前的 IIWA14。\n",
    "    #       - 示例为机器人加了 `wsg` 夹爪，你也可以加。\n",
    "    #       - `model_drivers` 指定了控制器，本节可忽略。\n",
    "    # TODO：添加 IIWA14 机器人模型\n",
    "    # TODO：设置默认关节位置\n",
    "    # 提示：`default_joint_positions` 用到的关节名来自 URDF/SDF 文件。\n",
    "    #       可参考：\n",
    "    #       https://github.com/RobotLocomotion/models/blob/master/iiwa_description/urdf/iiwa14_primitive_collision.urdf\n",
    "    # TODO：焊接机器人基座到世界坐标系\n",
    "    scenario_string = \"\"\"directives:\n",
    "    \"\"\"\n",
    "\n",
    "    # TODO：用 `LoadScenario` 函数直接从字符串加载 scenario\n",
    "\n",
    "    # TODO：用 `MakeHardwareStation` 和 meshcat 创建 HardwareStation\n",
    "\n",
    "    # TODO：创建 DiagramBuilder，将 station 加入并 build diagram\n",
    "\n",
    "    # TODO：返回 DiagramBuilder 构建的 diagram\n",
    "\n",
    "    pass"
   ]
  },
  {
   "cell_type": "code",
   "execution_count": null,
   "metadata": {
    "cell_id": "c16ce753220449789319b82555ef57a5",
    "deepnote_cell_type": "code"
   },
   "outputs": [],
   "source": [
    "# Use this to test your implementation if you want!\n",
    "Grader.grade_output([TestHardwareStationBasic], [locals()], \"results.json\")\n",
    "Grader.print_test_results(\"results.json\")"
   ]
  },
  {
   "cell_type": "markdown",
   "metadata": {
    "cell_id": "4292d626486b4c27a8f2fd52f0d2ce8b",
    "deepnote_cell_type": "markdown"
   },
   "source": [
    "让我们看看系统的模块图："
   ]
  },
  {
   "cell_type": "code",
   "execution_count": null,
   "metadata": {
    "cell_id": "109d21c962704f26b0bb01a2509a9bda",
    "deepnote_cell_type": "code",
    "execution_context_id": "ddf6ee34-47fc-4603-96df-7f61fb706903",
    "execution_millis": 844,
    "execution_start": 1756479358273,
    "source_hash": "92a704da"
   },
   "outputs": [],
   "source": [
    "diagram = create_IIWA14_with_hardware_station()\n",
    "RenderDiagram(diagram, max_depth=1)"
   ]
  },
  {
   "cell_type": "code",
   "execution_count": null,
   "metadata": {
    "cell_id": "30235b76ed504d26b4570589ab31766d",
    "deepnote_cell_type": "code",
    "execution_context_id": "ddf6ee34-47fc-4603-96df-7f61fb706903",
    "execution_millis": 14961,
    "execution_start": 1756479359170,
    "source_hash": "64f449a0"
   },
   "outputs": [],
   "source": [
    "print(f\"请在 Meshcat 窗口（{meshcat.web_url()}）查看机器人仿真！\")\n",
    "\n",
    "# 也可以仿真简单的 IIWA14 场景，确保一切正常！\n",
    "# TODO：为 diagram 创建 context\n",
    "\n",
    "# TODO：创建仿真器\n",
    "\n",
    "# TODO：设置实时速率为 1.0\n",
    "\n",
    "# TODO：仿真 15 秒"
   ]
  },
  {
   "cell_type": "markdown",
   "metadata": {
    "cell_id": "c375efccd6df4c299c99c133e63f93cd",
    "deepnote_cell_type": "markdown"
   },
   "source": [
    "---\n",
    "\n",
    "## 第二部分：双臂 IIWA 场景\n",
    "\n",
    "很好！为了展示 scenario 指令修改场景的便捷性，让我们再加一个 IIWA14。\n",
    "\n",
    "**你的任务：** 用 scenario 指令创建包含两个 IIWA14 机器人、分别焊接在不同位置的场景。\n",
    "\n",
    "**核心概念：** scenario 文件让你只需几行代码就能灵活修改场景——添加机器人、变更位置、调整配置都很方便。\n",
    "\n",
    "**参考：** 推荐先阅读 [Bimanual Manipulation Example](https://deepnote.com/workspace/Manipulation-ac8201a1-470a-4c77-afd0-2cc45bc229ff/project/8f86172b-b597-4ceb-9bad-92d11ac7a6cc/notebook/bimanual-3df3abe2b1b949eb9daaf3748b16a218) 了解 scenario 指令和上述函数的用法。"
   ]
  },
  {
   "cell_type": "code",
   "execution_count": null,
   "metadata": {
    "cell_id": "06803bfd9cd4433286d0d05dfae99422",
    "deepnote_cell_type": "code",
    "execution_context_id": "ddf6ee34-47fc-4603-96df-7f61fb706903",
    "execution_millis": 8,
    "execution_start": 1756479374817,
    "source_hash": "b6bd7cc7"
   },
   "outputs": [],
   "source": [
    "def create_bimanual_IIWA14_with_hardware_station() -> Diagram:\n",
    "    # TODO：编写加载两个 IIWA14 机器人的 scenario 字符串。\n",
    "    # TODO：记得把两个机器人焊接到世界坐标系的不同位置！\n",
    "\n",
    "    # TODO：添加左臂 IIWA14 机器人模型\n",
    "    # TODO：设置默认关节位置\n",
    "    # TODO：焊接机器人基座到世界坐标系\n",
    "    # TODO：添加右臂 IIWA14 机器人模型\n",
    "    # TODO：设置默认关节位置\n",
    "    # TODO：焊接机器人基座到世界坐标系\n",
    "    scenario_string = \"\"\"directives:\n",
    "    \"\"\"\n",
    "\n",
    "    # TODO：用字符串加载 scenario\n",
    "\n",
    "    # TODO：用 meshcat 创建 HardwareStation\n",
    "\n",
    "    # TODO：创建 DiagramBuilder，添加 station，build diagram\n",
    "\n",
    "    # TODO：返回 diagram\n",
    "    return None  # 实现后请移除此行\n",
    "\n",
    "\n",
    "diagram = create_bimanual_IIWA14_with_hardware_station()"
   ]
  },
  {
   "cell_type": "code",
   "execution_count": null,
   "metadata": {
    "cell_id": "da725d0b30a84a2f8f57ceefd440f861",
    "deepnote_cell_type": "code"
   },
   "outputs": [],
   "source": [
    "# Use this to test your implementation if you want!\n",
    "Grader.grade_output([TestHardwareStationBimanual], [locals()], \"results.json\")\n",
    "Grader.print_test_results(\"results.json\")"
   ]
  },
  {
   "cell_type": "markdown",
   "metadata": {
    "cell_id": "0c8385ab3d9e4a5b83324df2a7729243",
    "deepnote_cell_type": "markdown"
   },
   "source": [
    "接下来仿真该场景，确保一切正常："
   ]
  },
  {
   "cell_type": "code",
   "execution_count": null,
   "metadata": {
    "cell_id": "e88c627529314a35aded98e9d01c96d3",
    "deepnote_cell_type": "code",
    "execution_context_id": "ddf6ee34-47fc-4603-96df-7f61fb706903",
    "execution_millis": 14987,
    "execution_start": 1756479374880,
    "source_hash": "308262ab"
   },
   "outputs": [],
   "source": [
    "print(f\"请在 Meshcat 窗口（{meshcat.web_url()}）查看机器人仿真！\")\n",
    "\n",
    "# 也可以仿真简单的 IIWA14 场景，确保一切正常！\n",
    "# TODO：为 station 创建 context\n",
    "# TODO：创建仿真器\n",
    "# TODO：设置实时速率为 1.0\n",
    "# TODO：仿真 15 秒"
   ]
  },
  {
   "cell_type": "markdown",
   "metadata": {
    "cell_id": "f139aeadf51846138e13ff9d37afa379",
    "deepnote_cell_type": "markdown",
    "vscode": {
     "languageId": "raw"
    }
   },
   "source": [
    "---\n",
    "\n",
    "## 第三部分：用 scenario 文件和模型指令加载自定义资产\n",
    "\n",
    "现在学习如何用 scenario 文件加载自定义资产！我们将创建 YAML 场景文件，引用你的自定义模型并加载到 `HardwareStation`。\n",
    "\n",
    "**你的任务：** 从零创建 scenario 文件，并用模型指令加载你的自定义资产。\n",
    "\n",
    "**目标：** 导出包含双臂 IIWA14 和自定义资产的仿真视频，上传到 Gradescope。\n",
    "\n",
    "**参考：** 推荐先阅读 [Bimanual Manipulation Example](https://deepnote.com/workspace/Manipulation-ac8201a1-470a-4c77-afd0-2cc45bc229ff/project/8f86172b-b597-4ceb-9bad-92d11ac7a6cc/notebook/bimanual-3df3abe2b1b949eb9daaf3748b16a218) 了解 scenario 指令和上述函数的用法。"
   ]
  },
  {
   "cell_type": "markdown",
   "metadata": {
    "cell_id": "79d1e3eb0a2d4f66a3675b2fc5182794",
    "deepnote_cell_type": "markdown"
   },
   "source": [
    "首先确保你的字母资产已生成在正确的文件夹。运行下方代码，自由调整字母属性！"
   ]
  },
  {
   "cell_type": "code",
   "execution_count": null,
   "metadata": {
    "cell_id": "b7142eb5143145c4b013daf3e4a3d4bc",
    "deepnote_cell_type": "code"
   },
   "outputs": [],
   "source": [
    "# Let us save our files to a new folder called `assets` in the `Files`\n",
    "# section on the left\n",
    "output_dir = Path(\"assets/\")\n",
    "\n",
    "# TODO: Insert your initials here!\n",
    "your_initials = \"BPG\"\n",
    "\n",
    "for letter in your_initials:\n",
    "    create_sdf_asset_from_letter(\n",
    "        text=letter,\n",
    "        font_name=\"DejaVu Sans\",\n",
    "        letter_height_meters=0.2,\n",
    "        extrusion_depth_meters=0.07,\n",
    "        output_dir=output_dir / f\"{letter}_model\",\n",
    "    )"
   ]
  },
  {
   "cell_type": "markdown",
   "metadata": {
    "cell_id": "f85cf3a155aa43fdb7147dc2e867de2e",
    "deepnote_cell_type": "markdown"
   },
   "source": [
    "In order to load assets using the model directives we need to have them as local files. Let us save our table asset from the previous notebook to a local file. Fill out the missing code below:"
   ]
  },
  {
   "cell_type": "code",
   "execution_count": null,
   "metadata": {
    "cell_id": "cc01317be87f419998323c002da2a406",
    "deepnote_cell_type": "code",
    "execution_context_id": "ddf6ee34-47fc-4603-96df-7f61fb706903",
    "execution_millis": 304,
    "execution_start": 1756479390330,
    "source_hash": "57856523"
   },
   "outputs": [],
   "source": [
    "# TODO：将你在笔记本2中写的 table_sdf = ... 代码粘贴到这里\n",
    "table_sdf = \"\"\"<?xml version=\"1.0\"?>\n",
    "\"\"\"\n",
    "\n",
    "# TODO：将 table SDF 写入文件\n",
    "table_sdf_path = \"assets/table.sdf\"\n",
    "with open(table_sdf_path, \"w\") as f:\n",
    "    f.write(table_sdf)"
   ]
  },
  {
   "cell_type": "markdown",
   "metadata": {
    "cell_id": "94573783442b499d8f10fdaf95d13f85",
    "deepnote_cell_type": "markdown"
   },
   "source": [
    "很好。现在我们可以像之前用 scenario 指令加载 IIWA14 一样加载自定义资产。要在 scenario 指令中访问本地文件，语法如下：\n",
    "- `file://绝对路径/your/file.sdf`\n",
    "\n",
    "例如，assets 文件夹下的字母 B，可以用如下 f-string：\n",
    "- `f\"file://{Path.cwd()}/assets/B_model/B.sdf\"`\n",
    "\n",
    "**注意**：资产路径必须为绝对路径，所以要用 `Path.cwd()` 获取当前工作目录！路径对空格和缩进很敏感，加载失败时请检查是否有多余空格。\n",
    "\n",
    "我们要把桌子焊接到世界坐标系，防止其掉落。\n",
    "\n",
    "还要为姓名首字母指定默认自由体位姿，格式如下（f-string 内）：\n",
    "```\n",
    "- add_model:\n",
    "    name: {YOUR_OBJECT_NAME}\n",
    "    file: {PATH_TO_OBJECT}\n",
    "    default_free_body_pose:\n",
    "        {BASE_LINK_NAME}:\n",
    "            translation: [x_pos, y_pos, z_pos]\n",
    "            rotation: !Rpy {{ deg: [x_rot, y_rot, z_rot] }}\n",
    "```\n",
    "请替换：\n",
    "- `{YOUR_OBJECT_NAME}`：自定义名称\n",
    "- `{PATH_TO_OBJECT}`：.sdf 或 .urdf 文件路径（本地或 drake-models 包路径均可）\n",
    "- `{BASE_LINK_NAME}`：.sdf 或 .urdf 文件中的基座 link 名称。\n",
    "\n",
    "例如字母 B，可写为：\n",
    "\n",
    "```\n",
    "- add_model:\n",
    "    name: B_letter\n",
    "    file: file://{Path.cwd()/assets/B_model.sdf}\n",
    "    default_free_body_pose:\n",
    "        B_body_link:\n",
    "            translation: [0, 1.0, 0.75]\n",
    "            rotation: !Rpy {{ deg: [42, 33, 18] }}\n",
    "```\n",
    "\n",
    "此外，还可以加载 [drake-models](https://github.com/RobotLocomotion/models) 中的物体，\n",
    "同样作为自由体（如 [这些物体](https://github.com/RobotLocomotion/models/tree/master/ycb)）。\n",
    "\n",
    "**总结：你需要实现的场景包括：**\n",
    "- 加载两个 Kuka IIWA14 机器人，设置默认关节位置，焊接到世界坐标系\n",
    "- 加载本地 .sdf 文件的桌子，并焊接到世界坐标系\n",
    "- 加载本地 .sdf 文件的姓名首字母，设置默认自由体位姿\n",
    "- 加载一个或多个 drake-models 物体，设置默认自由体位姿"
   ]
  },
  {
   "cell_type": "code",
   "execution_count": null,
   "metadata": {
    "cell_id": "eee7e8207db949b79eb1bfc451459379",
    "deepnote_cell_type": "code",
    "execution_context_id": "ddf6ee34-47fc-4603-96df-7f61fb706903",
    "execution_millis": 11306,
    "execution_start": 1756479390680,
    "source_hash": "71c9337d"
   },
   "outputs": [],
   "source": [
    "def create_bimanual_IIWA14_with_table_and_initials_and_assets() -> (\n",
    "    tuple[Diagram, RobotDiagram]\n",
    "):\n",
    "    # TODO：编写包含以下内容的 scenario YAML 字符串：\n",
    "    #       - IIWA14 机器人及默认关节位置\n",
    "    #       - 焊接机器人到世界坐标系\n",
    "    #       - 用 file://绝对路径/table.sdf 加载桌子\n",
    "    #       - 焊接桌子并设置平移偏移\n",
    "    #       - 用 file://绝对路径/B_model/B.sdf 加载姓名首字母\n",
    "    #       - 加载 drake-models 中的物体，作为自由体\n",
    "    scenario_yaml = f\"\"\"directives:\n",
    "    \"\"\"\n",
    "\n",
    "    # TODO：将 scenario YAML 保存到文件\n",
    "\n",
    "    # TODO：从文件加载 scenario\n",
    "\n",
    "    # TODO：用 scenario 和 meshcat 创建 HardwareStation\n",
    "\n",
    "    # TODO：创建 DiagramBuilder，添加 station，build diagram\n",
    "\n",
    "    # TODO：返回 diagram 和 station（注意这里需要都返回）\n",
    "\n",
    "    return None, None  # 实现后请移除此行"
   ]
  },
  {
   "cell_type": "markdown",
   "metadata": {
    "cell_id": "c5ed30fa931d47e2b4ee56b214d04233",
    "deepnote_cell_type": "markdown"
   },
   "source": [
    "让我们可视化模块图："
   ]
  },
  {
   "cell_type": "code",
   "execution_count": null,
   "metadata": {
    "cell_id": "c88939be606148c99d9bcc26bb05e3cd",
    "deepnote_cell_type": "code",
    "execution_context_id": "ddf6ee34-47fc-4603-96df-7f61fb706903",
    "execution_millis": 14,
    "execution_start": 1756479402050,
    "source_hash": "92a704da"
   },
   "outputs": [],
   "source": [
    "diagram, station = create_bimanual_IIWA14_with_table_and_initials_and_assets()\n",
    "RenderDiagram(diagram, max_depth=1)"
   ]
  },
  {
   "cell_type": "markdown",
   "metadata": {
    "cell_id": "8c1a726fdf47481f861709f66488b69e",
    "deepnote_cell_type": "markdown",
    "vscode": {
     "languageId": "raw"
    }
   },
   "source": [
    "让我们快速仿真，体验 HardwareStation 的效果：\n"
   ]
  },
  {
   "cell_type": "code",
   "execution_count": null,
   "metadata": {
    "cell_id": "fe08831db8d44524a11c635daa12c20e",
    "deepnote_cell_type": "code",
    "execution_context_id": "ddf6ee34-47fc-4603-96df-7f61fb706903",
    "execution_millis": 1,
    "execution_start": 1756479402110,
    "source_hash": "3937006b"
   },
   "outputs": [],
   "source": [
    "# TODO：仿真 HardwareStation\n",
    "\n",
    "\n",
    "def simulate_full_system(\n",
    "    iiwa_left_q0: np.ndarray,\n",
    "    iiwa_right_q0: np.ndarray,\n",
    "    letter_poses: list[RigidTransform],\n",
    "    object_poses: list[RigidTransform],\n",
    "    simulation_time: float = 3.0,\n",
    "    use_realtime: bool = True,\n",
    ") -> None:\n",
    "    # TODO：用你上面实现的函数创建 diagram 和 station\n",
    "\n",
    "    # TODO：创建仿真器和可变仿真 context\n",
    "\n",
    "    # TODO：从 station 获取 plant 子系统\n",
    "\n",
    "    # TODO：用 root context 获取 plant context\n",
    "\n",
    "    # NOTE：下面我们将设置机器人和资产的初始配置。\n",
    "    #       实际上 scenario 文件里已经设置了，这里只是演示如何在加载后修改。\n",
    "\n",
    "    # TODO：设置左臂 IIWA 机器人初始配置\n",
    "    # TODO：用名称获取左臂 IIWA 模型实例\n",
    "    # 提示：名称即 add_model 指令里的 `name` 字段\n",
    "    # 提示：一定要用 plant context 而不是 root context！\n",
    "\n",
    "    # TODO：设置右臂 IIWA 机器人初始配置\n",
    "    # TODO：用名称获取右臂 IIWA 模型实例\n",
    "\n",
    "    # TODO：设置姓名首字母的初始位姿\n",
    "    # 提示：先用名称获取模型实例，再用 RigidBody 名称（如 `B_body_link`，SDF 文件中硬编码）\n",
    "    #       plant.SetFreeBodyPose(context_plant, body, letter_poses[0])\n",
    "\n",
    "    # TODO：配置仿真器为实时速率\n",
    "\n",
    "    # TODO：运行仿真\n",
    "\n",
    "    pass"
   ]
  },
  {
   "cell_type": "code",
   "execution_count": null,
   "metadata": {
    "cell_id": "df47508184f342c9b2f0670a788bd1df",
    "deepnote_cell_type": "code",
    "execution_context_id": "ddf6ee34-47fc-4603-96df-7f61fb706903",
    "execution_millis": 19391,
    "execution_start": 1756479402160,
    "source_hash": "14613153"
   },
   "outputs": [],
   "source": [
    "# Test your simulation\n",
    "print(f\"Check your Meshcat window ({meshcat.web_url()}) to see the robot simulation!\")\n",
    "print(\"Running HardwareStation simulation...\")\n",
    "\n",
    "meshcat.StartRecording()\n",
    "simulate_full_system(\n",
    "    iiwa_left_q0=np.array([0, 0, 0, 0, 0, 0, 0]),\n",
    "    iiwa_right_q0=np.array([0, 0, 0, 0, 0, 0, 0]),\n",
    "    # NOTE: Here we have provided the initial poses for three letters, and one object, as\n",
    "    # an example. Change these to match your setup!\n",
    "    letter_poses=[\n",
    "        # You can add rotations to the RigidTransform if you want, but we will learn more about that later!\n",
    "        # The letters should be placed such that they are not in collision with each other, and such that\n",
    "        # they fall onto the table.\n",
    "        RigidTransform([0.7, 0.0, 1.0]),\n",
    "        RigidTransform([0.9, 0.0, 1.0]),\n",
    "        RigidTransform([1.1, 0.0, 1.0]),\n",
    "    ],\n",
    "    object_poses=[\n",
    "        RigidTransform([0.5, 0.0, 0.75]),\n",
    "    ],\n",
    "    simulation_time=5.0 if running_as_notebook else 5.0,\n",
    "    use_realtime=running_as_notebook,\n",
    ")\n",
    "meshcat.StopRecording()\n",
    "meshcat.PublishRecording()\n",
    "\n",
    "print(\"HardwareStation simulation completed!\")"
   ]
  },
  {
   "cell_type": "markdown",
   "metadata": {
    "cell_id": "29c149eafa9c40329af62924136d15f3",
    "deepnote_cell_type": "markdown",
    "vscode": {
     "languageId": "raw"
    }
   },
   "source": [
    "---\n",
    "\n",
    "# 恭喜你！\n",
    "\n",
    "你已成功完成 **HardwareStation 与进阶场景** 笔记本！你学到了：\n",
    "\n",
    "- **HardwareStation** —— 自动化复杂机器人搭建的高级工具\n",
    "- **Scenario 文件** —— 基于 YAML 的声明式场景配置\n",
    "- **自定义资产** —— 将你自己的模型加载到场景中\n",
    "\n",
    "---\n",
    "\n",
    "# GRADESCOPE 验证\n",
    "恭喜你！本笔记本全部完成。现在在浏览器中回放仿真并将录屏上传到 Gradescope。\n"
   ]
  }
 ],
 "metadata": {
  "deepnote_notebook_id": "e1c1555aff074412a65c18198c330696",
  "kernelspec": {
   "display_name": "drake",
   "language": "python",
   "name": "python3"
  },
  "language_info": {
   "codemirror_mode": {
    "name": "ipython",
    "version": 3
   },
   "file_extension": ".py",
   "mimetype": "text/x-python",
   "name": "python",
   "nbconvert_exporter": "python",
   "pygments_lexer": "ipython3",
   "version": "3.10.0"
  }
 },
 "nbformat": "4",
 "nbformat_minor": "0"
}
