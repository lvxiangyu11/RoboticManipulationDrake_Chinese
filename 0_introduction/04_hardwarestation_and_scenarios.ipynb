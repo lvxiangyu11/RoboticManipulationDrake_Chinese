{
 "cells": [
  {
   "cell_type": "markdown",
   "metadata": {
    "cell_id": "99a3bf40a4c04986b39e8a531c0420da",
    "deepnote_cell_type": "markdown",
    "vscode": {
     "languageId": "raw"
    }
   },
   "source": [
    "# 笔记本3：HardwareStation 与进阶场景\n",
    "\n",
    "在上一个笔记本中，我们用 `Parser`、`MultibodyPlant`、`SceneGraph` 和 `DiagramBuilder` 手动搭建了 Drake 机器人仿真。本节将介绍如何用 `HardwareStation` 系统和 `scenario.yaml` 文件，让这一过程在许多场景下变得更简单。\n",
    "\n",
    "**学习目标：**\n",
    "1. 理解 `HardwareStation`：这是一个 `System`，为常见机器人硬件（如机械臂、夹爪、相机等）提供便捷的高级配置与仿真接口。\n",
    "2. 熟悉 `scenario.yaml` 文件，实现声明式场景搭建\n",
    "3. 对比“手动”方式与 `HardwareStation` 的便捷性\n",
    "\n",
    "**你将实现的内容：** 用 `HardwareStation` 和场景文件搭建自定义操作场景，包含你在笔记本2中生成的姓名首字母资产！\n",
    "\n",
    "**参考资料：** 本笔记本基于教材 [第2.5章](https://manipulation.csail.mit.edu/robot.html#hardware_station) 的示例。该章节详细介绍了 `HardwareStation` 的原理和用法。请在做题前阅读该章节！\n",
    "\n",
    "---\n"
   ]
  },
  {
   "cell_type": "markdown",
   "metadata": {
    "cell_id": "8aa81ebf43f24ecfbd6a994cf54ffb8d",
    "deepnote_cell_type": "markdown",
    "vscode": {
     "languageId": "raw"
    }
   },
   "source": [
    "## 环境配置与导入\n",
    "\n",
    "让我们导入 HardwareStation 和场景文件所需的 Drake 功能。\n",
    "\n",
    "要搭建完整场景只需导入两个函数（稍后会详细解释）：\n",
    "- `MakeHardwareStation`\n",
    "- `LoadScenario`\n",
    "\n",
    "（注意：这两个函数及其它 `HardwareStation` 相关功能都在专为本课程开发的 `manipulation` 包中，而不是 Drake 官方包！）"
   ]
  },
  {
   "cell_type": "code",
   "execution_count": 1,
   "metadata": {
    "cell_id": "12076e15915d4d07aa8864d81947102f",
    "deepnote_cell_type": "code",
    "execution_context_id": "ddf6ee34-47fc-4603-96df-7f61fb706903",
    "execution_millis": 637,
    "execution_start": 1756479357351,
    "source_hash": "a3d3b92e"
   },
   "outputs": [],
   "source": [
    "from pathlib import Path\n",
    "\n",
    "import numpy as np\n",
    "from pydrake.all import (\n",
    "    Diagram,\n",
    "    DiagramBuilder,\n",
    "    RigidTransform,\n",
    "    Simulator,\n",
    "    StartMeshcat,\n",
    ")\n",
    "\n",
    "from manipulation.exercises.grader import Grader\n",
    "from manipulation.exercises.intro.test_hardwarestation_and_scenarios import (\n",
    "    TestHardwareStationBasic,\n",
    "    TestHardwareStationBimanual,\n",
    "    TestHardwareStationFullSystem,\n",
    ")\n",
    "from manipulation.letter_generation import create_sdf_asset_from_letter\n",
    "from manipulation.station import (\n",
    "    LoadScenario,\n",
    "    MakeHardwareStation,\n",
    "    RobotDiagram,\n",
    ")\n",
    "from manipulation.utils import RenderDiagram, running_as_notebook"
   ]
  },
  {
   "cell_type": "markdown",
   "metadata": {
    "cell_id": "fb90c526860e4db78f274322604ceda4",
    "deepnote_cell_type": "markdown",
    "vscode": {
     "languageId": "raw"
    }
   },
   "source": [
    "## Meshcat 可视化\n",
    "\n",
    "和往常一样，先启动 Meshcat 进行三维可视化！\n"
   ]
  },
  {
   "cell_type": "code",
   "execution_count": 2,
   "metadata": {
    "cell_id": "55bf5bfffc2b4477960679981fb24967",
    "deepnote_cell_type": "code",
    "execution_context_id": "ddf6ee34-47fc-4603-96df-7f61fb706903",
    "execution_millis": 0,
    "execution_start": 1756479358041,
    "source_hash": "8229bdd1"
   },
   "outputs": [
    {
     "name": "stderr",
     "output_type": "stream",
     "text": [
      "INFO:drake:Meshcat listening for connections at http://localhost:7000\n"
     ]
    },
    {
     "name": "stdout",
     "output_type": "stream",
     "text": [
      "点击上方链接，在浏览器中打开 Meshcat！\n"
     ]
    }
   ],
   "source": [
    "# 启动 meshcat 进行可视化\n",
    "meshcat = StartMeshcat()\n",
    "print(\"点击上方链接，在浏览器中打开 Meshcat！\")"
   ]
  },
  {
   "cell_type": "markdown",
   "metadata": {
    "cell_id": "886e5b63f2da4df0b3ea87386e1b6ee4",
    "deepnote_cell_type": "markdown",
    "vscode": {
     "languageId": "raw"
    }
   },
   "source": [
    "---\n",
    "\n",
    "## 第一部分：从手动搭建到 HardwareStation\n",
    "\n",
    "在笔记本2中，你手动搭建仿真流程：\n",
    "1. 创建 `DiagramBuilder`、`MultibodyPlant`、`SceneGraph`\n",
    "2. 添加 `Parser`，加载机器人，焊接坐标系\n",
    "3. 添加可视化、finalize、build...\n",
    "\n",
    "`MakeHardwareStation` 函数能帮你自动完成上述所有步骤！让我们看看区别。\n",
    "\n",
    "**你的任务：** 先用 `HardwareStation`（而不是手动方式）创建一个仅包含被动 IIWA14 的简单仿真，和上个笔记本类似。\n",
    "\n",
    "**核心概念：**\n",
    "- 用 YAML 格式的 scenario 指令描述场景\n",
    "- 用 `LoadScenario` 解析 YAML 字符串为 `scenario` 对象\n",
    "- 用 `MakeHardwareStation` 和 `scenario` 一步搭建完整场景\n",
    "\n",
    "**参考：** 推荐先阅读 [Bimanual Manipulation Example](https://deepnote.com/workspace/Manipulation-ac8201a1-470a-4c77-afd0-2cc45bc229ff/project/8f86172b-b597-4ceb-9bad-92d11ac7a6cc/notebook/bimanual-3df3abe2b1b949eb9daaf3748b16a218) 了解 scenario 指令和上述函数的用法。"
   ]
  },
  {
   "cell_type": "code",
   "execution_count": null,
   "metadata": {
    "cell_id": "2aff3f1297e94ad4960d3dc892a919e4",
    "deepnote_cell_type": "code",
    "execution_context_id": "ddf6ee34-47fc-4603-96df-7f61fb706903",
    "execution_millis": 1,
    "execution_start": 1756479358160,
    "source_hash": "4168dd9c"
   },
   "outputs": [],
   "source": [
    "# TODO：用 HardwareStation 创建一个简单的 IIWA14 仿真\n",
    "\n",
    "\n",
    "def create_IIWA14_with_hardware_station() -> Diagram:\n",
    "    # TODO：编写加载 IIWA14 机器人的简单 scenario 字符串。\n",
    "    #       记得把机器人焊接到世界坐标系！\n",
    "    # 提示：参考上方 Bimanual Manipulation Example，\n",
    "    #       重点看 `directives` 部分，示例中添加了两个 IIWA7。\n",
    "    #       - `name` 可自定义。\n",
    "    #       - 示例用的是 IIWA7，你可以用之前的 IIWA14。\n",
    "    #       - 示例为机器人加了 `wsg` 夹爪，你也可以加。\n",
    "    #       - `model_drivers` 指定了控制器，本节可忽略。\n",
    "    # TODO：添加 IIWA14 机器人模型\n",
    "    # TODO：设置默认关节位置\n",
    "    # 提示：`default_joint_positions` 用到的关节名来自 URDF/SDF 文件。\n",
    "    #       可参考：\n",
    "    #       https://github.com/RobotLocomotion/models/blob/master/iiwa_description/urdf/iiwa14_primitive_collision.urdf\n",
    "    # TODO：焊接机器人基座到世界坐标系\n",
    "    scenario_string = \"\"\"directives:\n",
    "    - add_model:\n",
    "        name: iiwa14\n",
    "        file: package://drake_models/iiwa_description/urdf/iiwa14_primitive_collision.urdf\n",
    "        default_joint_positions:\n",
    "            iiwa_joint_1: [0.0]\n",
    "            iiwa_joint_2: [0.0]\n",
    "            iiwa_joint_3: [0.0]\n",
    "            iiwa_joint_4: [0.0]\n",
    "            iiwa_joint_5: [0.0]\n",
    "            iiwa_joint_6: [0.0]\n",
    "            iiwa_joint_7: [0.0]\n",
    "    - add_weld:\n",
    "        parent: world\n",
    "        child: iiwa14::iiwa_link_0\n",
    "        X_PC:\n",
    "            translation: [0, 0, 0]\n",
    "            rotation: !Rpy { deg: [0, 0, 0] }\n",
    "    \"\"\"\n",
    "\n",
    "    # TODO：用 `LoadScenario` 函数直接从字符串加载 scenario\n",
    "    scenario = LoadScenario(data=scenario_string)\n",
    "\n",
    "    # TODO：用 `MakeHardwareStation` 和 meshcat 创建 HardwareStation\n",
    "    station = MakeHardwareStation(scenario, meshcat)\n",
    "\n",
    "    # TODO：创建 DiagramBuilder，将 station 加入并 build diagram\n",
    "    builder = DiagramBuilder()\n",
    "    builder.AddSystem(station)\n",
    "    diagram = builder.Build()\n",
    "\n",
    "    # TODO：返回 DiagramBuilder 构建的 diagram\n",
    "    return diagram"
   ]
  },
  {
   "cell_type": "code",
   "execution_count": 4,
   "metadata": {
    "cell_id": "c16ce753220449789319b82555ef57a5",
    "deepnote_cell_type": "code"
   },
   "outputs": [
    {
     "name": "stdout",
     "output_type": "stream",
     "text": [
      "Total score is 10/10.\n",
      "\n",
      "Score for Test basic IIWA14 HardwareStation creation and structure is 10/10.\n"
     ]
    }
   ],
   "source": [
    "# Use this to test your implementation if you want!\n",
    "Grader.grade_output([TestHardwareStationBasic], [locals()], \"results.json\")\n",
    "Grader.print_test_results(\"results.json\")"
   ]
  },
  {
   "cell_type": "markdown",
   "metadata": {
    "cell_id": "4292d626486b4c27a8f2fd52f0d2ce8b",
    "deepnote_cell_type": "markdown"
   },
   "source": [
    "让我们看看系统的模块图："
   ]
  },
  {
   "cell_type": "code",
   "execution_count": 5,
   "metadata": {
    "cell_id": "109d21c962704f26b0bb01a2509a9bda",
    "deepnote_cell_type": "code",
    "execution_context_id": "ddf6ee34-47fc-4603-96df-7f61fb706903",
    "execution_millis": 844,
    "execution_start": 1756479358273,
    "source_hash": "92a704da"
   },
   "outputs": [
    {
     "data": {
      "image/svg+xml": [
       "<svg xmlns=\"http://www.w3.org/2000/svg\" xmlns:xlink=\"http://www.w3.org/1999/xlink\" width=\"628pt\" height=\"613pt\" viewBox=\"0.00 0.00 628.00 613.00\">\n",
       "<g id=\"graph0\" class=\"graph\" transform=\"scale(1 1) rotate(0) translate(4 609)\">\n",
       "<title>_308</title>\n",
       "<polygon fill=\"white\" stroke=\"transparent\" points=\"-4,4 -4,-609 624,-609 624,4 -4,4\"/>\n",
       "<g id=\"clust1\" class=\"cluster\">\n",
       "<title>cluster308diagram</title>\n",
       "<polygon fill=\"none\" stroke=\"black\" points=\"8,-8 8,-597 612,-597 612,-8 8,-8\"/>\n",
       "<text text-anchor=\"start\" x=\"276\" y=\"-578.3\" font-family=\"Times,serif\" font-weight=\"bold\" font-size=\"14.00\">Diagram</text>\n",
       "</g>\n",
       "<g id=\"clust2\" class=\"cluster\">\n",
       "<title>cluster308subsystems</title>\n",
       "<polygon fill=\"none\" stroke=\"white\" points=\"16,-16 16,-558 604,-558 604,-16 16,-16\"/>\n",
       "</g>\n",
       "<!-- s307 -->\n",
       "<g id=\"node1\" class=\"node\">\n",
       "<title>s307</title>\n",
       "<polygon fill=\"none\" stroke=\"black\" points=\"32,-511 32,-545 588,-545 588,-511 32,-511\"/>\n",
       "<text text-anchor=\"start\" x=\"252.5\" y=\"-531.8\" font-family=\"Times,serif\" font-weight=\"bold\" font-size=\"14.00\">RobotDiagram</text>\n",
       "<text text-anchor=\"start\" x=\"259.5\" y=\"-517.8\" font-family=\"Times,serif\" font-size=\"14.00\">name=station</text>\n",
       "<polygon fill=\"none\" stroke=\"black\" points=\"32,-490 32,-511 224,-511 224,-490 32,-490\"/>\n",
       "<text text-anchor=\"start\" x=\"35\" y=\"-496.8\" font-family=\"Times,serif\" font-size=\"14.00\">applied_generalized_force</text>\n",
       "<polygon fill=\"none\" stroke=\"black\" points=\"224,-490 224,-511 588,-511 588,-490 224,-490\"/>\n",
       "<text text-anchor=\"start\" x=\"351.5\" y=\"-496.8\" font-family=\"Times,serif\" font-size=\"14.00\">geometry_pose</text>\n",
       "<polygon fill=\"none\" stroke=\"black\" points=\"32,-469 32,-490 224,-490 224,-469 32,-469\"/>\n",
       "<text text-anchor=\"start\" x=\"52.5\" y=\"-475.8\" font-family=\"Times,serif\" font-size=\"14.00\">applied_spatial_force</text>\n",
       "<polygon fill=\"none\" stroke=\"black\" points=\"224,-469 224,-490 588,-490 588,-469 224,-469\"/>\n",
       "<text text-anchor=\"start\" x=\"294\" y=\"-475.8\" font-family=\"Times,serif\" font-size=\"14.00\">deformable_body_configuration</text>\n",
       "<polygon fill=\"none\" stroke=\"black\" points=\"32,-448 32,-469 224,-469 224,-448 32,-448\"/>\n",
       "<text text-anchor=\"start\" x=\"67.5\" y=\"-454.8\" font-family=\"Times,serif\" font-size=\"14.00\">iiwa14_actuation</text>\n",
       "<polygon fill=\"none\" stroke=\"black\" points=\"224,-448 224,-469 588,-469 588,-448 224,-448\"/>\n",
       "<text text-anchor=\"start\" x=\"387.5\" y=\"-454.8\" font-family=\"Times,serif\" font-size=\"14.00\">state</text>\n",
       "<polyline fill=\"none\" stroke=\"grey\" points=\"32,-448 32,-28 224,-28 \"/>\n",
       "<polygon fill=\"none\" stroke=\"black\" points=\"224,-427 224,-448 588,-448 588,-427 224,-427\"/>\n",
       "<text text-anchor=\"start\" x=\"365\" y=\"-433.8\" font-family=\"Times,serif\" font-size=\"14.00\">body_poses</text>\n",
       "<polygon fill=\"none\" stroke=\"black\" points=\"224,-406 224,-427 588,-427 588,-406 224,-406\"/>\n",
       "<text text-anchor=\"start\" x=\"324\" y=\"-412.8\" font-family=\"Times,serif\" font-size=\"14.00\">body_spatial_velocities</text>\n",
       "<polygon fill=\"none\" stroke=\"black\" points=\"224,-385 224,-406 588,-406 588,-385 224,-385\"/>\n",
       "<text text-anchor=\"start\" x=\"310.5\" y=\"-391.8\" font-family=\"Times,serif\" font-size=\"14.00\">body_spatial_accelerations</text>\n",
       "<polygon fill=\"none\" stroke=\"black\" points=\"224,-364 224,-385 588,-385 588,-364 224,-364\"/>\n",
       "<text text-anchor=\"start\" x=\"317\" y=\"-370.8\" font-family=\"Times,serif\" font-size=\"14.00\">generalized_acceleration</text>\n",
       "<polygon fill=\"none\" stroke=\"black\" points=\"224,-343 224,-364 588,-364 588,-343 224,-343\"/>\n",
       "<text text-anchor=\"start\" x=\"357.5\" y=\"-349.8\" font-family=\"Times,serif\" font-size=\"14.00\">net_actuation</text>\n",
       "<polygon fill=\"none\" stroke=\"black\" points=\"224,-322 224,-343 588,-343 588,-322 224,-322\"/>\n",
       "<text text-anchor=\"start\" x=\"351.5\" y=\"-328.8\" font-family=\"Times,serif\" font-size=\"14.00\">reaction_forces</text>\n",
       "<polygon fill=\"none\" stroke=\"black\" points=\"224,-301 224,-322 588,-322 588,-301 224,-301\"/>\n",
       "<text text-anchor=\"start\" x=\"351.5\" y=\"-307.8\" font-family=\"Times,serif\" font-size=\"14.00\">contact_results</text>\n",
       "<polygon fill=\"none\" stroke=\"black\" points=\"224,-280 224,-301 588,-301 588,-280 224,-280\"/>\n",
       "<text text-anchor=\"start\" x=\"311\" y=\"-286.8\" font-family=\"Times,serif\" font-size=\"14.00\" fill=\"grey\">WorldModelInstance_state</text>\n",
       "<polygon fill=\"none\" stroke=\"black\" points=\"224,-259 224,-280 588,-280 588,-259 224,-259\"/>\n",
       "<text text-anchor=\"start\" x=\"240.5\" y=\"-265.8\" font-family=\"Times,serif\" font-size=\"14.00\" fill=\"grey\">WorldModelInstance_generalized_acceleration</text>\n",
       "<polygon fill=\"none\" stroke=\"black\" points=\"224,-238 224,-259 588,-259 588,-238 224,-238\"/>\n",
       "<text text-anchor=\"start\" x=\"232.5\" y=\"-244.8\" font-family=\"Times,serif\" font-size=\"14.00\" fill=\"grey\">WorldModelInstance_generalized_contact_forces</text>\n",
       "<polygon fill=\"none\" stroke=\"black\" points=\"224,-217 224,-238 588,-238 588,-217 224,-217\"/>\n",
       "<text text-anchor=\"start\" x=\"280.5\" y=\"-223.8\" font-family=\"Times,serif\" font-size=\"14.00\" fill=\"grey\">WorldModelInstance_net_actuation</text>\n",
       "<polygon fill=\"none\" stroke=\"black\" points=\"224,-196 224,-217 588,-217 588,-196 224,-196\"/>\n",
       "<text text-anchor=\"start\" x=\"305.5\" y=\"-202.8\" font-family=\"Times,serif\" font-size=\"14.00\" fill=\"grey\">DefaultModelInstance_state</text>\n",
       "<polygon fill=\"none\" stroke=\"black\" points=\"224,-175 224,-196 588,-196 588,-175 224,-175\"/>\n",
       "<text text-anchor=\"start\" x=\"235\" y=\"-181.8\" font-family=\"Times,serif\" font-size=\"14.00\" fill=\"grey\">DefaultModelInstance_generalized_acceleration</text>\n",
       "<polygon fill=\"none\" stroke=\"black\" points=\"224,-154 224,-175 588,-175 588,-154 224,-154\"/>\n",
       "<text text-anchor=\"start\" x=\"227\" y=\"-160.8\" font-family=\"Times,serif\" font-size=\"14.00\" fill=\"grey\">DefaultModelInstance_generalized_contact_forces</text>\n",
       "<polygon fill=\"none\" stroke=\"black\" points=\"224,-133 224,-154 588,-154 588,-133 224,-133\"/>\n",
       "<text text-anchor=\"start\" x=\"275\" y=\"-139.8\" font-family=\"Times,serif\" font-size=\"14.00\" fill=\"grey\">DefaultModelInstance_net_actuation</text>\n",
       "<polygon fill=\"none\" stroke=\"black\" points=\"224,-112 224,-133 588,-133 588,-112 224,-112\"/>\n",
       "<text text-anchor=\"start\" x=\"360.5\" y=\"-118.8\" font-family=\"Times,serif\" font-size=\"14.00\">iiwa14_state</text>\n",
       "<polygon fill=\"none\" stroke=\"black\" points=\"224,-91 224,-112 588,-112 588,-91 224,-91\"/>\n",
       "<text text-anchor=\"start\" x=\"290\" y=\"-97.8\" font-family=\"Times,serif\" font-size=\"14.00\">iiwa14_generalized_acceleration</text>\n",
       "<polygon fill=\"none\" stroke=\"black\" points=\"224,-70 224,-91 588,-91 588,-70 224,-70\"/>\n",
       "<text text-anchor=\"start\" x=\"282.5\" y=\"-76.8\" font-family=\"Times,serif\" font-size=\"14.00\">iiwa14_generalized_contact_forces</text>\n",
       "<polygon fill=\"none\" stroke=\"black\" points=\"224,-49 224,-70 588,-70 588,-49 224,-49\"/>\n",
       "<text text-anchor=\"start\" x=\"330.5\" y=\"-55.8\" font-family=\"Times,serif\" font-size=\"14.00\">iiwa14_net_actuation</text>\n",
       "<polygon fill=\"none\" stroke=\"black\" points=\"224,-28 224,-49 588,-49 588,-28 224,-28\"/>\n",
       "<text text-anchor=\"start\" x=\"360\" y=\"-34.8\" font-family=\"Times,serif\" font-size=\"14.00\">query_object</text>\n",
       "</g>\n",
       "</g>\n",
       "</svg>"
      ],
      "text/plain": [
       "<IPython.core.display.SVG object>"
      ]
     },
     "metadata": {},
     "output_type": "display_data"
    }
   ],
   "source": [
    "diagram = create_IIWA14_with_hardware_station()\n",
    "RenderDiagram(diagram, max_depth=1)"
   ]
  },
  {
   "cell_type": "code",
   "execution_count": 6,
   "metadata": {
    "cell_id": "30235b76ed504d26b4570589ab31766d",
    "deepnote_cell_type": "code",
    "execution_context_id": "ddf6ee34-47fc-4603-96df-7f61fb706903",
    "execution_millis": 14961,
    "execution_start": 1756479359170,
    "source_hash": "64f449a0"
   },
   "outputs": [
    {
     "name": "stdout",
     "output_type": "stream",
     "text": [
      "请在 Meshcat 窗口（http://localhost:7000）查看机器人仿真！\n"
     ]
    },
    {
     "data": {
      "text/plain": [
       "<pydrake.systems.analysis.SimulatorStatus at 0x7f0584a3a4f0>"
      ]
     },
     "execution_count": 6,
     "metadata": {},
     "output_type": "execute_result"
    }
   ],
   "source": [
    "print(f\"请在 Meshcat 窗口（{meshcat.web_url()}）查看机器人仿真！\")\n",
    "\n",
    "# 也可以仿真简单的 IIWA14 场景，确保一切正常！\n",
    "# TODO：为 diagram 创建 context\n",
    "context = diagram.CreateDefaultContext()\n",
    "\n",
    "# TODO：创建仿真器\n",
    "simulator = Simulator(diagram, context)\n",
    "\n",
    "# TODO：设置实时速率为 1.0\n",
    "simulator.set_target_realtime_rate(1.0)\n",
    "\n",
    "# TODO：仿真 15 秒\n",
    "simulator.AdvanceTo(15.0)"
   ]
  },
  {
   "cell_type": "markdown",
   "metadata": {
    "cell_id": "c375efccd6df4c299c99c133e63f93cd",
    "deepnote_cell_type": "markdown"
   },
   "source": [
    "---\n",
    "\n",
    "## 第二部分：双臂 IIWA 场景\n",
    "\n",
    "很好！为了展示 scenario 指令修改场景的便捷性，让我们再加一个 IIWA14。\n",
    "\n",
    "**你的任务：** 用 scenario 指令创建包含两个 IIWA14 机器人、分别焊接在不同位置的场景。\n",
    "\n",
    "**核心概念：** scenario 文件让你只需几行代码就能灵活修改场景——添加机器人、变更位置、调整配置都很方便。\n",
    "\n",
    "**参考：** 推荐先阅读 [Bimanual Manipulation Example](https://deepnote.com/workspace/Manipulation-ac8201a1-470a-4c77-afd0-2cc45bc229ff/project/8f86172b-b597-4ceb-9bad-92d11ac7a6cc/notebook/bimanual-3df3abe2b1b949eb9daaf3748b16a218) 了解 scenario 指令和上述函数的用法。"
   ]
  },
  {
   "cell_type": "code",
   "execution_count": 7,
   "metadata": {
    "cell_id": "06803bfd9cd4433286d0d05dfae99422",
    "deepnote_cell_type": "code",
    "execution_context_id": "ddf6ee34-47fc-4603-96df-7f61fb706903",
    "execution_millis": 8,
    "execution_start": 1756479374817,
    "source_hash": "b6bd7cc7"
   },
   "outputs": [],
   "source": [
    "def create_bimanual_IIWA14_with_hardware_station() -> Diagram:\n",
    "    # TODO：编写加载两个 IIWA14 机器人的 scenario 字符串。\n",
    "    # TODO：记得把两个机器人焊接到世界坐标系的不同位置！\n",
    "\n",
    "    # TODO：添加左臂 IIWA14 机器人模型\n",
    "    # TODO：设置默认关节位置\n",
    "    # TODO：焊接机器人基座到世界坐标系\n",
    "    # TODO：添加右臂 IIWA14 机器人模型\n",
    "    # TODO：设置默认关节位置\n",
    "    # TODO：焊接机器人基座到世界坐标系\n",
    "    scenario_string = \"\"\"directives:\n",
    "- add_model:\n",
    "    name: iiwa14_left\n",
    "    file: package://drake_models/iiwa_description/urdf/iiwa14_primitive_collision.urdf\n",
    "    default_joint_positions:\n",
    "        iiwa_joint_1: [0.0]\n",
    "        iiwa_joint_2: [0.3]\n",
    "        iiwa_joint_3: [0.0]\n",
    "        iiwa_joint_4: [-1.5]\n",
    "        iiwa_joint_5: [0.0]\n",
    "        iiwa_joint_6: [1.8]\n",
    "        iiwa_joint_7: [0.0]\n",
    "- add_weld:\n",
    "    parent: world\n",
    "    child: iiwa14_left::iiwa_link_0\n",
    "    X_PC:\n",
    "        translation: [0, 0.5, 0]\n",
    "        rotation: !Rpy { deg: [0, 0, 0] }\n",
    "- add_model:\n",
    "    name: iiwa14_right\n",
    "    file: package://drake_models/iiwa_description/urdf/iiwa14_primitive_collision.urdf\n",
    "    default_joint_positions:\n",
    "        iiwa_joint_1: [0.0]\n",
    "        iiwa_joint_2: [0.3]\n",
    "        iiwa_joint_3: [0.0]\n",
    "        iiwa_joint_4: [-1.5]\n",
    "        iiwa_joint_5: [0.0]\n",
    "        iiwa_joint_6: [1.8]\n",
    "        iiwa_joint_7: [0.0]\n",
    "- add_weld:\n",
    "    parent: world\n",
    "    child: iiwa14_right::iiwa_link_0\n",
    "    X_PC:\n",
    "        translation: [0, -0.5, 0]\n",
    "        rotation: !Rpy { deg: [0, 0, 0] }\n",
    "\"\"\"\n",
    "\n",
    "    # TODO：用字符串加载 scenario\n",
    "    scenario = LoadScenario(data=scenario_string)\n",
    "\n",
    "    # TODO：用 meshcat 创建 HardwareStation\n",
    "    station = MakeHardwareStation(scenario, meshcat)\n",
    "\n",
    "    # TODO：创建 DiagramBuilder，添加 station，build diagram\n",
    "    builder = DiagramBuilder()\n",
    "    builder.AddSystem(station)\n",
    "    diagram = builder.Build()\n",
    "\n",
    "    # TODO：返回 diagram\n",
    "    return diagram\n",
    "\n",
    "\n",
    "diagram = create_bimanual_IIWA14_with_hardware_station()"
   ]
  },
  {
   "cell_type": "code",
   "execution_count": 8,
   "metadata": {
    "cell_id": "da725d0b30a84a2f8f57ceefd440f861",
    "deepnote_cell_type": "code"
   },
   "outputs": [
    {
     "name": "stdout",
     "output_type": "stream",
     "text": [
      "Total score is 10/10.\n",
      "\n",
      "Score for Test bimanual IIWA14 HardwareStation creation and structure is 10/10.\n"
     ]
    }
   ],
   "source": [
    "# Use this to test your implementation if you want!\n",
    "Grader.grade_output([TestHardwareStationBimanual], [locals()], \"results.json\")\n",
    "Grader.print_test_results(\"results.json\")"
   ]
  },
  {
   "cell_type": "markdown",
   "metadata": {
    "cell_id": "0c8385ab3d9e4a5b83324df2a7729243",
    "deepnote_cell_type": "markdown"
   },
   "source": [
    "接下来仿真该场景，确保一切正常："
   ]
  },
  {
   "cell_type": "code",
   "execution_count": 9,
   "metadata": {
    "cell_id": "e88c627529314a35aded98e9d01c96d3",
    "deepnote_cell_type": "code",
    "execution_context_id": "ddf6ee34-47fc-4603-96df-7f61fb706903",
    "execution_millis": 14987,
    "execution_start": 1756479374880,
    "source_hash": "308262ab"
   },
   "outputs": [
    {
     "name": "stdout",
     "output_type": "stream",
     "text": [
      "请在 Meshcat 窗口（http://localhost:7000）查看机器人仿真！\n"
     ]
    },
    {
     "data": {
      "text/plain": [
       "<pydrake.systems.analysis.SimulatorStatus at 0x7f0608db1170>"
      ]
     },
     "execution_count": 9,
     "metadata": {},
     "output_type": "execute_result"
    }
   ],
   "source": [
    "print(f\"请在 Meshcat 窗口（{meshcat.web_url()}）查看机器人仿真！\")\n",
    "\n",
    "# 也可以仿真简单的 IIWA14 场景，确保一切正常！\n",
    "# TODO：为 station 创建 context\n",
    "context = diagram.CreateDefaultContext()\n",
    "\n",
    "# TODO：创建仿真器\n",
    "simulator = Simulator(diagram, context)\n",
    "\n",
    "# TODO：设置实时速率为 1.0\n",
    "simulator.set_target_realtime_rate(1.0)\n",
    "\n",
    "# TODO：仿真 15 秒\n",
    "simulator.AdvanceTo(15.0)"
   ]
  },
  {
   "cell_type": "markdown",
   "metadata": {
    "cell_id": "f139aeadf51846138e13ff9d37afa379",
    "deepnote_cell_type": "markdown",
    "vscode": {
     "languageId": "raw"
    }
   },
   "source": [
    "---\n",
    "\n",
    "## 第三部分：用 scenario 文件和模型指令加载自定义资产\n",
    "\n",
    "现在学习如何用 scenario 文件加载自定义资产！我们将创建 YAML 场景文件，引用你的自定义模型并加载到 `HardwareStation`。\n",
    "\n",
    "**你的任务：** 从零创建 scenario 文件，并用模型指令加载你的自定义资产。\n",
    "\n",
    "**目标：** 导出包含双臂 IIWA14 和自定义资产的仿真视频，上传到 Gradescope。\n",
    "\n",
    "**参考：** 推荐先阅读 [Bimanual Manipulation Example](https://deepnote.com/workspace/Manipulation-ac8201a1-470a-4c77-afd0-2cc45bc229ff/project/8f86172b-b597-4ceb-9bad-92d11ac7a6cc/notebook/bimanual-3df3abe2b1b949eb9daaf3748b16a218) 了解 scenario 指令和上述函数的用法。"
   ]
  },
  {
   "cell_type": "markdown",
   "metadata": {
    "cell_id": "79d1e3eb0a2d4f66a3675b2fc5182794",
    "deepnote_cell_type": "markdown"
   },
   "source": [
    "首先确保你的字母资产已生成在正确的文件夹。运行下方代码，自由调整字母属性！"
   ]
  },
  {
   "cell_type": "code",
   "execution_count": 10,
   "metadata": {
    "cell_id": "b7142eb5143145c4b013daf3e4a3d4bc",
    "deepnote_cell_type": "code"
   },
   "outputs": [
    {
     "name": "stderr",
     "output_type": "stream",
     "text": [
      "WARNING:trimesh.util:try running `pip install mapbox-earcut manifold3d`or `triangle`, `mapbox_earcut`, then explicitly pass:\n",
      "`triangulate_polygon(*args, engine=\"triangle\")`\n",
      "to use the non-FSF-approved-license triangle engine\n",
      "ERROR:root:Error creating SDF asset for letter 'B': No available triangulation engine!\n",
      "WARNING:trimesh.util:try running `pip install mapbox-earcut manifold3d`or `triangle`, `mapbox_earcut`, then explicitly pass:\n",
      "`triangulate_polygon(*args, engine=\"triangle\")`\n",
      "to use the non-FSF-approved-license triangle engine\n",
      "ERROR:root:Error creating SDF asset for letter 'P': No available triangulation engine!\n",
      "WARNING:trimesh.util:try running `pip install mapbox-earcut manifold3d`or `triangle`, `mapbox_earcut`, then explicitly pass:\n",
      "`triangulate_polygon(*args, engine=\"triangle\")`\n",
      "to use the non-FSF-approved-license triangle engine\n",
      "ERROR:root:Error creating SDF asset for letter 'G': No available triangulation engine!\n",
      "ERROR:root:Error creating SDF asset for letter 'B': No available triangulation engine!\n",
      "WARNING:trimesh.util:try running `pip install mapbox-earcut manifold3d`or `triangle`, `mapbox_earcut`, then explicitly pass:\n",
      "`triangulate_polygon(*args, engine=\"triangle\")`\n",
      "to use the non-FSF-approved-license triangle engine\n",
      "ERROR:root:Error creating SDF asset for letter 'P': No available triangulation engine!\n",
      "WARNING:trimesh.util:try running `pip install mapbox-earcut manifold3d`or `triangle`, `mapbox_earcut`, then explicitly pass:\n",
      "`triangulate_polygon(*args, engine=\"triangle\")`\n",
      "to use the non-FSF-approved-license triangle engine\n",
      "ERROR:root:Error creating SDF asset for letter 'G': No available triangulation engine!\n"
     ]
    }
   ],
   "source": [
    "# Let us save our files to a new folder called `assets` in the `Files`\n",
    "# section on the left\n",
    "output_dir = Path(\"assets/\")\n",
    "\n",
    "# TODO: Insert your initials here!\n",
    "your_initials = \"BPG\"\n",
    "\n",
    "for letter in your_initials:\n",
    "    create_sdf_asset_from_letter(\n",
    "        text=letter,\n",
    "        font_name=\"DejaVu Sans\",\n",
    "        letter_height_meters=0.2,\n",
    "        extrusion_depth_meters=0.07,\n",
    "        output_dir=output_dir / f\"{letter}_model\",\n",
    "    )"
   ]
  },
  {
   "cell_type": "markdown",
   "metadata": {
    "cell_id": "f85cf3a155aa43fdb7147dc2e867de2e",
    "deepnote_cell_type": "markdown"
   },
   "source": [
    "In order to load assets using the model directives we need to have them as local files. Let us save our table asset from the previous notebook to a local file. Fill out the missing code below:"
   ]
  },
  {
   "cell_type": "code",
   "execution_count": 17,
   "metadata": {
    "cell_id": "cc01317be87f419998323c002da2a406",
    "deepnote_cell_type": "code",
    "execution_context_id": "ddf6ee34-47fc-4603-96df-7f61fb706903",
    "execution_millis": 304,
    "execution_start": 1756479390330,
    "source_hash": "57856523"
   },
   "outputs": [],
   "source": [
    "# TODO：将你在笔记本2中写的 table_sdf = ... 代码粘贴到这里\n",
    "table_sdf = \"\"\"<?xml version=\"1.0\"?>\n",
    "<sdf version=\"1.7\">\n",
    "  <model name=\"table\">\n",
    "    <static>true</static>\n",
    "    <link name=\"table_link\">\n",
    "      <visual name=\"table_visual\">\n",
    "        <geometry>\n",
    "          <box>\n",
    "            <size>1.2 0.8 0.05</size>\n",
    "          </box>\n",
    "        </geometry>\n",
    "        <material>\n",
    "          <diffuse>0.8 0.6 0.4 1.0</diffuse>\n",
    "        </material>\n",
    "      </visual>\n",
    "      <collision name=\"table_collision\">\n",
    "        <geometry>\n",
    "          <box>\n",
    "            <size>1.2 0.8 0.05</size>\n",
    "          </box>\n",
    "        </geometry>\n",
    "      </collision>\n",
    "      <inertial>\n",
    "        <mass>10.0</mass>\n",
    "        <inertia>\n",
    "          <ixx>0.83</ixx>\n",
    "          <iyy>1.83</iyy>\n",
    "          <izz>2.5</izz>\n",
    "          <ixy>0</ixy>\n",
    "          <ixz>0</ixz>\n",
    "          <iyz>0</iyz>\n",
    "        </inertia>\n",
    "      </inertial>\n",
    "    </link>\n",
    "    <!-- 添加桌腿 -->\n",
    "    <link name=\"leg1\">\n",
    "      <pose>0.55 0.35 -0.375 0 0 0</pose>\n",
    "      <visual name=\"leg1_visual\">\n",
    "        <geometry>\n",
    "          <cylinder>\n",
    "            <radius>0.025</radius>\n",
    "            <length>0.75</length>\n",
    "          </cylinder>\n",
    "        </geometry>\n",
    "        <material>\n",
    "          <diffuse>0.6 0.4 0.2 1.0</diffuse>\n",
    "        </material>\n",
    "      </visual>\n",
    "      <collision name=\"leg1_collision\">\n",
    "        <geometry>\n",
    "          <cylinder>\n",
    "            <radius>0.025</radius>\n",
    "            <length>0.75</length>\n",
    "          </cylinder>\n",
    "        </geometry>\n",
    "      </collision>\n",
    "    </link>\n",
    "    <link name=\"leg2\">\n",
    "      <pose>0.55 -0.35 -0.375 0 0 0</pose>\n",
    "      <visual name=\"leg2_visual\">\n",
    "        <geometry>\n",
    "          <cylinder>\n",
    "            <radius>0.025</radius>\n",
    "            <length>0.75</length>\n",
    "          </cylinder>\n",
    "        </geometry>\n",
    "        <material>\n",
    "          <diffuse>0.6 0.4 0.2 1.0</diffuse>\n",
    "        </material>\n",
    "      </visual>\n",
    "      <collision name=\"leg2_collision\">\n",
    "        <geometry>\n",
    "          <cylinder>\n",
    "            <radius>0.025</radius>\n",
    "            <length>0.75</length>\n",
    "          </cylinder>\n",
    "        </geometry>\n",
    "      </collision>\n",
    "    </link>\n",
    "    <link name=\"leg3\">\n",
    "      <pose>-0.55 0.35 -0.375 0 0 0</pose>\n",
    "      <visual name=\"leg3_visual\">\n",
    "        <geometry>\n",
    "          <cylinder>\n",
    "            <radius>0.025</radius>\n",
    "            <length>0.75</length>\n",
    "          </cylinder>\n",
    "        </geometry>\n",
    "        <material>\n",
    "          <diffuse>0.6 0.4 0.2 1.0</diffuse>\n",
    "        </material>\n",
    "      </visual>\n",
    "      <collision name=\"leg3_collision\">\n",
    "        <geometry>\n",
    "          <cylinder>\n",
    "            <radius>0.025</radius>\n",
    "            <length>0.75</length>\n",
    "          </cylinder>\n",
    "        </geometry>\n",
    "      </collision>\n",
    "    </link>\n",
    "    <link name=\"leg4\">\n",
    "      <pose>-0.55 -0.35 -0.375 0 0 0</pose>\n",
    "      <visual name=\"leg4_visual\">\n",
    "        <geometry>\n",
    "          <cylinder>\n",
    "            <radius>0.025</radius>\n",
    "            <length>0.75</length>\n",
    "          </cylinder>\n",
    "        </geometry>\n",
    "        <material>\n",
    "          <diffuse>0.6 0.4 0.2 1.0</diffuse>\n",
    "        </material>\n",
    "      </visual>\n",
    "      <collision name=\"leg4_collision\">\n",
    "        <geometry>\n",
    "          <cylinder>\n",
    "            <radius>0.025</radius>\n",
    "            <length>0.75</length>\n",
    "          </cylinder>\n",
    "        </geometry>\n",
    "      </collision>\n",
    "    </link>\n",
    "    <!-- 将桌腿连接到桌面 -->\n",
    "    <joint name=\"leg1_joint\" type=\"fixed\">\n",
    "      <parent>table_link</parent>\n",
    "      <child>leg1</child>\n",
    "    </joint>\n",
    "    <joint name=\"leg2_joint\" type=\"fixed\">\n",
    "      <parent>table_link</parent>\n",
    "      <child>leg2</child>\n",
    "    </joint>\n",
    "    <joint name=\"leg3_joint\" type=\"fixed\">\n",
    "      <parent>table_link</parent>\n",
    "      <child>leg3</child>\n",
    "    </joint>\n",
    "    <joint name=\"leg4_joint\" type=\"fixed\">\n",
    "      <parent>table_link</parent>\n",
    "      <child>leg4</child>\n",
    "    </joint>\n",
    "  </model>\n",
    "</sdf>\n",
    "\"\"\"\n",
    "\n",
    "# TODO：将 table SDF 写入文件\n",
    "table_sdf_path = \"assets/table.sdf\"\n",
    "with open(table_sdf_path, \"w\") as f:\n",
    "    f.write(table_sdf)"
   ]
  },
  {
   "cell_type": "markdown",
   "metadata": {
    "cell_id": "94573783442b499d8f10fdaf95d13f85",
    "deepnote_cell_type": "markdown"
   },
   "source": [
    "很好。现在我们可以像之前用 scenario 指令加载 IIWA14 一样加载自定义资产。要在 scenario 指令中访问本地文件，语法如下：\n",
    "- `file://绝对路径/your/file.sdf`\n",
    "\n",
    "例如，assets 文件夹下的字母 B，可以用如下 f-string：\n",
    "- `f\"file://{Path.cwd()}/assets/B_model/B.sdf\"`\n",
    "\n",
    "**注意**：资产路径必须为绝对路径，所以要用 `Path.cwd()` 获取当前工作目录！路径对空格和缩进很敏感，加载失败时请检查是否有多余空格。\n",
    "\n",
    "我们要把桌子焊接到世界坐标系，防止其掉落。\n",
    "\n",
    "还要为姓名首字母指定默认自由体位姿，格式如下（f-string 内）：\n",
    "```\n",
    "- add_model:\n",
    "    name: {YOUR_OBJECT_NAME}\n",
    "    file: {PATH_TO_OBJECT}\n",
    "    default_free_body_pose:\n",
    "        {BASE_LINK_NAME}:\n",
    "            translation: [x_pos, y_pos, z_pos]\n",
    "            rotation: !Rpy {{ deg: [x_rot, y_rot, z_rot] }}\n",
    "```\n",
    "请替换：\n",
    "- `{YOUR_OBJECT_NAME}`：自定义名称\n",
    "- `{PATH_TO_OBJECT}`：.sdf 或 .urdf 文件路径（本地或 drake-models 包路径均可）\n",
    "- `{BASE_LINK_NAME}`：.sdf 或 .urdf 文件中的基座 link 名称。\n",
    "\n",
    "例如字母 B，可写为：\n",
    "\n",
    "```\n",
    "- add_model:\n",
    "    name: B_letter\n",
    "    file: file://{Path.cwd()/assets/B_model.sdf}\n",
    "    default_free_body_pose:\n",
    "        B_body_link:\n",
    "            translation: [0, 1.0, 0.75]\n",
    "            rotation: !Rpy {{ deg: [42, 33, 18] }}\n",
    "```\n",
    "\n",
    "此外，还可以加载 [drake-models](https://github.com/RobotLocomotion/models) 中的物体，\n",
    "同样作为自由体（如 [这些物体](https://github.com/RobotLocomotion/models/tree/master/ycb)）。\n",
    "\n",
    "**总结：你需要实现的场景包括：**\n",
    "- 加载两个 Kuka IIWA14 机器人，设置默认关节位置，焊接到世界坐标系\n",
    "- 加载本地 .sdf 文件的桌子，并焊接到世界坐标系\n",
    "- 加载本地 .sdf 文件的姓名首字母，设置默认自由体位姿\n",
    "- 加载一个或多个 drake-models 物体，设置默认自由体位姿"
   ]
  },
  {
   "cell_type": "code",
   "execution_count": 18,
   "metadata": {
    "cell_id": "eee7e8207db949b79eb1bfc451459379",
    "deepnote_cell_type": "code",
    "execution_context_id": "ddf6ee34-47fc-4603-96df-7f61fb706903",
    "execution_millis": 11306,
    "execution_start": 1756479390680,
    "source_hash": "71c9337d"
   },
   "outputs": [],
   "source": [
    "def create_bimanual_IIWA14_with_table_and_initials_and_assets() -> (\n",
    "    tuple[Diagram, RobotDiagram]\n",
    "):\n",
    "    # TODO：编写包含以下内容的 scenario YAML 字符串：\n",
    "    #       - IIWA14 机器人及默认关节位置\n",
    "    #       - 焊接机器人到世界坐标系\n",
    "    #       - 用 file://绝对路径/table.sdf 加载桌子\n",
    "    #       - 焊接桌子并设置平移偏移\n",
    "    #       - 用 file://绝对路径/B_model/B.sdf 加载姓名首字母\n",
    "    #       - 加载 drake-models 中的物体，作为自由体\n",
    "    scenario_yaml = f\"\"\"directives:\n",
    "# 添加左臂 IIWA14 机器人\n",
    "- add_model:\n",
    "    name: iiwa14_left\n",
    "    file: package://drake_models/iiwa_description/urdf/iiwa14_primitive_collision.urdf\n",
    "    default_joint_positions:\n",
    "        iiwa_joint_1: [0.0]\n",
    "        iiwa_joint_2: [0.3]\n",
    "        iiwa_joint_3: [0.0]\n",
    "        iiwa_joint_4: [-1.5]\n",
    "        iiwa_joint_5: [0.0]\n",
    "        iiwa_joint_6: [1.8]\n",
    "        iiwa_joint_7: [0.0]\n",
    "# 焊接左臂到世界坐标系\n",
    "- add_weld:\n",
    "    parent: world\n",
    "    child: iiwa14_left::iiwa_link_0\n",
    "    X_PC:\n",
    "        translation: [0, 0.5, 0.75]\n",
    "        rotation: !Rpy {{ deg: [0, 0, 0] }}\n",
    "# 添加右臂 IIWA14 机器人\n",
    "- add_model:\n",
    "    name: iiwa14_right\n",
    "    file: package://drake_models/iiwa_description/urdf/iiwa14_primitive_collision.urdf\n",
    "    default_joint_positions:\n",
    "        iiwa_joint_1: [0.0]\n",
    "        iiwa_joint_2: [0.3]\n",
    "        iiwa_joint_3: [0.0]\n",
    "        iiwa_joint_4: [-1.5]\n",
    "        iiwa_joint_5: [0.0]\n",
    "        iiwa_joint_6: [1.8]\n",
    "        iiwa_joint_7: [0.0]\n",
    "# 焊接右臂到世界坐标系\n",
    "- add_weld:\n",
    "    parent: world\n",
    "    child: iiwa14_right::iiwa_link_0\n",
    "    X_PC:\n",
    "        translation: [0, -0.5, 0.75]\n",
    "        rotation: !Rpy {{ deg: [0, 0, 0] }}\n",
    "# 添加桌子（静态模型会自动焊接到世界坐标系原点）\n",
    "- add_model:\n",
    "    name: table\n",
    "    file: file://{Path.cwd()}/assets/table.sdf\n",
    "# 添加字母 B\n",
    "- add_model:\n",
    "    name: letter_B\n",
    "    file: file://{Path.cwd()}/assets/B_model/B.sdf\n",
    "    default_free_body_pose:\n",
    "        B_body_link:\n",
    "            translation: [0.7, 0.0, 1.0]\n",
    "            rotation: !Rpy {{ deg: [0, 0, 0] }}\n",
    "# 添加字母 P\n",
    "- add_model:\n",
    "    name: letter_P\n",
    "    file: file://{Path.cwd()}/assets/P_model/P.sdf\n",
    "    default_free_body_pose:\n",
    "        P_body_link:\n",
    "            translation: [0.9, 0.0, 1.0]\n",
    "            rotation: !Rpy {{ deg: [0, 0, 0] }}\n",
    "# 添加字母 G\n",
    "- add_model:\n",
    "    name: letter_G\n",
    "    file: file://{Path.cwd()}/assets/G_model/G.sdf\n",
    "    default_free_body_pose:\n",
    "        G_body_link:\n",
    "            translation: [1.1, 0.0, 1.0]\n",
    "            rotation: !Rpy {{ deg: [0, 0, 0] }}\n",
    "# 添加一个 YCB 物体（香蕉）\n",
    "- add_model:\n",
    "    name: banana\n",
    "    file: package://drake_models/ycb/011_banana.sdf\n",
    "    default_free_body_pose:\n",
    "        base_link:\n",
    "            translation: [0.5, 0.0, 0.8]\n",
    "            rotation: !Rpy {{ deg: [0, 0, 45] }}\n",
    "\"\"\"\n",
    "\n",
    "    # TODO：将 scenario YAML 保存到文件\n",
    "    scenario_file_path = \"scenario.yaml\"\n",
    "    with open(scenario_file_path, \"w\") as f:\n",
    "        f.write(scenario_yaml)\n",
    "\n",
    "    # TODO：从文件加载 scenario\n",
    "    scenario = LoadScenario(filename=scenario_file_path)\n",
    "\n",
    "    # TODO：用 scenario 和 meshcat 创建 HardwareStation\n",
    "    station = MakeHardwareStation(scenario, meshcat)\n",
    "\n",
    "    # TODO：创建 DiagramBuilder，添加 station，build diagram\n",
    "    builder = DiagramBuilder()\n",
    "    builder.AddSystem(station)\n",
    "    diagram = builder.Build()\n",
    "\n",
    "    # TODO：返回 diagram 和 station（注意这里需要都返回）\n",
    "    return diagram, station"
   ]
  },
  {
   "cell_type": "markdown",
   "metadata": {
    "cell_id": "c5ed30fa931d47e2b4ee56b214d04233",
    "deepnote_cell_type": "markdown"
   },
   "source": [
    "让我们可视化模块图："
   ]
  },
  {
   "cell_type": "code",
   "execution_count": 19,
   "metadata": {
    "cell_id": "c88939be606148c99d9bcc26bb05e3cd",
    "deepnote_cell_type": "code",
    "execution_context_id": "ddf6ee34-47fc-4603-96df-7f61fb706903",
    "execution_millis": 14,
    "execution_start": 1756479402050,
    "source_hash": "92a704da"
   },
   "outputs": [
    {
     "ename": "RuntimeError",
     "evalue": "error: URI 'file:///mnt/c/Users/lvxiangyu11/code/drake/robotic_manipulation/0_introduction/assets/B_model/B.sdf' resolved to '/mnt/c/Users/lvxiangyu11/code/drake/robotic_manipulation/0_introduction/assets/B_model/B.sdf' which does not exist.",
     "output_type": "error",
     "traceback": [
      "\u001b[0;31m---------------------------------------------------------------------------\u001b[0m",
      "\u001b[0;31mRuntimeError\u001b[0m                              Traceback (most recent call last)",
      "Cell \u001b[0;32mIn[19], line 1\u001b[0m\n\u001b[0;32m----> 1\u001b[0m diagram, station \u001b[38;5;241m=\u001b[39m \u001b[43mcreate_bimanual_IIWA14_with_table_and_initials_and_assets\u001b[49m\u001b[43m(\u001b[49m\u001b[43m)\u001b[49m\n\u001b[1;32m      2\u001b[0m RenderDiagram(diagram, max_depth\u001b[38;5;241m=\u001b[39m\u001b[38;5;241m1\u001b[39m)\n",
      "Cell \u001b[0;32mIn[18], line 97\u001b[0m, in \u001b[0;36mcreate_bimanual_IIWA14_with_table_and_initials_and_assets\u001b[0;34m()\u001b[0m\n\u001b[1;32m     94\u001b[0m scenario \u001b[38;5;241m=\u001b[39m LoadScenario(filename\u001b[38;5;241m=\u001b[39mscenario_file_path)\n\u001b[1;32m     96\u001b[0m \u001b[38;5;66;03m# TODO：用 scenario 和 meshcat 创建 HardwareStation\u001b[39;00m\n\u001b[0;32m---> 97\u001b[0m station \u001b[38;5;241m=\u001b[39m \u001b[43mMakeHardwareStation\u001b[49m\u001b[43m(\u001b[49m\u001b[43mscenario\u001b[49m\u001b[43m,\u001b[49m\u001b[43m \u001b[49m\u001b[43mmeshcat\u001b[49m\u001b[43m)\u001b[49m\n\u001b[1;32m     99\u001b[0m \u001b[38;5;66;03m# TODO：创建 DiagramBuilder，添加 station，build diagram\u001b[39;00m\n\u001b[1;32m    100\u001b[0m builder \u001b[38;5;241m=\u001b[39m DiagramBuilder()\n",
      "File \u001b[0;32m~/miniconda3/envs/drake/lib/python3.10/site-packages/manipulation/station.py:954\u001b[0m, in \u001b[0;36mMakeHardwareStation\u001b[0;34m(scenario, meshcat, package_xmls, hardware, parser_preload_callback, parser_prefinalize_callback, prebuild_callback)\u001b[0m\n\u001b[1;32m    951\u001b[0m     parser_preload_callback(parser)\n\u001b[1;32m    953\u001b[0m \u001b[38;5;66;03m# Add model directives.\u001b[39;00m\n\u001b[0;32m--> 954\u001b[0m added_models \u001b[38;5;241m=\u001b[39m \u001b[43mProcessModelDirectives\u001b[49m\u001b[43m(\u001b[49m\n\u001b[1;32m    955\u001b[0m \u001b[43m    \u001b[49m\u001b[43mdirectives\u001b[49m\u001b[38;5;241;43m=\u001b[39;49m\u001b[43mModelDirectives\u001b[49m\u001b[43m(\u001b[49m\u001b[43mdirectives\u001b[49m\u001b[38;5;241;43m=\u001b[39;49m\u001b[43mscenario\u001b[49m\u001b[38;5;241;43m.\u001b[39;49m\u001b[43mdirectives\u001b[49m\u001b[43m)\u001b[49m\u001b[43m,\u001b[49m\n\u001b[1;32m    956\u001b[0m \u001b[43m    \u001b[49m\u001b[43mparser\u001b[49m\u001b[38;5;241;43m=\u001b[39;49m\u001b[43mparser\u001b[49m\u001b[43m,\u001b[49m\n\u001b[1;32m    957\u001b[0m \u001b[43m\u001b[49m\u001b[43m)\u001b[49m\n\u001b[1;32m    959\u001b[0m \u001b[38;5;28;01mif\u001b[39;00m parser_prefinalize_callback:\n\u001b[1;32m    960\u001b[0m     parser_prefinalize_callback(parser)\n",
      "\u001b[0;31mRuntimeError\u001b[0m: error: URI 'file:///mnt/c/Users/lvxiangyu11/code/drake/robotic_manipulation/0_introduction/assets/B_model/B.sdf' resolved to '/mnt/c/Users/lvxiangyu11/code/drake/robotic_manipulation/0_introduction/assets/B_model/B.sdf' which does not exist."
     ]
    }
   ],
   "source": [
    "diagram, station = create_bimanual_IIWA14_with_table_and_initials_and_assets()\n",
    "RenderDiagram(diagram, max_depth=1)"
   ]
  },
  {
   "cell_type": "markdown",
   "metadata": {
    "cell_id": "8c1a726fdf47481f861709f66488b69e",
    "deepnote_cell_type": "markdown",
    "vscode": {
     "languageId": "raw"
    }
   },
   "source": [
    "让我们快速仿真，体验 HardwareStation 的效果：\n"
   ]
  },
  {
   "cell_type": "code",
   "execution_count": 20,
   "metadata": {
    "cell_id": "fe08831db8d44524a11c635daa12c20e",
    "deepnote_cell_type": "code",
    "execution_context_id": "ddf6ee34-47fc-4603-96df-7f61fb706903",
    "execution_millis": 1,
    "execution_start": 1756479402110,
    "source_hash": "3937006b"
   },
   "outputs": [],
   "source": [
    "# TODO：仿真 HardwareStation\n",
    "\n",
    "\n",
    "def simulate_full_system(\n",
    "    iiwa_left_q0: np.ndarray,\n",
    "    iiwa_right_q0: np.ndarray,\n",
    "    letter_poses: list[RigidTransform],\n",
    "    object_poses: list[RigidTransform],\n",
    "    simulation_time: float = 3.0,\n",
    "    use_realtime: bool = True,\n",
    ") -> None:\n",
    "    # TODO：用你上面实现的函数创建 diagram 和 station\n",
    "    diagram, station = create_bimanual_IIWA14_with_table_and_initials_and_assets()\n",
    "\n",
    "    # TODO：创建仿真器和可变仿真 context\n",
    "    simulator = Simulator(diagram)\n",
    "    context = simulator.get_mutable_context()\n",
    "\n",
    "    # TODO：从 station 获取 plant 子系统\n",
    "    plant = station.GetSubsystemByName(\"plant\")\n",
    "\n",
    "    # TODO：用 root context 获取 plant context\n",
    "    context_plant = plant.GetMyMutableContextFromRoot(context)\n",
    "\n",
    "    # NOTE：下面我们将设置机器人和资产的初始配置。\n",
    "    #       实际上 scenario 文件里已经设置了，这里只是演示如何在加载后修改。\n",
    "\n",
    "    # TODO：设置左臂 IIWA 机器人初始配置\n",
    "    # TODO：用名称获取左臂 IIWA 模型实例\n",
    "    # 提示：名称即 add_model 指令里的 `name` 字段\n",
    "    # 提示：一定要用 plant context 而不是 root context！\n",
    "    iiwa_left_model = plant.GetModelInstanceByName(\"iiwa14_left\")\n",
    "    plant.SetPositions(context_plant, iiwa_left_model, iiwa_left_q0)\n",
    "\n",
    "    # TODO：设置右臂 IIWA 机器人初始配置\n",
    "    # TODO：用名称获取右臂 IIWA 模型实例\n",
    "    iiwa_right_model = plant.GetModelInstanceByName(\"iiwa14_right\")\n",
    "    plant.SetPositions(context_plant, iiwa_right_model, iiwa_right_q0)\n",
    "\n",
    "    # TODO：设置姓名首字母的初始位姿\n",
    "    # 提示：先用名称获取模型实例，再用 RigidBody 名称（如 `B_body_link`，SDF 文件中硬编码）\n",
    "    #       plant.SetFreeBodyPose(context_plant, body, letter_poses[0])\n",
    "    \n",
    "    # 设置字母 B 的位姿\n",
    "    letter_B_model = plant.GetModelInstanceByName(\"letter_B\")\n",
    "    letter_B_body = plant.GetBodyByName(\"B_body_link\", letter_B_model)\n",
    "    plant.SetFreeBodyPose(context_plant, letter_B_body, letter_poses[0])\n",
    "    \n",
    "    # 设置字母 P 的位姿\n",
    "    letter_P_model = plant.GetModelInstanceByName(\"letter_P\")\n",
    "    letter_P_body = plant.GetBodyByName(\"P_body_link\", letter_P_model)\n",
    "    plant.SetFreeBodyPose(context_plant, letter_P_body, letter_poses[1])\n",
    "    \n",
    "    # 设置字母 G 的位姿\n",
    "    letter_G_model = plant.GetModelInstanceByName(\"letter_G\")\n",
    "    letter_G_body = plant.GetBodyByName(\"G_body_link\", letter_G_model)\n",
    "    plant.SetFreeBodyPose(context_plant, letter_G_body, letter_poses[2])\n",
    "    \n",
    "    # 设置香蕉的位姿\n",
    "    banana_model = plant.GetModelInstanceByName(\"banana\")\n",
    "    banana_body = plant.GetBodyByName(\"base_link\", banana_model)\n",
    "    plant.SetFreeBodyPose(context_plant, banana_body, object_poses[0])\n",
    "\n",
    "    # TODO：配置仿真器为实时速率\n",
    "    if use_realtime:\n",
    "        simulator.set_target_realtime_rate(1.0)\n",
    "\n",
    "    # TODO：运行仿真\n",
    "    simulator.AdvanceTo(simulation_time)"
   ]
  },
  {
   "cell_type": "code",
   "execution_count": 21,
   "metadata": {
    "cell_id": "df47508184f342c9b2f0670a788bd1df",
    "deepnote_cell_type": "code",
    "execution_context_id": "ddf6ee34-47fc-4603-96df-7f61fb706903",
    "execution_millis": 19391,
    "execution_start": 1756479402160,
    "source_hash": "14613153"
   },
   "outputs": [
    {
     "name": "stdout",
     "output_type": "stream",
     "text": [
      "Check your Meshcat window (http://localhost:7000) to see the robot simulation!\n",
      "Running HardwareStation simulation...\n"
     ]
    },
    {
     "ename": "RuntimeError",
     "evalue": "error: URI 'file:///mnt/c/Users/lvxiangyu11/code/drake/robotic_manipulation/0_introduction/assets/B_model/B.sdf' resolved to '/mnt/c/Users/lvxiangyu11/code/drake/robotic_manipulation/0_introduction/assets/B_model/B.sdf' which does not exist.",
     "output_type": "error",
     "traceback": [
      "\u001b[0;31m---------------------------------------------------------------------------\u001b[0m",
      "\u001b[0;31mRuntimeError\u001b[0m                              Traceback (most recent call last)",
      "Cell \u001b[0;32mIn[21], line 6\u001b[0m\n\u001b[1;32m      3\u001b[0m \u001b[38;5;28mprint\u001b[39m(\u001b[38;5;124m\"\u001b[39m\u001b[38;5;124mRunning HardwareStation simulation...\u001b[39m\u001b[38;5;124m\"\u001b[39m)\n\u001b[1;32m      5\u001b[0m meshcat\u001b[38;5;241m.\u001b[39mStartRecording()\n\u001b[0;32m----> 6\u001b[0m \u001b[43msimulate_full_system\u001b[49m\u001b[43m(\u001b[49m\n\u001b[1;32m      7\u001b[0m \u001b[43m    \u001b[49m\u001b[43miiwa_left_q0\u001b[49m\u001b[38;5;241;43m=\u001b[39;49m\u001b[43mnp\u001b[49m\u001b[38;5;241;43m.\u001b[39;49m\u001b[43marray\u001b[49m\u001b[43m(\u001b[49m\u001b[43m[\u001b[49m\u001b[38;5;241;43m0\u001b[39;49m\u001b[43m,\u001b[49m\u001b[43m \u001b[49m\u001b[38;5;241;43m0\u001b[39;49m\u001b[43m,\u001b[49m\u001b[43m \u001b[49m\u001b[38;5;241;43m0\u001b[39;49m\u001b[43m,\u001b[49m\u001b[43m \u001b[49m\u001b[38;5;241;43m0\u001b[39;49m\u001b[43m,\u001b[49m\u001b[43m \u001b[49m\u001b[38;5;241;43m0\u001b[39;49m\u001b[43m,\u001b[49m\u001b[43m \u001b[49m\u001b[38;5;241;43m0\u001b[39;49m\u001b[43m,\u001b[49m\u001b[43m \u001b[49m\u001b[38;5;241;43m0\u001b[39;49m\u001b[43m]\u001b[49m\u001b[43m)\u001b[49m\u001b[43m,\u001b[49m\n\u001b[1;32m      8\u001b[0m \u001b[43m    \u001b[49m\u001b[43miiwa_right_q0\u001b[49m\u001b[38;5;241;43m=\u001b[39;49m\u001b[43mnp\u001b[49m\u001b[38;5;241;43m.\u001b[39;49m\u001b[43marray\u001b[49m\u001b[43m(\u001b[49m\u001b[43m[\u001b[49m\u001b[38;5;241;43m0\u001b[39;49m\u001b[43m,\u001b[49m\u001b[43m \u001b[49m\u001b[38;5;241;43m0\u001b[39;49m\u001b[43m,\u001b[49m\u001b[43m \u001b[49m\u001b[38;5;241;43m0\u001b[39;49m\u001b[43m,\u001b[49m\u001b[43m \u001b[49m\u001b[38;5;241;43m0\u001b[39;49m\u001b[43m,\u001b[49m\u001b[43m \u001b[49m\u001b[38;5;241;43m0\u001b[39;49m\u001b[43m,\u001b[49m\u001b[43m \u001b[49m\u001b[38;5;241;43m0\u001b[39;49m\u001b[43m,\u001b[49m\u001b[43m \u001b[49m\u001b[38;5;241;43m0\u001b[39;49m\u001b[43m]\u001b[49m\u001b[43m)\u001b[49m\u001b[43m,\u001b[49m\n\u001b[1;32m      9\u001b[0m \u001b[43m    \u001b[49m\u001b[38;5;66;43;03m# NOTE: Here we have provided the initial poses for three letters, and one object, as\u001b[39;49;00m\n\u001b[1;32m     10\u001b[0m \u001b[43m    \u001b[49m\u001b[38;5;66;43;03m# an example. Change these to match your setup!\u001b[39;49;00m\n\u001b[1;32m     11\u001b[0m \u001b[43m    \u001b[49m\u001b[43mletter_poses\u001b[49m\u001b[38;5;241;43m=\u001b[39;49m\u001b[43m[\u001b[49m\n\u001b[1;32m     12\u001b[0m \u001b[43m        \u001b[49m\u001b[38;5;66;43;03m# You can add rotations to the RigidTransform if you want, but we will learn more about that later!\u001b[39;49;00m\n\u001b[1;32m     13\u001b[0m \u001b[43m        \u001b[49m\u001b[38;5;66;43;03m# The letters should be placed such that they are not in collision with each other, and such that\u001b[39;49;00m\n\u001b[1;32m     14\u001b[0m \u001b[43m        \u001b[49m\u001b[38;5;66;43;03m# they fall onto the table.\u001b[39;49;00m\n\u001b[1;32m     15\u001b[0m \u001b[43m        \u001b[49m\u001b[43mRigidTransform\u001b[49m\u001b[43m(\u001b[49m\u001b[43m[\u001b[49m\u001b[38;5;241;43m0.7\u001b[39;49m\u001b[43m,\u001b[49m\u001b[43m \u001b[49m\u001b[38;5;241;43m0.0\u001b[39;49m\u001b[43m,\u001b[49m\u001b[43m \u001b[49m\u001b[38;5;241;43m1.0\u001b[39;49m\u001b[43m]\u001b[49m\u001b[43m)\u001b[49m\u001b[43m,\u001b[49m\n\u001b[1;32m     16\u001b[0m \u001b[43m        \u001b[49m\u001b[43mRigidTransform\u001b[49m\u001b[43m(\u001b[49m\u001b[43m[\u001b[49m\u001b[38;5;241;43m0.9\u001b[39;49m\u001b[43m,\u001b[49m\u001b[43m \u001b[49m\u001b[38;5;241;43m0.0\u001b[39;49m\u001b[43m,\u001b[49m\u001b[43m \u001b[49m\u001b[38;5;241;43m1.0\u001b[39;49m\u001b[43m]\u001b[49m\u001b[43m)\u001b[49m\u001b[43m,\u001b[49m\n\u001b[1;32m     17\u001b[0m \u001b[43m        \u001b[49m\u001b[43mRigidTransform\u001b[49m\u001b[43m(\u001b[49m\u001b[43m[\u001b[49m\u001b[38;5;241;43m1.1\u001b[39;49m\u001b[43m,\u001b[49m\u001b[43m \u001b[49m\u001b[38;5;241;43m0.0\u001b[39;49m\u001b[43m,\u001b[49m\u001b[43m \u001b[49m\u001b[38;5;241;43m1.0\u001b[39;49m\u001b[43m]\u001b[49m\u001b[43m)\u001b[49m\u001b[43m,\u001b[49m\n\u001b[1;32m     18\u001b[0m \u001b[43m    \u001b[49m\u001b[43m]\u001b[49m\u001b[43m,\u001b[49m\n\u001b[1;32m     19\u001b[0m \u001b[43m    \u001b[49m\u001b[43mobject_poses\u001b[49m\u001b[38;5;241;43m=\u001b[39;49m\u001b[43m[\u001b[49m\n\u001b[1;32m     20\u001b[0m \u001b[43m        \u001b[49m\u001b[43mRigidTransform\u001b[49m\u001b[43m(\u001b[49m\u001b[43m[\u001b[49m\u001b[38;5;241;43m0.5\u001b[39;49m\u001b[43m,\u001b[49m\u001b[43m \u001b[49m\u001b[38;5;241;43m0.0\u001b[39;49m\u001b[43m,\u001b[49m\u001b[43m \u001b[49m\u001b[38;5;241;43m0.75\u001b[39;49m\u001b[43m]\u001b[49m\u001b[43m)\u001b[49m\u001b[43m,\u001b[49m\n\u001b[1;32m     21\u001b[0m \u001b[43m    \u001b[49m\u001b[43m]\u001b[49m\u001b[43m,\u001b[49m\n\u001b[1;32m     22\u001b[0m \u001b[43m    \u001b[49m\u001b[43msimulation_time\u001b[49m\u001b[38;5;241;43m=\u001b[39;49m\u001b[38;5;241;43m5.0\u001b[39;49m\u001b[43m \u001b[49m\u001b[38;5;28;43;01mif\u001b[39;49;00m\u001b[43m \u001b[49m\u001b[43mrunning_as_notebook\u001b[49m\u001b[43m \u001b[49m\u001b[38;5;28;43;01melse\u001b[39;49;00m\u001b[43m \u001b[49m\u001b[38;5;241;43m5.0\u001b[39;49m\u001b[43m,\u001b[49m\n\u001b[1;32m     23\u001b[0m \u001b[43m    \u001b[49m\u001b[43muse_realtime\u001b[49m\u001b[38;5;241;43m=\u001b[39;49m\u001b[43mrunning_as_notebook\u001b[49m\u001b[43m,\u001b[49m\n\u001b[1;32m     24\u001b[0m \u001b[43m)\u001b[49m\n\u001b[1;32m     25\u001b[0m meshcat\u001b[38;5;241m.\u001b[39mStopRecording()\n\u001b[1;32m     26\u001b[0m meshcat\u001b[38;5;241m.\u001b[39mPublishRecording()\n",
      "Cell \u001b[0;32mIn[20], line 13\u001b[0m, in \u001b[0;36msimulate_full_system\u001b[0;34m(iiwa_left_q0, iiwa_right_q0, letter_poses, object_poses, simulation_time, use_realtime)\u001b[0m\n\u001b[1;32m      4\u001b[0m \u001b[38;5;28;01mdef\u001b[39;00m\u001b[38;5;250m \u001b[39m\u001b[38;5;21msimulate_full_system\u001b[39m(\n\u001b[1;32m      5\u001b[0m     iiwa_left_q0: np\u001b[38;5;241m.\u001b[39mndarray,\n\u001b[1;32m      6\u001b[0m     iiwa_right_q0: np\u001b[38;5;241m.\u001b[39mndarray,\n\u001b[0;32m   (...)\u001b[0m\n\u001b[1;32m     11\u001b[0m ) \u001b[38;5;241m-\u001b[39m\u001b[38;5;241m>\u001b[39m \u001b[38;5;28;01mNone\u001b[39;00m:\n\u001b[1;32m     12\u001b[0m     \u001b[38;5;66;03m# TODO：用你上面实现的函数创建 diagram 和 station\u001b[39;00m\n\u001b[0;32m---> 13\u001b[0m     diagram, station \u001b[38;5;241m=\u001b[39m \u001b[43mcreate_bimanual_IIWA14_with_table_and_initials_and_assets\u001b[49m\u001b[43m(\u001b[49m\u001b[43m)\u001b[49m\n\u001b[1;32m     15\u001b[0m     \u001b[38;5;66;03m# TODO：创建仿真器和可变仿真 context\u001b[39;00m\n\u001b[1;32m     16\u001b[0m     simulator \u001b[38;5;241m=\u001b[39m Simulator(diagram)\n",
      "Cell \u001b[0;32mIn[18], line 97\u001b[0m, in \u001b[0;36mcreate_bimanual_IIWA14_with_table_and_initials_and_assets\u001b[0;34m()\u001b[0m\n\u001b[1;32m     94\u001b[0m scenario \u001b[38;5;241m=\u001b[39m LoadScenario(filename\u001b[38;5;241m=\u001b[39mscenario_file_path)\n\u001b[1;32m     96\u001b[0m \u001b[38;5;66;03m# TODO：用 scenario 和 meshcat 创建 HardwareStation\u001b[39;00m\n\u001b[0;32m---> 97\u001b[0m station \u001b[38;5;241m=\u001b[39m \u001b[43mMakeHardwareStation\u001b[49m\u001b[43m(\u001b[49m\u001b[43mscenario\u001b[49m\u001b[43m,\u001b[49m\u001b[43m \u001b[49m\u001b[43mmeshcat\u001b[49m\u001b[43m)\u001b[49m\n\u001b[1;32m     99\u001b[0m \u001b[38;5;66;03m# TODO：创建 DiagramBuilder，添加 station，build diagram\u001b[39;00m\n\u001b[1;32m    100\u001b[0m builder \u001b[38;5;241m=\u001b[39m DiagramBuilder()\n",
      "File \u001b[0;32m~/miniconda3/envs/drake/lib/python3.10/site-packages/manipulation/station.py:954\u001b[0m, in \u001b[0;36mMakeHardwareStation\u001b[0;34m(scenario, meshcat, package_xmls, hardware, parser_preload_callback, parser_prefinalize_callback, prebuild_callback)\u001b[0m\n\u001b[1;32m    951\u001b[0m     parser_preload_callback(parser)\n\u001b[1;32m    953\u001b[0m \u001b[38;5;66;03m# Add model directives.\u001b[39;00m\n\u001b[0;32m--> 954\u001b[0m added_models \u001b[38;5;241m=\u001b[39m \u001b[43mProcessModelDirectives\u001b[49m\u001b[43m(\u001b[49m\n\u001b[1;32m    955\u001b[0m \u001b[43m    \u001b[49m\u001b[43mdirectives\u001b[49m\u001b[38;5;241;43m=\u001b[39;49m\u001b[43mModelDirectives\u001b[49m\u001b[43m(\u001b[49m\u001b[43mdirectives\u001b[49m\u001b[38;5;241;43m=\u001b[39;49m\u001b[43mscenario\u001b[49m\u001b[38;5;241;43m.\u001b[39;49m\u001b[43mdirectives\u001b[49m\u001b[43m)\u001b[49m\u001b[43m,\u001b[49m\n\u001b[1;32m    956\u001b[0m \u001b[43m    \u001b[49m\u001b[43mparser\u001b[49m\u001b[38;5;241;43m=\u001b[39;49m\u001b[43mparser\u001b[49m\u001b[43m,\u001b[49m\n\u001b[1;32m    957\u001b[0m \u001b[43m\u001b[49m\u001b[43m)\u001b[49m\n\u001b[1;32m    959\u001b[0m \u001b[38;5;28;01mif\u001b[39;00m parser_prefinalize_callback:\n\u001b[1;32m    960\u001b[0m     parser_prefinalize_callback(parser)\n",
      "\u001b[0;31mRuntimeError\u001b[0m: error: URI 'file:///mnt/c/Users/lvxiangyu11/code/drake/robotic_manipulation/0_introduction/assets/B_model/B.sdf' resolved to '/mnt/c/Users/lvxiangyu11/code/drake/robotic_manipulation/0_introduction/assets/B_model/B.sdf' which does not exist."
     ]
    }
   ],
   "source": [
    "# Test your simulation\n",
    "print(f\"Check your Meshcat window ({meshcat.web_url()}) to see the robot simulation!\")\n",
    "print(\"Running HardwareStation simulation...\")\n",
    "\n",
    "meshcat.StartRecording()\n",
    "simulate_full_system(\n",
    "    iiwa_left_q0=np.array([0, 0, 0, 0, 0, 0, 0]),\n",
    "    iiwa_right_q0=np.array([0, 0, 0, 0, 0, 0, 0]),\n",
    "    # NOTE: Here we have provided the initial poses for three letters, and one object, as\n",
    "    # an example. Change these to match your setup!\n",
    "    letter_poses=[\n",
    "        # You can add rotations to the RigidTransform if you want, but we will learn more about that later!\n",
    "        # The letters should be placed such that they are not in collision with each other, and such that\n",
    "        # they fall onto the table.\n",
    "        RigidTransform([0.7, 0.0, 1.0]),\n",
    "        RigidTransform([0.9, 0.0, 1.0]),\n",
    "        RigidTransform([1.1, 0.0, 1.0]),\n",
    "    ],\n",
    "    object_poses=[\n",
    "        RigidTransform([0.5, 0.0, 0.75]),\n",
    "    ],\n",
    "    simulation_time=5.0 if running_as_notebook else 5.0,\n",
    "    use_realtime=running_as_notebook,\n",
    ")\n",
    "meshcat.StopRecording()\n",
    "meshcat.PublishRecording()\n",
    "\n",
    "print(\"HardwareStation simulation completed!\")"
   ]
  },
  {
   "cell_type": "markdown",
   "metadata": {
    "cell_id": "29c149eafa9c40329af62924136d15f3",
    "deepnote_cell_type": "markdown",
    "vscode": {
     "languageId": "raw"
    }
   },
   "source": [
    "---\n",
    "\n",
    "# 恭喜你！\n",
    "\n",
    "你已成功完成 **HardwareStation 与进阶场景** 笔记本！你学到了：\n",
    "\n",
    "- **HardwareStation** —— 自动化复杂机器人搭建的高级工具\n",
    "- **Scenario 文件** —— 基于 YAML 的声明式场景配置\n",
    "- **自定义资产** —— 将你自己的模型加载到场景中\n",
    "\n",
    "---\n",
    "\n",
    "# GRADESCOPE 验证\n",
    "恭喜你！本笔记本全部完成。现在在浏览器中回放仿真并将录屏上传到 Gradescope。\n"
   ]
  }
 ],
 "metadata": {
  "deepnote_notebook_id": "e1c1555aff074412a65c18198c330696",
  "kernelspec": {
   "display_name": "drake",
   "language": "python",
   "name": "python3"
  },
  "language_info": {
   "codemirror_mode": {
    "name": "ipython",
    "version": 3
   },
   "file_extension": ".py",
   "mimetype": "text/x-python",
   "name": "python",
   "nbconvert_exporter": "python",
   "pygments_lexer": "ipython3",
   "version": "3.10.0"
  }
 },
 "nbformat": "4",
 "nbformat_minor": "0"
}
