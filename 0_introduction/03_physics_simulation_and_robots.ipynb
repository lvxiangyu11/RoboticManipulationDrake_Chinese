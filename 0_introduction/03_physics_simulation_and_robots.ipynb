{
 "cells": [
  {
   "cell_type": "markdown",
   "metadata": {
    "cell_id": "c11a74c186c6419eaf528bfec1b7e601",
    "deepnote_cell_type": "markdown",
    "vscode": {
     "languageId": "raw"
    }
   },
   "source": [
    "# 笔记本2：物理仿真与机器人加载\n",
    "\n",
    "**学习目标：**\n",
    "1. 使用 `Parser` 和预设的机器人文件（URDF、SDF、MJCF）将真实机器人加载到 Drake\n",
    "2. 理解 Drake 的物理仿真引擎（`MultibodyPlant`）和几何引擎（`SceneGraph`）\n",
    "3. 创建自定义三维资产（你的姓名首字母！）并学习 `URDF` 和 `SDF` 的编写\n",
    "4. 使用 Meshcat 可视化机器人、物体和仿真\n",
    "5. 在 Drake 中构建包含自定义物体的完整机器人仿真\n",
    "\n",
    "**你将实现的内容：** 一个完整的仿真场景，包含 IIWA14 机械臂与自定义姓名首字母资产的交互！\n",
    "\n",
    "---\n"
   ]
  },
  {
   "cell_type": "markdown",
   "metadata": {
    "cell_id": "44976b47137643fc8c83d986697f6d92",
    "deepnote_cell_type": "markdown",
    "vscode": {
     "languageId": "raw"
    }
   },
   "source": [
    "## 环境配置与导入\n",
    "\n",
    "首先导入用于物理仿真、机器人加载和可视化的 Drake 功能。\n"
   ]
  },
  {
   "cell_type": "code",
   "execution_count": 6,
   "metadata": {
    "cell_id": "6c91e41e0b8e4acab34bfbdc2e0a74ea",
    "deepnote_cell_type": "code",
    "execution_context_id": "d6247577-0abd-4b9c-a41e-877bf38d3ff6",
    "execution_millis": 271,
    "execution_start": 1756174329718,
    "source_hash": "4cff9ce0"
   },
   "outputs": [],
   "source": [
    "from pathlib import Path\n",
    "\n",
    "import numpy as np\n",
    "from pydrake.all import (\n",
    "    AddMultibodyPlantSceneGraph,\n",
    "    BasicVector,\n",
    "    Context,\n",
    "    Diagram,\n",
    "    DiagramBuilder,\n",
    "    LeafSystem,\n",
    "    MeshcatVisualizer,\n",
    "    ModelInstanceIndex,\n",
    "    MultibodyPlant,\n",
    "    Parser,\n",
    "    RigidTransform,\n",
    "    Simulator,\n",
    "    StartMeshcat,\n",
    ")\n",
    "from pydrake.visualization import ModelVisualizer\n",
    "\n",
    "from manipulation import running_as_notebook\n",
    "from manipulation.exercises.grader import Grader\n",
    "from manipulation.exercises.intro.test_physics_simulation_and_robots import (\n",
    "    TestPhysicsSimulationDiagramStructure,\n",
    "    TestPhysicsSimulationFullSystem,\n",
    "    TestPhysicsSimulationSimpleController,\n",
    "    TestPhysicsSimulationVerification,\n",
    ")\n",
    "from manipulation.letter_generation import create_sdf_asset_from_letter\n",
    "from manipulation.utils import RenderDiagram"
   ]
  },
  {
   "cell_type": "markdown",
   "metadata": {
    "cell_id": "4adaae36d89042b2a53d9f436a64333d",
    "deepnote_cell_type": "markdown",
    "vscode": {
     "languageId": "raw"
    }
   },
   "source": [
    "## Meshcat 可视化\n",
    "\n",
    "在开始之前，让我们配置 Meshcat，可视化工具。\n",
    "\n",
    "**Meshcat** 是 Drake 的主力三维可视化工具，在你的网页浏览器中运行。它可以实时交互式地可视化机器人、物体和仿真环境。Meshcat 让你可以：\n",
    "\n",
    "- **可视化三维机器人和场景**，带有真实几何和材质\n",
    "- **实时查看仿真过程**\n",
    "- **交互操作三维场景**（旋转、缩放、平移）\n",
    "- **录制视频**，用于作业提交\n",
    "- **调试仿真**，直观了解实际发生了什么\n",
    "\n",
    "你会经常用 meshcat 来可视化和调试你的代码！\n"
   ]
  },
  {
   "cell_type": "code",
   "execution_count": 7,
   "metadata": {
    "cell_id": "945a0e1f175446558896230992abe61b",
    "deepnote_cell_type": "code",
    "execution_context_id": "d6247577-0abd-4b9c-a41e-877bf38d3ff6",
    "execution_millis": 0,
    "execution_start": 1756174330039,
    "source_hash": "2db78147"
   },
   "outputs": [
    {
     "name": "stderr",
     "output_type": "stream",
     "text": [
      "INFO:drake:Meshcat listening for connections at http://localhost:7002\n"
     ]
    }
   ],
   "source": [
    "# Start meshcat for visualization\n",
    "meshcat = StartMeshcat()"
   ]
  },
  {
   "cell_type": "markdown",
   "metadata": {
    "cell_id": "f750d93fdcca4bcdac2ca6b4691b0324",
    "deepnote_cell_type": "markdown"
   },
   "source": [
    "**点击上方链接，在浏览器中打开 Meshcat！本笔记本将一直使用同一个 Meshcat 窗口，请保持其打开！**"
   ]
  },
  {
   "cell_type": "markdown",
   "metadata": {
    "cell_id": "7d1f4f1d67134243a1324aec12fec2e2",
    "deepnote_cell_type": "markdown",
    "vscode": {
     "languageId": "raw"
    }
   },
   "source": [
    "---\n",
    "\n",
    "## 第一部分：加载 IIWA14 机器人\n",
    "\n",
    "首先，让我们加载一个真实机器人！**IIWA14** 是 KUKA 公司出品的 7 自由度工业机械臂。Drake 内置了许多可直接加载的机器人模型，本部分我们就会用到。你可以在[这里](https://github.com/RobotLocomotion/models)找到所有可用的 Drake 模型列表。\n",
    "\n",
    "**你的任务：** 使用 Drake 的物理引擎加载并可视化 IIWA14 机器人。\n",
    "\n",
    "**核心概念：**\n",
    "- `Parser`：将机器人或资产的描述文件（如 URDF/SDF/MJCF）加载到物理引擎中\n",
    "- `MultibodyPlant`：Drake 的主要机器人和物体物理仿真引擎，是我们所有仿真的核心\n",
    "- `SceneGraph`：Drake 用于管理几何体注册、几何查询、碰撞检测等的模块\n",
    "- **基座焊接**：将机器人基座固定到世界坐标系很重要，否则它会掉下去！\n",
    "\n",
    "**参考：** 本部分紧跟教材 [第二章](https://manipulation.csail.mit.edu/robot.html) 的 [Drake Simulation 示例](https://deepnote.com/workspace/Drake-0b3b2c53-a7ad-441b-80f8-bf8350752305/project/Tutorials-2b4fc509-aef2-417d-a40d-6071dfed9199/notebook/simulation-1ba6290623e34dbbb9d822a2180187c1) —— 重点参考 **“Simulating the (passive) iiwa”** 和 **“Visualizing the scene”** 两节。建议在开始实现前先浏览一下这些内容！"
   ]
  },
  {
   "cell_type": "code",
   "execution_count": 8,
   "metadata": {
    "cell_id": "5f9ec8f75ea3469d842a934a553b643a",
    "deepnote_cell_type": "code"
   },
   "outputs": [],
   "source": [
    "# TODO：加载并可视化 IIWA14 机器人\n",
    "# MultibodyPlant： 用于物理仿真\n",
    "# SceneGraph： 用于几何建模和可视化\n",
    "# Parser： 用于加载机器人模型\n",
    "# MeshcatVisualizer： 用于将 SceneGraph 可视化到 Meshcat\n",
    "\n",
    "def create_IIWA14_diagram() -> tuple[Diagram, MultibodyPlant, ModelInstanceIndex]:\n",
    "    # 提示：参见上方 Drake Simulation 示例，“Visualizing the scene”小节\n",
    "    # TODO：创建 DiagramBuilder\n",
    "    builder = DiagramBuilder()\n",
    "    # TODO：添加 MultibodyPlant 和 SceneGraph，时间步长为 1e-4\n",
    "    # 提示：有一个辅助函数可以帮你自动创建并连接这两个系统。\n",
    "    plant, scene_graph = AddMultibodyPlantSceneGraph(builder, time_step=1e-4)  # 将 MultibodyPlant 和 SceneGraph 实例添加到图表构建器，连接几何端口。返回场景图和物理仿真系统实例\n",
    "    # 场景图用于几何建模和可视化\n",
    "    # 物理仿真系统用于物理仿真\n",
    "\n",
    "    # TODO：创建 Parser 用于加载机器人模型\n",
    "    # 注意：在上方 Drake Simulation 示例中，parser 用完即丢弃，\n",
    "    #       这里我们会保存 parser 以便后续添加多个模型。\n",
    "    parser = Parser(plant)\n",
    "\n",
    "    # TODO：用 parser 从 Drake 模型库加载 IIWA14 机器人模型。\n",
    "    # 提示：教程中的 IIWA14 模型没有碰撞几何体，这里我们加载带有碰撞几何体的模型：\n",
    "    #       \"package://drake_models/iiwa_description/urdf/iiwa14_primitive_collision.urdf\"\n",
    "    # 提示：parser 的 `AddModelsFromUrl` 方法返回一个模型引用列表（本例长度为 1）。\n",
    "    #       需要将第一个元素保存为变量 `iiwa`。\n",
    "    #       （严格来说，引用类型为 `ModelInstanceIndex`，不用担心细节。）\n",
    "    iiwa = parser.AddModelsFromUrl(\n",
    "        \"package://drake_models/iiwa_description/urdf/iiwa14_primitive_collision.urdf\"\n",
    "    )[0]\n",
    "\n",
    "    # TODO：将机器人基座（\"iiwa_link_0\"）焊接到世界坐标系\n",
    "    plant.WeldFrames(\n",
    "        plant.world_frame(),  # 将世界坐标系\n",
    "        plant.GetFrameByName(\"iiwa_link_0\", iiwa) # 获取机器人基座的坐标系\n",
    "    )\n",
    "\n",
    "    # TODO：将 MeshcatVisualizer 添加到 builder 并连接到 SceneGraph\n",
    "    meshcat_visualizer = MeshcatVisualizer.AddToBuilder(\n",
    "        builder, # 将 MeshcatVisualizer 添加到图表构建器\n",
    "        scene_graph, # 连接到 SceneGraph\n",
    "        meshcat, # 使用之前启动的 Meshcat 实例\n",
    "    )\n",
    "    # TODO：finalize plant（仿真前必须）\n",
    "    plant.Finalize()\n",
    "\n",
    "    # TODO：构建完整 diagram\n",
    "    diagram = builder.Build()\n",
    "\n",
    "    # TODO：返回 diagram、plant 和 iiwa 模型实例\n",
    "    return diagram, plant, iiwa\n",
    "\n",
    "\n",
    "diagram, plant, iiwa = create_IIWA14_diagram()"
   ]
  },
  {
   "cell_type": "markdown",
   "metadata": {
    "cell_id": "7295f46934e14cceb4fef73f5903e8d7",
    "deepnote_cell_type": "markdown"
   },
   "source": [
    "在上面的代码中，我们加载了与教程不同的模型，因为我们需要带有碰撞几何体的模型。实际上，Drake 有许多可直接使用的模型，全部可在 [Github 仓库](https://github.com/RobotLocomotion/models) 找到，Parser 的 url 格式为 `package://drake_models/{models 仓库中的文件路径}`。\n",
    "\n",
    "用下方代码测试你的实现："
   ]
  },
  {
   "cell_type": "code",
   "execution_count": 9,
   "metadata": {
    "cell_id": "335247acc55a432c89d945d8b7ebccc7",
    "deepnote_cell_type": "code"
   },
   "outputs": [
    {
     "name": "stdout",
     "output_type": "stream",
     "text": [
      "Total score is 10/10.\n",
      "\n",
      "Score for Test IIWA14 diagram creation and structure is 10/10.\n"
     ]
    }
   ],
   "source": [
    "Grader.grade_output([TestPhysicsSimulationDiagramStructure], [locals()], \"results.json\")\n",
    "Grader.print_test_results(\"results.json\")"
   ]
  },
  {
   "cell_type": "markdown",
   "metadata": {
    "cell_id": "32e695fa19d840478a042f9d84f20dc8",
    "deepnote_cell_type": "markdown"
   },
   "source": [
    "**我们还可以可视化模块图，方便你查看整体结构！**\n",
    "\n",
    "- 注意 `MultibodyPlant`、`SceneGraph` 和 `MeshcatVisualizer` 都是模块图中的系统。\n",
    "- 请务必观察各系统端口之间的连接关系！"
   ]
  },
  {
   "cell_type": "code",
   "execution_count": 10,
   "metadata": {
    "cell_id": "23b031468dfb495f89142dc7738fc8fd",
    "deepnote_cell_type": "code",
    "execution_context_id": "d6247577-0abd-4b9c-a41e-877bf38d3ff6",
    "execution_millis": 237,
    "execution_start": 1756174337668,
    "source_hash": "92a704da"
   },
   "outputs": [
    {
     "data": {
      "image/svg+xml": [
       "<svg xmlns=\"http://www.w3.org/2000/svg\" xmlns:xlink=\"http://www.w3.org/1999/xlink\" width=\"1409pt\" height=\"591pt\" viewBox=\"0.00 0.00 1409.09 591.00\">\n",
       "<g id=\"graph0\" class=\"graph\" transform=\"scale(1 1) rotate(0) translate(4 587)\">\n",
       "<title>_111</title>\n",
       "<polygon fill=\"white\" stroke=\"transparent\" points=\"-4,4 -4,-587 1405.09,-587 1405.09,4 -4,4\"/>\n",
       "<g id=\"clust1\" class=\"cluster\">\n",
       "<title>cluster111diagram</title>\n",
       "<polygon fill=\"none\" stroke=\"black\" points=\"8,-8 8,-575 1393.09,-575 1393.09,-8 8,-8\"/>\n",
       "<text text-anchor=\"start\" x=\"666.55\" y=\"-556.3\" font-family=\"Times,serif\" font-weight=\"bold\" font-size=\"14.00\">Diagram</text>\n",
       "</g>\n",
       "<g id=\"clust2\" class=\"cluster\">\n",
       "<title>cluster111subsystems</title>\n",
       "<polygon fill=\"none\" stroke=\"white\" points=\"16,-16 16,-536 1385.09,-536 1385.09,-16 16,-16\"/>\n",
       "</g>\n",
       "<!-- s2 -->\n",
       "<g id=\"node1\" class=\"node\">\n",
       "<title>s2</title>\n",
       "<polygon fill=\"none\" stroke=\"black\" points=\"32.5,-490 32.5,-524 663.5,-524 663.5,-490 32.5,-490\"/>\n",
       "<text text-anchor=\"start\" x=\"286.5\" y=\"-510.8\" font-family=\"Times,serif\" font-weight=\"bold\" font-size=\"14.00\">MultibodyPlant</text>\n",
       "<text text-anchor=\"start\" x=\"304\" y=\"-496.8\" font-family=\"Times,serif\" font-size=\"14.00\">name=plant</text>\n",
       "<polygon fill=\"none\" stroke=\"black\" points=\"32.5,-469 32.5,-490 299.5,-490 299.5,-469 32.5,-469\"/>\n",
       "<text text-anchor=\"start\" x=\"107.5\" y=\"-475.8\" font-family=\"Times,serif\" font-size=\"14.00\">geometry_query</text>\n",
       "<polygon fill=\"none\" stroke=\"black\" points=\"299.5,-469 299.5,-490 663.5,-490 663.5,-469 299.5,-469\"/>\n",
       "<text text-anchor=\"start\" x=\"427\" y=\"-475.8\" font-family=\"Times,serif\" font-size=\"14.00\">geometry_pose</text>\n",
       "<polygon fill=\"none\" stroke=\"black\" points=\"32.5,-448 32.5,-469 299.5,-469 299.5,-448 32.5,-448\"/>\n",
       "<text text-anchor=\"start\" x=\"132.5\" y=\"-454.8\" font-family=\"Times,serif\" font-size=\"14.00\">actuation</text>\n",
       "<polygon fill=\"none\" stroke=\"black\" points=\"299.5,-448 299.5,-469 663.5,-469 663.5,-448 299.5,-448\"/>\n",
       "<text text-anchor=\"start\" x=\"369.5\" y=\"-454.8\" font-family=\"Times,serif\" font-size=\"14.00\">deformable_body_configuration</text>\n",
       "<polygon fill=\"none\" stroke=\"black\" points=\"32.5,-427 32.5,-448 299.5,-448 299.5,-427 32.5,-427\"/>\n",
       "<text text-anchor=\"start\" x=\"73\" y=\"-433.8\" font-family=\"Times,serif\" font-size=\"14.00\">applied_generalized_force</text>\n",
       "<polygon fill=\"none\" stroke=\"black\" points=\"299.5,-427 299.5,-448 663.5,-448 663.5,-427 299.5,-427\"/>\n",
       "<text text-anchor=\"start\" x=\"463\" y=\"-433.8\" font-family=\"Times,serif\" font-size=\"14.00\">state</text>\n",
       "<polygon fill=\"none\" stroke=\"black\" points=\"32.5,-406 32.5,-427 299.5,-427 299.5,-406 32.5,-406\"/>\n",
       "<text text-anchor=\"start\" x=\"90.5\" y=\"-412.8\" font-family=\"Times,serif\" font-size=\"14.00\">applied_spatial_force</text>\n",
       "<polygon fill=\"none\" stroke=\"black\" points=\"299.5,-406 299.5,-427 663.5,-427 663.5,-406 299.5,-406\"/>\n",
       "<text text-anchor=\"start\" x=\"440.5\" y=\"-412.8\" font-family=\"Times,serif\" font-size=\"14.00\">body_poses</text>\n",
       "<polygon fill=\"none\" stroke=\"black\" points=\"32.5,-385 32.5,-406 299.5,-406 299.5,-385 32.5,-385\"/>\n",
       "<text text-anchor=\"start\" x=\"55.5\" y=\"-391.8\" font-family=\"Times,serif\" font-size=\"14.00\" fill=\"grey\">WorldModelInstance_actuation</text>\n",
       "<polygon fill=\"none\" stroke=\"black\" points=\"299.5,-385 299.5,-406 663.5,-406 663.5,-385 299.5,-385\"/>\n",
       "<text text-anchor=\"start\" x=\"399.5\" y=\"-391.8\" font-family=\"Times,serif\" font-size=\"14.00\">body_spatial_velocities</text>\n",
       "<polygon fill=\"none\" stroke=\"black\" points=\"32.5,-364 32.5,-385 299.5,-385 299.5,-364 32.5,-364\"/>\n",
       "<text text-anchor=\"start\" x=\"41\" y=\"-370.8\" font-family=\"Times,serif\" font-size=\"14.00\" fill=\"grey\">WorldModelInstance_desired_state</text>\n",
       "<polygon fill=\"none\" stroke=\"black\" points=\"299.5,-364 299.5,-385 663.5,-385 663.5,-364 299.5,-364\"/>\n",
       "<text text-anchor=\"start\" x=\"386\" y=\"-370.8\" font-family=\"Times,serif\" font-size=\"14.00\">body_spatial_accelerations</text>\n",
       "<polygon fill=\"none\" stroke=\"black\" points=\"32.5,-343 32.5,-364 299.5,-364 299.5,-343 32.5,-343\"/>\n",
       "<text text-anchor=\"start\" x=\"50\" y=\"-349.8\" font-family=\"Times,serif\" font-size=\"14.00\" fill=\"grey\">DefaultModelInstance_actuation</text>\n",
       "<polygon fill=\"none\" stroke=\"black\" points=\"299.5,-343 299.5,-364 663.5,-364 663.5,-343 299.5,-343\"/>\n",
       "<text text-anchor=\"start\" x=\"392.5\" y=\"-349.8\" font-family=\"Times,serif\" font-size=\"14.00\">generalized_acceleration</text>\n",
       "<polygon fill=\"none\" stroke=\"black\" points=\"32.5,-322 32.5,-343 299.5,-343 299.5,-322 32.5,-322\"/>\n",
       "<text text-anchor=\"start\" x=\"35.5\" y=\"-328.8\" font-family=\"Times,serif\" font-size=\"14.00\" fill=\"grey\">DefaultModelInstance_desired_state</text>\n",
       "<polygon fill=\"none\" stroke=\"black\" points=\"299.5,-322 299.5,-343 663.5,-343 663.5,-322 299.5,-322\"/>\n",
       "<text text-anchor=\"start\" x=\"433\" y=\"-328.8\" font-family=\"Times,serif\" font-size=\"14.00\">net_actuation</text>\n",
       "<polygon fill=\"none\" stroke=\"black\" points=\"32.5,-301 32.5,-322 299.5,-322 299.5,-301 32.5,-301\"/>\n",
       "<text text-anchor=\"start\" x=\"105.5\" y=\"-307.8\" font-family=\"Times,serif\" font-size=\"14.00\">iiwa14_actuation</text>\n",
       "<polygon fill=\"none\" stroke=\"black\" points=\"299.5,-301 299.5,-322 663.5,-322 663.5,-301 299.5,-301\"/>\n",
       "<text text-anchor=\"start\" x=\"427\" y=\"-307.8\" font-family=\"Times,serif\" font-size=\"14.00\">reaction_forces</text>\n",
       "<polygon fill=\"none\" stroke=\"black\" points=\"32.5,-280 32.5,-301 299.5,-301 299.5,-280 32.5,-280\"/>\n",
       "<text text-anchor=\"start\" x=\"90.5\" y=\"-286.8\" font-family=\"Times,serif\" font-size=\"14.00\">iiwa14_desired_state</text>\n",
       "<polygon fill=\"none\" stroke=\"black\" points=\"299.5,-280 299.5,-301 663.5,-301 663.5,-280 299.5,-280\"/>\n",
       "<text text-anchor=\"start\" x=\"427\" y=\"-286.8\" font-family=\"Times,serif\" font-size=\"14.00\">contact_results</text>\n",
       "<polyline fill=\"none\" stroke=\"grey\" points=\"32.5,-280 32.5,-28 299.5,-28 \"/>\n",
       "<polygon fill=\"none\" stroke=\"black\" points=\"299.5,-259 299.5,-280 663.5,-280 663.5,-259 299.5,-259\"/>\n",
       "<text text-anchor=\"start\" x=\"386.5\" y=\"-265.8\" font-family=\"Times,serif\" font-size=\"14.00\" fill=\"grey\">WorldModelInstance_state</text>\n",
       "<polygon fill=\"none\" stroke=\"black\" points=\"299.5,-238 299.5,-259 663.5,-259 663.5,-238 299.5,-238\"/>\n",
       "<text text-anchor=\"start\" x=\"316\" y=\"-244.8\" font-family=\"Times,serif\" font-size=\"14.00\" fill=\"grey\">WorldModelInstance_generalized_acceleration</text>\n",
       "<polygon fill=\"none\" stroke=\"black\" points=\"299.5,-217 299.5,-238 663.5,-238 663.5,-217 299.5,-217\"/>\n",
       "<text text-anchor=\"start\" x=\"308\" y=\"-223.8\" font-family=\"Times,serif\" font-size=\"14.00\" fill=\"grey\">WorldModelInstance_generalized_contact_forces</text>\n",
       "<polygon fill=\"none\" stroke=\"black\" points=\"299.5,-196 299.5,-217 663.5,-217 663.5,-196 299.5,-196\"/>\n",
       "<text text-anchor=\"start\" x=\"356\" y=\"-202.8\" font-family=\"Times,serif\" font-size=\"14.00\" fill=\"grey\">WorldModelInstance_net_actuation</text>\n",
       "<polygon fill=\"none\" stroke=\"black\" points=\"299.5,-175 299.5,-196 663.5,-196 663.5,-175 299.5,-175\"/>\n",
       "<text text-anchor=\"start\" x=\"381\" y=\"-181.8\" font-family=\"Times,serif\" font-size=\"14.00\" fill=\"grey\">DefaultModelInstance_state</text>\n",
       "<polygon fill=\"none\" stroke=\"black\" points=\"299.5,-154 299.5,-175 663.5,-175 663.5,-154 299.5,-154\"/>\n",
       "<text text-anchor=\"start\" x=\"310.5\" y=\"-160.8\" font-family=\"Times,serif\" font-size=\"14.00\" fill=\"grey\">DefaultModelInstance_generalized_acceleration</text>\n",
       "<polygon fill=\"none\" stroke=\"black\" points=\"299.5,-133 299.5,-154 663.5,-154 663.5,-133 299.5,-133\"/>\n",
       "<text text-anchor=\"start\" x=\"302.5\" y=\"-139.8\" font-family=\"Times,serif\" font-size=\"14.00\" fill=\"grey\">DefaultModelInstance_generalized_contact_forces</text>\n",
       "<polygon fill=\"none\" stroke=\"black\" points=\"299.5,-112 299.5,-133 663.5,-133 663.5,-112 299.5,-112\"/>\n",
       "<text text-anchor=\"start\" x=\"350.5\" y=\"-118.8\" font-family=\"Times,serif\" font-size=\"14.00\" fill=\"grey\">DefaultModelInstance_net_actuation</text>\n",
       "<polygon fill=\"none\" stroke=\"black\" points=\"299.5,-91 299.5,-112 663.5,-112 663.5,-91 299.5,-91\"/>\n",
       "<text text-anchor=\"start\" x=\"436\" y=\"-97.8\" font-family=\"Times,serif\" font-size=\"14.00\">iiwa14_state</text>\n",
       "<polygon fill=\"none\" stroke=\"black\" points=\"299.5,-70 299.5,-91 663.5,-91 663.5,-70 299.5,-70\"/>\n",
       "<text text-anchor=\"start\" x=\"365.5\" y=\"-76.8\" font-family=\"Times,serif\" font-size=\"14.00\">iiwa14_generalized_acceleration</text>\n",
       "<polygon fill=\"none\" stroke=\"black\" points=\"299.5,-49 299.5,-70 663.5,-70 663.5,-49 299.5,-49\"/>\n",
       "<text text-anchor=\"start\" x=\"358\" y=\"-55.8\" font-family=\"Times,serif\" font-size=\"14.00\">iiwa14_generalized_contact_forces</text>\n",
       "<polygon fill=\"none\" stroke=\"black\" points=\"299.5,-28 299.5,-49 663.5,-49 663.5,-28 299.5,-28\"/>\n",
       "<text text-anchor=\"start\" x=\"406\" y=\"-34.8\" font-family=\"Times,serif\" font-size=\"14.00\">iiwa14_net_actuation</text>\n",
       "</g>\n",
       "<!-- s3 -->\n",
       "<g id=\"node2\" class=\"node\">\n",
       "<title>s3</title>\n",
       "<polygon fill=\"none\" stroke=\"black\" points=\"715.5,-490 715.5,-524 908.5,-524 908.5,-490 715.5,-490\"/>\n",
       "<text text-anchor=\"start\" x=\"764\" y=\"-510.8\" font-family=\"Times,serif\" font-weight=\"bold\" font-size=\"14.00\">SceneGraph</text>\n",
       "<text text-anchor=\"start\" x=\"741.5\" y=\"-496.8\" font-family=\"Times,serif\" font-size=\"14.00\">name=scene_graph</text>\n",
       "<polygon fill=\"none\" stroke=\"black\" points=\"715.5,-469 715.5,-490 860.5,-490 860.5,-469 715.5,-469\"/>\n",
       "<text text-anchor=\"start\" x=\"749.5\" y=\"-475.8\" font-family=\"Times,serif\" font-size=\"14.00\">plant_pose</text>\n",
       "<polygon fill=\"none\" stroke=\"black\" points=\"860.5,-448 860.5,-490 908.5,-490 908.5,-448 860.5,-448\"/>\n",
       "<text text-anchor=\"start\" x=\"863.5\" y=\"-465.3\" font-family=\"Times,serif\" font-size=\"14.00\">query</text>\n",
       "<polygon fill=\"none\" stroke=\"black\" points=\"715.5,-448 715.5,-469 860.5,-469 860.5,-448 715.5,-448\"/>\n",
       "<text text-anchor=\"start\" x=\"718.5\" y=\"-454.8\" font-family=\"Times,serif\" font-size=\"14.00\">plant_configuration</text>\n",
       "</g>\n",
       "<!-- s2&#45;&gt;s3 -->\n",
       "<g id=\"edge2\" class=\"edge\">\n",
       "<title>s2:e-&gt;s3:w</title>\n",
       "<path fill=\"none\" stroke=\"black\" d=\"M664.5,-480C682.91,-480 689.87,-479.31 704.35,-479.08\"/>\n",
       "<polygon fill=\"black\" stroke=\"black\" points=\"704.53,-482.58 714.5,-479 704.47,-475.58 704.53,-482.58\"/>\n",
       "</g>\n",
       "<!-- s2&#45;&gt;s3 -->\n",
       "<g id=\"edge3\" class=\"edge\">\n",
       "<title>s2:e-&gt;s3:w</title>\n",
       "<path fill=\"none\" stroke=\"black\" d=\"M664.5,-459C682.91,-459 689.87,-458.31 704.35,-458.08\"/>\n",
       "<polygon fill=\"black\" stroke=\"black\" points=\"704.53,-461.58 714.5,-458 704.47,-454.58 704.53,-461.58\"/>\n",
       "</g>\n",
       "<!-- s3&#45;&gt;s2 -->\n",
       "<g id=\"edge4\" class=\"edge\">\n",
       "<title>s3:e-&gt;s2:w</title>\n",
       "<path fill=\"none\" stroke=\"black\" d=\"M909.5,-469C929.05,-469 894.5,-320.36 707,-444 673.09,-466.36 704.91,-505.64 671,-528 611.77,-567.05 83.19,-577.64 32.5,-528 20.35,-516.1 13.38,-492.69 21.85,-483.66\"/>\n",
       "<polygon fill=\"black\" stroke=\"black\" points=\"23.39,-486.82 31.5,-480 20.91,-480.28 23.39,-486.82\"/>\n",
       "</g>\n",
       "<!-- s98 -->\n",
       "<g id=\"node3\" class=\"node\">\n",
       "<title>s98</title>\n",
       "<polygon fill=\"none\" stroke=\"black\" points=\"960.5,-475 960.5,-523 1233.5,-523 1233.5,-475 960.5,-475\"/>\n",
       "<text text-anchor=\"start\" x=\"1023.5\" y=\"-509.8\" font-family=\"Times,serif\" font-weight=\"bold\" font-size=\"14.00\">MeshcatVisualizer</text>\n",
       "<text text-anchor=\"start\" x=\"963.5\" y=\"-495.8\" font-family=\"Times,serif\" font-size=\"14.00\">name=meshcat_visualizer(visualizer)</text>\n",
       "<text text-anchor=\"start\" x=\"1015.5\" y=\"-481.8\" font-family=\"Times,serif\" font-size=\"14.00\">path=/drake/visualizer</text>\n",
       "<polygon fill=\"none\" stroke=\"black\" points=\"960.5,-454 960.5,-475 1142.5,-475 1142.5,-454 960.5,-454\"/>\n",
       "<text text-anchor=\"start\" x=\"1005.5\" y=\"-460.8\" font-family=\"Times,serif\" font-size=\"14.00\">query_object</text>\n",
       "<polyline fill=\"none\" stroke=\"grey\" points=\"1142.5,-454 1233.5,-454 1233.5,-475 \"/>\n",
       "</g>\n",
       "<!-- s3&#45;&gt;s98 -->\n",
       "<g id=\"edge5\" class=\"edge\">\n",
       "<title>s3:e-&gt;s98:w</title>\n",
       "<path fill=\"none\" stroke=\"black\" d=\"M909.5,-469C927.99,-469 934.83,-465.57 949.32,-464.39\"/>\n",
       "<polygon fill=\"black\" stroke=\"black\" points=\"949.64,-467.88 959.5,-464 949.37,-460.89 949.64,-467.88\"/>\n",
       "</g>\n",
       "<!-- meshcat_in -->\n",
       "<g id=\"node4\" class=\"node\">\n",
       "<title>meshcat_in</title>\n",
       "<ellipse fill=\"none\" stroke=\"magenta\" cx=\"1327.05\" cy=\"-489\" rx=\"50.09\" ry=\"18\"/>\n",
       "<text text-anchor=\"middle\" x=\"1327.05\" y=\"-485.3\" font-family=\"Times,serif\" font-size=\"14.00\">Meshcat</text>\n",
       "</g>\n",
       "<!-- s98&#45;&gt;meshcat_in -->\n",
       "<g id=\"edge1\" class=\"edge\">\n",
       "<title>s98:e-&gt;meshcat_in</title>\n",
       "<path fill=\"none\" stroke=\"magenta\" stroke-dasharray=\"5,2\" d=\"M1241,-489C1249.19,-489 1257.82,-489 1266.32,-489\"/>\n",
       "<polygon fill=\"magenta\" stroke=\"magenta\" points=\"1266.58,-492.5 1276.58,-489 1266.58,-485.5 1266.58,-492.5\"/>\n",
       "</g>\n",
       "</g>\n",
       "</svg>"
      ],
      "text/plain": [
       "<IPython.core.display.SVG object>"
      ]
     },
     "metadata": {},
     "output_type": "display_data"
    }
   ],
   "source": [
    "RenderDiagram(diagram, max_depth=1)"
   ]
  },
  {
   "cell_type": "markdown",
   "metadata": {
    "cell_id": "525d57e55be84a8a94e2ba3da602820d",
    "deepnote_cell_type": "markdown"
   },
   "source": [
    "我们还可以为 diagram 创建一个默认 context 并打印出来，帮助我们了解当前系统状态！\n",
    "\n",
    "**提醒：** context 保存了“全部状态”，即 diagram 内所有系统的动力学信息、仿真时间等。"
   ]
  },
  {
   "cell_type": "code",
   "execution_count": 11,
   "metadata": {
    "cell_id": "f376e78eaa18406487f9a1cb0b397121",
    "deepnote_cell_type": "code",
    "execution_context_id": "d6247577-0abd-4b9c-a41e-877bf38d3ff6",
    "execution_millis": 1,
    "execution_start": 1756174337968,
    "source_hash": "cf9dc678"
   },
   "outputs": [
    {
     "name": "stdout",
     "output_type": "stream",
     "text": [
      "::_ Context (of a Diagram)\n",
      "---------------------------\n",
      "14 total discrete states in 1 groups\n",
      "1 total abstract states\n",
      "273 total numeric parameters in 48 groups\n",
      "16 total abstract parameters\n",
      "\n",
      "::_::plant Context\n",
      "-------------------\n",
      "Time: 0\n",
      "States:\n",
      "  1 discrete state groups with\n",
      "     14 states\n",
      "       0 0 0 0 0 0 0 0 0 0 0 0 0 0\n",
      "  1 abstract states\n",
      "\n",
      "Parameters:\n",
      "  48 numeric parameter groups with\n",
      "     0 parameters\n",
      "       \n",
      "     1 parameters\n",
      "       0.5\n",
      "     1 parameters\n",
      "       0.5\n",
      "     1 parameters\n",
      "       0.5\n",
      "     1 parameters\n",
      "       0.5\n",
      "     1 parameters\n",
      "       0.5\n",
      "     1 parameters\n",
      "       0.5\n",
      "     1 parameters\n",
      "       0.5\n",
      "     0 parameters\n",
      "       \n",
      "     0 parameters\n",
      "       \n",
      "     0 parameters\n",
      "       \n",
      "     1 parameters\n",
      "       0.0001321\n",
      "     1 parameters\n",
      "       160\n",
      "     1 parameters\n",
      "       0.0001321\n",
      "     1 parameters\n",
      "       160\n",
      "     1 parameters\n",
      "       0.0001321\n",
      "     1 parameters\n",
      "       160\n",
      "     1 parameters\n",
      "       0.0001321\n",
      "     1 parameters\n",
      "       160\n",
      "     1 parameters\n",
      "       0.0001321\n",
      "     1 parameters\n",
      "       100\n",
      "     1 parameters\n",
      "       4.54e-05\n",
      "     1 parameters\n",
      "       160\n",
      "     1 parameters\n",
      "       4.54e-05\n",
      "     1 parameters\n",
      "       160\n",
      "     10 parameters\n",
      "       nan nan nan nan nan nan nan nan nan nan\n",
      "     10 parameters\n",
      "       0 0 0 0 0 0 0 0 0 0\n",
      "     10 parameters\n",
      "                          5                 -0.1                    0  0.07000000000000001               0.0149               0.0269                0.016                    0 0.007000000000000001                    0\n",
      "     10 parameters\n",
      "                       5.76                    0                -0.03                 0.12  0.02102916666666667           0.02018125 0.003035416666666666                    0                    0               0.0036\n",
      "     10 parameters\n",
      "                       6.35               0.0003                0.059                0.042  0.01004814960629921 0.003496373464566929 0.008268491574803149            -1.77e-05            -1.26e-05            -0.002478\n",
      "     10 parameters\n",
      "                        3.5                    0                 0.03                 0.13  0.02494285714285715               0.0237 0.003071428571428571                    0                    0              -0.0039\n",
      "     10 parameters\n",
      "                         3.5                     0                 0.067                 0.034   0.01050214285714286  0.002870285714285714  0.009174714285714286                     0                     0 -0.002278000000000001\n",
      "     10 parameters\n",
      "                        3.5               0.0001                0.021                0.076 0.009074142857142857 0.008261724285714285 0.001723867142857143             -2.1e-06             -7.6e-06            -0.001596\n",
      "     10 parameters\n",
      "                         1.8                     0 0.0005999999999999999                0.0004  0.002722742222222222  0.002611271111111111            0.00200036                     0                     0              -2.4e-07\n",
      "     10 parameters\n",
      "                         1.2                     0                     0                  0.02  0.001233333333333333  0.001233333333333333 0.0008333333333333334                     0                     0                     0\n",
      "     10 parameters\n",
      "       0 0 0 0 0 0 0 0 0 0\n",
      "     10 parameters\n",
      "       0 0 0 0 0 0 0 0 0 0\n",
      "     12 parameters\n",
      "        1  0 -0  0  1  0  0  0  1  0  0  0\n",
      "     12 parameters\n",
      "            1      0     -0      0      1      0      0      0      1      0      0 0.1575\n",
      "     12 parameters\n",
      "                           -1  1.224646799147353e-16                     -0  4.688644402456635e-32  3.828568698926949e-16                      1  1.224646799147353e-16                      1 -3.828568698926949e-16                      0                      0                 0.2025\n",
      "     12 parameters\n",
      "                           -1  1.224646799147353e-16                     -0  4.688644402456635e-32  3.828568698926949e-16                      1  1.224646799147353e-16                      1 -3.828568698926949e-16                      0                 0.2045                      0\n",
      "     12 parameters\n",
      "                            1                      0                     -0                      0 -3.828568698926949e-16                      1                      0                     -1 -3.828568698926949e-16                      0                      0                 0.2155\n",
      "     12 parameters\n",
      "                           -1                     -0 -1.224646799147353e-16 -1.224646799147353e-16 -3.828568698926949e-16                      1 -4.688644402456635e-32                      1  3.828568698926949e-16                      0                 0.1845                      0\n",
      "     12 parameters\n",
      "                            1                      0                     -0                      0 -3.828568698926949e-16                      1                      0                     -1 -3.828568698926949e-16                      0                      0                 0.2155\n",
      "     12 parameters\n",
      "                           -1                     -0 -1.224646799147353e-16 -1.224646799147353e-16 -3.828568698926949e-16                      1 -4.688644402456635e-32                      1  3.828568698926949e-16                      0                  0.081                      0\n",
      "     12 parameters\n",
      "                            1 -1.224646799147353e-16 -1.224646799147353e-16  1.224646799147353e-16                      1 -1.224646799147353e-16  1.224646799147353e-16  1.224646799147353e-16                      1                      0                      0                  0.045\n",
      "     12 parameters\n",
      "       -3.828568698926949e-16                     -0                      1                     -0                      1                     -0                     -1                     -0 -3.828568698926949e-16                      0                      0                  0.045\n",
      "     12 parameters\n",
      "       -3.828568698926949e-16                      1                     -0                      1  3.828568698926949e-16  1.224646799147353e-16  1.224646799147353e-16  4.688644402456635e-32                     -1                   0.09                      0                      0\n",
      "  14 abstract parameters\n",
      "\n",
      "::_::scene_graph Context\n",
      "-------------------------\n",
      "Time: 0\n",
      "Parameters:\n",
      "  2 abstract parameters\n",
      "\n"
     ]
    }
   ],
   "source": [
    "# HINT: You already learned how to do this in the first notebook!\n",
    "# TODO: Create a context for the diagram\n",
    "context = diagram.CreateDefaultContext()\n",
    "# TODO: Print the context\n",
    "print(context)"
   ]
  },
  {
   "cell_type": "markdown",
   "metadata": {
    "cell_id": "f17707905656442aaad9cba7e90e9bce",
    "deepnote_cell_type": "markdown"
   },
   "source": [
    "哇！现在 context 里信息量很大。我们只打印 plant 的 context 看看。\n",
    "\n",
    "（**提示：** 对于给定的 `system` 和 diagram context，可以用 `system.GetMyContextFromRoot(diagram_context)` 获取该系统的 context）\n",
    "\n",
    "- plant 有多少个（普通）状态？和你对 IIWA14 自由度的预期一致吗？"
   ]
  },
  {
   "cell_type": "markdown",
   "metadata": {},
   "source": [
    "14个状态，因为 IIWA14 有7个自由度，每个自由度有位置和速度两个状态变量。"
   ]
  },
  {
   "cell_type": "code",
   "execution_count": 12,
   "metadata": {
    "cell_id": "806296f53c0945dfa6e67359e6166ecf",
    "deepnote_cell_type": "code",
    "execution_context_id": "d6247577-0abd-4b9c-a41e-877bf38d3ff6",
    "execution_millis": 1,
    "execution_start": 1756174338028,
    "source_hash": "5911457f"
   },
   "outputs": [
    {
     "name": "stdout",
     "output_type": "stream",
     "text": [
      "::_::plant Context\n",
      "-------------------\n",
      "Time: 0\n",
      "States:\n",
      "  1 discrete state groups with\n",
      "     14 states\n",
      "       0 0 0 0 0 0 0 0 0 0 0 0 0 0\n",
      "  1 abstract states\n",
      "\n",
      "Parameters:\n",
      "  48 numeric parameter groups with\n",
      "     0 parameters\n",
      "       \n",
      "     1 parameters\n",
      "       0.5\n",
      "     1 parameters\n",
      "       0.5\n",
      "     1 parameters\n",
      "       0.5\n",
      "     1 parameters\n",
      "       0.5\n",
      "     1 parameters\n",
      "       0.5\n",
      "     1 parameters\n",
      "       0.5\n",
      "     1 parameters\n",
      "       0.5\n",
      "     0 parameters\n",
      "       \n",
      "     0 parameters\n",
      "       \n",
      "     0 parameters\n",
      "       \n",
      "     1 parameters\n",
      "       0.0001321\n",
      "     1 parameters\n",
      "       160\n",
      "     1 parameters\n",
      "       0.0001321\n",
      "     1 parameters\n",
      "       160\n",
      "     1 parameters\n",
      "       0.0001321\n",
      "     1 parameters\n",
      "       160\n",
      "     1 parameters\n",
      "       0.0001321\n",
      "     1 parameters\n",
      "       160\n",
      "     1 parameters\n",
      "       0.0001321\n",
      "     1 parameters\n",
      "       100\n",
      "     1 parameters\n",
      "       4.54e-05\n",
      "     1 parameters\n",
      "       160\n",
      "     1 parameters\n",
      "       4.54e-05\n",
      "     1 parameters\n",
      "       160\n",
      "     10 parameters\n",
      "       nan nan nan nan nan nan nan nan nan nan\n",
      "     10 parameters\n",
      "       0 0 0 0 0 0 0 0 0 0\n",
      "     10 parameters\n",
      "                          5                 -0.1                    0  0.07000000000000001               0.0149               0.0269                0.016                    0 0.007000000000000001                    0\n",
      "     10 parameters\n",
      "                       5.76                    0                -0.03                 0.12  0.02102916666666667           0.02018125 0.003035416666666666                    0                    0               0.0036\n",
      "     10 parameters\n",
      "                       6.35               0.0003                0.059                0.042  0.01004814960629921 0.003496373464566929 0.008268491574803149            -1.77e-05            -1.26e-05            -0.002478\n",
      "     10 parameters\n",
      "                        3.5                    0                 0.03                 0.13  0.02494285714285715               0.0237 0.003071428571428571                    0                    0              -0.0039\n",
      "     10 parameters\n",
      "                         3.5                     0                 0.067                 0.034   0.01050214285714286  0.002870285714285714  0.009174714285714286                     0                     0 -0.002278000000000001\n",
      "     10 parameters\n",
      "                        3.5               0.0001                0.021                0.076 0.009074142857142857 0.008261724285714285 0.001723867142857143             -2.1e-06             -7.6e-06            -0.001596\n",
      "     10 parameters\n",
      "                         1.8                     0 0.0005999999999999999                0.0004  0.002722742222222222  0.002611271111111111            0.00200036                     0                     0              -2.4e-07\n",
      "     10 parameters\n",
      "                         1.2                     0                     0                  0.02  0.001233333333333333  0.001233333333333333 0.0008333333333333334                     0                     0                     0\n",
      "     10 parameters\n",
      "       0 0 0 0 0 0 0 0 0 0\n",
      "     10 parameters\n",
      "       0 0 0 0 0 0 0 0 0 0\n",
      "     12 parameters\n",
      "        1  0 -0  0  1  0  0  0  1  0  0  0\n",
      "     12 parameters\n",
      "            1      0     -0      0      1      0      0      0      1      0      0 0.1575\n",
      "     12 parameters\n",
      "                           -1  1.224646799147353e-16                     -0  4.688644402456635e-32  3.828568698926949e-16                      1  1.224646799147353e-16                      1 -3.828568698926949e-16                      0                      0                 0.2025\n",
      "     12 parameters\n",
      "                           -1  1.224646799147353e-16                     -0  4.688644402456635e-32  3.828568698926949e-16                      1  1.224646799147353e-16                      1 -3.828568698926949e-16                      0                 0.2045                      0\n",
      "     12 parameters\n",
      "                            1                      0                     -0                      0 -3.828568698926949e-16                      1                      0                     -1 -3.828568698926949e-16                      0                      0                 0.2155\n",
      "     12 parameters\n",
      "                           -1                     -0 -1.224646799147353e-16 -1.224646799147353e-16 -3.828568698926949e-16                      1 -4.688644402456635e-32                      1  3.828568698926949e-16                      0                 0.1845                      0\n",
      "     12 parameters\n",
      "                            1                      0                     -0                      0 -3.828568698926949e-16                      1                      0                     -1 -3.828568698926949e-16                      0                      0                 0.2155\n",
      "     12 parameters\n",
      "                           -1                     -0 -1.224646799147353e-16 -1.224646799147353e-16 -3.828568698926949e-16                      1 -4.688644402456635e-32                      1  3.828568698926949e-16                      0                  0.081                      0\n",
      "     12 parameters\n",
      "                            1 -1.224646799147353e-16 -1.224646799147353e-16  1.224646799147353e-16                      1 -1.224646799147353e-16  1.224646799147353e-16  1.224646799147353e-16                      1                      0                      0                  0.045\n",
      "     12 parameters\n",
      "       -3.828568698926949e-16                     -0                      1                     -0                      1                     -0                     -1                     -0 -3.828568698926949e-16                      0                      0                  0.045\n",
      "     12 parameters\n",
      "       -3.828568698926949e-16                      1                     -0                      1  3.828568698926949e-16  1.224646799147353e-16  1.224646799147353e-16  4.688644402456635e-32                     -1                   0.09                      0                      0\n",
      "  14 abstract parameters\n",
      "\n"
     ]
    }
   ],
   "source": [
    "# TODO: Get the context of the plant from the diagram_context\n",
    "# HINT: This is important!\n",
    "#       Use the method plant.GetMyContextFromRoot(diagram_context),\n",
    "#       similar to what you did for the pendulum in the first notebook!\n",
    "iiwa_context = plant.GetMyContextFromRoot(context)\n",
    "\n",
    "# TODO: Print the plant context\n",
    "print(iiwa_context)"
   ]
  },
  {
   "cell_type": "code",
   "execution_count": 13,
   "metadata": {},
   "outputs": [
    {
     "name": "stdout",
     "output_type": "stream",
     "text": [
      "[0. 0. 0. 0. 0. 0. 0.]\n",
      "[0. 0. 0. 0. 0. 0. 0.]\n"
     ]
    }
   ],
   "source": [
    "positions = plant.GetPositions(iiwa_context)\n",
    "print(positions)\n",
    "velocities = plant.GetVelocities(iiwa_context)\n",
    "print(velocities)"
   ]
  },
  {
   "cell_type": "markdown",
   "metadata": {
    "cell_id": "779dab67d74046fd831984af7dec8e31",
    "deepnote_cell_type": "markdown"
   },
   "source": [
    "---\n",
    "\n",
    "## 第二部分：仅仿真 IIWA14 \n",
    "\n",
    "很好，IIWA14 已经加载到 Drake！\n",
    "\n",
    "现在我们设置初始条件并仿真该系统（目前只有 IIWA）。仿真时请关注 meshcat 可视化窗口！\n",
    "\n",
    "**参考：** 本部分继续参考 [Drake Simulation 示例](https://deepnote.com/workspace/Drake-0b3b2c53-a7ad-441b-80f8-bf8350752305/project/Tutorials-2b4fc509-aef2-417d-a40d-6071dfed9199/notebook/simulation-1ba6290623e34dbbb9d822a2180187c1)。"
   ]
  },
  {
   "cell_type": "code",
   "execution_count": 14,
   "metadata": {
    "cell_id": "b2121d4084b746978c36c014c089297c",
    "deepnote_cell_type": "code",
    "execution_context_id": "d6247577-0abd-4b9c-a41e-877bf38d3ff6",
    "execution_millis": 0,
    "execution_start": 1756174338079,
    "source_hash": "c4348017"
   },
   "outputs": [],
   "source": [
    "# TODO：用你实现的 create_IIWA14_diagram 函数进行机器人仿真\n",
    "\n",
    "\n",
    "def simulate_IIWA14(\n",
    "    q0: np.ndarray, simulation_time: float = 3.0, set_target_realtime_rate: bool = True\n",
    ") -> np.ndarray:\n",
    "    # 提示：你在第一个笔记本已经学会了大部分内容！\n",
    "\n",
    "    # TODO：用 create_IIWA14_diagram 创建仿真系统\n",
    "    diagram, plant, iiwa = create_IIWA14_diagram()\n",
    "    # TODO：创建 diagram context\n",
    "    diagram_context = diagram.CreateDefaultContext()\n",
    "\n",
    "    # 提示：参见上方 Simulation 示例，“Visualizing the scene”小节\n",
    "    # TODO：用 diagram context 获取 plant 的 context\n",
    "    # 提示：很重要！plant context 是 diagram context 的子集，\n",
    "    #       只需修改 plant context 设置初始关节位置。\n",
    "    # 提示：之前用的是 `GetMyContextFromRoot`，现在要修改 context，\n",
    "    #       应用 `GetMyMutableContextFromRoot`（返回可变 context）。\n",
    "    plant_context = plant.GetMyMutableContextFromRoot(diagram_context)\n",
    "\n",
    "    # TODO：将机器人关节初始位置设置为 q0（弧度）\n",
    "    plant.SetPositions(plant_context, q0)\n",
    "\n",
    "    # TODO：将执行器输入设为零（被动仿真）\n",
    "    # 提示：参见上方 Drake Simulation 示例，方法一致。\n",
    "    # 提示：IIWA14 有 7 个关节，需要传入 7 个力矩值的向量\n",
    "    actuation_inputs = np.zeros(7)\n",
    "    plant.get_actuation_input_port(iiwa).FixValue(plant_context, actuation_inputs)\n",
    "    # TODO：创建仿真器\n",
    "    simulator = Simulator(diagram, diagram_context)\n",
    "\n",
    "    # TODO：设置可视化实时速率（便于观察）\n",
    "    if set_target_realtime_rate:\n",
    "    # 提示：用 simulator.set_target_realtime_rate(1.0)\n",
    "        simulator.set_target_realtime_rate(1.0)\n",
    "\n",
    "    # TODO：运行仿真\n",
    "    simulator.AdvanceTo(simulation_time)\n",
    "\n",
    "    # TODO：返回最终关节位置\n",
    "    # 提示：之前用 logger 记录系统输出历史，这里只需用\n",
    "    #       `plant.GetPositions(plant_context)`（仿真结束后）获取最终关节位置。\n",
    "    return plant.GetPositions(plant_context)"
   ]
  },
  {
   "cell_type": "markdown",
   "metadata": {
    "cell_id": "37c1d2bf5550440b8003cfcb92dea3c8",
    "deepnote_cell_type": "markdown"
   },
   "source": [
    "Okay! If everything is working as expected, we should now be able to simulate our system. Let us try by running the code below (if everything is working correctly, you should see the IIWA14 swinging passively in your meshcat window).\n"
   ]
  },
  {
   "cell_type": "code",
   "execution_count": 20,
   "metadata": {
    "cell_id": "5c7107ec37844266b03e30ddeae106e7",
    "deepnote_cell_type": "code",
    "execution_context_id": "d6247577-0abd-4b9c-a41e-877bf38d3ff6",
    "execution_millis": 20710,
    "execution_start": 1756174338358,
    "source_hash": "62d6b950"
   },
   "outputs": [
    {
     "name": "stdout",
     "output_type": "stream",
     "text": [
      "Starting robot simulation...\n",
      "Check your Meshcat window (http://localhost:7002) to see the robot simulation!\n",
      "     - If the robot is not moving, the simulation already finished.\n",
      "     - Try running this cell again (or increase the simulation time), with the meshcat window open!\n",
      "Robot simulation completed!\n",
      "   Initial joint positions: [0 0 0 0 0 0 0]\n",
      "   Final joint positions: [ 7.60710861e-02 -2.09439510e+00 -4.34915802e-02  1.19531583e+00\n",
      "  6.45280827e-01 -1.56536580e-02 -1.40879528e-06]\n"
     ]
    }
   ],
   "source": [
    "# Test your implementation\n",
    "q_initial = np.array([0, 0, 0, 0, 0, 0, 0])\n",
    "\n",
    "print(\"Starting robot simulation...\")\n",
    "print(f\"Check your Meshcat window ({meshcat.web_url()}) to see the robot simulation!\")\n",
    "print(\"     - If the robot is not moving, the simulation already finished.\")\n",
    "print(\n",
    "    \"     - Try running this cell again (or increase the simulation time), with the meshcat window open!\"\n",
    ")\n",
    "q_final = simulate_IIWA14(\n",
    "    q_initial, simulation_time=20.0 if running_as_notebook else 0.1\n",
    ")\n",
    "\n",
    "print(\"Robot simulation completed!\")\n",
    "print(f\"   Initial joint positions: {q_initial}\")\n",
    "print(f\"   Final joint positions: {q_final}\")"
   ]
  },
  {
   "cell_type": "markdown",
   "metadata": {
    "cell_id": "66d8b6e3d5b64dda9b4cb2aa7eca0943",
    "deepnote_cell_type": "markdown"
   },
   "source": [
    "好的，成功了。不过 IIWA 只是被动摆动。让我们写一个简单的控制器，至少能让 IIWA 基本保持在期望位置！我们会像第一个笔记本那样，把（非常简单的）控制器实现为 `LeafSystem`。注意 Drake 已经为你实现了许多高级控制器，实际项目中你通常会用那些或者写更好的控制器。这里我们只是为了学习如何将自定义 `LeafSystem` 控制器与 `MultibodyPlant` 连接，写一个非常简单（甚至有点“蠢”）的控制器。"
   ]
  },
  {
   "cell_type": "code",
   "execution_count": null,
   "metadata": {
    "cell_id": "d24e307e9b8d4ec39af9cc8d26b1bd64",
    "deepnote_cell_type": "code",
    "execution_context_id": "d6247577-0abd-4b9c-a41e-877bf38d3ff6",
    "execution_millis": 1,
    "execution_start": 1756174359118,
    "source_hash": "456932d5"
   },
   "outputs": [],
   "source": [
    "class SimpleController(LeafSystem):\n",
    "    def __init__(self, gain: float, q_desired: np.ndarray) -> None:\n",
    "        super().__init__()\n",
    "        self.gain = gain\n",
    "        self.q_desired = q_desired\n",
    "        self.input_port = self.DeclareVectorInputPort(\"iiwa_state\", 14)\n",
    "        self.output_port = self.DeclareVectorOutputPort(\"iiwa_torque\", BasicVector(7), self.ComputeTorque)\n",
    "\n",
    "    def ComputeTorque(self, context: Context, output: BasicVector) -> None:\n",
    "        state = self.input_port.Eval(context)\n",
    "        q = state[:7]\n",
    "        tau = -self.gain * (q - self.q_desired)\n",
    "        output.SetFromVector(tau)\n"
   ]
  },
  {
   "cell_type": "markdown",
   "metadata": {
    "cell_id": "bfad22bd33a54427a6fd6b1dab9ce968",
    "deepnote_cell_type": "markdown"
   },
   "source": [
    "Run the code below to test your implementation:"
   ]
  },
  {
   "cell_type": "code",
   "execution_count": 32,
   "metadata": {
    "cell_id": "7045ac94f49c42219c0c6f0cacadf518",
    "deepnote_cell_type": "code",
    "execution_context_id": "d6247577-0abd-4b9c-a41e-877bf38d3ff6",
    "execution_millis": 1,
    "execution_start": 1756174359168,
    "source_hash": "d209473e"
   },
   "outputs": [
    {
     "name": "stdout",
     "output_type": "stream",
     "text": [
      "Total score is 10/10.\n",
      "\n",
      "Score for Test SimpleController torque computation is 10/10.\n"
     ]
    }
   ],
   "source": [
    "Grader.grade_output([TestPhysicsSimulationSimpleController], [locals()], \"results.json\")\n",
    "Grader.print_test_results(\"results.json\")"
   ]
  },
  {
   "cell_type": "code",
   "execution_count": 35,
   "metadata": {
    "cell_id": "2c12216fdf8348bfab4deccbbb1b7313",
    "deepnote_cell_type": "code",
    "execution_context_id": "d6247577-0abd-4b9c-a41e-877bf38d3ff6",
    "execution_millis": 1,
    "execution_start": 1756174359218,
    "source_hash": "979cb557"
   },
   "outputs": [],
   "source": [
    "def create_IIWA14_diagram_with_controller(\n",
    "    controller_gain: float, q_desired: np.ndarray\n",
    ") -> tuple[Diagram, MultibodyPlant, ModelInstanceIndex]:\n",
    "    builder = DiagramBuilder()\n",
    "    plant, scene_graph = AddMultibodyPlantSceneGraph(builder, time_step=1e-4)\n",
    "    parser = Parser(plant)\n",
    "    iiwa = parser.AddModelsFromUrl(\n",
    "        \"package://drake_models/iiwa_description/urdf/iiwa14_primitive_collision.urdf\"\n",
    "    )[0]\n",
    "    plant.WeldFrames(\n",
    "        plant.world_frame(),\n",
    "        plant.GetFrameByName(\"iiwa_link_0\", iiwa)\n",
    "    )\n",
    "    plant.Finalize()\n",
    "\n",
    "    # 创建控制器并添加到 builder\n",
    "    controller = builder.AddSystem(SimpleController(controller_gain, q_desired))\n",
    "\n",
    "    # 连接 plant 的 IIWA 状态输出端口到控制器输入端口\n",
    "    builder.Connect(\n",
    "        plant.get_state_output_port(iiwa),\n",
    "        controller.input_port\n",
    "    )\n",
    "\n",
    "    # 连接控制器输出端口到 plant 的 IIWA 执行器输入端口\n",
    "    builder.Connect(\n",
    "        controller.output_port,\n",
    "        plant.get_actuation_input_port(iiwa)\n",
    "    )\n",
    "\n",
    "    # 添加 Meshcat 可视化器\n",
    "    MeshcatVisualizer.AddToBuilder(builder, scene_graph, meshcat)\n",
    "\n",
    "    diagram = builder.Build()\n",
    "    return diagram, plant, iiwa\n"
   ]
  },
  {
   "cell_type": "markdown",
   "metadata": {
    "cell_id": "66f86bb7bd5b401dbd92d90e18a7fd20",
    "deepnote_cell_type": "markdown"
   },
   "source": [
    "Let us print the diagram to make sure that the connections are as expected. Make sure the the output port `iiwa14_state` from the `MultibodyPlant` system is connect to the input port of the controller, and that the output port of the controller is connected to `iiwa14_actuation` in `MultibodyPlant`!"
   ]
  },
  {
   "cell_type": "code",
   "execution_count": 36,
   "metadata": {
    "cell_id": "58087b49277845fe9b58b58959b08e96",
    "deepnote_cell_type": "code",
    "execution_context_id": "d6247577-0abd-4b9c-a41e-877bf38d3ff6",
    "execution_millis": 54,
    "execution_start": 1756174359498,
    "source_hash": "3bca6051"
   },
   "outputs": [
    {
     "data": {
      "image/svg+xml": [
       "<svg xmlns=\"http://www.w3.org/2000/svg\" xmlns:xlink=\"http://www.w3.org/1999/xlink\" width=\"1429pt\" height=\"601pt\" viewBox=\"0.00 0.00 1429.09 601.20\">\n",
       "<g id=\"graph0\" class=\"graph\" transform=\"scale(1 1) rotate(0) translate(4 597.2)\">\n",
       "<title>_336647</title>\n",
       "<polygon fill=\"white\" stroke=\"transparent\" points=\"-4,4 -4,-597.2 1425.09,-597.2 1425.09,4 -4,4\"/>\n",
       "<g id=\"clust1\" class=\"cluster\">\n",
       "<title>cluster336647diagram</title>\n",
       "<polygon fill=\"none\" stroke=\"black\" points=\"8,-8 8,-575 1413.09,-575 1413.09,-8 8,-8\"/>\n",
       "<text text-anchor=\"start\" x=\"676.55\" y=\"-556.3\" font-family=\"Times,serif\" font-weight=\"bold\" font-size=\"14.00\">Diagram</text>\n",
       "</g>\n",
       "<g id=\"clust2\" class=\"cluster\">\n",
       "<title>cluster336647subsystems</title>\n",
       "<polygon fill=\"none\" stroke=\"white\" points=\"16,-16 16,-536 1405.09,-536 1405.09,-16 16,-16\"/>\n",
       "</g>\n",
       "<!-- s336538 -->\n",
       "<g id=\"node1\" class=\"node\">\n",
       "<title>s336538</title>\n",
       "<polygon fill=\"none\" stroke=\"black\" points=\"32.5,-490 32.5,-524 663.5,-524 663.5,-490 32.5,-490\"/>\n",
       "<text text-anchor=\"start\" x=\"286.5\" y=\"-510.8\" font-family=\"Times,serif\" font-weight=\"bold\" font-size=\"14.00\">MultibodyPlant</text>\n",
       "<text text-anchor=\"start\" x=\"304\" y=\"-496.8\" font-family=\"Times,serif\" font-size=\"14.00\">name=plant</text>\n",
       "<polygon fill=\"none\" stroke=\"black\" points=\"32.5,-469 32.5,-490 299.5,-490 299.5,-469 32.5,-469\"/>\n",
       "<text text-anchor=\"start\" x=\"107.5\" y=\"-475.8\" font-family=\"Times,serif\" font-size=\"14.00\">geometry_query</text>\n",
       "<polygon fill=\"none\" stroke=\"black\" points=\"299.5,-469 299.5,-490 663.5,-490 663.5,-469 299.5,-469\"/>\n",
       "<text text-anchor=\"start\" x=\"427\" y=\"-475.8\" font-family=\"Times,serif\" font-size=\"14.00\">geometry_pose</text>\n",
       "<polygon fill=\"none\" stroke=\"black\" points=\"32.5,-448 32.5,-469 299.5,-469 299.5,-448 32.5,-448\"/>\n",
       "<text text-anchor=\"start\" x=\"132.5\" y=\"-454.8\" font-family=\"Times,serif\" font-size=\"14.00\">actuation</text>\n",
       "<polygon fill=\"none\" stroke=\"black\" points=\"299.5,-448 299.5,-469 663.5,-469 663.5,-448 299.5,-448\"/>\n",
       "<text text-anchor=\"start\" x=\"369.5\" y=\"-454.8\" font-family=\"Times,serif\" font-size=\"14.00\">deformable_body_configuration</text>\n",
       "<polygon fill=\"none\" stroke=\"black\" points=\"32.5,-427 32.5,-448 299.5,-448 299.5,-427 32.5,-427\"/>\n",
       "<text text-anchor=\"start\" x=\"73\" y=\"-433.8\" font-family=\"Times,serif\" font-size=\"14.00\">applied_generalized_force</text>\n",
       "<polygon fill=\"none\" stroke=\"black\" points=\"299.5,-427 299.5,-448 663.5,-448 663.5,-427 299.5,-427\"/>\n",
       "<text text-anchor=\"start\" x=\"463\" y=\"-433.8\" font-family=\"Times,serif\" font-size=\"14.00\">state</text>\n",
       "<polygon fill=\"none\" stroke=\"black\" points=\"32.5,-406 32.5,-427 299.5,-427 299.5,-406 32.5,-406\"/>\n",
       "<text text-anchor=\"start\" x=\"90.5\" y=\"-412.8\" font-family=\"Times,serif\" font-size=\"14.00\">applied_spatial_force</text>\n",
       "<polygon fill=\"none\" stroke=\"black\" points=\"299.5,-406 299.5,-427 663.5,-427 663.5,-406 299.5,-406\"/>\n",
       "<text text-anchor=\"start\" x=\"440.5\" y=\"-412.8\" font-family=\"Times,serif\" font-size=\"14.00\">body_poses</text>\n",
       "<polygon fill=\"none\" stroke=\"black\" points=\"32.5,-385 32.5,-406 299.5,-406 299.5,-385 32.5,-385\"/>\n",
       "<text text-anchor=\"start\" x=\"55.5\" y=\"-391.8\" font-family=\"Times,serif\" font-size=\"14.00\" fill=\"grey\">WorldModelInstance_actuation</text>\n",
       "<polygon fill=\"none\" stroke=\"black\" points=\"299.5,-385 299.5,-406 663.5,-406 663.5,-385 299.5,-385\"/>\n",
       "<text text-anchor=\"start\" x=\"399.5\" y=\"-391.8\" font-family=\"Times,serif\" font-size=\"14.00\">body_spatial_velocities</text>\n",
       "<polygon fill=\"none\" stroke=\"black\" points=\"32.5,-364 32.5,-385 299.5,-385 299.5,-364 32.5,-364\"/>\n",
       "<text text-anchor=\"start\" x=\"41\" y=\"-370.8\" font-family=\"Times,serif\" font-size=\"14.00\" fill=\"grey\">WorldModelInstance_desired_state</text>\n",
       "<polygon fill=\"none\" stroke=\"black\" points=\"299.5,-364 299.5,-385 663.5,-385 663.5,-364 299.5,-364\"/>\n",
       "<text text-anchor=\"start\" x=\"386\" y=\"-370.8\" font-family=\"Times,serif\" font-size=\"14.00\">body_spatial_accelerations</text>\n",
       "<polygon fill=\"none\" stroke=\"black\" points=\"32.5,-343 32.5,-364 299.5,-364 299.5,-343 32.5,-343\"/>\n",
       "<text text-anchor=\"start\" x=\"50\" y=\"-349.8\" font-family=\"Times,serif\" font-size=\"14.00\" fill=\"grey\">DefaultModelInstance_actuation</text>\n",
       "<polygon fill=\"none\" stroke=\"black\" points=\"299.5,-343 299.5,-364 663.5,-364 663.5,-343 299.5,-343\"/>\n",
       "<text text-anchor=\"start\" x=\"392.5\" y=\"-349.8\" font-family=\"Times,serif\" font-size=\"14.00\">generalized_acceleration</text>\n",
       "<polygon fill=\"none\" stroke=\"black\" points=\"32.5,-322 32.5,-343 299.5,-343 299.5,-322 32.5,-322\"/>\n",
       "<text text-anchor=\"start\" x=\"35.5\" y=\"-328.8\" font-family=\"Times,serif\" font-size=\"14.00\" fill=\"grey\">DefaultModelInstance_desired_state</text>\n",
       "<polygon fill=\"none\" stroke=\"black\" points=\"299.5,-322 299.5,-343 663.5,-343 663.5,-322 299.5,-322\"/>\n",
       "<text text-anchor=\"start\" x=\"433\" y=\"-328.8\" font-family=\"Times,serif\" font-size=\"14.00\">net_actuation</text>\n",
       "<polygon fill=\"none\" stroke=\"black\" points=\"32.5,-301 32.5,-322 299.5,-322 299.5,-301 32.5,-301\"/>\n",
       "<text text-anchor=\"start\" x=\"105.5\" y=\"-307.8\" font-family=\"Times,serif\" font-size=\"14.00\">iiwa14_actuation</text>\n",
       "<polygon fill=\"none\" stroke=\"black\" points=\"299.5,-301 299.5,-322 663.5,-322 663.5,-301 299.5,-301\"/>\n",
       "<text text-anchor=\"start\" x=\"427\" y=\"-307.8\" font-family=\"Times,serif\" font-size=\"14.00\">reaction_forces</text>\n",
       "<polygon fill=\"none\" stroke=\"black\" points=\"32.5,-280 32.5,-301 299.5,-301 299.5,-280 32.5,-280\"/>\n",
       "<text text-anchor=\"start\" x=\"90.5\" y=\"-286.8\" font-family=\"Times,serif\" font-size=\"14.00\">iiwa14_desired_state</text>\n",
       "<polygon fill=\"none\" stroke=\"black\" points=\"299.5,-280 299.5,-301 663.5,-301 663.5,-280 299.5,-280\"/>\n",
       "<text text-anchor=\"start\" x=\"427\" y=\"-286.8\" font-family=\"Times,serif\" font-size=\"14.00\">contact_results</text>\n",
       "<polyline fill=\"none\" stroke=\"grey\" points=\"32.5,-280 32.5,-28 299.5,-28 \"/>\n",
       "<polygon fill=\"none\" stroke=\"black\" points=\"299.5,-259 299.5,-280 663.5,-280 663.5,-259 299.5,-259\"/>\n",
       "<text text-anchor=\"start\" x=\"386.5\" y=\"-265.8\" font-family=\"Times,serif\" font-size=\"14.00\" fill=\"grey\">WorldModelInstance_state</text>\n",
       "<polygon fill=\"none\" stroke=\"black\" points=\"299.5,-238 299.5,-259 663.5,-259 663.5,-238 299.5,-238\"/>\n",
       "<text text-anchor=\"start\" x=\"316\" y=\"-244.8\" font-family=\"Times,serif\" font-size=\"14.00\" fill=\"grey\">WorldModelInstance_generalized_acceleration</text>\n",
       "<polygon fill=\"none\" stroke=\"black\" points=\"299.5,-217 299.5,-238 663.5,-238 663.5,-217 299.5,-217\"/>\n",
       "<text text-anchor=\"start\" x=\"308\" y=\"-223.8\" font-family=\"Times,serif\" font-size=\"14.00\" fill=\"grey\">WorldModelInstance_generalized_contact_forces</text>\n",
       "<polygon fill=\"none\" stroke=\"black\" points=\"299.5,-196 299.5,-217 663.5,-217 663.5,-196 299.5,-196\"/>\n",
       "<text text-anchor=\"start\" x=\"356\" y=\"-202.8\" font-family=\"Times,serif\" font-size=\"14.00\" fill=\"grey\">WorldModelInstance_net_actuation</text>\n",
       "<polygon fill=\"none\" stroke=\"black\" points=\"299.5,-175 299.5,-196 663.5,-196 663.5,-175 299.5,-175\"/>\n",
       "<text text-anchor=\"start\" x=\"381\" y=\"-181.8\" font-family=\"Times,serif\" font-size=\"14.00\" fill=\"grey\">DefaultModelInstance_state</text>\n",
       "<polygon fill=\"none\" stroke=\"black\" points=\"299.5,-154 299.5,-175 663.5,-175 663.5,-154 299.5,-154\"/>\n",
       "<text text-anchor=\"start\" x=\"310.5\" y=\"-160.8\" font-family=\"Times,serif\" font-size=\"14.00\" fill=\"grey\">DefaultModelInstance_generalized_acceleration</text>\n",
       "<polygon fill=\"none\" stroke=\"black\" points=\"299.5,-133 299.5,-154 663.5,-154 663.5,-133 299.5,-133\"/>\n",
       "<text text-anchor=\"start\" x=\"302.5\" y=\"-139.8\" font-family=\"Times,serif\" font-size=\"14.00\" fill=\"grey\">DefaultModelInstance_generalized_contact_forces</text>\n",
       "<polygon fill=\"none\" stroke=\"black\" points=\"299.5,-112 299.5,-133 663.5,-133 663.5,-112 299.5,-112\"/>\n",
       "<text text-anchor=\"start\" x=\"350.5\" y=\"-118.8\" font-family=\"Times,serif\" font-size=\"14.00\" fill=\"grey\">DefaultModelInstance_net_actuation</text>\n",
       "<polygon fill=\"none\" stroke=\"black\" points=\"299.5,-91 299.5,-112 663.5,-112 663.5,-91 299.5,-91\"/>\n",
       "<text text-anchor=\"start\" x=\"436\" y=\"-97.8\" font-family=\"Times,serif\" font-size=\"14.00\">iiwa14_state</text>\n",
       "<polygon fill=\"none\" stroke=\"black\" points=\"299.5,-70 299.5,-91 663.5,-91 663.5,-70 299.5,-70\"/>\n",
       "<text text-anchor=\"start\" x=\"365.5\" y=\"-76.8\" font-family=\"Times,serif\" font-size=\"14.00\">iiwa14_generalized_acceleration</text>\n",
       "<polygon fill=\"none\" stroke=\"black\" points=\"299.5,-49 299.5,-70 663.5,-70 663.5,-49 299.5,-49\"/>\n",
       "<text text-anchor=\"start\" x=\"358\" y=\"-55.8\" font-family=\"Times,serif\" font-size=\"14.00\">iiwa14_generalized_contact_forces</text>\n",
       "<polygon fill=\"none\" stroke=\"black\" points=\"299.5,-28 299.5,-49 663.5,-49 663.5,-28 299.5,-28\"/>\n",
       "<text text-anchor=\"start\" x=\"406\" y=\"-34.8\" font-family=\"Times,serif\" font-size=\"14.00\">iiwa14_net_actuation</text>\n",
       "</g>\n",
       "<!-- s336539 -->\n",
       "<g id=\"node2\" class=\"node\">\n",
       "<title>s336539</title>\n",
       "<polygon fill=\"none\" stroke=\"black\" points=\"725.5,-490 725.5,-524 918.5,-524 918.5,-490 725.5,-490\"/>\n",
       "<text text-anchor=\"start\" x=\"774\" y=\"-510.8\" font-family=\"Times,serif\" font-weight=\"bold\" font-size=\"14.00\">SceneGraph</text>\n",
       "<text text-anchor=\"start\" x=\"751.5\" y=\"-496.8\" font-family=\"Times,serif\" font-size=\"14.00\">name=scene_graph</text>\n",
       "<polygon fill=\"none\" stroke=\"black\" points=\"725.5,-469 725.5,-490 870.5,-490 870.5,-469 725.5,-469\"/>\n",
       "<text text-anchor=\"start\" x=\"759.5\" y=\"-475.8\" font-family=\"Times,serif\" font-size=\"14.00\">plant_pose</text>\n",
       "<polygon fill=\"none\" stroke=\"black\" points=\"870.5,-448 870.5,-490 918.5,-490 918.5,-448 870.5,-448\"/>\n",
       "<text text-anchor=\"start\" x=\"873.5\" y=\"-465.3\" font-family=\"Times,serif\" font-size=\"14.00\">query</text>\n",
       "<polygon fill=\"none\" stroke=\"black\" points=\"725.5,-448 725.5,-469 870.5,-469 870.5,-448 725.5,-448\"/>\n",
       "<text text-anchor=\"start\" x=\"728.5\" y=\"-454.8\" font-family=\"Times,serif\" font-size=\"14.00\">plant_configuration</text>\n",
       "</g>\n",
       "<!-- s336538&#45;&gt;s336539 -->\n",
       "<g id=\"edge2\" class=\"edge\">\n",
       "<title>s336538:e-&gt;s336539:w</title>\n",
       "<path fill=\"none\" stroke=\"black\" d=\"M664.5,-480C687.42,-480 695.56,-479.26 714.32,-479.05\"/>\n",
       "<polygon fill=\"black\" stroke=\"black\" points=\"714.52,-482.55 724.5,-479 714.48,-475.55 714.52,-482.55\"/>\n",
       "</g>\n",
       "<!-- s336538&#45;&gt;s336539 -->\n",
       "<g id=\"edge3\" class=\"edge\">\n",
       "<title>s336538:e-&gt;s336539:w</title>\n",
       "<path fill=\"none\" stroke=\"black\" d=\"M664.5,-459C687.42,-459 695.56,-458.26 714.32,-458.05\"/>\n",
       "<polygon fill=\"black\" stroke=\"black\" points=\"714.52,-461.55 724.5,-458 714.48,-454.55 714.52,-461.55\"/>\n",
       "</g>\n",
       "<!-- s336645 -->\n",
       "<g id=\"node3\" class=\"node\">\n",
       "<title>s336645</title>\n",
       "<polygon fill=\"none\" stroke=\"black\" points=\"715.5,-218 715.5,-239 928.5,-239 928.5,-218 715.5,-218\"/>\n",
       "<text text-anchor=\"start\" x=\"718.5\" y=\"-225.8\" font-family=\"Times,serif\" font-weight=\"bold\" font-size=\"14.00\">__main__.SimpleController</text>\n",
       "<polygon fill=\"none\" stroke=\"black\" points=\"715.5,-197 715.5,-218 816.5,-218 816.5,-197 715.5,-197\"/>\n",
       "<text text-anchor=\"start\" x=\"729.5\" y=\"-203.8\" font-family=\"Times,serif\" font-size=\"14.00\">iiwa_state</text>\n",
       "<polygon fill=\"none\" stroke=\"black\" points=\"816.5,-197 816.5,-218 928.5,-218 928.5,-197 816.5,-197\"/>\n",
       "<text text-anchor=\"start\" x=\"830.5\" y=\"-203.8\" font-family=\"Times,serif\" font-size=\"14.00\">iiwa_torque</text>\n",
       "</g>\n",
       "<!-- s336538&#45;&gt;s336645 -->\n",
       "<g id=\"edge4\" class=\"edge\">\n",
       "<title>s336538:e-&gt;s336645:w</title>\n",
       "<path fill=\"none\" stroke=\"black\" d=\"M664.5,-101C712.72,-101 669.87,-191.85 704.57,-205.33\"/>\n",
       "<polygon fill=\"black\" stroke=\"black\" points=\"704.06,-208.8 714.5,-207 705.22,-201.89 704.06,-208.8\"/>\n",
       "</g>\n",
       "<!-- s336539&#45;&gt;s336538 -->\n",
       "<g id=\"edge5\" class=\"edge\">\n",
       "<title>s336539:e-&gt;s336538:w</title>\n",
       "<path fill=\"none\" stroke=\"black\" d=\"M919.5,-469C941.68,-469 925.67,-320.36 717,-444 680.38,-465.7 707.62,-506.3 671,-528 548.93,-600.33 133.87,-627.28 32.5,-528 20.35,-516.1 13.38,-492.69 21.85,-483.66\"/>\n",
       "<polygon fill=\"black\" stroke=\"black\" points=\"23.39,-486.82 31.5,-480 20.91,-480.28 23.39,-486.82\"/>\n",
       "</g>\n",
       "<!-- s336646 -->\n",
       "<g id=\"node4\" class=\"node\">\n",
       "<title>s336646</title>\n",
       "<polygon fill=\"none\" stroke=\"black\" points=\"980.5,-475 980.5,-523 1253.5,-523 1253.5,-475 980.5,-475\"/>\n",
       "<text text-anchor=\"start\" x=\"1043.5\" y=\"-509.8\" font-family=\"Times,serif\" font-weight=\"bold\" font-size=\"14.00\">MeshcatVisualizer</text>\n",
       "<text text-anchor=\"start\" x=\"983.5\" y=\"-495.8\" font-family=\"Times,serif\" font-size=\"14.00\">name=meshcat_visualizer(visualizer)</text>\n",
       "<text text-anchor=\"start\" x=\"1035.5\" y=\"-481.8\" font-family=\"Times,serif\" font-size=\"14.00\">path=/drake/visualizer</text>\n",
       "<polygon fill=\"none\" stroke=\"black\" points=\"980.5,-454 980.5,-475 1162.5,-475 1162.5,-454 980.5,-454\"/>\n",
       "<text text-anchor=\"start\" x=\"1025.5\" y=\"-460.8\" font-family=\"Times,serif\" font-size=\"14.00\">query_object</text>\n",
       "<polyline fill=\"none\" stroke=\"grey\" points=\"1162.5,-454 1253.5,-454 1253.5,-475 \"/>\n",
       "</g>\n",
       "<!-- s336539&#45;&gt;s336646 -->\n",
       "<g id=\"edge7\" class=\"edge\">\n",
       "<title>s336539:e-&gt;s336646:w</title>\n",
       "<path fill=\"none\" stroke=\"black\" d=\"M919.5,-469C942.5,-469 950.52,-465.31 969.3,-464.27\"/>\n",
       "<polygon fill=\"black\" stroke=\"black\" points=\"969.6,-467.76 979.5,-464 969.41,-460.76 969.6,-467.76\"/>\n",
       "</g>\n",
       "<!-- s336645&#45;&gt;s336538 -->\n",
       "<g id=\"edge6\" class=\"edge\">\n",
       "<title>s336645:e-&gt;s336538:w</title>\n",
       "<path fill=\"none\" stroke=\"black\" d=\"M929.5,-207C944.42,-207 963.63,37.53 707,-193 651.3,-243.03 726.7,-477.97 671,-528 618.22,-575.41 82.78,-578.05 32.5,-528 17.48,-513.05 9.5,-356.16 24.34,-319.59\"/>\n",
       "<polygon fill=\"black\" stroke=\"black\" points=\"27.18,-321.68 31.5,-312 22.09,-316.87 27.18,-321.68\"/>\n",
       "</g>\n",
       "<!-- meshcat_in -->\n",
       "<g id=\"node5\" class=\"node\">\n",
       "<title>meshcat_in</title>\n",
       "<ellipse fill=\"none\" stroke=\"magenta\" cx=\"1347.05\" cy=\"-489\" rx=\"50.09\" ry=\"18\"/>\n",
       "<text text-anchor=\"middle\" x=\"1347.05\" y=\"-485.3\" font-family=\"Times,serif\" font-size=\"14.00\">Meshcat</text>\n",
       "</g>\n",
       "<!-- s336646&#45;&gt;meshcat_in -->\n",
       "<g id=\"edge1\" class=\"edge\">\n",
       "<title>s336646:e-&gt;meshcat_in</title>\n",
       "<path fill=\"none\" stroke=\"magenta\" stroke-dasharray=\"5,2\" d=\"M1261,-489C1269.19,-489 1277.82,-489 1286.32,-489\"/>\n",
       "<polygon fill=\"magenta\" stroke=\"magenta\" points=\"1286.58,-492.5 1296.58,-489 1286.58,-485.5 1286.58,-492.5\"/>\n",
       "</g>\n",
       "</g>\n",
       "</svg>"
      ],
      "text/plain": [
       "<IPython.core.display.SVG object>"
      ]
     },
     "metadata": {},
     "output_type": "display_data"
    }
   ],
   "source": [
    "RenderDiagram(\n",
    "    create_IIWA14_diagram_with_controller(10.0, np.array([1, 1, 0, 0, 0, 0, 0]))[0],\n",
    "    max_depth=1,\n",
    ")"
   ]
  },
  {
   "cell_type": "markdown",
   "metadata": {
    "cell_id": "79c26dd483d1480fa14ceb38dd0c1d86",
    "deepnote_cell_type": "markdown"
   },
   "source": [
    "Almost there! Now, just implement the `simulate_IIWA14` function again, but this time use your newly defined function `create_IIWA14_diagram_with_controller`:"
   ]
  },
  {
   "cell_type": "code",
   "execution_count": 47,
   "metadata": {
    "cell_id": "1f593c6e3a6741c4a1f3e60923088b43",
    "deepnote_cell_type": "code",
    "execution_context_id": "d6247577-0abd-4b9c-a41e-877bf38d3ff6",
    "execution_millis": 1,
    "execution_start": 1756174359598,
    "source_hash": "de3e2d54"
   },
   "outputs": [],
   "source": [
    "# TODO：用你实现的 create_IIWA14_diagram_with_controller 函数进行机器人仿真\n",
    "def simulate_IIWA14_with_controller(\n",
    "    q0: np.ndarray,\n",
    "    controller_gain: float,\n",
    "    q_desired: np.ndarray,\n",
    "    simulation_time=3.0,\n",
    "    set_target_realtime_rate=True,\n",
    ") -> np.ndarray:\n",
    "    diagram, plant, iiwa = create_IIWA14_diagram_with_controller(controller_gain, q_desired)\n",
    "    diagram_context = diagram.CreateDefaultContext()\n",
    "    plant_context = plant.GetMyMutableContextFromRoot(diagram_context)\n",
    "    plant.SetPositions(plant_context, iiwa, q0)\n",
    "    simulator = Simulator(diagram, diagram_context)\n",
    "    if set_target_realtime_rate:\n",
    "        simulator.set_target_realtime_rate(1.0)\n",
    "    simulator.AdvanceTo(simulation_time)\n",
    "    return plant.GetPositions(plant_context, iiwa)"
   ]
  },
  {
   "cell_type": "markdown",
   "metadata": {
    "cell_id": "5f115f7b47b849c9baa7f309ba6deae6",
    "deepnote_cell_type": "markdown"
   },
   "source": [
    "Amazing! Now let us run a simulation. How high do you have to set the gain to make the IIWA keep its starting configuration?"
   ]
  },
  {
   "cell_type": "code",
   "execution_count": 50,
   "metadata": {
    "cell_id": "ff37657f02a041edb2fb3db8726af0bd",
    "deepnote_cell_type": "code",
    "execution_context_id": "d6247577-0abd-4b9c-a41e-877bf38d3ff6",
    "execution_millis": 14967,
    "execution_start": 1756174359868,
    "source_hash": "9f8cfff2"
   },
   "outputs": [
    {
     "name": "stdout",
     "output_type": "stream",
     "text": [
      "Starting robot simulation...\n",
      "Check your Meshcat window (http://localhost:7002) to see the robot simulation!\n",
      "     - If the robot is not moving, the simulation already finished.\n",
      "     - Try running this cell again (or increase the simulation time), with the meshcat window open!\n",
      "✅ Robot simulation completed!\n",
      "   Initial joint positions: [0.  1.  0.3 0.7 0.  0.  0. ]\n",
      "   Final joint positions: [ 5.81484550e-02  2.09439510e+00 -1.26308936e-01 -4.05418600e-02\n",
      "  1.52214868e-01  1.48715314e-01 -6.48013717e-04]\n"
     ]
    }
   ],
   "source": [
    "# Test your implementation\n",
    "q_initial = np.array([0, 1.0, 0.3, 0.7, 0, 0, 0])\n",
    "\n",
    "print(\"Starting robot simulation...\")\n",
    "print(f\"Check your Meshcat window ({meshcat.web_url()}) to see the robot simulation!\")\n",
    "print(\"     - If the robot is not moving, the simulation already finished.\")\n",
    "print(\n",
    "    \"     - Try running this cell again (or increase the simulation time), with the meshcat window open!\"\n",
    ")\n",
    "q_final = simulate_IIWA14_with_controller(\n",
    "    q_initial,\n",
    "    controller_gain=10,\n",
    "    q_desired=q_initial,\n",
    "    simulation_time=15 if running_as_notebook else 0.1,\n",
    "    set_target_realtime_rate=running_as_notebook,\n",
    ")\n",
    "\n",
    "print(\"✅ Robot simulation completed!\")\n",
    "print(f\"   Initial joint positions: {q_initial}\")\n",
    "print(f\"   Final joint positions: {q_final}\")"
   ]
  },
  {
   "cell_type": "markdown",
   "metadata": {
    "cell_id": "3481f20162c94c749c08e83ae6eb9824",
    "deepnote_cell_type": "markdown"
   },
   "source": [
    "**注意：** 你会发现这个控制器效果并不好。这是因为我们只用了一个简单的比例控制器（“P 控制器”），它只根据跟踪误差输入一个倍数。本练习的目的是教你如何使用 Drake，后续我们会学习更优秀的控制方法！"
   ]
  },
  {
   "cell_type": "markdown",
   "metadata": {
    "cell_id": "8eb7354d57444c22bdf3e87e78b63a2d",
    "deepnote_cell_type": "markdown"
   },
   "source": [
    "### GRADESCOPE 验证\n",
    "\n",
    "请用以下参数仿真你的系统，并复制/粘贴 IIWA14 的最终关节位置：\n",
    "\n",
    "- 初始位置: $[0.2, 0.2, 0.2, 0, 0, 0, 0]$\n",
    "- 期望位置（q_desired）: $[0, 0, 0, 0, 0, 0, 0]$\n",
    "- 控制器增益: $120.0$\n",
    "- 仿真时间: $10\\,\\mathrm{s}$\n"
   ]
  },
  {
   "cell_type": "code",
   "execution_count": 51,
   "metadata": {
    "cell_id": "b4ff1d515398406aa6016b23e90a2552",
    "deepnote_cell_type": "code",
    "execution_context_id": "d6247577-0abd-4b9c-a41e-877bf38d3ff6",
    "execution_millis": 9948,
    "execution_start": 1756174375128,
    "source_hash": "a102719d"
   },
   "outputs": [
    {
     "name": "stdout",
     "output_type": "stream",
     "text": [
      "Final joint positions: [ 1.26317171e-02  8.13040566e-03 -5.72823579e-02 -2.43876159e-02\n",
      " -1.37802794e-04  4.71369969e-04 -2.97584254e-05]\n"
     ]
    }
   ],
   "source": [
    "# TODO：用指定初始条件和仿真时间仿真 IIWA14\n",
    "q0 = np.array([0.2, 0.2, 0.2, 0, 0, 0, 0])\n",
    "q_desired = np.array([0, 0, 0, 0, 0, 0, 0])\n",
    "controller_gain = 120.0\n",
    "simulation_time = 10.0\n",
    "\n",
    "q_final = simulate_IIWA14_with_controller(\n",
    "    q0=q0,\n",
    "    controller_gain=controller_gain,\n",
    "    q_desired=q_desired,\n",
    "    simulation_time=simulation_time,\n",
    "    set_target_realtime_rate=False,\n",
    ")\n",
    "print(\"Final joint positions:\", q_final)"
   ]
  },
  {
   "cell_type": "markdown",
   "metadata": {
    "cell_id": "a61871431fe3434b88832cae4d27e957",
    "deepnote_cell_type": "markdown",
    "vscode": {
     "languageId": "raw"
    }
   },
   "source": [
    "---\n",
    "\n",
    "## 第三部分：用 SDFormat 创建自定义模型\n",
    "\n",
    "让我们学习如何为仿真创建自定义物体！前两部分我们用的是预定义的 SDFormat（.sdf）文件加载 IIWA14。现在我们将用同样的格式从零创建一个简单的桌子，然后用提供的 API 生成更复杂的资产（你的姓名首字母），并演示如何将它们加载到仿真中。\n",
    "\n",
    "**你的任务：** \n",
    "1. 从零创建一个简单桌子的 SDFormat 模型\n",
    "2. 用提供的 API 为你的姓名首字母生成 URDF 文件\n",
    "\n",
    "**核心概念：**\n",
    "- `SDF`、`URDF`、`MJCF`：三种常用（且非常相似）的 XML 格式，用于描述仿真中的机器人和物体\n",
    "- **可视几何体**：可视化时看到的部分（可以很精细）\n",
    "- **碰撞几何体**：物理引擎用于接触计算的部分（应尽量简单）\n",
    "- **惯性属性**：质量和惯性，实现真实物理行为\n",
    "\n",
    "**参考：** 本部分参考 [Authoring a Multibody Simulation Tutorial](https://github.com/RobotLocomotion/drake/blob/master/tutorials/authoring_multibody_simulation.ipynb) —— 重点关注 **“Creating custom models”** 小节，教程演示了如何用 SDFormat 字符串创建圆柱体模型。建议先浏览该节内容再开始实现！\n"
   ]
  },
  {
   "cell_type": "markdown",
   "metadata": {
    "cell_id": "de29ac7c1a5942b9b4f1f0cd25abdb3e",
    "deepnote_cell_type": "markdown",
    "vscode": {
     "languageId": "raw"
    }
   },
   "source": [
    "#### 步骤1：从零编写一个简单“桌子”的 SDF 文件\n",
    "\n",
    "SDF、URDF 和 MJCF 文件其实很简单。这里你将从零编写一个简单“桌子”的 SDF 文件，帮助你今后自定义资产。\n",
    "\n",
    "下方代码中我们直接在代码里定义 SDF 字符串，实际项目中通常会保存为单独的 `.sdf` 文件后加载到 Drake。\n",
    "\n",
    "**警告：** SDFormat 对缩进很敏感，请参考教程示例的缩进！也可参考 [官方 SDFormat 文档](http://sdformat.org/tutorials)\n"
   ]
  },
  {
   "cell_type": "code",
   "execution_count": null,
   "metadata": {
    "cell_id": "bdf991b005a64221a9e48636546e5dc8",
    "deepnote_cell_type": "code",
    "execution_context_id": "d6247577-0abd-4b9c-a41e-877bf38d3ff6",
    "execution_millis": 1,
    "execution_start": 1756174385128,
    "source_hash": "1e516ef4"
   },
   "outputs": [],
   "source": [
    "# TODO：为“桌子”创建一个简单的 SDFormat 字符串（一个扁平长方体即可）。\n",
    "# 提示：紧跟教程中的圆柱体示例！\n",
    "# 注意：后续我们会把它当作桌子放置姓名首字母资产，\n",
    "#       所以要足够大！\n",
    "# 提示：推荐尺寸 2m x 2m x 0.1m\n",
    "# 提示：质量可设为 1kg，惯性张量可在网上查找长方体的公式，\n",
    "#       不必完全精确，只要物理合理即可。\n",
    "table_sdf = \"\"\"<?xml version=\"1.0\"?>\n",
    "\"\"\""
   ]
  },
  {
   "cell_type": "markdown",
   "metadata": {
    "cell_id": "75c4ca52ced5491bafc964faa5693f9b",
    "deepnote_cell_type": "markdown",
    "vscode": {
     "languageId": "raw"
    }
   },
   "source": [
    "很好！如果一切顺利，我们现在应该能可视化自定义资产了。我们用 Drake 内置的 `ModelVisualizer` 可视化（见教程“Creating Custom Models”小节）。写好下方代码后，你应该能在 Meshcat 窗口看到你的桌子！\n",
    "\n",
    "**注意：** 观看完毕后请点击 MeshCat 中“Open Controls -> Stop Running”，这样虽然可视化停止但桌子仍可见。\n"
   ]
  },
  {
   "cell_type": "code",
   "execution_count": null,
   "metadata": {
    "cell_id": "db710872600d469db46082da2eb3a9e5",
    "deepnote_cell_type": "code",
    "execution_context_id": "d6247577-0abd-4b9c-a41e-877bf38d3ff6",
    "execution_millis": 28826467,
    "execution_start": 1756174385293,
    "source_hash": "9739121f"
   },
   "outputs": [],
   "source": [
    "print(f\"Meshcat URL: {meshcat.web_url()}\")\n",
    "# HINT: Follow the authoring tutorial's example for visualizing the cylinder!\n",
    "# TODO: Create a ModelVisualizer instance\n",
    "\n",
    "# TODO: Load your table_sdf string into the visualizer\n",
    "\n",
    "# TODO: Run the visualizer to see your box in Meshcat\n",
    "# NOTE: The tutorial uses `Run(loop_once=False)`, but you can just omit the argument.\n",
    "\n",
    "# Make sure to click \"Open Controls -> Stop Running\" in MeshCat when you're done viewing"
   ]
  },
  {
   "cell_type": "markdown",
   "metadata": {
    "cell_id": "96fb4870fa814e018fbfbd73895df2d8",
    "deepnote_cell_type": "markdown",
    "vscode": {
     "languageId": "raw"
    }
   },
   "source": [
    "#### 步骤2：用你的姓名首字母创建自定义资产\n",
    "\n",
    "本步骤你将用姓名首字母创建自定义资产。我们已为你提供了一个库，可以为给定字母生成 `.sdf` 文件，其结构和你上面写的桌子 SDF 很类似！\n",
    "\n",
    "下方代码已为你准备好（生成字母文件可能需要约 30 秒）。你可以自由修改字体、尺寸和挤出深度！\n"
   ]
  },
  {
   "cell_type": "code",
   "execution_count": null,
   "metadata": {
    "cell_id": "a57113424919474bb8c3eb84681d6d72",
    "deepnote_cell_type": "code",
    "execution_context_id": "d6247577-0abd-4b9c-a41e-877bf38d3ff6",
    "execution_millis": 24970,
    "execution_start": 1756203211819,
    "source_hash": "75930859"
   },
   "outputs": [],
   "source": [
    "# Let us save our files to a new folder called `assets` in the `Files`\n",
    "# section on the left\n",
    "output_dir = Path(\"assets/\")\n",
    "\n",
    "# TODO: Insert your initials here!\n",
    "your_initials = \"BPG\"\n",
    "\n",
    "for letter in your_initials:\n",
    "    create_sdf_asset_from_letter(\n",
    "        text=letter,\n",
    "        font_name=\"DejaVu Sans\",\n",
    "        letter_height_meters=0.2,\n",
    "        extrusion_depth_meters=0.07,\n",
    "        output_dir=output_dir / f\"{letter}_model\",\n",
    "    )"
   ]
  },
  {
   "cell_type": "markdown",
   "metadata": {
    "cell_id": "f104be65622549bb85f9b43870c8ddf5",
    "deepnote_cell_type": "markdown"
   },
   "source": [
    "很好。继续前请在左侧“文件”区查看 `assets/` 文件夹下生成的文件，结构如下：\n",
    "\n",
    "```\n",
    "{letter}_model/\n",
    "├── {letter}_parts/\n",
    "│   ├── convex_piece_000.obj\n",
    "│   ├── convex_piece_001.obj\n",
    "│   ├── convex_piece_002.obj\n",
    "│   └── ...（更多凸包网格文件）\n",
    "├── {letter}.obj\n",
    "└── {letter}.sdf\n",
    "```\n",
    "\n",
    "例如字母 `A`：\n",
    "\n",
    "```\n",
    "A_model/\n",
    "├── A_parts/\n",
    "│   ├── convex_piece_000.obj\n",
    "│   ├── convex_piece_001.obj\n",
    "│   ├── convex_piece_002.obj\n",
    "│   └── ...（更多凸包网格文件）\n",
    "├── A.obj\n",
    "└── A.sdf\n",
    "```\n",
    "\n",
    "`.obj` 文件描述字母整体三维网格，`convex_piece_XXX.obj` 文件描述字母的凸包部分：这些都是文本文件，包含顶点和面列表。可以尝试用 Deepnote 的“Open in raw mode”按钮打开看看。\n",
    "\n",
    "`.sdf` 文件描述每个字母的资产，链接整体 `.obj` 文件作为可视几何体，凸包 `.obj` 文件作为碰撞几何体（每个 mesh 必须是凸的，所以每个字母会生成多个部分！）。\n"
   ]
  },
  {
   "cell_type": "markdown",
   "metadata": {
    "cell_id": "96ae59986717401ea002b32562c1579c",
    "deepnote_cell_type": "markdown"
   },
   "source": [
    "很好！字母已生成。现在用 Drake 的 `ModelVisualizer` 可视化它们，检查生成效果。补全下方代码，确保每个字母都能正确显示。\n",
    "\n",
    "**注意**：点击 `Scene > drake` 可开启惯性和碰撞几何体的可视化，这对调试资产物理属性很有帮助！"
   ]
  },
  {
   "cell_type": "code",
   "execution_count": null,
   "metadata": {
    "cell_id": "00f529981b884e1896e10bd52c2abf32",
    "deepnote_cell_type": "code",
    "deepnote_to_be_reexecuted": true,
    "execution_context_id": "3b130765-f3fd-4fae-b2ed-4af4a6a29919",
    "execution_millis": 3137,
    "execution_start": 1755548124839,
    "source_hash": "b6dbd47c"
   },
   "outputs": [],
   "source": [
    "print(f\"Meshcat URL: {meshcat.web_url()}\")\n",
    "\n",
    "# TODO: Change this to visualize the individual letters in your initials\n",
    "letter_to_visualize = \"P\"  # One at a time!\n",
    "\n",
    "# This is the path to the SDF file for the letter\n",
    "letter_path = f\"assets/{letter_to_visualize}_model/{letter_to_visualize}.sdf\"\n",
    "\n",
    "# TODO: Define a ModelVisualizer instance\n",
    "# HINT: You know how to do this by now!\n",
    "\n",
    "# TODO: Load the letter into the visualizer using the parser\n",
    "# HINT: You can just pass the path to the letter file to the parser\n",
    "\n",
    "# TODO: Run the visualizer"
   ]
  },
  {
   "cell_type": "markdown",
   "metadata": {
    "cell_id": "87d7e8b3b6d44927b29c0f6b9bbdedcc",
    "deepnote_cell_type": "markdown",
    "vscode": {
     "languageId": "raw"
    }
   },
   "source": [
    "---\n",
    "\n",
    "## 第四部分：完整仿真——机器人 + 你的自定义资产\n",
    "\n",
    "**最终大作业！** 现在我们将把所学全部结合，创建一个包含 IIWA14 机器人和你自定义姓名首字母资产的完整仿真！\n",
    "\n",
    "**你的任务：** 构建包含以下内容的物理仿真：\n",
    "1. **IIWA14 机器人**：如前焊接到世界坐标系。\n",
    "2. **你的自定义桌子**：焊接到世界坐标系，靠近机器人（但不重叠！）\n",
    "3. **你的姓名首字母**：放在桌子上方。\n",
    "\n",
    "你已经掌握了全部实现所需的知识！参考前面各部分的模式完成本节。完成后请录屏（.mp4 文件，大小不超过 500 MB）并上传到 Gradescope。\n",
    "\n",
    "**最终目标：** 用录屏工具录制仿真场景，视频应展示你的姓名首字母落到桌子上，桌子焊接在机器人附近（但不重叠）。\n",
    "\n",
    "**提示**：`WeldFrames` 的第三个参数是 `RigidTransform`（后续课程会详细讲）。现在你可以直接用 `RigidTransform([x,y,z])` 指定偏移量。若不确定函数签名请查阅[官方文档](https://drake.mit.edu/pydrake/pydrake.multibody.plant.html)。\n"
   ]
  },
  {
   "cell_type": "code",
   "execution_count": null,
   "metadata": {
    "cell_id": "e08e67d823184dfd915b463ee2307efb",
    "deepnote_cell_type": "code",
    "deepnote_to_be_reexecuted": true,
    "execution_context_id": "3b130765-f3fd-4fae-b2ed-4af4a6a29919",
    "execution_millis": 0,
    "execution_start": 1755548155689,
    "source_hash": "983bf51e"
   },
   "outputs": [],
   "source": [
    "# Before you start, make sure to run the following cell to clear the meshcat window!\n",
    "meshcat.Delete()\n",
    "meshcat.DeleteAddedControls()"
   ]
  },
  {
   "cell_type": "code",
   "execution_count": 60,
   "metadata": {
    "cell_id": "6f8ac2fbbd054039b451f218839b712f",
    "deepnote_cell_type": "code",
    "deepnote_to_be_reexecuted": true,
    "execution_context_id": "3b130765-f3fd-4fae-b2ed-4af4a6a29919",
    "execution_millis": 0,
    "execution_start": 1755548192479,
    "source_hash": "48f36a50"
   },
   "outputs": [],
   "source": [
    "# TODO：在这里实现你的完整仿真！\n",
    "\n",
    "def simulate_full_system(\n",
    "    initial_iiwa_positions: np.ndarray,\n",
    "    initial_letter_poses: list[RigidTransform],\n",
    "    table_pose: RigidTransform,\n",
    "    simulation_time: float = 15.0,\n",
    ") -> None:\n",
    "    # TODO：创建 diagram builder，添加 multibody plant 和 scene graph\n",
    "    builder = DiagramBuilder()\n",
    "    plant, scene_graph = AddMultibodyPlantSceneGraph(builder, time_step=1e-4)\n",
    "    parser = Parser(plant)  \n",
    "    # TODO：加载 IIWA14 机器人并焊接基座到世界坐标系\n",
    "    iiwa = parser.AddModelsFromUrl(\n",
    "        \"package://drake_models/iiwa_description/urdf/iiwa14_primitive_collision.urdf\"\n",
    "    )[0]\n",
    "    plant.WeldFrames(\n",
    "        plant.world_frame(),\n",
    "        plant.GetFrameByName(\"iiwa_link_0\", iiwa)\n",
    "    )\n",
    "    # TODO：加载桌子并焊接到世界坐标系。\n",
    "    #       别忘了用 `table_pose` 作为 `WeldFrames` 的第三个参数！\n",
    "    table = parser.AddModelsFromString(table_sdf, \"table.sdf\")[0]\n",
    "    plant.WeldFrames(\n",
    "        plant.world_frame(),\n",
    "        plant.GetFrameByName(\"link\", table),\n",
    "        table_pose\n",
    "    )\n",
    "    # TODO：加载你的姓名首字母资产\n",
    "    # 提示：用 'assets/...' 路径访问字母资产，方法同上！\n",
    "    letters = []\n",
    "    your_initials = \"LXY\"\n",
    "    for letter in your_initials:\n",
    "        letter_instance = parser.AddModels(f\"assets/{letter}_model/{letter}.sdf\")[0]\n",
    "        letters.append(letter_instance) \n",
    "    # TODO：添加可视化器\n",
    "    MeshcatVisualizer.AddToBuilder(builder, scene_graph, meshcat)\n",
    "    # TODO：finalize plant 并构建 diagram\n",
    "    plant.Finalize()\n",
    "    # TODO：创建 diagram context 和 plant context\n",
    "    diagram = builder.Build()\n",
    "    diagram_context = diagram.CreateDefaultContext()\n",
    "    plant_context = plant.GetMyMutableContextFromRoot(diagram_context)\n",
    "    # TODO：设置 IIWA14 关节初始位置。\n",
    "    # 提示：现在场景中有多个自由物体，需指定\n",
    "    #       设置的是 IIWA14 关节位置：\n",
    "    # plant.SetPositions(plant_context, iiwa, initial_iiwa_positions)\n",
    "    plant.SetPositions(plant_context, iiwa, initial_iiwa_positions)\n",
    "    # TODO：加载字母并设置其初始位姿。\n",
    "    # 提示：设置字母位姿需要新方法。\n",
    "    #       因为字母是自由体，需要设置其位姿（位置+朝向）。\n",
    "    #\n",
    "    #       首先获取字母对应的 RigidBody，然后用 SetFreeBodyPose 方法设置位姿，\n",
    "    #       参数为 RigidTransform。\n",
    "    #\n",
    "    #       例如字母 B：\n",
    "    #       （注意：先加载字母，再 finalize plant，再设置位姿）\n",
    "    #\n",
    "    #               ```\n",
    "    #               B_letter = parser.AddModels(f\"assets/B_model/B.sdf\")[0]\n",
    "    #               ...\n",
    "    #               plant.Finalize()\n",
    "    #               ...\n",
    "    #               body = plant.GetRigidBodyByName(\"B_body_link\", B_letter)\n",
    "    #               plant.SetFreeBodyPose(plant_context, body, initial_letter_poses[0])\n",
    "    #               ```\n",
    "    #\n",
    "    #       （注意 SDF 中 body 名为 \"B_body_link\"，由字母生成函数硬编码。）\n",
    "    for i, letter in enumerate(your_initials):\n",
    "        letter_instance = parser.AddModelsFromFile(f\"assets/{letter}_model/{letter}.sdf\")[0]\n",
    "        body = plant.GetRigidBodyByName(f\"{letter}_body_link\", letter_instance)\n",
    "        plant.SetFreeBodyPose(plant_context, body, initial_letter_poses[i])\n",
    "    #       按此模式为所有字母设置位姿！\n",
    "\n",
    "    # TODO：将 plant 执行器输入固定为零\n",
    "    actuation_inputs = np.zeros(7)\n",
    "    plant.get_actuation_input_port(iiwa).FixValue(plant_context, actuation_inputs)\n",
    "    # TODO：创建仿真器并运行 simulation_time 秒\n",
    "    simulator = Simulator(diagram, diagram_context)\n",
    "    simulator.set_target_realtime_rate(1.0)\n",
    "    simulator.AdvanceTo(simulation_time)"
   ]
  },
  {
   "cell_type": "markdown",
   "metadata": {
    "cell_id": "1f0fbf7b585a412e9ff08720a7a5e3da",
    "deepnote_cell_type": "markdown"
   },
   "source": [
    "Run the code below to visualize your simulation!\n",
    "\n",
    "**Tip:** If you ever want to download a recording of your simulation as a `.html` file, append `/download` to the meshcat URL in your browser. Go ahead and try it for your simulation below!"
   ]
  },
  {
   "cell_type": "code",
   "execution_count": 61,
   "metadata": {
    "cell_id": "6d19df02e40e4ef78a76f9f4b2c8f782",
    "deepnote_cell_type": "code",
    "deepnote_to_be_reexecuted": true,
    "execution_context_id": "3b130765-f3fd-4fae-b2ed-4af4a6a29919",
    "execution_millis": 16916,
    "execution_start": 1755548204581,
    "source_hash": "a237b034"
   },
   "outputs": [
    {
     "name": "stderr",
     "output_type": "stream",
     "text": [
      "WARNING:drake:warning: A link named link has invalid inertia.\n",
      "WARNING:drake:<literal-string>.sdf:4: warning: While parsing inertia matrix: MakeFromMomentsAndProductsOfInertia(): The rotational inertia\n",
      "[0.0667       0       0]\n",
      "[     0  0.0667       0]\n",
      "[     0       0  0.2667]\n",
      "did not pass the test CouldBePhysicallyValid().\n",
      "The associated principal moments of inertia:\n",
      "0.0667  0.0667  0.2667\n",
      "do not satisfy the triangle inequality.\n"
     ]
    },
    {
     "name": "stdout",
     "output_type": "stream",
     "text": [
      "Meshcat URL: http://localhost:7002\n"
     ]
    },
    {
     "ename": "RuntimeError",
     "evalue": "error: Error finding file [/mnt/c/Users/lvxiangyu11/code/drake/robotic_manipulation/0_introduction/assets/L_model/L.sdf].",
     "output_type": "error",
     "traceback": [
      "\u001b[0;31m---------------------------------------------------------------------------\u001b[0m",
      "\u001b[0;31mRuntimeError\u001b[0m                              Traceback (most recent call last)",
      "Cell \u001b[0;32mIn[61], line 7\u001b[0m\n\u001b[1;32m      3\u001b[0m \u001b[38;5;66;03m# Notice that we have wrapped your function in a `meshcat.StartRecording()` and `meshcat.StopRecording()` block,\u001b[39;00m\n\u001b[1;32m      4\u001b[0m \u001b[38;5;66;03m# followed by a `meshcat.PublishRecording()` call. This is a convenient way to make it possible to replay the\u001b[39;00m\n\u001b[1;32m      5\u001b[0m \u001b[38;5;66;03m# simulation in meshcat after the simulation ends!\u001b[39;00m\n\u001b[1;32m      6\u001b[0m meshcat\u001b[38;5;241m.\u001b[39mStartRecording()\n\u001b[0;32m----> 7\u001b[0m \u001b[43msimulate_full_system\u001b[49m\u001b[43m(\u001b[49m\n\u001b[1;32m      8\u001b[0m \u001b[43m    \u001b[49m\u001b[43minitial_iiwa_positions\u001b[49m\u001b[38;5;241;43m=\u001b[39;49m\u001b[43mnp\u001b[49m\u001b[38;5;241;43m.\u001b[39;49m\u001b[43marray\u001b[49m\u001b[43m(\u001b[49m\u001b[43m[\u001b[49m\u001b[38;5;241;43m-\u001b[39;49m\u001b[38;5;241;43m1.57\u001b[39;49m\u001b[43m,\u001b[49m\u001b[43m \u001b[49m\u001b[38;5;241;43m0.1\u001b[39;49m\u001b[43m,\u001b[49m\u001b[43m \u001b[49m\u001b[38;5;241;43m0\u001b[39;49m\u001b[43m,\u001b[49m\u001b[43m \u001b[49m\u001b[38;5;241;43m-\u001b[39;49m\u001b[38;5;241;43m1.2\u001b[39;49m\u001b[43m,\u001b[49m\u001b[43m \u001b[49m\u001b[38;5;241;43m0\u001b[39;49m\u001b[43m,\u001b[49m\u001b[43m \u001b[49m\u001b[38;5;241;43m1.6\u001b[39;49m\u001b[43m,\u001b[49m\u001b[43m \u001b[49m\u001b[38;5;241;43m0\u001b[39;49m\u001b[43m]\u001b[49m\u001b[43m)\u001b[49m\u001b[43m,\u001b[49m\n\u001b[1;32m      9\u001b[0m \u001b[43m    \u001b[49m\u001b[43minitial_letter_poses\u001b[49m\u001b[38;5;241;43m=\u001b[39;49m\u001b[43m[\u001b[49m\n\u001b[1;32m     10\u001b[0m \u001b[43m        \u001b[49m\u001b[38;5;66;43;03m# You can add rotations to the RigidTransform if you want, but we will learn more about that later!\u001b[39;49;00m\n\u001b[1;32m     11\u001b[0m \u001b[43m        \u001b[49m\u001b[38;5;66;43;03m# The letters should be placed such that they are not in collision with each other, and such that\u001b[39;49;00m\n\u001b[1;32m     12\u001b[0m \u001b[43m        \u001b[49m\u001b[38;5;66;43;03m# they fall onto the table.\u001b[39;49;00m\n\u001b[1;32m     13\u001b[0m \u001b[43m        \u001b[49m\u001b[43mRigidTransform\u001b[49m\u001b[43m(\u001b[49m\u001b[43m[\u001b[49m\u001b[38;5;241;43m0.7\u001b[39;49m\u001b[43m,\u001b[49m\u001b[43m \u001b[49m\u001b[38;5;241;43m0.0\u001b[39;49m\u001b[43m,\u001b[49m\u001b[43m \u001b[49m\u001b[38;5;241;43m1.0\u001b[39;49m\u001b[43m]\u001b[49m\u001b[43m)\u001b[49m\u001b[43m,\u001b[49m\n\u001b[1;32m     14\u001b[0m \u001b[43m        \u001b[49m\u001b[43mRigidTransform\u001b[49m\u001b[43m(\u001b[49m\u001b[43m[\u001b[49m\u001b[38;5;241;43m0.9\u001b[39;49m\u001b[43m,\u001b[49m\u001b[43m \u001b[49m\u001b[38;5;241;43m0.0\u001b[39;49m\u001b[43m,\u001b[49m\u001b[43m \u001b[49m\u001b[38;5;241;43m1.0\u001b[39;49m\u001b[43m]\u001b[49m\u001b[43m)\u001b[49m\u001b[43m,\u001b[49m\n\u001b[1;32m     15\u001b[0m \u001b[43m        \u001b[49m\u001b[43mRigidTransform\u001b[49m\u001b[43m(\u001b[49m\u001b[43m[\u001b[49m\u001b[38;5;241;43m1.1\u001b[39;49m\u001b[43m,\u001b[49m\u001b[43m \u001b[49m\u001b[38;5;241;43m0.0\u001b[39;49m\u001b[43m,\u001b[49m\u001b[43m \u001b[49m\u001b[38;5;241;43m1.0\u001b[39;49m\u001b[43m]\u001b[49m\u001b[43m)\u001b[49m\u001b[43m,\u001b[49m\n\u001b[1;32m     16\u001b[0m \u001b[43m    \u001b[49m\u001b[43m]\u001b[49m\u001b[43m,\u001b[49m\n\u001b[1;32m     17\u001b[0m \u001b[43m    \u001b[49m\u001b[43mtable_pose\u001b[49m\u001b[38;5;241;43m=\u001b[39;49m\u001b[43mRigidTransform\u001b[49m\u001b[43m(\u001b[49m\n\u001b[1;32m     18\u001b[0m \u001b[43m        \u001b[49m\u001b[43m[\u001b[49m\u001b[38;5;241;43m0.5\u001b[39;49m\u001b[43m,\u001b[49m\u001b[43m \u001b[49m\u001b[38;5;241;43m0.0\u001b[39;49m\u001b[43m,\u001b[49m\u001b[43m \u001b[49m\u001b[38;5;241;43m-\u001b[39;49m\u001b[38;5;241;43m0.05\u001b[39;49m\u001b[43m]\u001b[49m\n\u001b[1;32m     19\u001b[0m \u001b[43m    \u001b[49m\u001b[43m)\u001b[49m\u001b[43m,\u001b[49m\u001b[43m  \u001b[49m\u001b[38;5;66;43;03m# this is a reasonable position for a 2m x 2m x 0.05m table, but feel free to change it!\u001b[39;49;00m\n\u001b[1;32m     20\u001b[0m \u001b[43m    \u001b[49m\u001b[43msimulation_time\u001b[49m\u001b[38;5;241;43m=\u001b[39;49m\u001b[38;5;241;43m5.0\u001b[39;49m\u001b[43m \u001b[49m\u001b[38;5;28;43;01mif\u001b[39;49;00m\u001b[43m \u001b[49m\u001b[43mrunning_as_notebook\u001b[49m\u001b[43m \u001b[49m\u001b[38;5;28;43;01melse\u001b[39;49;00m\u001b[43m \u001b[49m\u001b[38;5;241;43m0.1\u001b[39;49m\u001b[43m,\u001b[49m\n\u001b[1;32m     21\u001b[0m \u001b[43m)\u001b[49m\n\u001b[1;32m     22\u001b[0m meshcat\u001b[38;5;241m.\u001b[39mStopRecording()\n\u001b[1;32m     23\u001b[0m meshcat\u001b[38;5;241m.\u001b[39mPublishRecording()\n",
      "Cell \u001b[0;32mIn[60], line 34\u001b[0m, in \u001b[0;36msimulate_full_system\u001b[0;34m(initial_iiwa_positions, initial_letter_poses, table_pose, simulation_time)\u001b[0m\n\u001b[1;32m     32\u001b[0m your_initials \u001b[38;5;241m=\u001b[39m \u001b[38;5;124m\"\u001b[39m\u001b[38;5;124mLXY\u001b[39m\u001b[38;5;124m\"\u001b[39m\n\u001b[1;32m     33\u001b[0m \u001b[38;5;28;01mfor\u001b[39;00m letter \u001b[38;5;129;01min\u001b[39;00m your_initials:\n\u001b[0;32m---> 34\u001b[0m     letter_instance \u001b[38;5;241m=\u001b[39m \u001b[43mparser\u001b[49m\u001b[38;5;241;43m.\u001b[39;49m\u001b[43mAddModels\u001b[49m\u001b[43m(\u001b[49m\u001b[38;5;124;43mf\u001b[39;49m\u001b[38;5;124;43m\"\u001b[39;49m\u001b[38;5;124;43massets/\u001b[39;49m\u001b[38;5;132;43;01m{\u001b[39;49;00m\u001b[43mletter\u001b[49m\u001b[38;5;132;43;01m}\u001b[39;49;00m\u001b[38;5;124;43m_model/\u001b[39;49m\u001b[38;5;132;43;01m{\u001b[39;49;00m\u001b[43mletter\u001b[49m\u001b[38;5;132;43;01m}\u001b[39;49;00m\u001b[38;5;124;43m.sdf\u001b[39;49m\u001b[38;5;124;43m\"\u001b[39;49m\u001b[43m)\u001b[49m[\u001b[38;5;241m0\u001b[39m]\n\u001b[1;32m     35\u001b[0m     letters\u001b[38;5;241m.\u001b[39mappend(letter_instance) \n\u001b[1;32m     36\u001b[0m \u001b[38;5;66;03m# TODO：添加可视化器\u001b[39;00m\n",
      "\u001b[0;31mRuntimeError\u001b[0m: error: Error finding file [/mnt/c/Users/lvxiangyu11/code/drake/robotic_manipulation/0_introduction/assets/L_model/L.sdf]."
     ]
    }
   ],
   "source": [
    "print(f\"Meshcat URL: {meshcat.web_url()}\")\n",
    "\n",
    "# Notice that we have wrapped your function in a `meshcat.StartRecording()` and `meshcat.StopRecording()` block,\n",
    "# followed by a `meshcat.PublishRecording()` call. This is a convenient way to make it possible to replay the\n",
    "# simulation in meshcat after the simulation ends!\n",
    "meshcat.StartRecording()\n",
    "simulate_full_system(\n",
    "    initial_iiwa_positions=np.array([-1.57, 0.1, 0, -1.2, 0, 1.6, 0]),\n",
    "    initial_letter_poses=[\n",
    "        # You can add rotations to the RigidTransform if you want, but we will learn more about that later!\n",
    "        # The letters should be placed such that they are not in collision with each other, and such that\n",
    "        # they fall onto the table.\n",
    "        RigidTransform([0.7, 0.0, 1.0]),\n",
    "        RigidTransform([0.9, 0.0, 1.0]),\n",
    "        RigidTransform([1.1, 0.0, 1.0]),\n",
    "    ],\n",
    "    table_pose=RigidTransform(\n",
    "        [0.5, 0.0, -0.05]\n",
    "    ),  # this is a reasonable position for a 2m x 2m x 0.05m table, but feel free to change it!\n",
    "    simulation_time=5.0 if running_as_notebook else 0.1,\n",
    ")\n",
    "meshcat.StopRecording()\n",
    "meshcat.PublishRecording()"
   ]
  },
  {
   "cell_type": "markdown",
   "metadata": {
    "cell_id": "89b8ba3fe78b42d791d80886696f15a1",
    "deepnote_cell_type": "markdown"
   },
   "source": [
    "# GRADESCOPE 验证\n",
    "恭喜你！本笔记本全部完成。现在在浏览器中回放仿真并将录屏（mp4，500MB 以下）上传到 Gradescope。"
   ]
  },
  {
   "cell_type": "markdown",
   "metadata": {
    "cell_id": "19b731470339437ba7fd96d872c55ea9",
    "deepnote_cell_type": "markdown"
   },
   "source": [
    "---\n",
    "\n",
    "# 恭喜你！\n",
    "\n",
    "你已成功完成 **笔记本2：物理仿真与机器人加载**！\n",
    "\n",
    "### 总结\n",
    "\n",
    "本笔记本你学会了：\n",
    "\n",
    "- 用 Meshcat 可视化机器人、物体和仿真\n",
    "- 用 `Parser` 和机器人描述文件加载真实机器人（本次只用 SDF，URDF 和 MJCF 也很类似！）\n",
    "- 理解 Drake 的物理仿真引擎（`MultibodyPlant`）和几何引擎（`SceneGraph`）\n",
    "- 创建自定义三维资产，学习 URDF/SDF 编写\n",
    "- 在 Drake 中构建包含自定义物体的完整机器人仿真\n",
    "\n",
    "你已掌握 Drake 物理仿真和自定义机器人环境的基础技能。这些能力对后续进阶内容和课程项目都至关重要！\n",
    "\n",
    "**下一步：** 在笔记本3中，你将学习如何用 `scenario.yaml` 文件和 `HardwareStation` 快速搭建复杂场景。"
   ]
  }
 ],
 "metadata": {
  "deepnote_notebook_id": "9fc95d905e1944f0a0511d7fd1d6db00",
  "kernelspec": {
   "display_name": "drake",
   "language": "python",
   "name": "python3"
  },
  "language_info": {
   "codemirror_mode": {
    "name": "ipython",
    "version": 3
   },
   "file_extension": ".py",
   "mimetype": "text/x-python",
   "name": "python",
   "nbconvert_exporter": "python",
   "pygments_lexer": "ipython3",
   "version": "3.10.0"
  }
 },
 "nbformat": "4",
 "nbformat_minor": "0"
}
