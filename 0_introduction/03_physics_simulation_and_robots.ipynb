{
 "cells": [
  {
   "cell_type": "markdown",
   "metadata": {
    "cell_id": "c11a74c186c6419eaf528bfec1b7e601",
    "deepnote_cell_type": "markdown",
    "vscode": {
     "languageId": "raw"
    }
   },
   "source": [
    "# 笔记本2：物理仿真与机器人加载\n",
    "\n",
    "**学习目标：**\n",
    "1. 使用 `Parser` 和预设的机器人文件（URDF、SDF、MJCF）将真实机器人加载到 Drake\n",
    "2. 理解 Drake 的物理仿真引擎（`MultibodyPlant`）和几何引擎（`SceneGraph`）\n",
    "3. 创建自定义三维资产（你的姓名首字母！）并学习 `URDF` 和 `SDF` 的编写\n",
    "4. 使用 Meshcat 可视化机器人、物体和仿真\n",
    "5. 在 Drake 中构建包含自定义物体的完整机器人仿真\n",
    "\n",
    "**你将实现的内容：** 一个完整的仿真场景，包含 IIWA14 机械臂与自定义姓名首字母资产的交互！\n",
    "\n",
    "---\n"
   ]
  },
  {
   "cell_type": "markdown",
   "metadata": {
    "cell_id": "44976b47137643fc8c83d986697f6d92",
    "deepnote_cell_type": "markdown",
    "vscode": {
     "languageId": "raw"
    }
   },
   "source": [
    "## 环境配置与导入\n",
    "\n",
    "首先导入用于物理仿真、机器人加载和可视化的 Drake 功能。\n"
   ]
  },
  {
   "cell_type": "code",
   "execution_count": null,
   "metadata": {
    "cell_id": "6c91e41e0b8e4acab34bfbdc2e0a74ea",
    "deepnote_cell_type": "code",
    "execution_context_id": "d6247577-0abd-4b9c-a41e-877bf38d3ff6",
    "execution_millis": 271,
    "execution_start": 1756174329718,
    "source_hash": "4cff9ce0"
   },
   "outputs": [],
   "source": [
    "from pathlib import Path\n",
    "\n",
    "import numpy as np\n",
    "from pydrake.all import (\n",
    "    AddMultibodyPlantSceneGraph,\n",
    "    BasicVector,\n",
    "    Context,\n",
    "    Diagram,\n",
    "    DiagramBuilder,\n",
    "    LeafSystem,\n",
    "    MeshcatVisualizer,\n",
    "    ModelInstanceIndex,\n",
    "    MultibodyPlant,\n",
    "    Parser,\n",
    "    RigidTransform,\n",
    "    Simulator,\n",
    "    StartMeshcat,\n",
    ")\n",
    "from pydrake.visualization import ModelVisualizer\n",
    "\n",
    "from manipulation import running_as_notebook\n",
    "from manipulation.exercises.grader import Grader\n",
    "from manipulation.exercises.intro.test_physics_simulation_and_robots import (\n",
    "    TestPhysicsSimulationDiagramStructure,\n",
    "    TestPhysicsSimulationFullSystem,\n",
    "    TestPhysicsSimulationSimpleController,\n",
    "    TestPhysicsSimulationVerification,\n",
    ")\n",
    "from manipulation.letter_generation import create_sdf_asset_from_letter\n",
    "from manipulation.utils import RenderDiagram"
   ]
  },
  {
   "cell_type": "markdown",
   "metadata": {
    "cell_id": "4adaae36d89042b2a53d9f436a64333d",
    "deepnote_cell_type": "markdown",
    "vscode": {
     "languageId": "raw"
    }
   },
   "source": [
    "## Meshcat 可视化\n",
    "\n",
    "在开始之前，让我们配置 Meshcat，可视化工具。\n",
    "\n",
    "**Meshcat** 是 Drake 的主力三维可视化工具，在你的网页浏览器中运行。它可以实时交互式地可视化机器人、物体和仿真环境。Meshcat 让你可以：\n",
    "\n",
    "- **可视化三维机器人和场景**，带有真实几何和材质\n",
    "- **实时查看仿真过程**\n",
    "- **交互操作三维场景**（旋转、缩放、平移）\n",
    "- **录制视频**，用于作业提交\n",
    "- **调试仿真**，直观了解实际发生了什么\n",
    "\n",
    "你会经常用 meshcat 来可视化和调试你的代码！\n"
   ]
  },
  {
   "cell_type": "code",
   "execution_count": null,
   "metadata": {
    "cell_id": "945a0e1f175446558896230992abe61b",
    "deepnote_cell_type": "code",
    "execution_context_id": "d6247577-0abd-4b9c-a41e-877bf38d3ff6",
    "execution_millis": 0,
    "execution_start": 1756174330039,
    "source_hash": "2db78147"
   },
   "outputs": [],
   "source": [
    "# Start meshcat for visualization\n",
    "meshcat = StartMeshcat()"
   ]
  },
  {
   "cell_type": "markdown",
   "metadata": {
    "cell_id": "f750d93fdcca4bcdac2ca6b4691b0324",
    "deepnote_cell_type": "markdown"
   },
   "source": [
    "**点击上方链接，在浏览器中打开 Meshcat！本笔记本将一直使用同一个 Meshcat 窗口，请保持其打开！**"
   ]
  },
  {
   "cell_type": "markdown",
   "metadata": {
    "cell_id": "7d1f4f1d67134243a1324aec12fec2e2",
    "deepnote_cell_type": "markdown",
    "vscode": {
     "languageId": "raw"
    }
   },
   "source": [
    "---\n",
    "\n",
    "## 第一部分：加载 IIWA14 机器人\n",
    "\n",
    "首先，让我们加载一个真实机器人！**IIWA14** 是 KUKA 公司出品的 7 自由度工业机械臂。Drake 内置了许多可直接加载的机器人模型，本部分我们就会用到。你可以在[这里](https://github.com/RobotLocomotion/models)找到所有可用的 Drake 模型列表。\n",
    "\n",
    "**你的任务：** 使用 Drake 的物理引擎加载并可视化 IIWA14 机器人。\n",
    "\n",
    "**核心概念：**\n",
    "- `Parser`：将机器人或资产的描述文件（如 URDF/SDF/MJCF）加载到物理引擎中\n",
    "- `MultibodyPlant`：Drake 的主要机器人和物体物理仿真引擎，是我们所有仿真的核心\n",
    "- `SceneGraph`：Drake 用于管理几何体注册、几何查询、碰撞检测等的模块\n",
    "- **基座焊接**：将机器人基座固定到世界坐标系很重要，否则它会掉下去！\n",
    "\n",
    "**参考：** 本部分紧跟教材 [第二章](https://manipulation.csail.mit.edu/robot.html) 的 [Drake Simulation 示例](https://deepnote.com/workspace/Drake-0b3b2c53-a7ad-441b-80f8-bf8350752305/project/Tutorials-2b4fc509-aef2-417d-a40d-6071dfed9199/notebook/simulation-1ba6290623e34dbbb9d822a2180187c1) —— 重点参考 **“Simulating the (passive) iiwa”** 和 **“Visualizing the scene”** 两节。建议在开始实现前先浏览一下这些内容！"
   ]
  },
  {
   "cell_type": "code",
   "execution_count": null,
   "metadata": {
    "cell_id": "5f9ec8f75ea3469d842a934a553b643a",
    "deepnote_cell_type": "code"
   },
   "outputs": [],
   "source": [
    "# TODO：加载并可视化 IIWA14 机器人\n",
    "\n",
    "\n",
    "def create_IIWA14_diagram() -> tuple[Diagram, MultibodyPlant, ModelInstanceIndex]:\n",
    "    # 提示：参见上方 Drake Simulation 示例，“Visualizing the scene”小节\n",
    "    # TODO：创建 DiagramBuilder\n",
    "\n",
    "    # TODO：添加 MultibodyPlant 和 SceneGraph，时间步长为 1e-4\n",
    "    # 提示：有一个辅助函数可以帮你自动创建并连接这两个系统。\n",
    "\n",
    "    # TODO：创建 Parser 用于加载机器人模型\n",
    "    # 注意：在上方 Drake Simulation 示例中，parser 用完即丢弃，\n",
    "    #       这里我们会保存 parser 以便后续添加多个模型。\n",
    "\n",
    "    # TODO：用 parser 从 Drake 模型库加载 IIWA14 机器人模型。\n",
    "    # 提示：教程中的 IIWA14 模型没有碰撞几何体，这里我们加载带有碰撞几何体的模型：\n",
    "    #       \"package://drake_models/iiwa_description/urdf/iiwa14_primitive_collision.urdf\"\n",
    "    # 提示：parser 的 `AddModelsFromUrl` 方法返回一个模型引用列表（本例长度为 1）。\n",
    "    #       需要将第一个元素保存为变量 `iiwa`。\n",
    "    #       （严格来说，引用类型为 `ModelInstanceIndex`，不用担心细节。）\n",
    "\n",
    "    # TODO：将机器人基座（\"iiwa_link_0\"）焊接到世界坐标系\n",
    "\n",
    "    # TODO：将 MeshcatVisualizer 添加到 builder 并连接到 SceneGraph\n",
    "\n",
    "    # TODO：finalize plant（仿真前必须）\n",
    "\n",
    "    # TODO：构建完整 diagram\n",
    "\n",
    "    # TODO：返回 diagram、plant 和 iiwa 模型实例\n",
    "    return None, None, None  # 实现后请移除此行\n",
    "\n",
    "\n",
    "diagram, plant, iiwa = create_IIWA14_diagram()"
   ]
  },
  {
   "cell_type": "markdown",
   "metadata": {
    "cell_id": "7295f46934e14cceb4fef73f5903e8d7",
    "deepnote_cell_type": "markdown"
   },
   "source": [
    "在上面的代码中，我们加载了与教程不同的模型，因为我们需要带有碰撞几何体的模型。实际上，Drake 有许多可直接使用的模型，全部可在 [Github 仓库](https://github.com/RobotLocomotion/models) 找到，Parser 的 url 格式为 `package://drake_models/{models 仓库中的文件路径}`。\n",
    "\n",
    "用下方代码测试你的实现："
   ]
  },
  {
   "cell_type": "code",
   "execution_count": null,
   "metadata": {
    "cell_id": "335247acc55a432c89d945d8b7ebccc7",
    "deepnote_cell_type": "code"
   },
   "outputs": [],
   "source": [
    "Grader.grade_output([TestPhysicsSimulationDiagramStructure], [locals()], \"results.json\")\n",
    "Grader.print_test_results(\"results.json\")"
   ]
  },
  {
   "cell_type": "markdown",
   "metadata": {
    "cell_id": "32e695fa19d840478a042f9d84f20dc8",
    "deepnote_cell_type": "markdown"
   },
   "source": [
    "**我们还可以可视化模块图，方便你查看整体结构！**\n",
    "\n",
    "- 注意 `MultibodyPlant`、`SceneGraph` 和 `MeshcatVisualizer` 都是模块图中的系统。\n",
    "- 请务必观察各系统端口之间的连接关系！"
   ]
  },
  {
   "cell_type": "code",
   "execution_count": null,
   "metadata": {
    "cell_id": "23b031468dfb495f89142dc7738fc8fd",
    "deepnote_cell_type": "code",
    "execution_context_id": "d6247577-0abd-4b9c-a41e-877bf38d3ff6",
    "execution_millis": 237,
    "execution_start": 1756174337668,
    "source_hash": "92a704da"
   },
   "outputs": [],
   "source": [
    "RenderDiagram(diagram, max_depth=1)"
   ]
  },
  {
   "cell_type": "markdown",
   "metadata": {
    "cell_id": "525d57e55be84a8a94e2ba3da602820d",
    "deepnote_cell_type": "markdown"
   },
   "source": [
    "我们还可以为 diagram 创建一个默认 context 并打印出来，帮助我们了解当前系统状态！\n",
    "\n",
    "**提醒：** context 保存了“全部状态”，即 diagram 内所有系统的动力学信息、仿真时间等。"
   ]
  },
  {
   "cell_type": "code",
   "execution_count": null,
   "metadata": {
    "cell_id": "f376e78eaa18406487f9a1cb0b397121",
    "deepnote_cell_type": "code",
    "execution_context_id": "d6247577-0abd-4b9c-a41e-877bf38d3ff6",
    "execution_millis": 1,
    "execution_start": 1756174337968,
    "source_hash": "cf9dc678"
   },
   "outputs": [],
   "source": [
    "# HINT: You already learned how to do this in the first notebook!\n",
    "# TODO: Create a context for the diagram\n",
    "\n",
    "# TODO: Print the context"
   ]
  },
  {
   "cell_type": "markdown",
   "metadata": {
    "cell_id": "f17707905656442aaad9cba7e90e9bce",
    "deepnote_cell_type": "markdown"
   },
   "source": [
    "哇！现在 context 里信息量很大。我们只打印 plant 的 context 看看。\n",
    "\n",
    "（**提示：** 对于给定的 `system` 和 diagram context，可以用 `system.GetMyContextFromRoot(diagram_context)` 获取该系统的 context）\n",
    "\n",
    "- plant 有多少个（普通）状态？和你对 IIWA14 自由度的预期一致吗？"
   ]
  },
  {
   "cell_type": "code",
   "execution_count": null,
   "metadata": {
    "cell_id": "806296f53c0945dfa6e67359e6166ecf",
    "deepnote_cell_type": "code",
    "execution_context_id": "d6247577-0abd-4b9c-a41e-877bf38d3ff6",
    "execution_millis": 1,
    "execution_start": 1756174338028,
    "source_hash": "5911457f"
   },
   "outputs": [],
   "source": [
    "# TODO: Get the context of the plant from the diagram_context\n",
    "# HINT: This is important!\n",
    "#       Use the method plant.GetMyContextFromRoot(diagram_context),\n",
    "#       similar to what you did for the pendulum in the first notebook!\n",
    "\n",
    "# TODO: Print the plant context"
   ]
  },
  {
   "cell_type": "markdown",
   "metadata": {
    "cell_id": "779dab67d74046fd831984af7dec8e31",
    "deepnote_cell_type": "markdown"
   },
   "source": [
    "---\n",
    "\n",
    "## 第二部分：仅仿真 IIWA14 \n",
    "\n",
    "很好，IIWA14 已经加载到 Drake！\n",
    "\n",
    "现在我们设置初始条件并仿真该系统（目前只有 IIWA）。仿真时请关注 meshcat 可视化窗口！\n",
    "\n",
    "**参考：** 本部分继续参考 [Drake Simulation 示例](https://deepnote.com/workspace/Drake-0b3b2c53-a7ad-441b-80f8-bf8350752305/project/Tutorials-2b4fc509-aef2-417d-a40d-6071dfed9199/notebook/simulation-1ba6290623e34dbbb9d822a2180187c1)。"
   ]
  },
  {
   "cell_type": "code",
   "execution_count": null,
   "metadata": {
    "cell_id": "b2121d4084b746978c36c014c089297c",
    "deepnote_cell_type": "code",
    "execution_context_id": "d6247577-0abd-4b9c-a41e-877bf38d3ff6",
    "execution_millis": 0,
    "execution_start": 1756174338079,
    "source_hash": "c4348017"
   },
   "outputs": [],
   "source": [
    "# TODO：用你实现的 create_IIWA14_diagram 函数进行机器人仿真\n",
    "\n",
    "\n",
    "def simulate_IIWA14(\n",
    "    q0: np.ndarray, simulation_time: float = 3.0, set_target_realtime_rate: bool = True\n",
    ") -> np.ndarray:\n",
    "    # 提示：你在第一个笔记本已经学会了大部分内容！\n",
    "\n",
    "    # TODO：用 create_IIWA14_diagram 创建仿真系统\n",
    "\n",
    "    # TODO：创建 diagram context\n",
    "\n",
    "    # 提示：参见上方 Simulation 示例，“Visualizing the scene”小节\n",
    "    # TODO：用 diagram context 获取 plant 的 context\n",
    "    # 提示：很重要！plant context 是 diagram context 的子集，\n",
    "    #       只需修改 plant context 设置初始关节位置。\n",
    "    # 提示：之前用的是 `GetMyContextFromRoot`，现在要修改 context，\n",
    "    #       应用 `GetMyMutableContextFromRoot`（返回可变 context）。\n",
    "\n",
    "    # TODO：将机器人关节初始位置设置为 q0（弧度）\n",
    "\n",
    "    # TODO：将执行器输入设为零（被动仿真）\n",
    "    # 提示：参见上方 Drake Simulation 示例，方法一致。\n",
    "    # 提示：IIWA14 有 7 个关节，需要传入 7 个力矩值的向量\n",
    "\n",
    "    # TODO：创建仿真器\n",
    "\n",
    "    # TODO：设置可视化实时速率（便于观察）\n",
    "    # if set_target_realtime_rate:\n",
    "    # 提示：用 simulator.set_target_realtime_rate(1.0)\n",
    "\n",
    "    # TODO：运行仿真\n",
    "\n",
    "    # TODO：返回最终关节位置\n",
    "    # 提示：之前用 logger 记录系统输出历史，这里只需用\n",
    "    #       `plant.GetPositions(plant_context)`（仿真结束后）获取最终关节位置。\n",
    "\n",
    "    return np.zeros(7)"
   ]
  },
  {
   "cell_type": "markdown",
   "metadata": {
    "cell_id": "37c1d2bf5550440b8003cfcb92dea3c8",
    "deepnote_cell_type": "markdown"
   },
   "source": [
    "Okay! If everything is working as expected, we should now be able to simulate our system. Let us try by running the code below (if everything is working correctly, you should see the IIWA14 swinging passively in your meshcat window).\n"
   ]
  },
  {
   "cell_type": "code",
   "execution_count": null,
   "metadata": {
    "cell_id": "5c7107ec37844266b03e30ddeae106e7",
    "deepnote_cell_type": "code",
    "execution_context_id": "d6247577-0abd-4b9c-a41e-877bf38d3ff6",
    "execution_millis": 20710,
    "execution_start": 1756174338358,
    "source_hash": "62d6b950"
   },
   "outputs": [],
   "source": [
    "# Test your implementation\n",
    "q_initial = np.array([0, 0, 0, 0, 0, 0, 0])\n",
    "\n",
    "print(\"Starting robot simulation...\")\n",
    "print(f\"Check your Meshcat window ({meshcat.web_url()}) to see the robot simulation!\")\n",
    "print(\"     - If the robot is not moving, the simulation already finished.\")\n",
    "print(\n",
    "    \"     - Try running this cell again (or increase the simulation time), with the meshcat window open!\"\n",
    ")\n",
    "q_final = simulate_IIWA14(\n",
    "    q_initial, simulation_time=20.0 if running_as_notebook else 0.1\n",
    ")\n",
    "\n",
    "print(\"Robot simulation completed!\")\n",
    "print(f\"   Initial joint positions: {q_initial}\")\n",
    "print(f\"   Final joint positions: {q_final}\")"
   ]
  },
  {
   "cell_type": "markdown",
   "metadata": {
    "cell_id": "66d8b6e3d5b64dda9b4cb2aa7eca0943",
    "deepnote_cell_type": "markdown"
   },
   "source": [
    "好的，成功了。不过 IIWA 只是被动摆动。让我们写一个简单的控制器，至少能让 IIWA 基本保持在期望位置！我们会像第一个笔记本那样，把（非常简单的）控制器实现为 `LeafSystem`。注意 Drake 已经为你实现了许多高级控制器，实际项目中你通常会用那些或者写更好的控制器。这里我们只是为了学习如何将自定义 `LeafSystem` 控制器与 `MultibodyPlant` 连接，写一个非常简单（甚至有点“蠢”）的控制器。"
   ]
  },
  {
   "cell_type": "code",
   "execution_count": null,
   "metadata": {
    "cell_id": "d24e307e9b8d4ec39af9cc8d26b1bd64",
    "deepnote_cell_type": "code",
    "execution_context_id": "d6247577-0abd-4b9c-a41e-877bf38d3ff6",
    "execution_millis": 1,
    "execution_start": 1756174359118,
    "source_hash": "456932d5"
   },
   "outputs": [],
   "source": [
    "class SimpleController(LeafSystem):\n",
    "    def __init__(self, gain: float, q_desired: np.ndarray) -> None:\n",
    "        # TODO：定义一个 LeafSystem，输入为 14 维（IIWA 状态，即 7 个位置 + 7 个速度），\n",
    "        #       输出为 7 维（IIWA 关节力矩）。输出由 `ComputeTorque` 方法计算。\n",
    "        # 提示：第一个笔记本你已经会了！\n",
    "        pass\n",
    "\n",
    "    def ComputeTorque(self, context: Context, output: BasicVector) -> None:\n",
    "        # TODO：实现一个简单控制器，输出力矩 `tau = -gain * (q - q_desired)`。\n",
    "        # 提示：需要从状态中提取前 7 个元素作为关节位置 `q`。\n",
    "        # 提示：剩下的你已经会了！\n",
    "        pass"
   ]
  },
  {
   "cell_type": "markdown",
   "metadata": {
    "cell_id": "bfad22bd33a54427a6fd6b1dab9ce968",
    "deepnote_cell_type": "markdown"
   },
   "source": [
    "Run the code below to test your implementation:"
   ]
  },
  {
   "cell_type": "code",
   "execution_count": null,
   "metadata": {
    "cell_id": "7045ac94f49c42219c0c6f0cacadf518",
    "deepnote_cell_type": "code",
    "execution_context_id": "d6247577-0abd-4b9c-a41e-877bf38d3ff6",
    "execution_millis": 1,
    "execution_start": 1756174359168,
    "source_hash": "d209473e"
   },
   "outputs": [],
   "source": [
    "Grader.grade_output([TestPhysicsSimulationSimpleController], [locals()], \"results.json\")\n",
    "Grader.print_test_results(\"results.json\")"
   ]
  },
  {
   "cell_type": "code",
   "execution_count": null,
   "metadata": {
    "cell_id": "2c12216fdf8348bfab4deccbbb1b7313",
    "deepnote_cell_type": "code",
    "execution_context_id": "d6247577-0abd-4b9c-a41e-877bf38d3ff6",
    "execution_millis": 1,
    "execution_start": 1756174359218,
    "source_hash": "979cb557"
   },
   "outputs": [],
   "source": [
    "# TODO：加载并可视化 IIWA14 机器人并连接你的控制器\n",
    "\n",
    "\n",
    "def create_IIWA14_diagram_with_controller(\n",
    "    controller_gain: float, q_desired: np.ndarray\n",
    ") -> tuple[Diagram, MultibodyPlant, ModelInstanceIndex]:\n",
    "    # TODO：构建包含 IIWA 和控制器的 diagram。\n",
    "    #       结构与 create_IIWA14_diagram 基本一致，只是多了控制器连接。\n",
    "\n",
    "    # TODO：创建 diagram builder，添加 multibody plant 和 scene graph，\n",
    "    #       创建 parser，加载 IIWA，焊接基座。\n",
    "\n",
    "    # TODO：plant.Finalize() 必须在连接控制器前调用！\n",
    "\n",
    "    # TODO：用参数创建控制器\n",
    "\n",
    "    # TODO：将 plant 的 IIWA 状态输出端口连接到控制器输入端口\n",
    "    # 提示：用 `plant.get_state_output_port(iiwa)` 获取 IIWA 状态端口，\n",
    "    #       用 `controller.{你的输入端口名}` 获取控制器输入端口。\n",
    "    #       其中 `iiwa` 是 parser 返回的 IIWA 模型引用。\n",
    "\n",
    "    # TODO：将控制器输出端口连接到 plant 的 IIWA 执行器输入端口\n",
    "    # 提示：用 `controller.{你的输出端口名}` 获取控制器输出端口，\n",
    "    #       用 `plant.get_actuation_input_port(iiwa)` 获取 plant 的执行器输入端口。\n",
    "\n",
    "    # TODO：连接可视化器，构建 diagram。\n",
    "    return None, None, None"
   ]
  },
  {
   "cell_type": "markdown",
   "metadata": {
    "cell_id": "66f86bb7bd5b401dbd92d90e18a7fd20",
    "deepnote_cell_type": "markdown"
   },
   "source": [
    "Let us print the diagram to make sure that the connections are as expected. Make sure the the output port `iiwa14_state` from the `MultibodyPlant` system is connect to the input port of the controller, and that the output port of the controller is connected to `iiwa14_actuation` in `MultibodyPlant`!"
   ]
  },
  {
   "cell_type": "code",
   "execution_count": null,
   "metadata": {
    "cell_id": "58087b49277845fe9b58b58959b08e96",
    "deepnote_cell_type": "code",
    "execution_context_id": "d6247577-0abd-4b9c-a41e-877bf38d3ff6",
    "execution_millis": 54,
    "execution_start": 1756174359498,
    "source_hash": "3bca6051"
   },
   "outputs": [],
   "source": [
    "RenderDiagram(\n",
    "    create_IIWA14_diagram_with_controller(10.0, np.array([1, 1, 0, 0, 0, 0, 0]))[0],\n",
    "    max_depth=1,\n",
    ")"
   ]
  },
  {
   "cell_type": "markdown",
   "metadata": {
    "cell_id": "79c26dd483d1480fa14ceb38dd0c1d86",
    "deepnote_cell_type": "markdown"
   },
   "source": [
    "Almost there! Now, just implement the `simulate_IIWA14` function again, but this time use your newly defined function `create_IIWA14_diagram_with_controller`:"
   ]
  },
  {
   "cell_type": "code",
   "execution_count": null,
   "metadata": {
    "cell_id": "1f593c6e3a6741c4a1f3e60923088b43",
    "deepnote_cell_type": "code",
    "execution_context_id": "d6247577-0abd-4b9c-a41e-877bf38d3ff6",
    "execution_millis": 1,
    "execution_start": 1756174359598,
    "source_hash": "de3e2d54"
   },
   "outputs": [],
   "source": [
    "# TODO：用你实现的 create_IIWA14_diagram_with_controller 函数进行机器人仿真\n",
    "\n",
    "\n",
    "def simulate_IIWA14_with_controller(\n",
    "    q0: np.ndarray,\n",
    "    controller_gain: float,\n",
    "    q_desired: np.ndarray,\n",
    "    simulation_time=3.0,\n",
    "    set_target_realtime_rate=True,\n",
    ") -> np.ndarray:\n",
    "\n",
    "    return np.zeros(7)"
   ]
  },
  {
   "cell_type": "markdown",
   "metadata": {
    "cell_id": "5f115f7b47b849c9baa7f309ba6deae6",
    "deepnote_cell_type": "markdown"
   },
   "source": [
    "Amazing! Now let us run a simulation. How high do you have to set the gain to make the IIWA keep its starting configuration?"
   ]
  },
  {
   "cell_type": "code",
   "execution_count": null,
   "metadata": {
    "cell_id": "ff37657f02a041edb2fb3db8726af0bd",
    "deepnote_cell_type": "code",
    "execution_context_id": "d6247577-0abd-4b9c-a41e-877bf38d3ff6",
    "execution_millis": 14967,
    "execution_start": 1756174359868,
    "source_hash": "9f8cfff2"
   },
   "outputs": [],
   "source": [
    "# Test your implementation\n",
    "q_initial = np.array([0, 1.0, 0.3, 0.7, 0, 0, 0])\n",
    "\n",
    "print(\"Starting robot simulation...\")\n",
    "print(f\"Check your Meshcat window ({meshcat.web_url()}) to see the robot simulation!\")\n",
    "print(\"     - If the robot is not moving, the simulation already finished.\")\n",
    "print(\n",
    "    \"     - Try running this cell again (or increase the simulation time), with the meshcat window open!\"\n",
    ")\n",
    "q_final = simulate_IIWA14_with_controller(\n",
    "    q_initial,\n",
    "    controller_gain=10,\n",
    "    q_desired=q_initial,\n",
    "    simulation_time=15 if running_as_notebook else 0.1,\n",
    "    set_target_realtime_rate=running_as_notebook,\n",
    ")\n",
    "\n",
    "print(\"✅ Robot simulation completed!\")\n",
    "print(f\"   Initial joint positions: {q_initial}\")\n",
    "print(f\"   Final joint positions: {q_final}\")"
   ]
  },
  {
   "cell_type": "markdown",
   "metadata": {
    "cell_id": "3481f20162c94c749c08e83ae6eb9824",
    "deepnote_cell_type": "markdown"
   },
   "source": [
    "**NOTE:** You will notice that this controller does not work very well. That is because we are only using a simple proportional controller (a \"P-controller\"), which only inputs a multiple of the tracking error. The purpose of this exercise is to teach you how to use Drake, but we will soon learn about much better control methods!"
   ]
  },
  {
   "cell_type": "markdown",
   "metadata": {
    "cell_id": "8eb7354d57444c22bdf3e87e78b63a2d",
    "deepnote_cell_type": "markdown"
   },
   "source": [
    "### VERIFICATION IN GRADESCOPE\n",
    "\n",
    "Simulate your system with the following values, and copy/paste the final joint positions of the IIWA14:\n",
    "- initial positions: $[0.2, 0.2, 0.2, 0, 0, 0, 0]$\n",
    "- q_desired: $[0, 0, 0, 0, 0, 0, 0]$\n",
    "- Controller gain: $120.0$\n",
    "- Simulation time: $10 s$\n",
    "\n"
   ]
  },
  {
   "cell_type": "code",
   "execution_count": null,
   "metadata": {
    "cell_id": "b4ff1d515398406aa6016b23e90a2552",
    "deepnote_cell_type": "code",
    "execution_context_id": "d6247577-0abd-4b9c-a41e-877bf38d3ff6",
    "execution_millis": 9948,
    "execution_start": 1756174375128,
    "source_hash": "a102719d"
   },
   "outputs": [],
   "source": [
    "# TODO：用指定初始条件和仿真时间仿真 IIWA14"
   ]
  },
  {
   "cell_type": "markdown",
   "metadata": {
    "cell_id": "a61871431fe3434b88832cae4d27e957",
    "deepnote_cell_type": "markdown",
    "vscode": {
     "languageId": "raw"
    }
   },
   "source": [
    "---\n",
    "\n",
    "## 第三部分：用 SDFormat 创建自定义模型\n",
    "\n",
    "让我们学习如何为仿真创建自定义物体！前两部分我们用的是预定义的 SDFormat（.sdf）文件加载 IIWA14。现在我们将用同样的格式从零创建一个简单的桌子，然后用提供的 API 生成更复杂的资产（你的姓名首字母），并演示如何将它们加载到仿真中。\n",
    "\n",
    "**你的任务：** \n",
    "1. 从零创建一个简单桌子的 SDFormat 模型\n",
    "2. 用提供的 API 为你的姓名首字母生成 URDF 文件\n",
    "\n",
    "**核心概念：**\n",
    "- `SDF`、`URDF`、`MJCF`：三种常用（且非常相似）的 XML 格式，用于描述仿真中的机器人和物体\n",
    "- **可视几何体**：可视化时看到的部分（可以很精细）\n",
    "- **碰撞几何体**：物理引擎用于接触计算的部分（应尽量简单）\n",
    "- **惯性属性**：质量和惯性，实现真实物理行为\n",
    "\n",
    "**参考：** 本部分参考 [Authoring a Multibody Simulation Tutorial](https://github.com/RobotLocomotion/drake/blob/master/tutorials/authoring_multibody_simulation.ipynb) —— 重点关注 **“Creating custom models”** 小节，教程演示了如何用 SDFormat 字符串创建圆柱体模型。建议先浏览该节内容再开始实现！\n"
   ]
  },
  {
   "cell_type": "markdown",
   "metadata": {
    "cell_id": "de29ac7c1a5942b9b4f1f0cd25abdb3e",
    "deepnote_cell_type": "markdown",
    "vscode": {
     "languageId": "raw"
    }
   },
   "source": [
    "#### 步骤1：从零编写一个简单“桌子”的 SDF 文件\n",
    "\n",
    "SDF、URDF 和 MJCF 文件其实很简单。这里你将从零编写一个简单“桌子”的 SDF 文件，帮助你今后自定义资产。\n",
    "\n",
    "下方代码中我们直接在代码里定义 SDF 字符串，实际项目中通常会保存为单独的 `.sdf` 文件后加载到 Drake。\n",
    "\n",
    "**警告：** SDFormat 对缩进很敏感，请参考教程示例的缩进！也可参考 [官方 SDFormat 文档](http://sdformat.org/tutorials)\n"
   ]
  },
  {
   "cell_type": "code",
   "execution_count": null,
   "metadata": {
    "cell_id": "bdf991b005a64221a9e48636546e5dc8",
    "deepnote_cell_type": "code",
    "execution_context_id": "d6247577-0abd-4b9c-a41e-877bf38d3ff6",
    "execution_millis": 1,
    "execution_start": 1756174385128,
    "source_hash": "1e516ef4"
   },
   "outputs": [],
   "source": [
    "# TODO：为“桌子”创建一个简单的 SDFormat 字符串（一个扁平长方体即可）。\n",
    "# 提示：紧跟教程中的圆柱体示例！\n",
    "# 注意：后续我们会把它当作桌子放置姓名首字母资产，\n",
    "#       所以要足够大！\n",
    "# 提示：推荐尺寸 2m x 2m x 0.1m\n",
    "# 提示：质量可设为 1kg，惯性张量可在网上查找长方体的公式，\n",
    "#       不必完全精确，只要物理合理即可。\n",
    "table_sdf = \"\"\"<?xml version=\"1.0\"?>\n",
    "\"\"\""
   ]
  },
  {
   "cell_type": "markdown",
   "metadata": {
    "cell_id": "75c4ca52ced5491bafc964faa5693f9b",
    "deepnote_cell_type": "markdown",
    "vscode": {
     "languageId": "raw"
    }
   },
   "source": [
    "很好！如果一切顺利，我们现在应该能可视化自定义资产了。我们用 Drake 内置的 `ModelVisualizer` 可视化（见教程“Creating Custom Models”小节）。写好下方代码后，你应该能在 Meshcat 窗口看到你的桌子！\n",
    "\n",
    "**注意：** 观看完毕后请点击 MeshCat 中“Open Controls -> Stop Running”，这样虽然可视化停止但桌子仍可见。\n"
   ]
  },
  {
   "cell_type": "code",
   "execution_count": null,
   "metadata": {
    "cell_id": "db710872600d469db46082da2eb3a9e5",
    "deepnote_cell_type": "code",
    "execution_context_id": "d6247577-0abd-4b9c-a41e-877bf38d3ff6",
    "execution_millis": 28826467,
    "execution_start": 1756174385293,
    "source_hash": "9739121f"
   },
   "outputs": [],
   "source": [
    "print(f\"Meshcat URL: {meshcat.web_url()}\")\n",
    "# HINT: Follow the authoring tutorial's example for visualizing the cylinder!\n",
    "# TODO: Create a ModelVisualizer instance\n",
    "\n",
    "# TODO: Load your table_sdf string into the visualizer\n",
    "\n",
    "# TODO: Run the visualizer to see your box in Meshcat\n",
    "# NOTE: The tutorial uses `Run(loop_once=False)`, but you can just omit the argument.\n",
    "\n",
    "# Make sure to click \"Open Controls -> Stop Running\" in MeshCat when you're done viewing"
   ]
  },
  {
   "cell_type": "markdown",
   "metadata": {
    "cell_id": "96fb4870fa814e018fbfbd73895df2d8",
    "deepnote_cell_type": "markdown",
    "vscode": {
     "languageId": "raw"
    }
   },
   "source": [
    "#### 步骤2：用你的姓名首字母创建自定义资产\n",
    "\n",
    "本步骤你将用姓名首字母创建自定义资产。我们已为你提供了一个库，可以为给定字母生成 `.sdf` 文件，其结构和你上面写的桌子 SDF 很类似！\n",
    "\n",
    "下方代码已为你准备好（生成字母文件可能需要约 30 秒）。你可以自由修改字体、尺寸和挤出深度！\n"
   ]
  },
  {
   "cell_type": "code",
   "execution_count": null,
   "metadata": {
    "cell_id": "a57113424919474bb8c3eb84681d6d72",
    "deepnote_cell_type": "code",
    "execution_context_id": "d6247577-0abd-4b9c-a41e-877bf38d3ff6",
    "execution_millis": 24970,
    "execution_start": 1756203211819,
    "source_hash": "75930859"
   },
   "outputs": [],
   "source": [
    "# Let us save our files to a new folder called `assets` in the `Files`\n",
    "# section on the left\n",
    "output_dir = Path(\"assets/\")\n",
    "\n",
    "# TODO: Insert your initials here!\n",
    "your_initials = \"BPG\"\n",
    "\n",
    "for letter in your_initials:\n",
    "    create_sdf_asset_from_letter(\n",
    "        text=letter,\n",
    "        font_name=\"DejaVu Sans\",\n",
    "        letter_height_meters=0.2,\n",
    "        extrusion_depth_meters=0.07,\n",
    "        output_dir=output_dir / f\"{letter}_model\",\n",
    "    )"
   ]
  },
  {
   "cell_type": "markdown",
   "metadata": {
    "cell_id": "f104be65622549bb85f9b43870c8ddf5",
    "deepnote_cell_type": "markdown"
   },
   "source": [
    "很好。继续前请在左侧“文件”区查看 `assets/` 文件夹下生成的文件，结构如下：\n",
    "\n",
    "```\n",
    "{letter}_model/\n",
    "├── {letter}_parts/\n",
    "│   ├── convex_piece_000.obj\n",
    "│   ├── convex_piece_001.obj\n",
    "│   ├── convex_piece_002.obj\n",
    "│   └── ...（更多凸包网格文件）\n",
    "├── {letter}.obj\n",
    "└── {letter}.sdf\n",
    "```\n",
    "\n",
    "例如字母 `A`：\n",
    "\n",
    "```\n",
    "A_model/\n",
    "├── A_parts/\n",
    "│   ├── convex_piece_000.obj\n",
    "│   ├── convex_piece_001.obj\n",
    "│   ├── convex_piece_002.obj\n",
    "│   └── ...（更多凸包网格文件）\n",
    "├── A.obj\n",
    "└── A.sdf\n",
    "```\n",
    "\n",
    "`.obj` 文件描述字母整体三维网格，`convex_piece_XXX.obj` 文件描述字母的凸包部分：这些都是文本文件，包含顶点和面列表。可以尝试用 Deepnote 的“Open in raw mode”按钮打开看看。\n",
    "\n",
    "`.sdf` 文件描述每个字母的资产，链接整体 `.obj` 文件作为可视几何体，凸包 `.obj` 文件作为碰撞几何体（每个 mesh 必须是凸的，所以每个字母会生成多个部分！）。\n"
   ]
  },
  {
   "cell_type": "markdown",
   "metadata": {
    "cell_id": "96ae59986717401ea002b32562c1579c",
    "deepnote_cell_type": "markdown"
   },
   "source": [
    "很好！字母已生成。现在用 Drake 的 `ModelVisualizer` 可视化它们，检查生成效果。补全下方代码，确保每个字母都能正确显示。\n",
    "\n",
    "**注意**：点击 `Scene > drake` 可开启惯性和碰撞几何体的可视化，这对调试资产物理属性很有帮助！"
   ]
  },
  {
   "cell_type": "code",
   "execution_count": null,
   "metadata": {
    "cell_id": "00f529981b884e1896e10bd52c2abf32",
    "deepnote_cell_type": "code",
    "deepnote_to_be_reexecuted": true,
    "execution_context_id": "3b130765-f3fd-4fae-b2ed-4af4a6a29919",
    "execution_millis": 3137,
    "execution_start": 1755548124839,
    "source_hash": "b6dbd47c"
   },
   "outputs": [],
   "source": [
    "print(f\"Meshcat URL: {meshcat.web_url()}\")\n",
    "\n",
    "# TODO: Change this to visualize the individual letters in your initials\n",
    "letter_to_visualize = \"P\"  # One at a time!\n",
    "\n",
    "# This is the path to the SDF file for the letter\n",
    "letter_path = f\"assets/{letter_to_visualize}_model/{letter_to_visualize}.sdf\"\n",
    "\n",
    "# TODO: Define a ModelVisualizer instance\n",
    "# HINT: You know how to do this by now!\n",
    "\n",
    "# TODO: Load the letter into the visualizer using the parser\n",
    "# HINT: You can just pass the path to the letter file to the parser\n",
    "\n",
    "# TODO: Run the visualizer"
   ]
  },
  {
   "cell_type": "markdown",
   "metadata": {
    "cell_id": "87d7e8b3b6d44927b29c0f6b9bbdedcc",
    "deepnote_cell_type": "markdown",
    "vscode": {
     "languageId": "raw"
    }
   },
   "source": [
    "---\n",
    "\n",
    "## 第四部分：完整仿真——机器人 + 你的自定义资产\n",
    "\n",
    "**最终大作业！** 现在我们将把所学全部结合，创建一个包含 IIWA14 机器人和你自定义姓名首字母资产的完整仿真！\n",
    "\n",
    "**你的任务：** 构建包含以下内容的物理仿真：\n",
    "1. **IIWA14 机器人**：如前焊接到世界坐标系。\n",
    "2. **你的自定义桌子**：焊接到世界坐标系，靠近机器人（但不重叠！）\n",
    "3. **你的姓名首字母**：放在桌子上方。\n",
    "\n",
    "你已经掌握了全部实现所需的知识！参考前面各部分的模式完成本节。完成后请录屏（.mp4 文件，大小不超过 500 MB）并上传到 Gradescope。\n",
    "\n",
    "**最终目标：** 用录屏工具录制仿真场景，视频应展示你的姓名首字母落到桌子上，桌子焊接在机器人附近（但不重叠）。\n",
    "\n",
    "**提示**：`WeldFrames` 的第三个参数是 `RigidTransform`（后续课程会详细讲）。现在你可以直接用 `RigidTransform([x,y,z])` 指定偏移量。若不确定函数签名请查阅[官方文档](https://drake.mit.edu/pydrake/pydrake.multibody.plant.html)。\n"
   ]
  },
  {
   "cell_type": "code",
   "execution_count": null,
   "metadata": {
    "cell_id": "e08e67d823184dfd915b463ee2307efb",
    "deepnote_cell_type": "code",
    "deepnote_to_be_reexecuted": true,
    "execution_context_id": "3b130765-f3fd-4fae-b2ed-4af4a6a29919",
    "execution_millis": 0,
    "execution_start": 1755548155689,
    "source_hash": "983bf51e"
   },
   "outputs": [],
   "source": [
    "# Before you start, make sure to run the following cell to clear the meshcat window!\n",
    "meshcat.Delete()\n",
    "meshcat.DeleteAddedControls()"
   ]
  },
  {
   "cell_type": "code",
   "execution_count": null,
   "metadata": {
    "cell_id": "6f8ac2fbbd054039b451f218839b712f",
    "deepnote_cell_type": "code",
    "deepnote_to_be_reexecuted": true,
    "execution_context_id": "3b130765-f3fd-4fae-b2ed-4af4a6a29919",
    "execution_millis": 0,
    "execution_start": 1755548192479,
    "source_hash": "48f36a50"
   },
   "outputs": [],
   "source": [
    "# TODO：在这里实现你的完整仿真！\n",
    "\n",
    "\n",
    "def simulate_full_system(\n",
    "    initial_iiwa_positions: np.ndarray,\n",
    "    initial_letter_poses: list[RigidTransform],\n",
    "    table_pose: RigidTransform,\n",
    "    simulation_time: float = 15.0,\n",
    ") -> None:\n",
    "    # TODO：创建 diagram builder，添加 multibody plant 和 scene graph\n",
    "\n",
    "    # TODO：加载 IIWA14 机器人并焊接基座到世界坐标系\n",
    "\n",
    "    # TODO：加载桌子并焊接到世界坐标系。\n",
    "    #       别忘了用 `table_pose` 作为 `WeldFrames` 的第三个参数！\n",
    "\n",
    "    # TODO：加载你的姓名首字母资产\n",
    "    # 提示：用 'assets/...' 路径访问字母资产，方法同上！\n",
    "\n",
    "    # TODO：添加可视化器\n",
    "\n",
    "    # TODO：finalize plant 并构建 diagram\n",
    "\n",
    "    # TODO：创建 diagram context 和 plant context\n",
    "\n",
    "    # TODO：设置 IIWA14 关节初始位置。\n",
    "    # 提示：现在场景中有多个自由物体，需指定\n",
    "    #       设置的是 IIWA14 关节位置：\n",
    "    # plant.SetPositions(plant_context, iiwa, initial_iiwa_positions)\n",
    "\n",
    "    # TODO：加载字母并设置其初始位姿。\n",
    "    # 提示：设置字母位姿需要新方法。\n",
    "    #       因为字母是自由体，需要设置其位姿（位置+朝向）。\n",
    "    #\n",
    "    #       首先获取字母对应的 RigidBody，然后用 SetFreeBodyPose 方法设置位姿，\n",
    "    #       参数为 RigidTransform。\n",
    "    #\n",
    "    #       例如字母 B：\n",
    "    #       （注意：先加载字母，再 finalize plant，再设置位姿）\n",
    "    #\n",
    "    #               ```\n",
    "    #               B_letter = parser.AddModels(f\"assets/B_model/B.sdf\")[0]\n",
    "    #               ...\n",
    "    #               plant.Finalize()\n",
    "    #               ...\n",
    "    #               body = plant.GetRigidBodyByName(\"B_body_link\", B_letter)\n",
    "    #               plant.SetFreeBodyPose(plant_context, body, initial_letter_poses[0])\n",
    "    #               ```\n",
    "    #\n",
    "    #       （注意 SDF 中 body 名为 \"B_body_link\"，由字母生成函数硬编码。）\n",
    "\n",
    "    #       按此模式为所有字母设置位姿！\n",
    "\n",
    "    # TODO：将 plant 执行器输入固定为零\n",
    "\n",
    "    # TODO：创建仿真器并运行 simulation_time 秒\n",
    "    pass"
   ]
  },
  {
   "cell_type": "markdown",
   "metadata": {
    "cell_id": "1f0fbf7b585a412e9ff08720a7a5e3da",
    "deepnote_cell_type": "markdown"
   },
   "source": [
    "Run the code below to visualize your simulation!\n",
    "\n",
    "**Tip:** If you ever want to download a recording of your simulation as a `.html` file, append `/download` to the meshcat URL in your browser. Go ahead and try it for your simulation below!"
   ]
  },
  {
   "cell_type": "code",
   "execution_count": null,
   "metadata": {
    "cell_id": "6d19df02e40e4ef78a76f9f4b2c8f782",
    "deepnote_cell_type": "code",
    "deepnote_to_be_reexecuted": true,
    "execution_context_id": "3b130765-f3fd-4fae-b2ed-4af4a6a29919",
    "execution_millis": 16916,
    "execution_start": 1755548204581,
    "source_hash": "a237b034"
   },
   "outputs": [],
   "source": [
    "print(f\"Meshcat URL: {meshcat.web_url()}\")\n",
    "\n",
    "# Notice that we have wrapped your function in a `meshcat.StartRecording()` and `meshcat.StopRecording()` block,\n",
    "# followed by a `meshcat.PublishRecording()` call. This is a convenient way to make it possible to replay the\n",
    "# simulation in meshcat after the simulation ends!\n",
    "meshcat.StartRecording()\n",
    "simulate_full_system(\n",
    "    initial_iiwa_positions=np.array([-1.57, 0.1, 0, -1.2, 0, 1.6, 0]),\n",
    "    initial_letter_poses=[\n",
    "        # You can add rotations to the RigidTransform if you want, but we will learn more about that later!\n",
    "        # The letters should be placed such that they are not in collision with each other, and such that\n",
    "        # they fall onto the table.\n",
    "        RigidTransform([0.7, 0.0, 1.0]),\n",
    "        RigidTransform([0.9, 0.0, 1.0]),\n",
    "        RigidTransform([1.1, 0.0, 1.0]),\n",
    "    ],\n",
    "    table_pose=RigidTransform(\n",
    "        [0.5, 0.0, -0.05]\n",
    "    ),  # this is a reasonable position for a 2m x 2m x 0.05m table, but feel free to change it!\n",
    "    simulation_time=5.0 if running_as_notebook else 0.1,\n",
    ")\n",
    "meshcat.StopRecording()\n",
    "meshcat.PublishRecording()"
   ]
  },
  {
   "cell_type": "markdown",
   "metadata": {
    "cell_id": "89b8ba3fe78b42d791d80886696f15a1",
    "deepnote_cell_type": "markdown"
   },
   "source": [
    "# GRADESCOPE 验证\n",
    "恭喜你！本笔记本全部完成。现在在浏览器中回放仿真并将录屏（mp4，500MB 以下）上传到 Gradescope。"
   ]
  },
  {
   "cell_type": "markdown",
   "metadata": {
    "cell_id": "19b731470339437ba7fd96d872c55ea9",
    "deepnote_cell_type": "markdown"
   },
   "source": [
    "---\n",
    "\n",
    "# 恭喜你！\n",
    "\n",
    "你已成功完成 **笔记本2：物理仿真与机器人加载**！\n",
    "\n",
    "### 总结\n",
    "\n",
    "本笔记本你学会了：\n",
    "\n",
    "- 用 Meshcat 可视化机器人、物体和仿真\n",
    "- 用 `Parser` 和机器人描述文件加载真实机器人（本次只用 SDF，URDF 和 MJCF 也很类似！）\n",
    "- 理解 Drake 的物理仿真引擎（`MultibodyPlant`）和几何引擎（`SceneGraph`）\n",
    "- 创建自定义三维资产，学习 URDF/SDF 编写\n",
    "- 在 Drake 中构建包含自定义物体的完整机器人仿真\n",
    "\n",
    "你已掌握 Drake 物理仿真和自定义机器人环境的基础技能。这些能力对后续进阶内容和课程项目都至关重要！\n",
    "\n",
    "**下一步：** 在笔记本3中，你将学习如何用 `scenario.yaml` 文件和 `HardwareStation` 快速搭建复杂场景。"
   ]
  }
 ],
 "metadata": {
  "deepnote_notebook_id": "9fc95d905e1944f0a0511d7fd1d6db00",
  "language_info": {
   "name": "python"
  }
 },
 "nbformat": "4",
 "nbformat_minor": "0"
}
