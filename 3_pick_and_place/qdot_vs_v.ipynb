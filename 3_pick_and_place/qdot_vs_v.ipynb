{
 "cells": [
  {
   "cell_type": "markdown",
   "metadata": {
    "cell_id": "97939fa907eb4e6a9d8c4802f52abeb6",
    "colab_type": "text",
    "deepnote_cell_type": "markdown",
    "id": "EgiF12Hf1Dhs"
   },
   "source": [
    "本笔记本为[教科书](http://manipulation.csail.mit.edu/pick.html)提供了配套示例。建议将两个窗口并排打开！"
   ]
  },
  {
   "cell_type": "code",
   "execution_count": 3,
   "metadata": {
    "cell_id": "f5e48029e2654b4aa6ee8cfa388e1fe4",
    "colab": {},
    "colab_type": "code",
    "deepnote_cell_type": "code",
    "id": "eeMrMI0-1Dhu"
   },
   "outputs": [],
   "source": [
    "from pydrake.all import MultibodyPlant, Parser"
   ]
  },
  {
   "cell_type": "markdown",
   "metadata": {
    "cell_id": "c9724892c8ff46cdb291397a0400bd42",
    "colab_type": "text",
    "deepnote_cell_type": "markdown",
    "id": "7q0A14bAilIX"
   },
   "source": [
    "# 不要假设 $\\dot{q} \\equiv v$\n",
    "\n",
    "\n",
    "我们只需在场景中添加一个物体。我们不会将其焊接到世界坐标系，因此它是一个“自由体”或具有“浮动基座”。"
   ]
  },
  {
   "cell_type": "code",
   "execution_count": 4,
   "metadata": {
    "cell_id": "2196344b52f34dd6b0081267a01d1feb",
    "colab": {},
    "colab_type": "code",
    "deepnote_cell_type": "code",
    "id": "ILYLouFTjv6e"
   },
   "outputs": [
    {
     "name": "stdout",
     "output_type": "stream",
     "text": [
      "::_ Context\n",
      "------------\n",
      "Time: 0\n",
      "States:\n",
      "  13 continuous states\n",
      "    1 0 0 0 0 0 0 0 0 0 0 0 0\n",
      "\n",
      "Parameters:\n",
      "  4 numeric parameter groups with\n",
      "     6 parameters\n",
      "       0 0 0 0 0 0\n",
      "     10 parameters\n",
      "       nan nan nan nan nan nan nan nan nan nan\n",
      "     10 parameters\n",
      "                       0.028                     0                     0                 0.025  0.001042857142857143  0.001303571428571429 0.0006785714285714287                     0                     0                     0\n",
      "     12 parameters\n",
      "       1 0 0 0 1 0 0 0 1 0 0 0\n",
      "  4 abstract parameters\n",
      "\n",
      "plant.num_positions() = 7\n",
      "plant.num_velocities() = 6\n",
      "\n",
      "Position names: ['base_link_qw', 'base_link_qx', 'base_link_qy', 'base_link_qz', 'base_link_x', 'base_link_y', 'base_link_z']\n",
      "Velocity names: ['base_link_wx', 'base_link_wy', 'base_link_wz', 'base_link_vx', 'base_link_vy', 'base_link_vz']\n"
     ]
    }
   ],
   "source": [
    "def num_positions_velocities_example():\n",
    "    plant = MultibodyPlant(time_step=0.0)\n",
    "    Parser(plant).AddModelsFromUrl(\n",
    "        \"package://drake_models/manipulation_station/061_foam_brick.sdf\"\n",
    "    )\n",
    "    plant.Finalize()\n",
    "\n",
    "    context = plant.CreateDefaultContext()\n",
    "    print(context)\n",
    "\n",
    "    print(f\"plant.num_positions() = {plant.num_positions()}\")\n",
    "    print(f\"plant.num_velocities() = {plant.num_velocities()}\")\n",
    "    print(\"\")\n",
    "    print(f\"Position names: {plant.GetPositionNames(add_model_instance_prefix=False)}\")\n",
    "    print(f\"Velocity names: {plant.GetVelocityNames(add_model_instance_prefix=False)}\")\n",
    "\n",
    "\n",
    "num_positions_velocities_example()"
   ]
  },
  {
   "cell_type": "markdown",
   "metadata": {
    "cell_id": "b544dce8096a45a1bf5227bc852457b6",
    "deepnote_cell_type": "markdown"
   },
   "source": [
    "查看 `Context` 可以看到该系统共有 13 个状态变量。其中 7 个是位置 $q$，这是因为我们使用单位四元数来表示位姿。但只有 6 个是速度 $v$，因为六维空间速度为单位四元数的变化率提供了更好的（无约束）表示方式。但很明显，如果向量长度都不一样，我们就*不能*有 $\\dot{q} = v$。"
   ]
  }
 ],
 "metadata": {
  "deepnote_notebook_id": "eaee4f577d1848688f975df98d9f9f80",
  "kernelspec": {
   "display_name": "drake",
   "language": "python",
   "name": "python3"
  },
  "language_info": {
   "codemirror_mode": {
    "name": "ipython",
    "version": 3
   },
   "file_extension": ".py",
   "mimetype": "text/x-python",
   "name": "python",
   "nbconvert_exporter": "python",
   "pygments_lexer": "ipython3",
   "version": "3.10.0"
  }
 },
 "nbformat": "4",
 "nbformat_minor": "0"
}
