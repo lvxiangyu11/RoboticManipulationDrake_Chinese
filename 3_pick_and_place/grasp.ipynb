{
 "cells": [
  {
   "cell_type": "markdown",
   "metadata": {
    "cell_id": "9841517bbf9648a0a7a48d8d3c2ae0ea",
    "colab_type": "text",
    "deepnote_cell_type": "markdown",
    "id": "EgiF12Hf1Dhs"
   },
   "source": [
    "本笔记本为[教科书](http://manipulation.csail.mit.edu/pick.html)提供了配套示例。建议将两个窗口并排打开！"
   ]
  },
  {
   "cell_type": "code",
   "execution_count": 1,
   "metadata": {
    "cell_id": "7363799430b746bf97a936c03d562cc2",
    "colab": {},
    "colab_type": "code",
    "deepnote_cell_type": "code",
    "execution_context_id": "4eab90e3-5c04-44cb-a6a3-f7e2f517040f",
    "execution_millis": 455,
    "execution_start": 1757871880640,
    "id": "eeMrMI0-1Dhu",
    "source_hash": "b00c6472"
   },
   "outputs": [],
   "source": [
    "import numpy as np\n",
    "from pydrake.all import (\n",
    "    AddMultibodyPlantSceneGraph,  # 添加多体系统和场景图\n",
    "    DiagramBuilder,              # 系统图构建器\n",
    "    MeshcatVisualizer,           # Meshcat 可视化工具\n",
    "    Parser,                      # 解析器\n",
    "    RigidTransform,              # 刚体变换\n",
    "    RotationMatrix,              # 旋转矩阵\n",
    "    StartMeshcat,                # 启动 Meshcat\n",
    ")\n",
    "\n",
    "from manipulation.scenarios import SetColor  # 设置颜色工具"
   ]
  },
  {
   "cell_type": "code",
   "execution_count": 2,
   "metadata": {
    "cell_id": "4c7a36cd4ff24d0880d034b2454caf90",
    "deepnote_cell_type": "code",
    "execution_context_id": "4eab90e3-5c04-44cb-a6a3-f7e2f517040f",
    "execution_millis": 63,
    "execution_start": 1757871881139,
    "source_hash": "6d42057f"
   },
   "outputs": [
    {
     "name": "stderr",
     "output_type": "stream",
     "text": [
      "INFO:drake:Meshcat listening for connections at http://localhost:7001\n"
     ]
    }
   ],
   "source": [
    "# 启动可视化工具。\n",
    "meshcat = StartMeshcat()"
   ]
  },
  {
   "cell_type": "markdown",
   "metadata": {
    "cell_id": "83a4abc117c0478190e88c98f7d78e69",
    "colab_type": "text",
    "deepnote_cell_type": "markdown",
    "id": "DfwIMIJCSkx6"
   },
   "source": [
    "# 计算抓取和预抓取位姿\n",
    "\n",
    "这里是一个带有浮动 Schunk 夹爪和泡沫砖的简单示例。它按照讲义中的描述定义了抓取位姿，并将其渲染到 3D 可视化工具中。\n",
    "\n",
    "**自我检查**：尝试将抓取位姿更改为预抓取位姿。你喜欢我在文本中选的这些数值吗？"
   ]
  },
  {
   "cell_type": "code",
   "execution_count": 3,
   "metadata": {
    "cell_id": "07fa091c436f4fddac7ce470146dcc25",
    "colab": {},
    "colab_type": "code",
    "deepnote_cell_type": "code",
    "execution_context_id": "4eab90e3-5c04-44cb-a6a3-f7e2f517040f",
    "execution_millis": 0,
    "execution_start": 1757871926340,
    "id": "QuFmomDOxoAR",
    "source_hash": "6cb884e0"
   },
   "outputs": [],
   "source": [
    "def grasp_poses_example():\n",
    "    builder = DiagramBuilder()  # 创建系统图构建器\n",
    "\n",
    "    plant, scene_graph = AddMultibodyPlantSceneGraph(builder, time_step=0.0)  # 添加多体系统和场景图\n",
    "    parser = Parser(plant, scene_graph)  # 创建解析器\n",
    "    parser.SetAutoRenaming(True)  # 自动重命名模型\n",
    "    grasp = parser.AddModelsFromUrl(\n",
    "        \"package://drake_models/wsg_50_description/sdf/schunk_wsg_50_no_tip.sdf\"\n",
    "    )[0]  # 加载夹爪模型（抓取）\n",
    "    pregrasp = parser.AddModelsFromUrl(\n",
    "        \"package://drake_models/wsg_50_description/sdf/schunk_wsg_50_no_tip.sdf\"\n",
    "    )[0]  # 加载夹爪模型（预抓取）\n",
    "    brick = parser.AddModelsFromUrl(\n",
    "        \"package://drake_models/manipulation_station/061_foam_brick.sdf\"\n",
    "    )[0]  # 加载泡沫砖模型\n",
    "    plant.Finalize()  # 完成模型构建\n",
    "\n",
    "    B_O = plant.GetBodyByName(\"base_link\", brick)  # 获取砖块的基座\n",
    "    B_Ggrasp = plant.GetBodyByName(\"body\", grasp)  # 获取夹爪（抓取）主体\n",
    "    B_Gpregrasp = plant.GetBodyByName(\"body\", pregrasp)  # 获取夹爪（预抓取）主体\n",
    "\n",
    "    # 将预抓取夹爪设置为绿色且半透明。\n",
    "    inspector = scene_graph.model_inspector()\n",
    "    for body_index in plant.GetBodyIndices(pregrasp):\n",
    "        SetColor(\n",
    "            scene_graph,\n",
    "            [0, 0.6, 0, 0.5],  # RGBA 绿色半透明\n",
    "            plant.get_source_id(),\n",
    "            inspector.GetGeometries(plant.GetBodyFrameIdOrThrow(body_index)),\n",
    "        )\n",
    "\n",
    "    meshcat.Delete()  # 清空可视化\n",
    "    meshcat.SetProperty(\"/Background\", \"visible\", False)  # 隐藏背景\n",
    "    MeshcatVisualizer.AddToBuilder(builder, scene_graph, meshcat)  # 添加可视化器\n",
    "\n",
    "    diagram = builder.Build()  # 构建系统图\n",
    "    context = diagram.CreateDefaultContext()  # 创建默认上下文\n",
    "    plant_context = plant.GetMyContextFromRoot(context)  # 获取 plant 上下文\n",
    "\n",
    "    # TODO(russt): 设置物体的随机位姿。\n",
    "    plant.SetFreeBodyPose(\n",
    "        plant_context,\n",
    "        B_O,\n",
    "        RigidTransform(RotationMatrix.MakeYRotation(np.pi / 6), [0.5, 0, 0.025]),\n",
    "    )  # 设置物体位姿\n",
    "    \n",
    "    # 获取当前物体 O 的位姿\n",
    "    X_WO = plant.EvalBodyPoseInWorld(plant_context, B_O)\n",
    "\n",
    "    p_GgraspO = [0, 0.11, 0]  # 抓取点在物体坐标系下的位置\n",
    "    R_GgraspO = RotationMatrix.MakeXRotation(np.pi / 2.0).multiply(\n",
    "        RotationMatrix.MakeZRotation(np.pi / 2.0)\n",
    "    )  # 抓取点的旋转\n",
    "    X_GgraspO = RigidTransform(R_GgraspO, p_GgraspO)  # 抓取点的刚体变换\n",
    "    X_OGgrasp = X_GgraspO.inverse()  # 逆变换\n",
    "    X_WGgrasp = X_WO.multiply(X_OGgrasp)  # 世界系下抓取点的位姿\n",
    "\n",
    "    # 预抓取点在夹爪坐标系下为负 y 方向（见图示！）\n",
    "    X_GgraspGpregrasp = RigidTransform([0, -0.08, 0])\n",
    "    X_WGpregrasp = X_WGgrasp @ X_GgraspGpregrasp  # 世界系下预抓取点的位姿\n",
    "\n",
    "    plant.SetFreeBodyPose(plant_context, B_Ggrasp, X_WGgrasp)  # 设置夹爪（抓取）位姿\n",
    "    # 同时张开手指。\n",
    "    plant.GetJointByName(\"left_finger_sliding_joint\", grasp).set_translation(\n",
    "        plant_context, -0.054\n",
    "    )\n",
    "    plant.GetJointByName(\"right_finger_sliding_joint\", grasp).set_translation(\n",
    "        plant_context, 0.054\n",
    "    )\n",
    "\n",
    "    plant.SetFreeBodyPose(plant_context, B_Gpregrasp, X_WGpregrasp)  # 设置夹爪（预抓取）位姿\n",
    "    # 同时张开手指。\n",
    "    plant.GetJointByName(\"left_finger_sliding_joint\", pregrasp).set_translation(\n",
    "        plant_context, -0.054\n",
    "    )\n",
    "    plant.GetJointByName(\"right_finger_sliding_joint\", pregrasp).set_translation(\n",
    "        plant_context, 0.054\n",
    "    )\n",
    "\n",
    "    diagram.ForcedPublish(context)  # 强制刷新可视化\n",
    "\n",
    "\n",
    "grasp_poses_example()  # 运行示例"
   ]
  },
  {
   "cell_type": "code",
   "execution_count": 4,
   "metadata": {
    "cell_id": "3895c709dadf4d2dae634946dbaf5c48",
    "deepnote_cell_type": "code",
    "execution_context_id": "4eab90e3-5c04-44cb-a6a3-f7e2f517040f",
    "execution_millis": 0,
    "execution_start": 1757871888990,
    "source_hash": "b623e53d"
   },
   "outputs": [],
   "source": [
    "# （此处可用于补充代码或测试）"
   ]
  }
 ],
 "metadata": {
  "deepnote_notebook_id": "d80d10f6e4494aabb679906b5c2c5a9c",
  "kernelspec": {
   "display_name": "drake",
   "language": "python",
   "name": "python3"
  },
  "language_info": {
   "codemirror_mode": {
    "name": "ipython",
    "version": 3
   },
   "file_extension": ".py",
   "mimetype": "text/x-python",
   "name": "python",
   "nbconvert_exporter": "python",
   "pygments_lexer": "ipython3",
   "version": "3.10.0"
  }
 },
 "nbformat": "4",
 "nbformat_minor": "0"
}
