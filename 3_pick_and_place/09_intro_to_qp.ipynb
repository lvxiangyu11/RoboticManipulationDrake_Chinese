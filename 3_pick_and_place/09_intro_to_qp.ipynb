{
 "cells": [
  {
   "cell_type": "markdown",
   "metadata": {
    "cell_id": "b8a8f2cb56b24e058500f6a1816e81cd",
    "colab_type": "text",
    "deepnote_cell_type": "markdown",
    "id": "ERSps3-ac4Po"
   },
   "source": [
    "# QP（二次规划）简介"
   ]
  },
  {
   "cell_type": "code",
   "execution_count": 1,
   "metadata": {
    "cell_id": "8b8fa21575914d09bb3b0d7c82156e90",
    "colab": {},
    "colab_type": "code",
    "deepnote_cell_type": "code",
    "id": "tFMmTfbHWQfh"
   },
   "outputs": [],
   "source": [
    "# Python 库\n",
    "import numpy as np\n",
    "from pydrake.all import MathematicalProgram, Solve, eq, ge, le"
   ]
  },
  {
   "cell_type": "markdown",
   "metadata": {
    "cell_id": "4375c34f6e854a5cbd8b976fdc99e3ab",
    "colab_type": "text",
    "deepnote_cell_type": "markdown",
    "id": "ze9gQeOVOJUA"
   },
   "source": [
    "# MathematicalProgram 简介 \n",
    "\n",
    "本练习的目的是让你熟悉优化问题实例的基本概念，以及如何求解它。\n",
    "\n",
    "一个优化问题通常写作：\n",
    "\n",
    "$$\\begin{aligned} \\min_x \\quad & f(x) \\\\ \\textrm{s.t.} \\quad & g(x)\\leq 0,\\\\ \\quad &  h(x)=0 \\end{aligned}$$\n",
    "\n",
    "我们称 $x$ 为**决策变量**，$f(x)$ 为**目标函数**，$g(x)\\leq 0$ 为**不等式约束**，$h(x)=0$ 为**等式约束**。我们通常用 $x^*$ 表示最优解。大多数情况下，约束是硬约束，意味着最优解必须满足这些约束条件。\n",
    "\n",
    "Drake 提供了一个非常好的接口 `MathematicalProgram`，可以调用多种求解器。让我们用 `MathematicalProgram` 试着解决一个简单问题：\n",
    "\n",
    "$$\\begin{aligned} \\min_x \\quad & \\frac{1}{2}x^2 \\\\ \\textrm{s.t.} \\quad & x\\geq 3 \\end{aligned}$$\n",
    "\n",
    "在开始编程之前，你认为答案应该是多少？你应该说服自己，最优解是 $x^*=3$，因为这是在不违反约束的情况下取得最小代价的值。"
   ]
  },
  {
   "cell_type": "code",
   "execution_count": 2,
   "metadata": {
    "cell_id": "b3b48259c3cd45239759c84b825c5c43",
    "colab": {},
    "colab_type": "code",
    "deepnote_cell_type": "code",
    "id": "Khi7GeVNcwtU"
   },
   "outputs": [
    {
     "name": "stdout",
     "output_type": "stream",
     "text": [
      "解为: [3.]\n"
     ]
    }
   ],
   "source": [
    "\"\"\"\n",
    "使用 Drake 的 MathematicalProgram 求解优化问题的步骤\n",
    "\"\"\"\n",
    "\n",
    "# 1. 定义一个 MathematicalProgram 实例\n",
    "prog = MathematicalProgram()\n",
    "\n",
    "# 2. 添加决策变量\n",
    "x = prog.NewContinuousVariables(1)\n",
    "\n",
    "# 3. 添加目标函数\n",
    "prog.AddCost(x.dot(x))\n",
    "\n",
    "# 4. 添加约束条件\n",
    "prog.AddConstraint(x[0] >= 3)\n",
    "\n",
    "# 5. 求解问题\n",
    "result = Solve(prog)\n",
    "\n",
    "# 6. 获取解\n",
    "if result.is_success():\n",
    "    print(\"解为: \" + str(result.GetSolution()))"
   ]
  },
  {
   "cell_type": "markdown",
   "metadata": {
    "cell_id": "14843ba2783a46d6a83f4589327a9e46",
    "colab_type": "text",
    "deepnote_cell_type": "markdown",
    "id": "HvEI7697UUZC"
   },
   "source": [
    "你应该已经看到我们成功得到了期望的解 $x^*=3$。\n",
    "\n",
    "我们本节重点关注的一类问题是[二次规划（QP）](https://en.wikipedia.org/wiki/Quadratic_programming)，在实际中可以非常高效地求解（甚至可以达到 kHz 级别）。\n",
    "\n",
    "这类问题的一般形式如下：\n",
    "\n",
    "$$\\begin{aligned} \\min_x \\quad & \\frac{1}{2}x^T\\mathbf{Q}x + c^Tx \\\\ \\textrm{s.t.} \\quad & \\mathbf{A}x\\leq b,\\\\ \\quad &  \\mathbf{A}'x=b' \\end{aligned}$$\n",
    "\n",
    "其中 $\\mathbf{Q}$ 是正定对称矩阵。注意目标函数是决策变量的二次函数，而约束都是线性的，这就是凸二次规划（QP）的定义。\n",
    "\n",
    "让我们练习解决一个简单的 QP：\n",
    "\n",
    "$$\\begin{aligned} \\min_{x_0,x_1,x_2} \\quad & x_0^2 + x_1^2 + x_2^2 \\\\ \\textrm{s.t.} \\quad & \\begin{pmatrix} 2 & 3 & 1 \\\\ 5 & 1 & 0 \\end{pmatrix} \\begin{pmatrix} x_0 \\\\ x_1 \\\\ x_2 \\end{pmatrix} = \\begin{pmatrix} 1 \\\\ 1 \\end{pmatrix}\\\\  \\quad &  \\begin{pmatrix} x_0 \\\\ x_1 \\\\ x_2 \\end{pmatrix} \\leq \\begin{pmatrix} 2 \\\\ 2 \\\\ 2\\end{pmatrix} \\end{aligned}$$\n",
    "\n",
    "为了方便地写出向量约束，Drake 提供了 `eq, le, ge` 用于元素级约束。你可能需要一些时间来熟悉这些约束的语法。想要更深入了解 `MathematicalProgram`，[这个 notebook 教程](https://deepnote.com/workspace/Drake-0b3b2c53-a7ad-441b-80f8-bf8350752305/project/Tutorials-2b4fc509-aef2-417d-a40d-6071dfed9199/notebook/mathematical_program-4c4f4de7d5d3452daacf45c20b315d31) 非常有用。"
   ]
  },
  {
   "cell_type": "code",
   "execution_count": 3,
   "metadata": {
    "cell_id": "1b2a9efe57fe46c4b5e41e3b2d5d1492",
    "colab": {},
    "colab_type": "code",
    "deepnote_cell_type": "code",
    "id": "SNvpjgzxVQJC"
   },
   "outputs": [
    {
     "name": "stdout",
     "output_type": "stream",
     "text": [
      "解为: [0.15897436 0.20512821 0.06666667]\n"
     ]
    }
   ],
   "source": [
    "prog = MathematicalProgram()\n",
    "\n",
    "x = prog.NewContinuousVariables(3)\n",
    "\n",
    "prog.AddCost(x.dot(x))\n",
    "prog.AddConstraint(eq(np.array([[2, 3, 1], [5, 1, 0]]).dot(x), [1, 1]))\n",
    "prog.AddConstraint(le(x, 2 * np.ones(3)))\n",
    "\n",
    "result = Solve(prog)\n",
    "\n",
    "# 6. 获取解\n",
    "if result.is_success():\n",
    "    print(\"解为: \" + str(result.GetSolution()))"
   ]
  },
  {
   "cell_type": "markdown",
   "metadata": {
    "cell_id": "0f7141a5c2e84822b3c8d7387174e548",
    "colab_type": "text",
    "deepnote_cell_type": "markdown",
    "id": "SmYZWSewSwf6"
   },
   "source": [
    "\n",
    "**现在轮到你来解决一个简单问题！** \n",
    "\n",
    "你需要解决如下问题，并将结果存储在变量 `result_submission` 中。\n",
    "\n",
    "$$\\begin{aligned} \\min_{x_0,x_1,x_2} \\quad & 2x_0^2 + x_1^2 + 4x_2^2 \\\\ \\textrm{s.t.} \\quad & \\begin{pmatrix} 1 & 2 & 3 \\\\ 2 & 7 & 4 \\end{pmatrix} \\begin{pmatrix} x_0 \\\\ x_1  \\\\ x_2 \\end{pmatrix} = \\begin{pmatrix} 1 \\\\ 1 \\end{pmatrix} \\\\ \\quad &  |x| \\leq \\begin{pmatrix} 0.35 \\\\ 0.35 \\\\ 0.35\\end{pmatrix} \\end{aligned}$$\n",
    "\n",
    "注意：最后一个约束表示 `x[i]` 的绝对值必须小于 `b_bb[i]` 的值。你不能直接将绝对值作为约束，因此有两种方法可以实现：\n",
    "- 将约束拆分为不含绝对值的两个约束。  \n",
    "- Drake 提供了 [`AddBoundingBoxConstraint`](https://drake.mit.edu/pydrake/pydrake.solvers.html?highlight=addboundingboxconstraint#pydrake.solvers.MathematicalProgram.AddBoundingBoxConstraint)，你也可以在实现中使用。"
   ]
  },
  {
   "cell_type": "code",
   "execution_count": 15,
   "metadata": {
    "cell_id": "0ab534165336488fa98be9a9054b1f3b",
    "colab": {},
    "colab_type": "code",
    "deepnote_cell_type": "code",
    "id": "qhMB4kc3asCE"
   },
   "outputs": [],
   "source": [
    "prog = MathematicalProgram()\n",
    "\n",
    "# 添加决策变量\n",
    "x = prog.NewContinuousVariables(3)\n",
    "\n",
    "# 添加目标函数：2x0² + x1² + 4x2²\n",
    "prog.AddCost(2 * x[0]**2 + x[1]**2 + 4 * x[2]**2)\n",
    "\n",
    "# 添加等式约束：A x = b\n",
    "A = np.array([[1, 2, 3], [2, 7, 4]])\n",
    "b = np.array([1, 1])\n",
    "prog.AddConstraint(eq(A.dot(x), b))\n",
    "\n",
    "# 添加边界约束：|x| <= 0.35\n",
    "prog.AddBoundingBoxConstraint(-0.35, 0.35, x)\n",
    "\n",
    "# 求解问题\n",
    "result = Solve(prog)\n",
    "\n",
    "# 获取解并存储\n",
    "if result.is_success():\n",
    "    result_submission = result.GetSolution()\n",
    "else:\n",
    "    result_submission = None"
   ]
  },
  {
   "cell_type": "markdown",
   "metadata": {
    "cell_id": "543fa81d8a444630b79a4378cf184102",
    "colab_type": "text",
    "deepnote_cell_type": "markdown",
    "id": "zPmeRLtJk410"
   },
   "source": [
    "## 本 notebook 如何评分？\n",
    "\n",
    "如果你已选课，本 notebook 会通过 [Gradescope](www.gradescope.com) 进行评分。你应该已经在 Piazza 的公告中获得了课程码。\n",
    "\n",
    "提交本作业时，你需要：\n",
    "- 下载并提交 `intro_to_qp.ipynb` 到 Gradescope 的 notebook 提交区，并一同提交其他题目的 notebook。\n",
    "\n",
    "我们会在 notebook 中评测本地函数，检查其行为是否符合预期。本题的评分标准如下：\n",
    "- [4 分] `result_submission` 必须包含 QP 的正确答案。"
   ]
  },
  {
   "cell_type": "markdown",
   "metadata": {
    "cell_id": "34c75899cb0e442eae2e060c2384adb7",
    "colab_type": "text",
    "deepnote_cell_type": "markdown",
    "id": "t4GLP2woecl5"
   },
   "source": [
    "下面是我们的自动评分器，你可以用它来检查你的实现是否正确。"
   ]
  },
  {
   "cell_type": "code",
   "execution_count": 16,
   "metadata": {
    "cell_id": "f75cff76f41044b8b45f6f434042b21f",
    "colab": {},
    "colab_type": "code",
    "deepnote_cell_type": "code",
    "id": "Ea4zI6Enefhx"
   },
   "outputs": [
    {
     "name": "stdout",
     "output_type": "stream",
     "text": [
      "Total score is 4/4.\n",
      "\n",
      "Score for Test Simple QP problem is 4/4.\n"
     ]
    }
   ],
   "source": [
    "from manipulation.exercises.grader import Grader\n",
    "from manipulation.exercises.pick.test_simple_qp import TestSimpleQP\n",
    "\n",
    "Grader.grade_output([TestSimpleQP], [locals()], \"results.json\")\n",
    "Grader.print_test_results(\"results.json\")"
   ]
  }
 ],
 "metadata": {
  "deepnote_notebook_id": "8ad4729770a84748bdd1192ba4e6305b",
  "kernelspec": {
   "display_name": "drake",
   "language": "python",
   "name": "python3"
  },
  "language_info": {
   "codemirror_mode": {
    "name": "ipython",
    "version": 3
   },
   "file_extension": ".py",
   "mimetype": "text/x-python",
   "name": "python",
   "nbconvert_exporter": "python",
   "pygments_lexer": "ipython3",
   "version": "3.10.0"
  }
 },
 "nbformat": "4",
 "nbformat_minor": "0"
}
