{
 "cells": [
  {
   "cell_type": "code",
   "execution_count": 1,
   "metadata": {
    "cell_id": "cb759fbe6d114e54b443ab1c970bd134",
    "colab": {},
    "colab_type": "code",
    "deepnote_cell_type": "code",
    "id": "eeMrMI0-1Dhu"
   },
   "outputs": [],
   "source": [
    "import time  # 导入时间模块\n",
    "\n",
    "import numpy as np  # 导入NumPy库\n",
    "from IPython.display import clear_output  # 导入clear_output用于清除输出\n",
    "from pydrake.all import (\n",
    "    AddMultibodyPlantSceneGraph,  # 添加多体植物和场景图\n",
    "    DiagramBuilder,  # 图构建器\n",
    "    JacobianWrtVariable,  # 雅可比变量类型\n",
    "    MathematicalProgram,  # 数学规划\n",
    "    MeshcatVisualizer,  # Meshcat可视化工具\n",
    "    PiecewisePolynomial,  # 分段多项式\n",
    "    Solve,  # 求解器\n",
    "    StartMeshcat,  # 启动Meshcat\n",
    ")\n",
    "\n",
    "from manipulation import running_as_notebook  # 判断是否在notebook中运行\n",
    "from manipulation.meshcat_utils import plot_mathematical_program  # 绘制数学规划\n",
    "from manipulation.scenarios import AddTwoLinkIiwa  # 添加双连杆Iiwa机器人\n",
    "\n",
    "\n",
    "# 这个函数是本notebook特有的，但我把它放在头部以减少干扰。\n",
    "def Visualizer(MakeMathematicalProgram):\n",
    "    builder = DiagramBuilder()  # 创建图构建器\n",
    "\n",
    "    plant, scene_graph = AddMultibodyPlantSceneGraph(builder, time_step=0.0)  # 添加多体植物和场景图\n",
    "    twolink = AddTwoLinkIiwa(plant, q0=[0.0, 0.0])  # 添加双连杆Iiwa，初始角度为[0, 0]\n",
    "    hand = plant.GetFrameByName(\"iiwa_link_ee\")  # 获取末端执行器的frame\n",
    "    plant.Finalize()  # 完成plant的构建\n",
    "\n",
    "    MeshcatVisualizer.AddToBuilder(builder, scene_graph, meshcat)  # 添加Meshcat可视化\n",
    "    diagram = builder.Build()  # 构建图\n",
    "    context = diagram.CreateDefaultContext()  # 创建默认上下文\n",
    "    plant_context = plant.GetMyContextFromRoot(context)  # 获取plant的上下文\n",
    "\n",
    "    meshcat.Delete()  # 清空Meshcat\n",
    "    meshcat.SetProperty(\"/Background\", \"top_color\", [0, 0, 0])  # 设置背景顶部颜色为黑色\n",
    "    meshcat.SetProperty(\"/Background\", \"bottom_color\", [0, 0, 0])  # 设置背景底部颜色为黑色\n",
    "    meshcat.SetProperty(\"/Grid\", \"visible\", False)  # 隐藏网格\n",
    "\n",
    "    X, Y = np.meshgrid(np.linspace(-5, 5, 35), np.linspace(-5, 5, 31))  # 创建网格\n",
    "\n",
    "    def visualize(q, v_Gdesired=[1.0, 0.0], t=None):\n",
    "        if t:\n",
    "            context.SetTime(t)  # 设置仿真时间\n",
    "        plant.SetPositions(plant_context, q)  # 设置关节位置\n",
    "        diagram.ForcedPublish(context)  # 强制刷新可视化\n",
    "\n",
    "        J_G = plant.CalcJacobianTranslationalVelocity(\n",
    "            plant_context,\n",
    "            JacobianWrtVariable.kQDot,\n",
    "            hand,\n",
    "            [0, 0, 0],\n",
    "            plant.world_frame(),\n",
    "            plant.world_frame(),\n",
    "        )\n",
    "        J_G = J_G[[0, 2], :]  # 忽略Y方向，只取X和Z\n",
    "        print(\"J_G = \")\n",
    "        print(np.array2string(J_G, formatter={\"float\": lambda x: \"{:5.2f}\".format(x)}))\n",
    "\n",
    "        prog = MakeMathematicalProgram(q, J_G, v_Gdesired)  # 构建数学规划问题\n",
    "        result = Solve(prog)  # 求解数学规划\n",
    "        plot_mathematical_program(meshcat, \"QP\", prog, X, Y, result=result)  # 可视化QP解\n",
    "        # TODO: 添加set_object到meshcat.Animation\n",
    "        if False:  # meshcat._is_recording:\n",
    "            with meshcat._animation.at_frame(v, meshcat._recording_frame_num) as m:\n",
    "                plot_mathematical_program(m, prog, X, Y, result=result)\n",
    "        clear_output(wait=True)  # 清除输出，便于动态刷新\n",
    "\n",
    "    return visualize  # 返回可视化函数"
   ]
  },
  {
   "cell_type": "code",
   "execution_count": 2,
   "metadata": {
    "cell_id": "3439acb9a0064e6f984d1bfd23b20549",
    "deepnote_cell_type": "code"
   },
   "outputs": [
    {
     "name": "stderr",
     "output_type": "stream",
     "text": [
      "INFO:drake:Meshcat listening for connections at http://localhost:7003\n"
     ]
    }
   ],
   "source": [
    "# 启动可视化工具。\n",
    "meshcat = StartMeshcat()"
   ]
  },
  {
   "cell_type": "markdown",
   "metadata": {
    "cell_id": "bfceff42ae1e475483cf1030c7db0f92",
    "colab_type": "text",
    "deepnote_cell_type": "markdown",
    "id": "hSeD3PBotJUU"
   },
   "source": [
    "# 将微分逆运动学表示为二次规划（QP）\n",
    " \n",
    "## 在此处定义你的数学规划问题。\n"
   ]
  },
  {
   "cell_type": "code",
   "execution_count": 3,
   "metadata": {
    "cell_id": "bdbc6282fecd43cc855cb5cc2d3dead6",
    "colab": {},
    "colab_type": "code",
    "deepnote_cell_type": "code",
    "id": "6F_KZoc1QDkY",
    "tags": []
   },
   "outputs": [],
   "source": [
    "def MakeMathematicalProgram(q, J_G, v_Gdesired):\n",
    "    prog = MathematicalProgram()  # 创建数学规划对象\n",
    "    v = prog.NewContinuousVariables(2, \"v\")  # 新建2个连续变量v\n",
    "    v_max = 3.0  # 最大速度约束\n",
    "\n",
    "    error = J_G @ v - np.asarray(v_Gdesired)  # 误差项\n",
    "    prog.AddCost(error.dot(error))  # 添加二次型代价\n",
    "    prog.AddBoundingBoxConstraint(-v_max, v_max, v)  # 添加速度上下界约束\n",
    "\n",
    "    return prog  # 返回数学规划对象"
   ]
  },
  {
   "cell_type": "markdown",
   "metadata": {
    "cell_id": "d983a25ffe2a480b8ebcb5a9a7443a5a",
    "colab_type": "text",
    "deepnote_cell_type": "markdown",
    "id": "4i4xIYtmrIa-"
   },
   "source": [
    "## 可视化某一组关节角"
   ]
  },
  {
   "cell_type": "code",
   "execution_count": 4,
   "metadata": {
    "cell_id": "56baefc6fedc43b583e0b9c2d92873c3",
    "colab": {},
    "colab_type": "code",
    "deepnote_cell_type": "code",
    "id": "CM9vi0TtrIa_",
    "tags": []
   },
   "outputs": [
    {
     "name": "stderr",
     "output_type": "stream",
     "text": [
      "WARNING:drake:/home/lvxiangyu11/miniconda3/envs/drake/lib/python3.10/site-packages/manipulation/models/two_link_iiwa14.urdf:86: warning: The tag 'safety_controller' found as a child of 'joint' is currently unsupported and will be ignored.\n",
      "WARNING:drake:/home/lvxiangyu11/miniconda3/envs/drake/lib/python3.10/site-packages/manipulation/models/two_link_iiwa14.urdf:232: warning: The tag 'safety_controller' found as a child of 'joint' is currently unsupported and will be ignored.\n"
     ]
    },
    {
     "name": "stdout",
     "output_type": "stream",
     "text": [
      "J_G = \n",
      "[[-0.05  0.25]\n",
      " [ 0.83 -0.46]]\n"
     ]
    }
   ],
   "source": [
    "visualize = Visualizer(MakeMathematicalProgram)  # 获取可视化函数\n",
    "\n",
    "q = [-np.pi / 2.0 + 0.5, 1.0]  # 关节角\n",
    "v_Gdesired = [0.5, 0.0]  # 期望末端速度\n",
    "visualize(q, v_Gdesired)  # 可视化"
   ]
  },
  {
   "cell_type": "markdown",
   "metadata": {
    "cell_id": "d363614c53964482900596ef84d40911",
    "colab_type": "text",
    "deepnote_cell_type": "markdown",
    "id": "ttJ90nfLrIbD"
   },
   "source": [
    "## 动画关节轨迹（穿越奇异点）"
   ]
  },
  {
   "cell_type": "code",
   "execution_count": 6,
   "metadata": {
    "cell_id": "953c462b6ced47d59601efdef978a53b",
    "colab": {},
    "colab_type": "code",
    "deepnote_cell_type": "code",
    "id": "ugsWyLNOrIbE",
    "tags": []
   },
   "outputs": [
    {
     "name": "stdout",
     "output_type": "stream",
     "text": [
      "J_G = \n",
      "[[-0.09  0.44]\n",
      " [ 0.51 -0.28]]\n"
     ]
    }
   ],
   "source": [
    "visualize = Visualizer(MakeMathematicalProgram)  # 获取可视化函数\n",
    "\n",
    "v_Gdesired = [1.0, 0.0]  # 期望末端速度\n",
    "T = 2.0  # 时间长度\n",
    "q = PiecewisePolynomial.FirstOrderHold(\n",
    "    [0, T, 2 * T],\n",
    "    np.array([\n",
    "        [-np.pi / 2.0 + 1.0, -np.pi / 2.0 - 1.0, -np.pi / 2.0 + 1.0],\n",
    "        [2.0, -2.0, 2],\n",
    "    ]),\n",
    ")\n",
    "\n",
    "nx = 35\n",
    "ny = 31\n",
    "X, Y = np.meshgrid(np.linspace(-5, 5, nx), np.linspace(-5, 5, ny))\n",
    "D = np.vstack((X.reshape(1, -1), Y.reshape(1, -1)))\n",
    "for i in range(2):\n",
    "    for t in np.linspace(0, 2 * T, num=100):\n",
    "        visualize(q.value(t), v_Gdesired, t=t)  # 动画显示\n",
    "        if not running_as_notebook:\n",
    "            break\n",
    "        time.sleep(0.05)"
   ]
  },
  {
   "cell_type": "markdown",
   "metadata": {
    "cell_id": "0762a7e450ff4fa7a27ca1d70952e468",
    "colab_type": "text",
    "deepnote_cell_type": "markdown",
    "id": "GPayCPx7rIbI"
   },
   "source": [
    "## 轨迹滑块\n",
    " \n",
    "TODO(russt)：一旦我能在meshcat动画中保存绘制的表面，就可以移除此部分。"
   ]
  },
  {
   "cell_type": "code",
   "execution_count": 19,
   "metadata": {
    "cell_id": "7ee7814255414f70827b92e51c900fc3",
    "colab": {},
    "colab_type": "code",
    "deepnote_cell_type": "code",
    "id": "KbPqBtd2rIbJ",
    "tags": []
   },
   "outputs": [
    {
     "name": "stdout",
     "output_type": "stream",
     "text": [
      "J_G = \n",
      "[[-0.09  0.44]\n",
      " [ 0.51 -0.28]]\n"
     ]
    }
   ],
   "source": [
    "visualize = Visualizer(MakeMathematicalProgram)  # 获取可视化函数\n",
    "\n",
    "v_Gdesired = [1.0, 0.0]  # 期望末端速度\n",
    "T = 2.0  # 时间长度\n",
    "qtraj = PiecewisePolynomial.FirstOrderHold(\n",
    "    [0, T], np.array([[-np.pi / 2.0 + 1.0, -np.pi / 2.0 - 1.0], [2.0, -2.0]])\n",
    ")\n",
    "visualize(qtraj.value(0), v_Gdesired)  # 初始可视化\n",
    "\n",
    "meshcat.AddSlider(\"time\", min=0, max=T, step=0.05, value=0)  # 添加时间滑块\n",
    "meshcat.AddButton(\"Stop Interaction Loop\")  # 添加停止按钮\n",
    "while meshcat.GetButtonClicks(\"Stop Interaction Loop\") < 1:\n",
    "    t = meshcat.GetSliderValue(\"time\")  # 获取当前滑块值\n",
    "    visualize(qtraj.value(t), v_Gdesired)  # 动态可视化\n",
    "    if not running_as_notebook:\n",
    "        break\n",
    "    time.sleep(0.05)\n",
    "meshcat.DeleteAddedControls()  # 删除控件"
   ]
  },
  {
   "cell_type": "markdown",
   "metadata": {
    "cell_id": "6b62488e45074c27acfda3e16b3d5b19",
    "colab_type": "text",
    "deepnote_cell_type": "markdown",
    "id": "DNhK1DCOrIbO"
   },
   "source": [
    "## 关节滑块"
   ]
  },
  {
   "cell_type": "code",
   "execution_count": 20,
   "metadata": {
    "cell_id": "a6ff101c0edf43ef92cdb13225a2f66d",
    "colab": {},
    "colab_type": "code",
    "deepnote_cell_type": "code",
    "id": "Kn4igrtmrIbO",
    "tags": []
   },
   "outputs": [
    {
     "ename": "KeyboardInterrupt",
     "evalue": "",
     "output_type": "error",
     "traceback": [
      "\u001b[0;31m---------------------------------------------------------------------------\u001b[0m",
      "\u001b[0;31mKeyboardInterrupt\u001b[0m                         Traceback (most recent call last)",
      "Cell \u001b[0;32mIn[20], line 33\u001b[0m\n\u001b[1;32m     31\u001b[0m     \u001b[38;5;28;01mif\u001b[39;00m \u001b[38;5;129;01mnot\u001b[39;00m running_as_notebook:\n\u001b[1;32m     32\u001b[0m         \u001b[38;5;28;01mbreak\u001b[39;00m\n\u001b[0;32m---> 33\u001b[0m     \u001b[43mtime\u001b[49m\u001b[38;5;241;43m.\u001b[39;49m\u001b[43msleep\u001b[49m\u001b[43m(\u001b[49m\u001b[38;5;241;43m0.05\u001b[39;49m\u001b[43m)\u001b[49m\n\u001b[1;32m     34\u001b[0m meshcat\u001b[38;5;241m.\u001b[39mDeleteAddedControls()  \u001b[38;5;66;03m# 删除控件\u001b[39;00m\n",
      "\u001b[0;31mKeyboardInterrupt\u001b[0m: "
     ]
    }
   ],
   "source": [
    "visualize = Visualizer(MakeMathematicalProgram)  # 获取可视化函数\n",
    "\n",
    "q = [-np.pi / 2.0 + 0.5, 1.0]  # 初始关节角\n",
    "v_Gdesired = [1.0, 0.0]  # 期望末端速度\n",
    "visualize(q, v_Gdesired)  # 初始可视化\n",
    "\n",
    "\n",
    "def _q_callback(change, index):\n",
    "    q[index] = change.new\n",
    "    visualize(q, v_Gdesired)\n",
    "\n",
    "\n",
    "def _vG_callback(change, index):\n",
    "    v_Gdesired[index] = change.new\n",
    "    visualize(q, v_Gdesired)\n",
    "\n",
    "\n",
    "meshcat.AddSlider(\"q0\", value=q[0], min=-np.pi, max=np.pi, step=0.1)  # 添加q0滑块\n",
    "meshcat.AddSlider(\"q1\", value=q[1], min=-np.pi, max=np.pi, step=0.1)  # 添加q1滑块\n",
    "meshcat.AddSlider(\"v_G_W0\", value=v_Gdesired[0], min=-4, max=4, step=0.1)  # 添加末端速度X滑块\n",
    "meshcat.AddSlider(\"v_G_W1\", value=v_Gdesired[1], min=-4, max=4, step=0.1)  # 添加末端速度Z滑块\n",
    "\n",
    "meshcat.AddButton(\"Stop Interaction Loop\")  # 添加停止按钮\n",
    "while meshcat.GetButtonClicks(\"Stop Interaction Loop\") < 1:\n",
    "    q = [meshcat.GetSliderValue(\"q0\"), meshcat.GetSliderValue(\"q1\")]  # 获取当前关节角\n",
    "    v_Gdesired = [\n",
    "        meshcat.GetSliderValue(\"v_G_W0\"),\n",
    "        meshcat.GetSliderValue(\"v_G_W1\"),\n",
    "    ]  # 获取当前末端速度\n",
    "    visualize(q, v_Gdesired)  # 动态可视化\n",
    "    if not running_as_notebook:\n",
    "        break\n",
    "    time.sleep(0.05)\n",
    "meshcat.DeleteAddedControls()  # 删除控件"
   ]
  },
  {
   "cell_type": "code",
   "execution_count": null,
   "metadata": {
    "cell_id": "1fbf492b2eba45699dc1d4bd656ecf33",
    "deepnote_cell_type": "code"
   },
   "outputs": [],
   "source": []
  }
 ],
 "metadata": {
  "deepnote_notebook_id": "2b455d0d95604d37aa6bac595c3e72a2",
  "kernelspec": {
   "display_name": "drake",
   "language": "python",
   "name": "python3"
  },
  "language_info": {
   "codemirror_mode": {
    "name": "ipython",
    "version": 3
   },
   "file_extension": ".py",
   "mimetype": "text/x-python",
   "name": "python",
   "nbconvert_exporter": "python",
   "pygments_lexer": "ipython3",
   "version": "3.10.0"
  }
 },
 "nbformat": "4",
 "nbformat_minor": "0"
}
