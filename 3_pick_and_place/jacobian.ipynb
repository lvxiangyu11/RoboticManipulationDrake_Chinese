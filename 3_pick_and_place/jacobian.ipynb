{
 "cells": [
  {
   "cell_type": "markdown",
   "metadata": {
    "cell_id": "e846559b4e0245d7bd76fd1d3d8c54e2",
    "colab_type": "text",
    "deepnote_cell_type": "markdown",
    "id": "EgiF12Hf1Dhs"
   },
   "source": [
    "本笔记本为[教科书](http://manipulation.csail.mit.edu/pick.html)提供了配套示例。建议将两个窗口并排打开！"
   ]
  },
  {
   "cell_type": "code",
   "execution_count": 1,
   "metadata": {
    "cell_id": "5f60a28848a44f1a88c22eb2c3da09c0",
    "colab": {},
    "colab_type": "code",
    "deepnote_cell_type": "code",
    "id": "eeMrMI0-1Dhu"
   },
   "outputs": [],
   "source": [
    "import numpy as np\n",
    "from IPython.display import clear_output\n",
    "from pydrake.all import (\n",
    "    AddMultibodyPlantSceneGraph,  # 添加多体系统和场景图\n",
    "    DiagramBuilder,               # 系统图构建器\n",
    "    JacobianWrtVariable,          # 雅可比变量类型\n",
    "    JointSliders,                 # 关节滑块控件\n",
    "    LeafSystem,                   # 叶系统基类\n",
    "    MeshcatVisualizer,            # Meshcat 可视化工具\n",
    "    Parser,                       # 解析器\n",
    "    StartMeshcat,                 # 启动 Meshcat\n",
    ")\n",
    "\n",
    "from manipulation import ConfigureParser, running_as_notebook  # 导入自定义解析器配置和 notebook 检测"
   ]
  },
  {
   "cell_type": "code",
   "execution_count": 3,
   "metadata": {
    "cell_id": "606685302a9341f6ae6b9708ab33095a",
    "deepnote_cell_type": "code"
   },
   "outputs": [
    {
     "name": "stderr",
     "output_type": "stream",
     "text": [
      "INFO:drake:Meshcat listening for connections at http://localhost:7001\n"
     ]
    }
   ],
   "source": [
    "# 启动可视化工具。\n",
    "meshcat = StartMeshcat()"
   ]
  },
  {
   "cell_type": "markdown",
   "metadata": {
    "cell_id": "d223bf2e5ab542edac983d11f3b2f9ab",
    "colab_type": "text",
    "deepnote_cell_type": "markdown",
    "id": "wSa5QcU0Piak"
   },
   "source": [
    "# 拣选与放置的运动学雅可比矩阵\n",
    "\n",
    "让我们设置与上面相同的 iiwa + wsg 示例，带有滑块（但没有坐标系），这次我将展示雅可比矩阵 $J^G(q)$ 的值。"
   ]
  },
  {
   "cell_type": "code",
   "execution_count": null,
   "metadata": {
    "cell_id": "0d59ef6bfba54a96a61a45fec3dfc739",
    "colab": {},
    "colab_type": "code",
    "deepnote_cell_type": "code",
    "id": "5SjOClhTltPk"
   },
   "outputs": [
    {
     "name": "stdout",
     "output_type": "stream",
     "text": [
      "J_G:\n",
      "[[ 0.00  0.99  0.08  0.15  0.07 -0.11 -0.23  0.00  0.00]\n",
      " [ 0.00 -0.12  0.64  0.75  0.64 -0.76  0.65  0.00  0.00]\n",
      " [ 1.00  0.00  0.76 -0.64  0.76  0.64  0.72  0.00  0.00]\n",
      " [-0.62 -0.09 -0.01  0.56 -0.01 -0.16  0.00  0.00  0.00]\n",
      " [ 0.02 -0.73 -0.04 -0.06 -0.04 -0.01  0.00  0.00  0.00]\n",
      " [ 0.00  0.62  0.04  0.06  0.03 -0.04  0.00  0.00  0.00]]\n",
      "J_G 的最小奇异值: 0.0013850199244189875\n"
     ]
    }
   ],
   "source": [
    "class PrintJacobian(LeafSystem):\n",
    "    def __init__(self, plant, frame):\n",
    "        LeafSystem.__init__(self)\n",
    "        self._plant = plant\n",
    "        self._plant_context = plant.CreateDefaultContext()\n",
    "        self._frame = frame\n",
    "        self.DeclareVectorInputPort(\"state\", plant.num_multibody_states())\n",
    "        self.DeclareForcedPublishEvent(self.Publish)\n",
    "\n",
    "    def Publish(self, context):\n",
    "        state = self.get_input_port().Eval(context)\n",
    "        self._plant.SetPositionsAndVelocities(self._plant_context, state)\n",
    "        W = self._plant.world_frame()\n",
    "        J_G = self._plant.CalcJacobianSpatialVelocity(\n",
    "            self._plant_context,\n",
    "            JacobianWrtVariable.kQDot, # 这里指定雅可比矩阵相对于关节速度，如果设置为 kV 则表示相对于速度\n",
    "            self._frame,\n",
    "            [0, 0, 0], # 从 frame_B 原点 Bo 指向点 Bp 的向量（在 frame_B 中表达）。\n",
    "            W,  # 用于测量 Bp 速度的参考坐标系。\n",
    "            W,  # 输出的速度和雅可比矩阵所表达的坐标系。\n",
    "        )  # 这行是关键\n",
    "\n",
    "        print(\"J_G:\")\n",
    "        print(np.array2string(J_G, formatter={\"float\": lambda x: \"{:5.2f}\".format(x)}))\n",
    "        print(\n",
    "            f\"J_G 的最小奇异值: {np.min(np.linalg.svd(J_G, compute_uv=False))}\"\n",
    "        )\n",
    "        clear_output(wait=True)\n",
    "\n",
    "\n",
    "def pick_and_place_jacobians_example():\n",
    "    builder = DiagramBuilder()\n",
    "\n",
    "    plant, scene_graph = AddMultibodyPlantSceneGraph(builder, time_step=0)\n",
    "    parser = Parser(plant)\n",
    "    ConfigureParser(parser)\n",
    "    parser.AddModelsFromUrl(\"package://manipulation/iiwa_and_wsg.dmd.yaml\")\n",
    "    plant.Finalize()\n",
    "\n",
    "    meshcat.Delete()\n",
    "    visualizer = MeshcatVisualizer.AddToBuilder(\n",
    "        builder, scene_graph.get_query_output_port(), meshcat\n",
    "    )\n",
    "\n",
    "    G = plant.GetBodyByName(\"body\").body_frame()\n",
    "    print_jacobian = builder.AddSystem(PrintJacobian(plant, G))\n",
    "    builder.Connect(plant.get_state_output_port(), print_jacobian.get_input_port())\n",
    "\n",
    "    # 如果你想手动设置初始位置，可以使用如下代码：\n",
    "    # plant.SetPositions(plant.GetMyContextFromRoot(context),\n",
    "    #                   plant.GetModelInstanceByName(\"iiwa\"),\n",
    "    #                   [0, 0, 0, 0, 0, 0, 0])\n",
    "\n",
    "    default_interactive_timeout = None if running_as_notebook else 1.0\n",
    "    sliders = builder.AddSystem(JointSliders(meshcat, plant))\n",
    "    diagram = builder.Build()\n",
    "    sliders.Run(diagram, default_interactive_timeout)\n",
    "    meshcat.DeleteAddedControls()\n",
    "\n",
    "\n",
    "meshcat.DeleteAddedControls()\n",
    "pick_and_place_jacobians_example()"
   ]
  },
  {
   "cell_type": "code",
   "execution_count": null,
   "metadata": {
    "cell_id": "79b271b54e69490193f8c65608ec26a7",
    "deepnote_cell_type": "code"
   },
   "outputs": [],
   "source": []
  }
 ],
 "metadata": {
  "deepnote_notebook_id": "940d829f19a348fd9c3222623d514a62",
  "kernelspec": {
   "display_name": "drake",
   "language": "python",
   "name": "python3"
  },
  "language_info": {
   "codemirror_mode": {
    "name": "ipython",
    "version": 3
   },
   "file_extension": ".py",
   "mimetype": "text/x-python",
   "name": "python",
   "nbconvert_exporter": "python",
   "pygments_lexer": "ipython3",
   "version": "3.10.0"
  }
 },
 "nbformat": "4",
 "nbformat_minor": "0"
}
