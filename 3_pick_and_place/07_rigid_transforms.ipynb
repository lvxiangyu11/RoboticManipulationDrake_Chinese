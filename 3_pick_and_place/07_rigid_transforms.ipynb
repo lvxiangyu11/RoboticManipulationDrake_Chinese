{
 "cells": [
  {
   "cell_type": "markdown",
   "metadata": {
    "cell_id": "0a94ae8701dc4ff4ae1121bb16943082",
    "colab_type": "text",
    "deepnote_cell_type": "markdown",
    "id": "c9GoM16F7I7Z"
   },
   "source": [
    "# 刚体变换练习题"
   ]
  },
  {
   "cell_type": "code",
   "execution_count": 21,
   "metadata": {
    "cell_id": "b9324d41cec2482c8b70a3b17e0e8f48",
    "colab": {},
    "colab_type": "code",
    "deepnote_cell_type": "code",
    "id": "xyZz8R16E9jZ"
   },
   "outputs": [],
   "source": [
    "# python libraries\n",
    "import numpy as np\n",
    "from pydrake.all import RigidTransform, RotationMatrix"
   ]
  },
  {
   "cell_type": "markdown",
   "metadata": {
    "cell_id": "3fd0f2e8ba89420e91224b36038c8feb",
    "colab_type": "text",
    "deepnote_cell_type": "markdown",
    "id": "EvOQi_xQE9kY"
   },
   "source": [
    "# 问题描述\n",
    "\n",
    "在课堂上，我们学习了空间变换的基础知识。本练习将应用你在课堂上学到的规则来计算简单的刚体变换。\n",
    "\n",
    "**本练习的主要步骤如下：**\n",
    "\n",
    "1. 计算不同参考系下的刚体变换。\n",
    "\n",
    "2. 利用空间变换设计抓取位姿。"
   ]
  },
  {
   "cell_type": "markdown",
   "metadata": {
    "cell_id": "9d7ac0468a594716af3957cdd0721ba4",
    "colab_type": "text",
    "deepnote_cell_type": "markdown",
    "id": "L-1Ad6xYQ2aK"
   },
   "source": [
    "# 刚体变换练习\n",
    "\n",
    "简要回顾一下，我们在[课堂](http://manipulation.csail.mit.edu/pick.html#spatial_algebra)上介绍了空间变换的两条规则。\n",
    "\n",
    "$${^AX^B} {^BX^C} = {^AX^C},$$\n",
    "\n",
    "$$[^AX^B]^{-1} = {^BX^A}.$$\n",
    "\n",
    "请注意，变换的规则基于下述位置和旋转的变换规则。\n",
    "\n",
    "同一坐标系下位置的加法：\n",
    "\n",
    "$$^Ap^B_F + ^Bp^C_F = ^Ap^C_F.$$\n",
    "\n",
    "加法逆元：\n",
    "\n",
    "$$^Ap^B_F = - ^Bp^A_F.$$\n",
    "\n",
    "点的旋转：\n",
    "\n",
    "$$^Ap^B_G = {^GR^F} ^Ap^B_F.$$\n",
    "\n",
    "旋转的链式法则：\n",
    "\n",
    "$${^AR^B} {^BR^C} = {^AR^C}.$$\n",
    "\n",
    "旋转的逆：\n",
    "\n",
    "$$[^AR^B]^{-1} = {^BR^A}.$$\n",
    "\n",
    "应用这些规则将得到与前述两条规则相同的结果。\n",
    "\n",
    "在Drake中，你可以通过如下方式相乘刚体变换：\n",
    "\n",
    "```python\n",
    "\n",
    "X_AB.multiply(X_BC)\n",
    "\n",
    "X_AB @ X_BC\n",
    "\n",
    "```\n",
    "\n",
    "你也可以通过[inverse](https://drake.mit.edu/pydrake/pydrake.math.html?highlight=rigidtransform#pydrake.math.RigidTransform.inverse)方法对刚体变换取逆：\n",
    "\n",
    "```python\n",
    "\n",
    "X_AB.inverse()\n",
    "\n",
    "```"
   ]
  },
  {
   "cell_type": "markdown",
   "metadata": {
    "cell_id": "d981283183ab4ad19a940e98174a4124",
    "colab_type": "text",
    "deepnote_cell_type": "markdown",
    "id": "Ceqhp3vWZpzx"
   },
   "source": [
    "现在假设你有4个坐标系，分别为世界坐标系、A坐标系、B坐标系和C坐标系，定义如下：\n",
    "\n",
    "-- A坐标系在世界坐标系中的表达（`X_WA`）\n",
    "\n",
    "-- B坐标系在A坐标系中的表达（`X_AB`）\n",
    "\n",
    "-- B坐标系在C坐标系中的表达（`X_CB`）\n",
    "\n",
    "**请在下方指定的函数中填写代码，计算以下变换：**\n",
    "\n",
    "(1) `X_WB`，即B坐标系在世界坐标系中的表达\n",
    "\n",
    "(2) `X_CW`，即世界坐标系在C坐标系中的表达"
   ]
  },
  {
   "cell_type": "code",
   "execution_count": 22,
   "metadata": {
    "cell_id": "012942b85cd54848be44d60217fb3767",
    "colab": {},
    "colab_type": "code",
    "deepnote_cell_type": "code",
    "id": "FDPul5bRZpzy"
   },
   "outputs": [],
   "source": [
    "def compute_X_WB(X_WA, X_AB, X_CB):\n",
    "    \"\"\"\n",
    "    计算B坐标系在世界坐标系下的表达\n",
    "    \"\"\"\n",
    "    X_WB = X_WA @ X_AB\n",
    "    return X_WB\n"
   ]
  },
  {
   "cell_type": "code",
   "execution_count": 23,
   "metadata": {
    "cell_id": "c0adb824514249948cea5b1a6bc60f37",
    "colab": {},
    "colab_type": "code",
    "deepnote_cell_type": "code",
    "id": "xJQ1vThXZpz6"
   },
   "outputs": [],
   "source": [
    "def compute_X_CW(X_WA, X_AB, X_CB):\n",
    "    \"\"\"\n",
    "    计算世界坐标系在C坐标系下的表达\n",
    "    \"\"\"\n",
    "    X_WB = X_WA @ X_AB\n",
    "    X_BC = X_CB.inverse()\n",
    "    X_WC = X_WB @ X_BC\n",
    "    X_CW = X_WC.inverse()\n",
    "    return X_CW\n"
   ]
  },
  {
   "cell_type": "markdown",
   "metadata": {
    "cell_id": "973a908274f14b48a8f573546495a762",
    "colab_type": "text",
    "deepnote_cell_type": "markdown",
    "id": "3DJxbaN6wjMw"
   },
   "source": [
    "# 设计抓取位姿\n",
    "\n",
    "抓取位姿通常在物体坐标系下定义，这样抓取位姿${^OX^G}$就与物体的姿态无关。抓取位姿在世界坐标系下可以通过如下公式计算：\n",
    "\n",
    "$${{^WX^G} = {}{^W}X^{O}} {^OX^G},$$\n",
    "\n",
    "其中$W$表示世界坐标系，$G$表示抓取器坐标系，遵循教材中的惯例。\n",
    "\n",
    "你应该从下方的可视化中注意到，夹爪坐标系与世界坐标系不同。特别地，夹爪坐标系的+y轴竖直向下，+z轴朝向后方。这是本题的重要观察点。"
   ]
  },
  {
   "cell_type": "markdown",
   "metadata": {
    "cell_id": "1c53eab05e9c4fe5976c3201530548c8",
    "colab_type": "text",
    "deepnote_cell_type": "markdown",
    "id": "o-5gZ-jPJJ-9"
   },
   "source": [
    "**现在请根据下图中夹爪和物体的朝向，设计一个满足以下条件的抓取位姿：**\n",
    "\n",
    "- **夹爪的位置应在世界坐标系下高于目标物体中心0.02个单位**\n",
    "\n",
    "- **夹爪的z轴与物体的x轴对齐**\n",
    "\n",
    "- **夹爪的x轴与物体的z轴对齐**\n",
    "\n",
    "- **请分别在物体坐标系和世界坐标系下写出抓取位姿**\n",
    "\n",
    "**请记住：X轴为红色，Y轴为绿色，Z轴为蓝色。**"
   ]
  },
  {
   "cell_type": "markdown",
   "metadata": {
    "cell_id": "c567888972dd4e9881d07cabcb28b92f",
    "colab_type": "text",
    "deepnote_cell_type": "markdown",
    "id": "txN1Mlk5MTjl"
   },
   "source": [
    "<img src=\"https://raw.githubusercontent.com/RussTedrake/manipulation/master/book/figures/exercises/grasp_pose_design.png\" width=\"500\">\n",
    "\n"
   ]
  },
  {
   "cell_type": "code",
   "execution_count": 34,
   "metadata": {
    "cell_id": "ab0ec8ed3edf4882a26f839a3a2d4be3",
    "colab": {},
    "colab_type": "code",
    "deepnote_cell_type": "code",
    "id": "ju-etoLzJ5zz"
   },
   "outputs": [],
   "source": [
    "# 建立如上图所示物体在世界坐标系下的位姿。\n",
    "p0_WO = [0.5, 0.1, 0]  # 物体在世界坐标系下的位置\n",
    "R0_WO = RotationMatrix.MakeZRotation(-np.pi / 2)\n",
    "R0_WO = R0_WO.multiply(RotationMatrix.MakeXRotation(np.pi / 2))\n",
    "X_WO = RigidTransform(R0_WO, p0_WO)\n"
   ]
  },
  {
   "cell_type": "code",
   "execution_count": null,
   "metadata": {
    "cell_id": "b4a2133de3fd4f2f81d1a415fcc4a7db",
    "colab": {},
    "colab_type": "code",
    "deepnote_cell_type": "code",
    "id": "84Po2q-MOLcJ"
   },
   "outputs": [],
   "source": [
    "def design_grasp_pose(X_WO):\n",
    "    \"\"\"\n",
    "    设计抓取位姿\n",
    "    \"\"\"\n",
    "    R_OG = RotationMatrix(np.array([\n",
    "        [-1, 0, 0],   # x_G: 物体-x轴\n",
    "        [0, -1, 0],   # y_G: 物体-y轴 (尝试正方向)\n",
    "        [0, 0, 1]    # z_G: 物体z轴\n",
    "    ]))\n",
    "    p_OG = np.array([0, 0, 0.02])\n",
    "    X_OG = RigidTransform(R_OG, p_OG)\n",
    "    X_WG = X_WO @ X_OG\n",
    "    return X_OG, X_WG\n"
   ]
  },
  {
   "cell_type": "markdown",
   "metadata": {
    "cell_id": "1a663dbae1c54549b94d721c661f3cf9",
    "colab_type": "text",
    "deepnote_cell_type": "markdown",
    "id": "zPmeRLtJk410"
   },
   "source": [
    "**完成后，请运行下方的测试单元，确保一切正常！**"
   ]
  },
  {
   "cell_type": "code",
   "execution_count": 38,
   "metadata": {
    "cell_id": "2922e47de91745149c9e0570697df610",
    "colab": {},
    "colab_type": "code",
    "deepnote_cell_type": "code",
    "id": "T2PwWuqT_O3r"
   },
   "outputs": [
    {
     "name": "stdout",
     "output_type": "stream",
     "text": [
      "Total score is 2/4.\n",
      "\n",
      "Score for Testing X_CW is 1/1.\n",
      "\n",
      "Score for Testing X_WB is 1/1.\n",
      "\n",
      "Score for Testing grasp pose is 0/2.\n",
      "- Test Failed: False is not true\n",
      "\n"
     ]
    }
   ],
   "source": [
    "from manipulation.exercises.grader import Grader\n",
    "from manipulation.exercises.pick.test_rigid_transforms import TestRigidTransforms\n",
    "\n",
    "Grader.grade_output([TestRigidTransforms], [locals()], \"results.json\")\n",
    "Grader.print_test_results(\"results.json\")"
   ]
  },
  {
   "cell_type": "markdown",
   "metadata": {
    "cell_id": "c017a38e3db544009b05726f48322384",
    "deepnote_cell_type": "markdown"
   },
   "source": [
    "# GRADESCOPE 验证\n",
    "\n",
    "运行下方单元格，并将你的答案（保留4位小数）复制粘贴到Gradescope。"
   ]
  },
  {
   "cell_type": "code",
   "execution_count": 27,
   "metadata": {
    "cell_id": "672b5eb98159427bab0ff0d2c6e88f48",
    "deepnote_cell_type": "code"
   },
   "outputs": [],
   "source": [
    "X_WA = RigidTransform([0.1, 0.2, 0.3])\n",
    "X_AB = RigidTransform(\n",
    "    RotationMatrix.MakeXRotation(np.pi / 2), np.array([-0.1, 0.4, 0.5])\n",
    ")\n",
    "X_CB = RigidTransform(\n",
    "    RotationMatrix(np.array([[0, 0, 1], [0, -1, 0], [1, 0, 0]])),\n",
    "    np.array([0.0, 0.0, 0.4]),\n",
    ")"
   ]
  },
  {
   "cell_type": "markdown",
   "metadata": {
    "cell_id": "6ccd26473c2d4e04ac9748585ed6b344",
    "deepnote_cell_type": "markdown"
   },
   "source": [
    "## Verification 1: `compute_X_WB`\n",
    "**Question:** What is the z-position of frame `B` relative to frame `W`"
   ]
  },
  {
   "cell_type": "code",
   "execution_count": 28,
   "metadata": {
    "cell_id": "c81da9d65282442b97c61308e5d5b3fe",
    "deepnote_cell_type": "code"
   },
   "outputs": [
    {
     "name": "stdout",
     "output_type": "stream",
     "text": [
      "0.8\n"
     ]
    }
   ],
   "source": [
    "print(f\"{compute_X_WB(X_WA, X_AB, X_CB).GetAsMatrix4()[2, 3].item()}\")"
   ]
  },
  {
   "cell_type": "markdown",
   "metadata": {
    "cell_id": "4312afe48b4e4db89f8157d227f6e49b",
    "deepnote_cell_type": "markdown"
   },
   "source": [
    "## Verification 2: `compute_X_WB`\n",
    "**Question:** What is the x-position of frame `B` relative to frame `W`"
   ]
  },
  {
   "cell_type": "code",
   "execution_count": 29,
   "metadata": {
    "cell_id": "2a379dd4dae34dcfb5756fd67cc49af2",
    "deepnote_cell_type": "code"
   },
   "outputs": [
    {
     "name": "stdout",
     "output_type": "stream",
     "text": [
      "0.6000000000000001\n"
     ]
    }
   ],
   "source": [
    "print(f\"{compute_X_CW(X_WA, X_AB, X_CB).GetAsMatrix4()[0, 3].item()}\")"
   ]
  }
 ],
 "metadata": {
  "deepnote_notebook_id": "9aa7bbd623eb40e69b15c8247569372f",
  "kernelspec": {
   "display_name": "drake",
   "language": "python",
   "name": "python3"
  },
  "language_info": {
   "codemirror_mode": {
    "name": "ipython",
    "version": 3
   },
   "file_extension": ".py",
   "mimetype": "text/x-python",
   "name": "python",
   "nbconvert_exporter": "python",
   "pygments_lexer": "ipython3",
   "version": "3.10.0"
  }
 },
 "nbformat": "4",
 "nbformat_minor": "0"
}
