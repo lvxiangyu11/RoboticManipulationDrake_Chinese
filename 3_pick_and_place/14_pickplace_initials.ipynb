{
 "cells": [
  {
   "cell_type": "markdown",
   "metadata": {
    "cell_id": "1c589f77f48a4078a2d122107046cf0f",
    "colab_type": "text",
    "deepnote_cell_type": "markdown",
    "id": "EgiF12Hf1Dhs"
   },
   "source": [
    "# 操作资产\n",
    "\n",
    "在这个笔记本中，你将编程机器人来拼写你的首字母！你需要指定夹爪的起始和目标姿势，以便抓住和放置你的首字母中的字母。你还需要编写一个基于雅可比的速率控制器，并将其连接到你的模拟图中的 `HardwareStation`。\n",
    "\n",
    "**学习目标：**\n",
    "1. 执行必要的空间代数来设计抓取和放置姿势\n",
    "2. 使用差分IK编写夹爪控制器\n",
    "3. 理解主动控制的IIWA包裹在 `HardwareStation` 中的图结构\n",
    "\n",
    "**你将构建什么：** 一个IIWA操纵你的首字母的模拟，使它们放置在机器人前面。\n",
    "\n",
    "**参考：** 结构与[第3章的Pick and Place Demo](https://deepnote.com/workspace/Manipulation-ac8201a1-470a-4c77-afd0-2cc45bc229ff/project/65aad364-ef1c-45f5-a796-fac7c122e274/notebook/pick-d0b41e97e5124292af7ed01072ecece4)非常相似。 <u> 花点时间确保那个笔记本对你有意义。</u>\n",
    "\n",
    "让我们开始导入并启动Meshcat。"
   ]
  },
  {
   "cell_type": "code",
   "execution_count": 9,
   "metadata": {
    "cell_id": "8cad3c2c14954f8f9dfb06a547fb29b4",
    "colab": {},
    "colab_type": "code",
    "deepnote_cell_type": "code",
    "id": "eeMrMI0-1Dhu"
   },
   "outputs": [],
   "source": [
    "from pathlib import Path\n",
    "\n",
    "import mpld3\n",
    "import numpy as np\n",
    "from pydrake.all import (\n",
    "    AddFrameTriadIllustration,\n",
    "    BasicVector,\n",
    "    Context,\n",
    "    DiagramBuilder,\n",
    "    Integrator,\n",
    "    JacobianWrtVariable,\n",
    "    LeafSystem,\n",
    "    MultibodyPlant,\n",
    "    PiecewisePolynomial,\n",
    "    PiecewisePose,\n",
    "    RigidTransform,\n",
    "    RotationMatrix,\n",
    "    Simulator,\n",
    "    StartMeshcat,\n",
    "    Trajectory,\n",
    "    TrajectorySource,\n",
    ")\n",
    "\n",
    "from manipulation import running_as_notebook\n",
    "from manipulation.exercises.grader import Grader\n",
    "from manipulation.exercises.pick.test_pickplace_initials import TestPickPlacePoses\n",
    "from manipulation.letter_generation import create_sdf_asset_from_letter\n",
    "from manipulation.station import LoadScenario, MakeHardwareStation\n",
    "\n",
    "if running_as_notebook:\n",
    "    mpld3.enable_notebook()"
   ]
  },
  {
   "cell_type": "code",
   "execution_count": 10,
   "metadata": {
    "cell_id": "1a9743e553194f56940e11fe09a1ead4",
    "deepnote_cell_type": "code"
   },
   "outputs": [
    {
     "name": "stderr",
     "output_type": "stream",
     "text": [
      "INFO:drake:Meshcat listening for connections at http://localhost:7006\n"
     ]
    }
   ],
   "source": [
    "# Start the visualizer.\n",
    "meshcat = StartMeshcat()"
   ]
  },
  {
   "cell_type": "markdown",
   "metadata": {
    "cell_id": "c05aedab0ee04ce390483e0ff578c493",
    "deepnote_cell_type": "markdown"
   },
   "source": [
    "抓取姿势通常在对象框架中定义，以便抓取姿势 ${^OX^G}$ 独立于对象的姿势。世界框架中的抓取姿势可以通过以下方式计算：\n",
    "\n",
    "$${{^WX^G} = {}{^W}X^{O}} {^OX^G},$$\n",
    "\n",
    "其中 $W$ 代表世界框架，$G$ 表示抓取框架，按照教科书中的约定。\n",
    "\n",
    "你应该从下面的可视化中注意到，夹爪框架不同于世界框架。特别是，夹爪框架的 +y 轴垂直向下，+z 轴向后。这是这个练习的重要观察。\n",
    "\n",
    "简单地命令夹爪到抓取姿势并不能确保无碰撞路径。为了解决这个问题，我们定义了一个“预抓取”姿势——一个附近的位置，有足够的间隙让机器人移动到抓取姿势而无碰撞。"
   ]
  },
  {
   "cell_type": "markdown",
   "metadata": {
    "cell_id": "9bbdab653dca4129b4b017a2ac43dc35",
    "deepnote_cell_type": "markdown"
   },
   "source": [
    "**使用图像中的夹爪和对象的方向来设计抓取姿势，使夹爪在对象框架上方0.17米。**\n",
    "\n",
    "**给定对象姿势X_WO，我们需要X_OG（对象框架中的抓取姿势）和X_WG（世界框架中的抓取姿势）。**\n",
    "\n",
    "**记住X轴显示为红色，Y轴为绿色，Z轴为蓝色。**"
   ]
  },
  {
   "cell_type": "markdown",
   "metadata": {
    "cell_id": "20f9ce59f5cf47e483e8fa3fc32c295f",
    "deepnote_cell_type": "markdown"
   },
   "source": [
    "![ps2_fig.png](https://raw.githubusercontent.com/RussTedrake/manipulation/master/book/figures/exercises/grasp_letter.png)"
   ]
  },
  {
   "cell_type": "code",
   "execution_count": 11,
   "metadata": {
    "cell_id": "3dd6ee7ea6384e0eb7efd5e8b3cd0f0b",
    "deepnote_cell_type": "code"
   },
   "outputs": [],
   "source": [
    "def design_grasp_pose(X_WO: RigidTransform) -> tuple[RigidTransform, RigidTransform]:\n",
    "    \"\"\"\n",
    "    在下面填写我们的代码\n",
    "    \"\"\"\n",
    "    X_OG = RigidTransform()\n",
    "    X_WG = RigidTransform()\n",
    "    return X_OG, X_WG"
   ]
  },
  {
   "cell_type": "markdown",
   "metadata": {
    "cell_id": "960672e389d74f51ac577fe149d32ba3",
    "deepnote_cell_type": "markdown"
   },
   "source": [
    "# 设计目标姿势\n",
    "我们已经确定了机器人夹爪需要移动的位置，给定对象的初始姿势。现在我们需要决定夹爪需要去哪里放置对象。\n",
    "\n",
    "你会注意到在图中，第一个首字母（\"S\"）面向正确的方向，但平移偏移（它在机器人后面）。你将为第一个首字母设计一个放置姿势，使其在第二个首字母左侧0.4米（世界框架中的-x）。\n",
    "\n",
    "第二个首字母（\"C\"）位于正确的姿势，但旋转使其面向垂直于机器人。我们希望它具有与第一个首字母相同的方向。换句话说，你将为第二个首字母设计一个放置姿势，使其y轴在世界框架中向上，z轴沿世界-y轴。\n",
    "\n",
    "**编写一个函数，接受你的第一个和第二个首字母的姿势，并计算每个的校正姿势。然后，给定抓取姿势，找到世界框架中实现这些姿势的正确夹爪姿势。**"
   ]
  },
  {
   "cell_type": "markdown",
   "metadata": {
    "cell_id": "a51de4437ac24285b5db22dcd66e9d3e",
    "deepnote_cell_type": "markdown"
   },
   "source": [
    "![ps2_2.png](https://raw.githubusercontent.com/RussTedrake/manipulation/master/book/figures/exercises/place_letter.png)"
   ]
  },
  {
   "cell_type": "code",
   "execution_count": 12,
   "metadata": {
    "cell_id": "fe45d728222c400492aed059134028a3",
    "deepnote_cell_type": "code"
   },
   "outputs": [],
   "source": [
    "def design_goal_poses(\n",
    "    X_WO1: RigidTransform, X_WO2: RigidTransform, X_OG: RigidTransform\n",
    ") -> tuple[RigidTransform, RigidTransform]:\n",
    "    \"\"\"\n",
    "    在下面填写我们的代码。我们正在为两个对象设计姿势，所以我们定义\n",
    "    O1为第一个提供的首字母中心的框架，O2为第二个提供的首字母中心的框架。\n",
    "    \"\"\"\n",
    "    X_WG1goal = RigidTransform()\n",
    "    X_WG2goal = RigidTransform()\n",
    "    return X_WG1goal, X_WG2goal"
   ]
  },
  {
   "cell_type": "markdown",
   "metadata": {
    "cell_id": "0b3324a93da3415682f4041b3a2402bd",
    "deepnote_cell_type": "markdown"
   },
   "source": [
    "# 设计接近姿势\n",
    "\n",
    "对于抓取和放置姿势，夹爪必须靠近桌子上的字母。如果它从侧面接近那些字母，或者将一个字母移动得太靠近另一个字母，那么碰撞风险会撞倒两个字母中的一个。为了处理这个问题，我们通常为夹爪定义“预抓取”和“预放置”姿势。这些姿势具有机器人可以实现它们而无碰撞风险的特性，并且机器人可以移动到轨迹中的下一个姿势而无不想要的碰撞。\n",
    "\n",
    "**编写一个函数，接受夹爪姿势X_WG并返回接近姿势X_WGApproach。这个框架从框架G测量时高度为0.1。**"
   ]
  },
  {
   "cell_type": "code",
   "execution_count": 13,
   "metadata": {
    "cell_id": "5da7271d219e47e09460788751ad26c4",
    "deepnote_cell_type": "code"
   },
   "outputs": [],
   "source": [
    "def approach_pose(X_WG: RigidTransform) -> RigidTransform:\n",
    "    \"\"\"\n",
    "    在下面填写我们的代码\n",
    "    \"\"\"\n",
    "    X_WGApproach = RigidTransform()\n",
    "    return X_WGApproach"
   ]
  },
  {
   "cell_type": "markdown",
   "metadata": {
    "cell_id": "57fcf1c8c2b44cd09433cf15b1107b8b",
    "deepnote_cell_type": "markdown"
   },
   "source": [
    "# 从关键帧到轨迹\n",
    "\n",
    "太好了！所以为了操纵两个首字母，机器人将遵循这个轨迹\n",
    "- 从其默认配置开始（夹爪打开）\n",
    "- 移动到第一个预抓取姿势（夹爪打开）\n",
    "- 移动到抓取姿势（夹爪打开）\n",
    "- 保持在抓取姿势（夹爪关闭）\n",
    "- 移动到默认配置（夹爪关闭）\n",
    "- 移动到第一个放置姿势（夹爪关闭）\n",
    "- 保持在第一个放置姿势（夹爪打开）\n",
    "- 返回到默认配置并为第二个首字母重复过程\n",
    "\n",
    "我们已经解决了所有这些姿势！下一步是将它们转换为我们可以命令机器人遵循的有效轨迹。\n",
    "\n",
    "**你的工作是实现 `MakeTrajectory` 函数。** 它将接受输入\n",
    "- 长度为L的夹爪姿势列表\n",
    "- 1xL的numpy数组的夹爪状态（两个手指之间的距离）\n",
    "- 长度为L的时间戳列表\n",
    "\n",
    "它应该返回\n",
    "- 对应于以夹爪姿势定义的分段轨迹的**速度**（类型为 `Trajectory`）\n",
    "- 定义手指状态的轨迹。"
   ]
  },
  {
   "cell_type": "code",
   "execution_count": 14,
   "metadata": {
    "cell_id": "d2350af0f911487eb7c4fef6bfe1d5dc",
    "deepnote_cell_type": "code"
   },
   "outputs": [],
   "source": [
    "def make_trajectory(\n",
    "    X_Gs: list[RigidTransform], finger_values: np.ndarray, sample_times: list[float]\n",
    ") -> tuple[Trajectory, PiecewisePolynomial]:\n",
    "    robot_velocity_trajectory = None\n",
    "    traj_wsg_command = None\n",
    "    # TODO: 从X_Gs定义一个PiecewisePose\n",
    "    # TODO: 将robot_velocity_trajectory设置为你刚定义的位置轨迹的导数\n",
    "    # TODO: 将traj_wsg_command设置为命令手指的PiecewisePolynomial\n",
    "    return robot_velocity_trajectory, traj_wsg_command"
   ]
  },
  {
   "cell_type": "markdown",
   "metadata": {
    "cell_id": "59a5e3cb71db4b7e9734619bfdc7968b",
    "deepnote_cell_type": "markdown"
   },
   "source": [
    "# 初始化我们的系统\n",
    "\n",
    "让我们启动一个包含所有资产的系统。首先，我们将为我们的第一个和最后一个首字母以及桌子生成资产文件。然后，我们以YAML格式定义场景指令。就像问题集1一样！\n",
    "\n",
    "你会注意到下面调用 `create_sdf_asset_from_letter` 的新关键字。现在我们正在操纵这些资产，而不仅仅是将它们生成到场景中，我们用来表示字母的几何选择会影响我们模拟的物理！通过设置 `use_bbox_collision_geometry=True`，我们选择用它们的_轴对齐边界框_来建模字母。这意味着当MultibodyPlant评估场景的动力学时，它会将字母视为矩形盒子。\n",
    "\n",
    "**确保填写你的（2）个首字母！**"
   ]
  },
  {
   "cell_type": "code",
   "execution_count": 15,
   "metadata": {
    "cell_id": "9b861f5f1c0042de91674204d3dac88d",
    "deepnote_cell_type": "code"
   },
   "outputs": [],
   "source": [
    "initials = \"LXY\""
   ]
  },
  {
   "cell_type": "code",
   "execution_count": 16,
   "metadata": {
    "cell_id": "bfc79cd77b044b2bacd588064f7a1870",
    "code_folding": [],
    "deepnote_cell_type": "code"
   },
   "outputs": [
    {
     "name": "stderr",
     "output_type": "stream",
     "text": [
      "WARNING:trimesh.util:try running `pip install mapbox-earcut manifold3d`or `triangle`, `mapbox_earcut`, then explicitly pass:\n",
      "`triangulate_polygon(*args, engine=\"triangle\")`\n",
      "to use the non-FSF-approved-license triangle engine\n",
      "ERROR:root:Error creating SDF asset for letter 'L': No available triangulation engine!\n",
      "WARNING:trimesh.util:try running `pip install mapbox-earcut manifold3d`or `triangle`, `mapbox_earcut`, then explicitly pass:\n",
      "`triangulate_polygon(*args, engine=\"triangle\")`\n",
      "to use the non-FSF-approved-license triangle engine\n",
      "ERROR:root:Error creating SDF asset for letter 'X': No available triangulation engine!\n",
      "ERROR:root:Error creating SDF asset for letter 'L': No available triangulation engine!\n",
      "WARNING:trimesh.util:try running `pip install mapbox-earcut manifold3d`or `triangle`, `mapbox_earcut`, then explicitly pass:\n",
      "`triangulate_polygon(*args, engine=\"triangle\")`\n",
      "to use the non-FSF-approved-license triangle engine\n",
      "ERROR:root:Error creating SDF asset for letter 'X': No available triangulation engine!\n",
      "WARNING:trimesh.util:try running `pip install mapbox-earcut manifold3d`or `triangle`, `mapbox_earcut`, then explicitly pass:\n",
      "`triangulate_polygon(*args, engine=\"triangle\")`\n",
      "to use the non-FSF-approved-license triangle engine\n",
      "ERROR:root:Error creating SDF asset for letter 'Y': No available triangulation engine!\n",
      "WARNING:trimesh.util:try running `pip install mapbox-earcut manifold3d`or `triangle`, `mapbox_earcut`, then explicitly pass:\n",
      "`triangulate_polygon(*args, engine=\"triangle\")`\n",
      "to use the non-FSF-approved-license triangle engine\n",
      "ERROR:root:Error creating SDF asset for letter 'Y': No available triangulation engine!\n"
     ]
    }
   ],
   "source": [
    "output_dir = Path(\"assets/\")\n",
    "for letter in initials:\n",
    "    create_sdf_asset_from_letter(\n",
    "        text=letter,\n",
    "        font_name=\"DejaVu Sans\",\n",
    "        letter_height_meters=0.2,\n",
    "        extrusion_depth_meters=0.04,\n",
    "        output_dir=output_dir / f\"{letter}_model\",\n",
    "        use_bbox_collision_geometry=True,\n",
    "        mass=0.1,\n",
    "    )\n",
    "letter_sdfs = [\n",
    "    f\"{Path.cwd()}/assets/{letter}_model/{letter}.sdf\" for letter in initials\n",
    "]\n",
    "\n",
    "table_sdf = \"\"\"<?xml version=\"1.0\"?>\n",
    "<sdf version=\"1.7\">\n",
    "  <model name=\"table\">\n",
    "    <pose>0 0 0 0 0 0</pose>\n",
    "    <link name=\"table_link\">\n",
    "      <inertial>\n",
    "        <mass>20</mass>\n",
    "        <inertia>\n",
    "          <ixx>1.0</ixx>\n",
    "          <ixy>0.0</ixy>\n",
    "          <ixz>0.0</ixz>\n",
    "          <iyy>1.0</iyy>\n",
    "          <iyz>0.0</iyz>\n",
    "          <izz>1.0</izz>\n",
    "        </inertia>\n",
    "      </inertial>\n",
    "      <collision name=\"box_collision\">\n",
    "        <geometry>\n",
    "          <box>\n",
    "            <size>2 2 0.1</size>\n",
    "          </box>\n",
    "        </geometry>\n",
    "      </collision>\n",
    "      <visual name=\"box_visual\">\n",
    "        <geometry>\n",
    "          <box>\n",
    "            <size>2 2 0.1</size>\n",
    "          </box>\n",
    "        </geometry>\n",
    "      </visual>\n",
    "    </link>\n",
    "  </model>\n",
    "</sdf>\n",
    "\"\"\"\n",
    "\n",
    "abs_table_sdf_path = \"assets/table.sdf\"\n",
    "with open(abs_table_sdf_path, \"w\") as f:\n",
    "    f.write(table_sdf)\n",
    "\n",
    "table_sdf = f\"{Path.cwd()}/assets/table.sdf\"\n",
    "scenario_yaml = f\"\"\"directives:\n",
    "- add_model:\n",
    "    name: iiwa\n",
    "    file: package://drake_models/iiwa_description/sdf/iiwa7_no_collision.sdf\n",
    "    default_joint_positions:\n",
    "        iiwa_joint_1: [-1.57]\n",
    "        iiwa_joint_2: [0.1]\n",
    "        iiwa_joint_3: [0]\n",
    "        iiwa_joint_4: [-1.2]\n",
    "        iiwa_joint_5: [0]\n",
    "        iiwa_joint_6: [ 1.6]\n",
    "        iiwa_joint_7: [0]\n",
    "- add_weld:\n",
    "    parent: world\n",
    "    child: iiwa::iiwa_link_0\n",
    "- add_model:\n",
    "    name: wsg\n",
    "    file: package://manipulation/hydro/schunk_wsg_50_with_tip.sdf\n",
    "- add_weld:\n",
    "    parent: iiwa::iiwa_link_7\n",
    "    child: wsg::body\n",
    "    X_PC:\n",
    "        translation: [0, 0, 0.09]\n",
    "        rotation: !Rpy {{ deg: [90, 0, 90]}}\n",
    "- add_model:\n",
    "    name: table\n",
    "    file: file://{table_sdf}\n",
    "- add_weld:\n",
    "    parent: world\n",
    "    child: table::table_link\n",
    "    X_PC:\n",
    "        translation: [0.0, 0.0, -0.05]\n",
    "        rotation: !Rpy {{ deg: [0, 0, -90] }}\n",
    "- add_model:\n",
    "    name: first_initial\n",
    "    file: file://{letter_sdfs[0]}\n",
    "    default_free_body_pose:\n",
    "        {initials[0]}_body_link:\n",
    "            translation: [0.5, -0.2, 0.01]\n",
    "            rotation: !Rpy {{ deg: [90, 0, 0] }}\n",
    "- add_model:\n",
    "    name: last_initial\n",
    "    file: file://{letter_sdfs[1]}\n",
    "    default_free_body_pose:\n",
    "        {initials[1]}_body_link:\n",
    "            translation: [-0.2, -0.5, 0.01]\n",
    "            rotation: !Rpy {{ deg: [90, 0, 90] }}\n",
    "\n",
    "model_drivers:\n",
    "    iiwa: !IiwaDriver\n",
    "      control_mode: position_only\n",
    "      hand_model_name: wsg\n",
    "    wsg: !SchunkWsgDriver {{}}\n",
    "\"\"\"\n",
    "\n",
    "scenario = LoadScenario(data=scenario_yaml)"
   ]
  },
  {
   "cell_type": "markdown",
   "metadata": {
    "cell_id": "e3f8fa6cbd5e4f41bb9acc2b9260b922",
    "deepnote_cell_type": "markdown"
   },
   "source": [
    "# 框架选择影响问题陈述！\n",
    "\n",
    "在上面的图中，注意坐标框架实际上没有放置在字母的中心。相反，它们放置在左下角。相对于这些原点定义抓取姿势很棘手，因为我们希望机器人夹爪在字母上方居中，但字母宽度因不同的首字母而异。在下面的函数中，让 `S` 描述对象框架，因为它在对应字母几何的SDF文件中使用。让 `O` 描述放置在对象质心处的框架。我们上面定义的抓取和放置姿势以框架 `O` 为准，所以让我们确保我们使用的是那个框架。"
   ]
  },
  {
   "cell_type": "code",
   "execution_count": 17,
   "metadata": {
    "cell_id": "eb65010480ba485cb3bda4593b47e1dc",
    "deepnote_cell_type": "code"
   },
   "outputs": [],
   "source": [
    "# 辅助函数，将网格姿势表示为质心而不是几何中心\n",
    "\n",
    "def get_initial_pose(\n",
    "    plant: MultibodyPlant, body_name: str, plant_context: Context\n",
    ") -> RigidTransform:\n",
    "    body = plant.GetBodyByName(body_name)\n",
    "    X_WS = plant.EvalBodyPoseInWorld(plant_context, body)\n",
    "    X_SO = RigidTransform(body.default_spatial_inertia().get_com())\n",
    "    return X_WS @ X_SO"
   ]
  },
  {
   "cell_type": "markdown",
   "metadata": {
    "cell_id": "d69c1766529344beac5289afb9af0604",
    "deepnote_cell_type": "markdown"
   },
   "source": [
    "# 基于雅可比的速度控制器\n",
    "好的，我们已经指定了场景的几何和我们期望的机器人轨迹。现在我们必须添加逻辑，将我们期望的夹爪速度与我们可以命令的机器人关节速度相关联。\n",
    "\n",
    "**你的工作是实现CalcOutput函数。回想一下，这接受当前上下文并基于此上下文为 `output` 设置值。**"
   ]
  },
  {
   "cell_type": "code",
   "execution_count": 18,
   "metadata": {
    "cell_id": "1152ae93c635467586330321834a9874",
    "deepnote_cell_type": "code"
   },
   "outputs": [],
   "source": [
    "class PseudoInverseController(LeafSystem):\n",
    "    def __init__(self, plant: MultibodyPlant):\n",
    "        LeafSystem.__init__(self)\n",
    "        self._plant = plant\n",
    "        self._plant_context = plant.CreateDefaultContext()\n",
    "        self._iiwa = plant.GetModelInstanceByName(\"iiwa\")\n",
    "        self._G = plant.GetBodyByName(\"body\").body_frame()\n",
    "        self._W = plant.world_frame()\n",
    "\n",
    "        self.V_G_port = self.DeclareVectorInputPort(\"V_WG\", 6)\n",
    "        self.q_port = self.DeclareVectorInputPort(\"iiwa.position\", 7)\n",
    "        self.DeclareVectorOutputPort(\"iiwa.velocity\", 7, self.CalcOutput)\n",
    "        self.iiwa_start = plant.GetJointByName(\"iiwa_joint_1\").velocity_start()\n",
    "        self.iiwa_end = plant.GetJointByName(\"iiwa_joint_7\").velocity_start()\n",
    "\n",
    "    def CalcOutput(self, context: Context, output: BasicVector):\n",
    "        \"\"\"\n",
    "        在下面填写我们的代码。\n",
    "        \"\"\"\n",
    "        # 在当前上下文中评估V_G_port和q_port以获取那些值。\n",
    "        # 根据 `q` 更新内部_plant_context的位置。\n",
    "        # 提示：你可以通过调用 `self._plant.SetPositions` 写入plant上下文\n",
    "        # 计算夹爪雅可比\n",
    "        # 提示：雅可比是6 x N，其中N是DOF的数量。\n",
    "        # 我们只想要对应IIWA的6 x 7子矩阵\n",
    "        # 通过将夹爪速度（从V_G_port）映射到关节空间来计算 `v`\n",
    "        v = None\n",
    "        output.SetFromVector(v)"
   ]
  },
  {
   "cell_type": "markdown",
   "metadata": {
    "cell_id": "ad60bfe2c2a94068b1dbf5f846cf047a",
    "deepnote_cell_type": "markdown"
   },
   "source": [
    "# 把一切放在一起\n",
    "\n",
    "我们快完成了！让我们使用我们定义的场景来初始化图，并指定关键帧！\n",
    "\n",
    "我们已经添加了图所需的所有系统。**你的工作将是连接所有必要的输入和输出端口以进行模拟。**"
   ]
  },
  {
   "cell_type": "code",
   "execution_count": 19,
   "metadata": {
    "cell_id": "28b969e85ef548ef8aa3df18090b7535",
    "deepnote_cell_type": "code"
   },
   "outputs": [
    {
     "ename": "NameError",
     "evalue": "name 'X_WO2initial' is not defined",
     "output_type": "error",
     "traceback": [
      "\u001b[0;31m---------------------------------------------------------------------------\u001b[0m",
      "\u001b[0;31mNameError\u001b[0m                                 Traceback (most recent call last)",
      "Cell \u001b[0;32mIn[19], line 2\u001b[0m\n\u001b[1;32m      1\u001b[0m \u001b[38;5;66;03m# 构建轨迹关键帧\u001b[39;00m\n\u001b[0;32m----> 2\u001b[0m X_OG, X_WG2pick \u001b[38;5;241m=\u001b[39m design_grasp_pose(\u001b[43mX_WO2initial\u001b[49m)\n\u001b[1;32m      3\u001b[0m _, X_WG1pick \u001b[38;5;241m=\u001b[39m design_grasp_pose(X_WO1initial)\n\u001b[1;32m      4\u001b[0m X_WG1prepick, X_WG2prepick \u001b[38;5;241m=\u001b[39m approach_pose(X_WG1pick), approach_pose(X_WG2pick)\n",
      "\u001b[0;31mNameError\u001b[0m: name 'X_WO2initial' is not defined"
     ]
    }
   ],
   "source": [
    "# 构建轨迹关键帧\n",
    "X_OG, X_WG2pick = design_grasp_pose(X_WO2initial)\n",
    "_, X_WG1pick = design_grasp_pose(X_WO1initial)\n",
    "X_WG1prepick, X_WG2prepick = approach_pose(X_WG1pick), approach_pose(X_WG2pick)\n",
    "X_WG1goal, X_WG2goal = design_goal_poses(X_WO1initial, X_WO2initial, X_OG)\n",
    "X_WG1pregoal, X_WG2pregoal = approach_pose(X_WG1goal), approach_pose(X_WG2goal)\n",
    "\n",
    "# 手指距离的常量，当夹爪打开或关闭时\n",
    "opened = 0.107\n",
    "closed = 0.0\n",
    "\n",
    "# 关键帧列表，格式为（夹爪姿势，手指状态）\n",
    "# 对于每个对象，机器人从其默认姿势开始，夹爪打开\n",
    "# 然后它去到预抓取姿势，抓取姿势，关闭夹爪，然后去到放置姿势\n",
    "keyframes = [\n",
    "    (X_WGinitial, opened),\n",
    "    (X_WG2prepick, opened),\n",
    "    (X_WG2pick, opened),\n",
    "    (X_WG2pick, closed),\n",
    "    (X_WGinitial, closed),\n",
    "    (X_WG2pregoal, closed),\n",
    "    (X_WG2goal, closed),\n",
    "    (X_WG2goal, closed),\n",
    "    (X_WG2goal, opened),\n",
    "    (X_WGinitial, opened),\n",
    "    (X_WG1prepick, opened),\n",
    "    (X_WG1pick, opened),\n",
    "    (X_WG1pick, closed),\n",
    "    (X_WGinitial, closed),\n",
    "    (X_WG1pregoal, closed),\n",
    "    (X_WG1goal, closed),\n",
    "    (X_WG1goal, opened),\n",
    "    (X_WGinitial, opened),\n",
    "]\n",
    "\n",
    "# 解包关键帧并使用它们构建 `Trajectory` 对象\n",
    "# 注意：我们指定每个关键帧在最后一个之后2秒发生。\n",
    "gripper_poses = [keyframe[0] for keyframe in keyframes]\n",
    "finger_states = np.asarray([keyframe[1] for keyframe in keyframes]).reshape(1, -1)\n",
    "sample_times = [2 * i for i in range(len(gripper_poses))]\n",
    "traj_V_G, traj_wsg_command = make_trajectory(gripper_poses, finger_states, sample_times)\n",
    "\n",
    "# V_G_source 定义了夹爪速度的轨迹。将其添加到系统中。\n",
    "V_G_source = builder.AddSystem(TrajectorySource(traj_V_G))\n",
    "# 将我们刚定义的DiffIK控制器添加到系统中\n",
    "controller = builder.AddSystem(PseudoInverseController(plant))\n",
    "# HardwareStation期望以关节角度形式的机器人命令。\n",
    "# 我们定义 `integrator` 系统从关节速度映射到关节角度。\n",
    "integrator = builder.AddSystem(Integrator(7))\n",
    "# wsg_source 定义了手指位置的轨迹。将其添加到系统中。\n",
    "wsg_source = builder.AddSystem(TrajectorySource(traj_wsg_command))\n",
    "\n",
    "# TODO: 将关节速度源连接到伪逆控制器\n",
    "# TODO: 将控制器连接到积分器以获取关节角度命令\n",
    "# TODO: 将积分器计算的关节角度连接到操纵站上的iiwa.position端口\n",
    "# TODO: 将站上的 \"iiwa.position_measured\" 端口连接回控制器上的相关输入端口\n",
    "# TODO: 将wsg_source连接到站上的 \"wsg.position\" 输入端口\n",
    "\n",
    "# 可视化轴（用于调试）\n",
    "scenegraph = station.GetSubsystemByName(\"scene_graph\")\n",
    "AddFrameTriadIllustration(\n",
    "    scene_graph=scenegraph,\n",
    "    body=plant.GetBodyByName(f\"{initials[0]}_body_link\"),\n",
    "    length=0.1,\n",
    ")\n",
    "AddFrameTriadIllustration(\n",
    "    scene_graph=scenegraph,\n",
    "    body=plant.GetBodyByName(f\"{initials[1]}_body_link\"),\n",
    "    length=0.1,\n",
    ")\n",
    "AddFrameTriadIllustration(\n",
    "    scene_graph=scenegraph, body=plant.GetBodyByName(\"body\"), length=0.1\n",
    ")\n",
    "\n",
    "diagram = builder.Build()"
   ]
  },
  {
   "cell_type": "code",
   "execution_count": null,
   "metadata": {
    "cell_id": "c35a3ebbaa064e118f3ec490b89f587e",
    "deepnote_cell_type": "code"
   },
   "outputs": [],
   "source": [
    "# 定义模拟器。\n",
    "simulator = Simulator(diagram)\n",
    "context = simulator.get_mutable_context()\n",
    "station_context = station.GetMyContextFromRoot(context)\n",
    "integrator.set_integral_value(\n",
    "    integrator.GetMyContextFromRoot(context),\n",
    "    plant.GetPositions(\n",
    "        plant.GetMyContextFromRoot(context),\n",
    "        plant.GetModelInstanceByName(\"iiwa\"),\n",
    "    ),\n",
    ")\n",
    "diagram.ForcedPublish(context)\n",
    "print(f\"sanity check, simulation will run for {traj_V_G.end_time()} seconds\")\n",
    "\n",
    "# 运行模拟！\n",
    "meshcat.StartRecording()\n",
    "if running_as_notebook:\n",
    "    simulator.set_target_realtime_rate(1.0)\n",
    "simulator.AdvanceTo(traj_V_G.end_time())\n",
    "meshcat.StopRecording()\n",
    "meshcat.PublishRecording()"
   ]
  },
  {
   "cell_type": "code",
   "execution_count": null,
   "metadata": {
    "cell_id": "d78c000439af4c27aac83a29668d8b7f",
    "deepnote_cell_type": "code"
   },
   "outputs": [],
   "source": [
    "# 如果你想的话，使用这个来测试你的实现！\n",
    "Grader.grade_output([TestPickPlacePoses], [locals()], \"results.json\")\n",
    "Grader.print_test_results(\"results.json\")"
   ]
  },
  {
   "cell_type": "markdown",
   "metadata": {
    "cell_id": "06de59545606411792560135a435a99c",
    "deepnote_cell_type": "markdown"
   },
   "source": [
    "# 改进计算的抓取姿势\n",
    "\n",
    "恭喜！IIWA现在应该在操纵你的首字母，使它们放置在机器人前面。现在，返回到meshcat，在右上角选择“打开控件”，然后“场景”，然后“drake”，然后“接近”。你会注意到碰撞几何目前表示为字母周围的边界框。\n",
    "\n",
    "如果机器人无法抓住字母，或者字母似乎在机器人手指中滑动，尝试不同的抓取姿势。不同的字母可能需要更高或更低的抓取。\n",
    "\n",
    "**一旦一切正常，拍摄视频并上传到gradescope！**"
   ]
  }
 ],
 "metadata": {
  "deepnote_notebook_id": "fa3aa790582c4980ae1feb5cd3f37275",
  "kernelspec": {
   "display_name": "drake",
   "language": "python",
   "name": "python3"
  },
  "language_info": {
   "codemirror_mode": {
    "name": "ipython",
    "version": 3
   },
   "file_extension": ".py",
   "mimetype": "text/x-python",
   "name": "python",
   "nbconvert_exporter": "python",
   "pygments_lexer": "ipython3",
   "version": "3.10.0"
  }
 },
 "nbformat": "4",
 "nbformat_minor": "0"
}
