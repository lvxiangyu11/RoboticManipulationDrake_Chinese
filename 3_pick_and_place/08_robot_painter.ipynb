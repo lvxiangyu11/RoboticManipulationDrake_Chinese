{
 "cells": [
  {
   "cell_type": "markdown",
   "metadata": {
    "cell_id": "815169eb527e4acd81d45a70f73a0b3f",
    "colab_type": "text",
    "deepnote_cell_type": "markdown",
    "id": "KE6SesUXE9jX"
   },
   "source": [
    "# 机器人画家"
   ]
  },
  {
   "cell_type": "code",
   "execution_count": 18,
   "metadata": {
    "cell_id": "116c3ab44d45465eb2b5e7252fb0206c",
    "colab": {},
    "colab_type": "code",
    "deepnote_cell_type": "code",
    "id": "xyZz8R16E9jZ",
    "lines_to_end_of_cell_marker": 2
   },
   "outputs": [],
   "source": [
    "import numpy as np\n",
    "from pydrake.all import (\n",
    "    AbstractValue,\n",
    "    ConstantVectorSource,\n",
    "    DiagramBuilder,\n",
    "    LeafSystem,\n",
    "    PiecewisePose,\n",
    "    RigidTransform,\n",
    "    RotationMatrix,\n",
    "    Simulator,\n",
    "    StartMeshcat,\n",
    ")\n",
    "\n",
    "from manipulation import running_as_notebook\n",
    "from manipulation.exercises.grader import Grader\n",
    "from manipulation.exercises.pick.test_robot_painter import TestRobotPainter\n",
    "from manipulation.meshcat_utils import AddMeshcatTriad\n",
    "from manipulation.scenarios import AddIiwaDifferentialIK\n",
    "from manipulation.station import LoadScenario, MakeHardwareStation"
   ]
  },
  {
   "cell_type": "code",
   "execution_count": 19,
   "metadata": {
    "cell_id": "e8c02d94beb843e385851c6489d06a76",
    "deepnote_cell_type": "code"
   },
   "outputs": [
    {
     "name": "stderr",
     "output_type": "stream",
     "text": [
      "INFO:drake:Meshcat listening for connections at http://localhost:7001\n"
     ]
    }
   ],
   "source": [
    "# 启动可视化器。\n",
    "meshcat = StartMeshcat()"
   ]
  },
  {
   "cell_type": "markdown",
   "metadata": {
    "cell_id": "6cdd3ac6ce044b4f8f86bf4185363b9e",
    "colab_type": "text",
    "deepnote_cell_type": "markdown",
    "id": "zfITVansaoLi"
   },
   "source": [
    "在下面的单元格中，我们提供了一个包装类，用于隐藏 Drake 中的部分实现细节。您不需要理解它是如何工作的。"
   ]
  },
  {
   "cell_type": "code",
   "execution_count": 20,
   "metadata": {
    "cell_id": "954b0a54045840109f885168ee0e33a1",
    "colab": {},
    "colab_type": "code",
    "deepnote_cell_type": "code",
    "id": "SuwPFHfYE9jj"
   },
   "outputs": [],
   "source": [
    "class PoseTrajectorySource(LeafSystem):\n",
    "    def __init__(self, pose_trajectory):\n",
    "        LeafSystem.__init__(self)\n",
    "        self._pose_trajectory = pose_trajectory\n",
    "        self.DeclareAbstractOutputPort(\n",
    "            \"pose\", lambda: AbstractValue.Make(RigidTransform()), self.CalcPose\n",
    "        )\n",
    "\n",
    "    def CalcPose(self, context, output):\n",
    "        output.set_value(self._pose_trajectory.GetPose(context.get_time()))\n",
    "\n",
    "\n",
    "class IIWA_Painter:\n",
    "    def __init__(self, traj=None):\n",
    "        builder = DiagramBuilder()\n",
    "        scenario_data = \"\"\"\n",
    "        directives:\n",
    "        - add_directives:\n",
    "            file: package://manipulation/clutter.dmd.yaml\n",
    "        model_drivers:\n",
    "            iiwa: !IiwaDriver\n",
    "                control_mode: position_only\n",
    "                hand_model_name: wsg\n",
    "            wsg: !SchunkWsgDriver {}\n",
    "        \"\"\"\n",
    "        scenario = LoadScenario(data=scenario_data)\n",
    "        self.station = builder.AddSystem(MakeHardwareStation(scenario, meshcat=meshcat))\n",
    "        self.plant = self.station.GetSubsystemByName(\"plant\")\n",
    "        # 移除手腕关节的关节限制。\n",
    "        self.plant.GetJointByName(\"iiwa_joint_7\").set_position_limits(\n",
    "            [-np.inf], [np.inf]\n",
    "        )\n",
    "        controller_plant = self.station.GetSubsystemByName(\n",
    "            \"iiwa_controller_plant_pointer_system\",\n",
    "        ).get()\n",
    "\n",
    "        # 可选添加轨迹源\n",
    "        if traj is not None:\n",
    "            traj_source = builder.AddSystem(PoseTrajectorySource(traj))\n",
    "            self.controller = AddIiwaDifferentialIK(\n",
    "                builder,\n",
    "                controller_plant,\n",
    "                frame=controller_plant.GetFrameByName(\"body\"),\n",
    "            )\n",
    "            builder.Connect(\n",
    "                traj_source.get_output_port(),\n",
    "                self.controller.get_input_port(0),\n",
    "            )\n",
    "            builder.Connect(\n",
    "                self.station.GetOutputPort(\"iiwa.state_estimated\"),\n",
    "                self.controller.GetInputPort(\"robot_state\"),\n",
    "            )\n",
    "\n",
    "            builder.Connect(\n",
    "                self.controller.get_output_port(),\n",
    "                self.station.GetInputPort(\"iiwa.position\"),\n",
    "            )\n",
    "        else:\n",
    "            iiwa_position = builder.AddSystem(ConstantVectorSource(np.zeros(7)))\n",
    "            builder.Connect(\n",
    "                iiwa_position.get_output_port(),\n",
    "                self.station.GetInputPort(\"iiwa.position\"),\n",
    "            )\n",
    "\n",
    "        wsg_position = builder.AddSystem(ConstantVectorSource([0.1]))\n",
    "        builder.Connect(\n",
    "            wsg_position.get_output_port(),\n",
    "            self.station.GetInputPort(\"wsg.position\"),\n",
    "        )\n",
    "\n",
    "        self.diagram = builder.Build()\n",
    "        self.gripper_frame = self.plant.GetFrameByName(\"body\")\n",
    "        self.world_frame = self.plant.world_frame()\n",
    "\n",
    "        context = self.CreateDefaultContext()\n",
    "        self.diagram.ForcedPublish(context)\n",
    "\n",
    "    def visualize_frame(self, name, X_WF, length=0.15, radius=0.006):\n",
    "        \"\"\"\n",
    "        可视化不附加到现有物体的虚构框架\n",
    "\n",
    "        输入：\n",
    "            name: 框架的名称 (str)\n",
    "            X_WF: 从框架 F 到世界的 RigidTransform。\n",
    "\n",
    "        名称已存在的框架将被新框架覆盖\n",
    "        \"\"\"\n",
    "        AddMeshcatTriad(\n",
    "            meshcat, \"painter/\" + name, length=length, radius=radius, X_PT=X_WF\n",
    "        )\n",
    "\n",
    "    def CreateDefaultContext(self):\n",
    "        context = self.diagram.CreateDefaultContext()\n",
    "        plant_context = self.diagram.GetMutableSubsystemContext(self.plant, context)\n",
    "\n",
    "        # 提供初始状态\n",
    "        q0 = np.array(\n",
    "            [\n",
    "                1.40666193e-05,\n",
    "                1.56461165e-01,\n",
    "                -3.82761069e-05,\n",
    "                -1.32296976e00,\n",
    "                -6.29097287e-06,\n",
    "                1.61181157e00,\n",
    "                -2.66900985e-05,\n",
    "            ]\n",
    "        )\n",
    "        # 设置 kuka 手臂的关节位置\n",
    "        iiwa = self.plant.GetModelInstanceByName(\"iiwa\")\n",
    "        self.plant.SetPositions(plant_context, iiwa, q0)\n",
    "        self.plant.SetVelocities(plant_context, iiwa, np.zeros(7))\n",
    "        wsg = self.plant.GetModelInstanceByName(\"wsg\")\n",
    "        self.plant.SetPositions(plant_context, wsg, [-0.05, 0.05])\n",
    "        self.plant.SetVelocities(plant_context, wsg, [0, 0])\n",
    "\n",
    "        return context\n",
    "\n",
    "    def get_X_WG(self, context=None):\n",
    "        if not context:\n",
    "            context = self.CreateDefaultContext()\n",
    "        plant_context = self.plant.GetMyMutableContextFromRoot(context)\n",
    "        X_WG = self.plant.CalcRelativeTransform(\n",
    "            plant_context, frame_A=self.world_frame, frame_B=self.gripper_frame\n",
    "        )\n",
    "        return X_WG\n",
    "\n",
    "    def paint(self, sim_duration=20.0):\n",
    "        context = self.CreateDefaultContext()\n",
    "        simulator = Simulator(self.diagram, context)\n",
    "\n",
    "        meshcat.StartRecording(set_visualizations_while_recording=False)\n",
    "        duration = sim_duration if running_as_notebook else 0.01\n",
    "        simulator.AdvanceTo(duration)\n",
    "        meshcat.PublishRecording()"
   ]
  },
  {
   "cell_type": "markdown",
   "metadata": {
    "cell_id": "9bf8906f1b1544a894aab0c5dedb9cd4",
    "colab_type": "text",
    "deepnote_cell_type": "markdown",
    "id": "EvOQi_xQE9kY"
   },
   "source": [
    "# 问题描述\n",
    "在讲座中，我们学习了空间变换的基础知识。对于这个练习，您将让 iiwa 手臂通过计算和插值关键帧来“绘制”一个圆形平面轨迹，就像我们在讲座中看到的那样\n",
    "\n",
    "**这些是练习的主要步骤：**\n",
    "1. 为 Iiwa 手臂设计并实现一个圆形轨迹以跟随。\n",
    "2. 观察并反思微分 IK 控制器。"
   ]
  },
  {
   "cell_type": "markdown",
   "metadata": {
    "cell_id": "d48d25ad0adc4c9989f5368c9013bb5f",
    "colab_type": "text",
    "deepnote_cell_type": "markdown",
    "id": "kEzcpiOiZp0C"
   },
   "source": [
    "# 圆形轨迹\n",
    "\n",
    "在这个练习中，您将为 iiwa 手臂设计一个像下面这样的圆形平面轨迹，让它像机器人一样在空中绘画！为此，我们将遵循课堂上显示的相同程序：\n",
    "\n",
    "(1) 计算圆形轨迹的关键帧\n",
    "\n",
    "(2) 从关键帧构造插值轨迹"
   ]
  },
  {
   "cell_type": "markdown",
   "metadata": {
    "cell_id": "79b4234ba84844679a2daddc947daccd",
    "colab_type": "text",
    "deepnote_cell_type": "markdown",
    "id": "KwoXw_yDgtbg"
   },
   "source": [
    "<img src=\"https://raw.githubusercontent.com/RussTedrake/manipulation/master/book/figures/exercises/robot_painter_circle.png\" width=\"700\">"
   ]
  },
  {
   "cell_type": "markdown",
   "metadata": {
    "cell_id": "ae93045fa21d4387874a9a3f48cafdcf",
    "colab_type": "text",
    "deepnote_cell_type": "markdown",
    "id": "KqinvTKyZp0E"
   },
   "source": [
    "上图中的 x 和 y 轴来自世界坐标系。"
   ]
  },
  {
   "cell_type": "markdown",
   "metadata": {
    "cell_id": "d450dd49835e44cd98a9028e836f2a21",
    "colab_type": "text",
    "deepnote_cell_type": "markdown",
    "id": "C-lMFAjpHRtp"
   },
   "source": [
    "<img src=\"https://raw.githubusercontent.com/RussTedrake/manipulation/master/book/figures/exercises/robot_painter_screenshot.png\" width=\"700\">"
   ]
  },
  {
   "cell_type": "markdown",
   "metadata": {
    "cell_id": "282d3aa8757540ecb39e49987c460893",
    "colab_type": "text",
    "deepnote_cell_type": "markdown",
    "id": "O5gumWUPZp0G"
   },
   "source": [
    "上面的截图可视化了圆形轨迹的关键帧。关键帧说明了夹持器在轨迹沿途不同时间步长的世界坐标系中的姿势。首先，您应该从上面的可视化中注意到夹持器坐标系不同于世界坐标系。特别是，夹持器坐标系的 +y 轴垂直向下，+z 轴向后指。这对这个练习很重要。\n",
    "\n",
    "圆形轨迹中心的刚性变换以及圆的半径定义如下。用语言来说，我们希望我们的手臂围绕世界坐标系的 +z 轴逆时针旋转。此外，我们希望夹持器坐标系的 +z 轴始终指向圆的中心。"
   ]
  },
  {
   "cell_type": "code",
   "execution_count": 21,
   "metadata": {
    "cell_id": "d02ca0a5cd1140349f608299c9b6c7c7",
    "colab": {},
    "colab_type": "code",
    "deepnote_cell_type": "code",
    "id": "iQ7RRZrGE9kZ"
   },
   "outputs": [],
   "source": [
    "# 定义中心和半径\n",
    "radius = 0.1\n",
    "p0 = [0.45, 0.0, 0.4]\n",
    "R0 = RotationMatrix(np.array([[0, 1, 0], [0, 0, -1], [-1, 0, 0]]).T)\n",
    "X_WCenter = RigidTransform(R0, p0)\n",
    "\n",
    "num_key_frames = 100\n",
    "\"\"\"\n",
    "您可以使用不同的 thetas，只要您的轨迹从上面的起始框架开始，\n",
    "并且您的旋转在世界框架的 +z 轴上是正的\n",
    "thetas = np.linspace(0, 2*np.pi, num_key_frames)\n",
    "\"\"\"\n",
    "thetas = np.linspace(0, 2 * np.pi, num_key_frames)\n",
    "\n",
    "painter = IIWA_Painter()"
   ]
  },
  {
   "cell_type": "markdown",
   "metadata": {
    "cell_id": "d305c3ed30e74744a1860243be01ea92",
    "colab_type": "text",
    "deepnote_cell_type": "markdown",
    "id": "V_F1YLhfZp0M"
   },
   "source": [
    "我们在本笔记本的顶部提供了 `IIWA_painter` 类，以帮助您抽象化 Drake 中的部分实现细节。您可能会发现 `visualize_frame` 方法有助于可视化刚性变换。下面的单元格首先计算当前夹持器姿势的刚性变换，然后在 meshcat 中绘制该姿势的框架。请注意，这里绘制的框架不附加到场景中的任何物体上。它们仅用于可视化。"
   ]
  },
  {
   "cell_type": "code",
   "execution_count": 22,
   "metadata": {
    "cell_id": "e4728b2803834fffa16f0798c6e6bec4",
    "colab": {},
    "colab_type": "code",
    "deepnote_cell_type": "code",
    "id": "FbPCfGekZp0N"
   },
   "outputs": [],
   "source": [
    "X_WG = painter.get_X_WG()\n",
    "painter.visualize_frame(\"gripper_current\", X_WG)"
   ]
  },
  {
   "cell_type": "markdown",
   "metadata": {
    "cell_id": "864c58bac6c24b809a1b11d77e89f3ad",
    "colab_type": "text",
    "deepnote_cell_type": "markdown",
    "id": "WBMew300E9kM"
   },
   "source": [
    "最后，您可以通过 `MakeXRotation`、`MakeYRotation` 和 `MakeZRotation` 方法组合任意旋转。它们的名字很自解释。"
   ]
  },
  {
   "cell_type": "code",
   "execution_count": 23,
   "metadata": {
    "cell_id": "15278f81892248cbbed7d03f1fbb7125",
    "colab": {},
    "colab_type": "code",
    "deepnote_cell_type": "code",
    "id": "GuCZwacoE9kN"
   },
   "outputs": [
    {
     "data": {
      "text/plain": [
       "RotationMatrix([\n",
       "  [0.8660254037844387, 0.0, 0.49999999999999994],\n",
       "  [0.0, 1.0, 0.0],\n",
       "  [-0.49999999999999994, 0.0, 0.8660254037844387],\n",
       "])"
      ]
     },
     "execution_count": 23,
     "metadata": {},
     "output_type": "execute_result"
    }
   ],
   "source": [
    "RotationMatrix.MakeYRotation(np.pi / 6.0)"
   ]
  },
  {
   "cell_type": "markdown",
   "metadata": {
    "cell_id": "3809b1d2e8724d83beffddb5bf473d13",
    "colab_type": "text",
    "deepnote_cell_type": "markdown",
    "id": "oJv_BmszE9kj"
   },
   "source": [
    "**下面，您的工作是完成 `compose_circular_key_frames` 方法，给定圆的中心、期望的半径以及关键帧围绕圆中心的插值旋转角度**"
   ]
  },
  {
   "cell_type": "code",
   "execution_count": 24,
   "metadata": {
    "cell_id": "604573c614fb492aaa13964ba3edaaf5",
    "colab": {},
    "colab_type": "code",
    "deepnote_cell_type": "code",
    "id": "8Bh455axE9kk"
   },
   "outputs": [],
   "source": [
    "def compose_circular_key_frames(thetas, X_WCenter, radius):\n",
    "    \"\"\"\n",
    "    返回：RigidTransforms 的列表\n",
    "    \"\"\"\n",
    "    key_frame_poses_in_world = []\n",
    "    \n",
    "    # 获取圆心的位置和方向\n",
    "    p_center = X_WCenter.translation()\n",
    "    R_center = X_WCenter.rotation()\n",
    "    \n",
    "    for theta in thetas:\n",
    "        # 在圆心坐标系中计算圆上的位置\n",
    "        # 根据圆心坐标系的定义：\n",
    "        # x轴 -> 世界y轴, y轴 -> 世界-z轴, z轴 -> 世界-x轴\n",
    "        # 我们要在x-y平面上画圆\n",
    "        x_circle = radius * np.cos(theta)\n",
    "        y_circle = radius * np.sin(theta)\n",
    "        z_circle = 0.0\n",
    "        \n",
    "        # 在圆心坐标系中的位置\n",
    "        p_circle_center = np.array([x_circle, y_circle, z_circle])\n",
    "        \n",
    "        # 转换到世界坐标系\n",
    "        p_world = p_center + R_center @ p_circle_center\n",
    "        \n",
    "        # 计算夹持器的方向：+z轴指向圆心\n",
    "        z_axis = (p_center - p_world)\n",
    "        z_axis = z_axis / np.linalg.norm(z_axis)  # 归一化\n",
    "        \n",
    "        # 计算切向量 - 在圆心坐标系中的切向量\n",
    "        # 在圆心坐标系中，切向量为 (-sin(theta), cos(theta), 0)\n",
    "        tangent_center = np.array([-np.sin(theta), np.cos(theta), 0.0])\n",
    "        # 转换到世界坐标系\n",
    "        x_axis = R_center @ tangent_center\n",
    "        x_axis = x_axis / np.linalg.norm(x_axis)\n",
    "        \n",
    "        # 计算y轴（右手坐标系）\n",
    "        y_axis = np.cross(z_axis, x_axis)\n",
    "        y_axis = y_axis / np.linalg.norm(y_axis)\n",
    "        \n",
    "        # 构建旋转矩阵\n",
    "        R_gripper = RotationMatrix(np.column_stack([x_axis, y_axis, z_axis]))\n",
    "        \n",
    "        # 创建刚体变换\n",
    "        this_pose = RigidTransform(R_gripper, p_world)\n",
    "        key_frame_poses_in_world.append(this_pose)\n",
    "\n",
    "    return key_frame_poses_in_world"
   ]
  },
  {
   "cell_type": "code",
   "execution_count": 25,
   "metadata": {
    "cell_id": "57c91cddf39f4b60bcd3405cf2564ccd",
    "colab": {},
    "colab_type": "code",
    "deepnote_cell_type": "code",
    "id": "e28C5w_RE9kt"
   },
   "outputs": [],
   "source": [
    "def visualize_key_frames(frame_poses):\n",
    "    for i, pose in enumerate(frame_poses):\n",
    "        painter.visualize_frame(\"frame_{}\".format(i), pose, length=0.05)\n",
    "\n",
    "\n",
    "key_frame_poses = compose_circular_key_frames(thetas, X_WCenter, radius)\n",
    "visualize_key_frames(key_frame_poses)"
   ]
  },
  {
   "cell_type": "markdown",
   "metadata": {
    "cell_id": "ec91ffa692ca4370bc2dc6edb64f4723",
    "colab_type": "text",
    "deepnote_cell_type": "markdown",
    "id": "ag2beQ-wE9kx"
   },
   "source": [
    "## 构造轨迹\n",
    "\n",
    "现在我们使用 `PiecewisePose` 构造轨迹来插值关键帧的位置和方向。"
   ]
  },
  {
   "cell_type": "code",
   "execution_count": 26,
   "metadata": {
    "cell_id": "924186551589449a9c376d6e43038228",
    "colab": {},
    "colab_type": "code",
    "deepnote_cell_type": "code",
    "id": "MGah0BwTE9ky"
   },
   "outputs": [],
   "source": [
    "X_WGinit = painter.get_X_WG()\n",
    "total_time = 20\n",
    "key_frame_poses = [X_WGinit] + compose_circular_key_frames(thetas, X_WCenter, radius)\n",
    "times = np.linspace(0, total_time, num_key_frames + 1)\n",
    "traj = PiecewisePose.MakeLinear(times, key_frame_poses)"
   ]
  },
  {
   "cell_type": "markdown",
   "metadata": {
    "cell_id": "efe4989383b04e1e9851dc553aab42ec",
    "colab_type": "text",
    "deepnote_cell_type": "markdown",
    "id": "YB0sjycBE9k8"
   },
   "source": [
    "现在您应该能够可视化圆形绘画的执行。使用它来确认夹持器逆时针移动，跟随场景中之前绘制的关键帧。"
   ]
  },
  {
   "cell_type": "code",
   "execution_count": 27,
   "metadata": {
    "cell_id": "5746023540c04dfe9981e0bbe39bbbfd",
    "colab": {},
    "colab_type": "code",
    "deepnote_cell_type": "code",
    "id": "lumf3EUSZp0y"
   },
   "outputs": [],
   "source": [
    "painter = IIWA_Painter(traj)\n",
    "painter.paint(sim_duration=total_time)"
   ]
  },
  {
   "cell_type": "markdown",
   "metadata": {
    "cell_id": "9d8de0fcb46948238b67bbcad16543ff",
    "colab_type": "text",
    "deepnote_cell_type": "markdown",
    "id": "OaaONjD4E9lI"
   },
   "source": [
    "## 反思\n",
    "\n",
    "**查看上面 `IIWA_Painter` 类的构造函数。请注意，我们使用 `AddIiwaDifferentialIK` 作为我们的控制器。内部，它使用系统 [DifferentialInverseKinematicsIntegrator](https://drake.mit.edu/pydrake/pydrake.multibody.inverse_kinematics.html#pydrake.multibody.inverse_kinematics.DifferentialInverseKinematicsIntegrator)。阅读文档并推理它是如何工作的，并回答以下三个问题（每题 1-2 句话就足够）。**\n",
    "1. 从文档：`DifferentialInverseKinematicsIntegrator` 集成对 `DoDifferentialInverseKinematics` 的连续调用。为什么集成是必要的？\n",
    "2. 为什么设置积分器的初始状态很重要？\n",
    "3. 我们的代码如何设置积分器的初始状态？查看 `IIWA_Painter` 类的构造函数。"
   ]
  },
  {
   "cell_type": "markdown",
   "metadata": {
    "cell_id": "130c3e0d8bd042d9b7fbfbfbe817b77d",
    "colab_type": "text",
    "deepnote_cell_type": "markdown",
    "id": "oJGsEidfE9lJ"
   },
   "source": [
    "### 您的答案\n",
    "\n",
    "在这里回答问题，并复制粘贴到 Gradescope 的“书面提交”部分！"
   ]
  },
  {
   "cell_type": "markdown",
   "metadata": {
    "cell_id": "1aa8b86a32f44a41b421088b02c452b4",
    "colab_type": "text",
    "deepnote_cell_type": "markdown",
    "id": "zPmeRLtJk410"
   },
   "source": [
    "## 这个笔记本将如何评分？\n",
    "\n",
    "如果您参加了课程，这个笔记本将使用 [Gradescope](www.gradescope.com) 评分。您应该在 Piazza 的公告中获得了注册码。\n",
    "\n",
    "对于这个作业的提交，您必须做两件事。\n",
    "- 下载并提交笔记本 `robot_painter.ipynb` 到 Gradescope 的笔记本提交部分，以及其他问题的笔记本。\n",
    "\n",
    "我们将评估笔记本中的本地函数，看看函数是否按照我们的预期运行。对于这个练习，评分标准如下：\n",
    "- [4.0 分] `compose_circular_key_frames` 根据要求正确\n",
    "- [3.0 分] 书面问题的合理答案"
   ]
  },
  {
   "cell_type": "code",
   "execution_count": 28,
   "metadata": {
    "cell_id": "7f82fbd45afc4e71a3248930ac24d03a",
    "colab": {},
    "colab_type": "code",
    "deepnote_cell_type": "code",
    "id": "95VTQeqg_P0P"
   },
   "outputs": [
    {
     "name": "stdout",
     "output_type": "stream",
     "text": [
      "Total score is 4/4.\n",
      "\n",
      "Score for compose_circular_key_frames is 4/4.\n"
     ]
    }
   ],
   "source": [
    "Grader.grade_output([TestRobotPainter], [locals()], \"results.json\")\n",
    "Grader.print_test_results(\"results.json\")"
   ]
  }
 ],
 "metadata": {
  "deepnote_notebook_id": "5bc8b5c53c824bef9c0ecbc8bccdd775",
  "kernelspec": {
   "display_name": "drake",
   "language": "python",
   "name": "python3"
  },
  "language_info": {
   "codemirror_mode": {
    "name": "ipython",
    "version": 3
   },
   "file_extension": ".py",
   "mimetype": "text/x-python",
   "name": "python",
   "nbconvert_exporter": "python",
   "pygments_lexer": "ipython3",
   "version": "3.10.0"
  }
 },
 "nbformat": "4",
 "nbformat_minor": "0"
}
